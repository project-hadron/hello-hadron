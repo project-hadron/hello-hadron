{
 "cells": [
  {
   "cell_type": "code",
   "execution_count": 1,
   "id": "2ee8dd45",
   "metadata": {},
   "outputs": [
    {
     "name": "stdout",
     "output_type": "stream",
     "text": [
      "aistac-foundation       : 2.12.33\n",
      "discovery-transition-ds : 3.4.12\n",
      "discovery-connectors    : 1.1.44\n"
     ]
    }
   ],
   "source": [
    "import aistac\n",
    "import ds_discovery\n",
    "import ds_connectors\n",
    "print(f'aistac-foundation       : {aistac.__version__}')\n",
    "print(f'discovery-transition-ds : {ds_discovery.__version__}')\n",
    "print(f'discovery-connectors    : {ds_connectors.__version__}')"
   ]
  },
  {
   "cell_type": "code",
   "execution_count": null,
   "id": "990cf324",
   "metadata": {},
   "outputs": [],
   "source": []
  }
 ],
 "metadata": {
  "kernelspec": {
   "display_name": "Python 3 (ipykernel)",
   "language": "python",
   "name": "python3"
  },
  "language_info": {
   "codemirror_mode": {
    "name": "ipython",
    "version": 3
   },
   "file_extension": ".py",
   "mimetype": "text/x-python",
   "name": "python",
   "nbconvert_exporter": "python",
   "pygments_lexer": "ipython3",
   "version": "3.10.4"
  }
 },
 "nbformat": 4,
 "nbformat_minor": 5
}
