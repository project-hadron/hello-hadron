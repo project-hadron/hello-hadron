{
 "cells": [
  {
   "cell_type": "markdown",
   "id": "01c5e2c6",
   "metadata": {},
   "source": [
    "<cite>Darryl Oatridge, August 2022<cite>"
   ]
  },
  {
   "cell_type": "markdown",
   "id": "9bbd34d6",
   "metadata": {},
   "source": [
    "## Building a Component\n",
    "This tutorial shows the fundamentals of how to run a basic Project Hadron component and from it create a resueable Domain Contract. It is the simpliest form of running a task demonstrating the input, throughput and output of a dataset. You will notice 'Domain Contract' used throughout the tutorials and is fundamental to a component.  A Domain Contract contains everything known about the instance of this component. Each time a named component is loaded the Domain Contract defines that components instance. \n",
    "\n",
    "\n",
    "Firstly we have imported a component from the Project Hadron library for this demonstration. It should be noted, the choice of component is arbritary as all methods used are common across all components."
   ]
  },
  {
   "cell_type": "code",
   "execution_count": 6,
   "id": "081cd9cd",
   "metadata": {},
   "outputs": [],
   "source": [
    "from ds_discovery import Transition"
   ]
  },
  {
   "cell_type": "markdown",
   "id": "3a295664",
   "metadata": {},
   "source": [
    "To create a Domain Contract instance of the component we have used the Factory method `from_env` and given it a referenceable name `hello_comp`, and as this is the first instantiation, we have used the one off parameter call `has_contract` that by default is set to True and is used to avoid the accidential loading of a Domain Contract instance of the same task name. "
   ]
  },
  {
   "cell_type": "code",
   "execution_count": 7,
   "id": "2e32915d",
   "metadata": {},
   "outputs": [],
   "source": [
    "tr = Transition.from_env('hello_comp', has_contract=False)"
   ]
  },
  {
   "cell_type": "markdown",
   "id": "c77e97ae",
   "metadata": {},
   "source": [
    "We have set where the data is coming from and where the resulting data is going to.  The source identifies a URI (URL) from which the data will be collected and in this case persistance uses the default settings, more on this later.   "
   ]
  },
  {
   "cell_type": "code",
   "execution_count": 8,
   "id": "ea7a93cf",
   "metadata": {},
   "outputs": [],
   "source": [
    "tr.set_source_uri('https://www.openml.org/data/get_csv/16826755/phpMYEkMl.csv')\n",
    "tr.set_persist()"
   ]
  },
  {
   "cell_type": "markdown",
   "id": "560aae85",
   "metadata": {},
   "source": [
    "Finially run the component which takes the source data, passes it through our task, and persists it."
   ]
  },
  {
   "cell_type": "code",
   "execution_count": 9,
   "id": "a40b298a",
   "metadata": {},
   "outputs": [],
   "source": [
    "tr.run_component_pipeline()"
   ]
  },
  {
   "cell_type": "markdown",
   "id": "4aa67f31",
   "metadata": {},
   "source": [
    "This concludes building a component and though the component doesn't change the throughput, it shows the core steps to building any component."
   ]
  },
  {
   "cell_type": "markdown",
   "id": "8092a565-ed4e-4ec0-b558-c96fb7161e16",
   "metadata": {},
   "source": [
    "--------------------------------------\n",
    "\n",
    "## Reloading and Extending our Component\n",
    "As we have already setup the input and output and stored it in our Domain Contract we can now reload the component instance, with all its content, by referencing the components individual name. Just to make sure everything is working we can run the component pipeline and check the results are all positive."
   ]
  },
  {
   "cell_type": "code",
   "execution_count": 10,
   "id": "86f7edc6-b46e-46cc-b587-799afeb79000",
   "metadata": {},
   "outputs": [],
   "source": [
    "tr = Transition.from_env('hello_comp')"
   ]
  },
  {
   "cell_type": "code",
   "execution_count": 11,
   "id": "c2d639db-a7da-42da-94e3-b66e36e1661d",
   "metadata": {},
   "outputs": [],
   "source": [
    "tr.run_component_pipeline()"
   ]
  },
  {
   "cell_type": "markdown",
   "id": "4c5a9d0b-c5f2-4214-8de4-6e31af2493a5",
   "metadata": {},
   "source": [
    "Now we have reloaded the Domain Contract lets look at a sample of some commonly used features that allow us to peek inside our components.  \n",
    "\n",
    "The first and probably most useful method call is to be able to retrieve the run results of the pipeline.\n",
    "We do this using the component method `load_persist_canonical`. Because of the Domain Contract the component already knows what to get and where to get it, and in this instance returns a Pandas dataframe which for these components is our canonical."
   ]
  },
  {
   "cell_type": "code",
   "execution_count": 12,
   "id": "24d1eca9-15ed-46a3-9ad8-d84815047314",
   "metadata": {},
   "outputs": [],
   "source": [
    "df = tr.load_persist_canonical()"
   ]
  },
  {
   "cell_type": "markdown",
   "id": "93774872-6567-428a-b991-2e142d4b862d",
   "metadata": {},
   "source": [
    "The second most used feature is the reporting tool for the canonical.  It allows us to look at the results of the run as an informative dictionary, this gives a deeper insight into the canonical results. Though unlike other reports it requests the canonical of interest, this means it can be used on a wider trajectory of circumstances such as looking at source or other data that is being injested by the task.  \n",
    "\n",
    "Below we have an example of the processed canonical where we can potentially see the results of the pipeline that was persisted.  The report has a wealth of information and is worth taking time to explore as it is likely to speed up your data discovery and the understanding of the dataset.\n"
   ]
  },
  {
   "cell_type": "code",
   "execution_count": 13,
   "id": "6b2bfd7d-2f05-4328-b2cc-f0de38c7a72d",
   "metadata": {},
   "outputs": [
    {
     "data": {
      "text/html": [
       "<style type=\"text/css\">\n",
       "#T_e3800 th {\n",
       "  font-size: 120%;\n",
       "  text-align: center;\n",
       "}\n",
       "#T_e3800 .row_heading {\n",
       "  display: none;;\n",
       "}\n",
       "#T_e3800  .blank {\n",
       "  display: none;;\n",
       "}\n",
       "#T_e3800_row0_col0, #T_e3800_row1_col0, #T_e3800_row2_col0, #T_e3800_row3_col0, #T_e3800_row4_col0, #T_e3800_row5_col0, #T_e3800_row6_col0, #T_e3800_row7_col0, #T_e3800_row8_col0, #T_e3800_row9_col0, #T_e3800_row10_col0, #T_e3800_row11_col0, #T_e3800_row12_col0, #T_e3800_row13_col0 {\n",
       "  font-weight: bold;\n",
       "  font-size: 120%;\n",
       "}\n",
       "#T_e3800_row0_col2, #T_e3800_row0_col3, #T_e3800_row1_col2, #T_e3800_row1_col3, #T_e3800_row2_col2, #T_e3800_row2_col5, #T_e3800_row3_col2, #T_e3800_row3_col5, #T_e3800_row4_col2, #T_e3800_row5_col2, #T_e3800_row5_col3, #T_e3800_row5_col5, #T_e3800_row6_col2, #T_e3800_row6_col3, #T_e3800_row6_col5, #T_e3800_row7_col2, #T_e3800_row7_col3, #T_e3800_row7_col5, #T_e3800_row8_col2, #T_e3800_row9_col2, #T_e3800_row9_col3, #T_e3800_row10_col2, #T_e3800_row10_col3, #T_e3800_row11_col2, #T_e3800_row12_col2, #T_e3800_row12_col3, #T_e3800_row13_col2, #T_e3800_row13_col3, #T_e3800_row13_col5 {\n",
       "  color: black;\n",
       "}\n",
       "#T_e3800_row0_col5 {\n",
       "  background-color: #f0f9ed;\n",
       "  color: black;\n",
       "}\n",
       "#T_e3800_row1_col5 {\n",
       "  background-color: #e5f5e0;\n",
       "  color: black;\n",
       "}\n",
       "#T_e3800_row2_col3 {\n",
       "  background-color: #fcb499;\n",
       "  color: black;\n",
       "}\n",
       "#T_e3800_row3_col3, #T_e3800_row4_col3, #T_e3800_row8_col3, #T_e3800_row11_col3 {\n",
       "  background-color: #ffede5;\n",
       "  color: black;\n",
       "}\n",
       "#T_e3800_row4_col5, #T_e3800_row9_col5 {\n",
       "  background-color: #84cc83;\n",
       "  color: black;\n",
       "}\n",
       "#T_e3800_row8_col1, #T_e3800_row9_col1, #T_e3800_row11_col1, #T_e3800_row12_col1 {\n",
       "  color: #0f398a;\n",
       "}\n",
       "#T_e3800_row8_col5, #T_e3800_row11_col5 {\n",
       "  background-color: #a4da9e;\n",
       "  color: black;\n",
       "}\n",
       "#T_e3800_row10_col5, #T_e3800_row12_col5 {\n",
       "  background-color: #a1cbe2;\n",
       "  color: black;\n",
       "}\n",
       "</style>\n",
       "<table id=\"T_e3800\">\n",
       "  <caption>%_Dom: The % most dominant element </caption>\n",
       "  <thead>\n",
       "    <tr>\n",
       "      <th class=\"blank level0\" >&nbsp;</th>\n",
       "      <th id=\"T_e3800_level0_col0\" class=\"col_heading level0 col0\" >Attributes (14)</th>\n",
       "      <th id=\"T_e3800_level0_col1\" class=\"col_heading level0 col1\" >dType</th>\n",
       "      <th id=\"T_e3800_level0_col2\" class=\"col_heading level0 col2\" >%_Null</th>\n",
       "      <th id=\"T_e3800_level0_col3\" class=\"col_heading level0 col3\" >%_Dom</th>\n",
       "      <th id=\"T_e3800_level0_col4\" class=\"col_heading level0 col4\" >Count</th>\n",
       "      <th id=\"T_e3800_level0_col5\" class=\"col_heading level0 col5\" >Unique</th>\n",
       "      <th id=\"T_e3800_level0_col6\" class=\"col_heading level0 col6\" >Observations</th>\n",
       "    </tr>\n",
       "  </thead>\n",
       "  <tbody>\n",
       "    <tr>\n",
       "      <th id=\"T_e3800_level0_row0\" class=\"row_heading level0 row0\" >0</th>\n",
       "      <td id=\"T_e3800_row0_col0\" class=\"data row0 col0\" >age</td>\n",
       "      <td id=\"T_e3800_row0_col1\" class=\"data row0 col1\" >object</td>\n",
       "      <td id=\"T_e3800_row0_col2\" class=\"data row0 col2\" >0.0%</td>\n",
       "      <td id=\"T_e3800_row0_col3\" class=\"data row0 col3\" >20.1%</td>\n",
       "      <td id=\"T_e3800_row0_col4\" class=\"data row0 col4\" >1309</td>\n",
       "      <td id=\"T_e3800_row0_col5\" class=\"data row0 col5\" >99</td>\n",
       "      <td id=\"T_e3800_row0_col6\" class=\"data row0 col6\" >Sample: ? | 24 | 22 | 21 | 30</td>\n",
       "    </tr>\n",
       "    <tr>\n",
       "      <th id=\"T_e3800_level0_row1\" class=\"row_heading level0 row1\" >1</th>\n",
       "      <td id=\"T_e3800_row1_col0\" class=\"data row1 col0\" >boat</td>\n",
       "      <td id=\"T_e3800_row1_col1\" class=\"data row1 col1\" >object</td>\n",
       "      <td id=\"T_e3800_row1_col2\" class=\"data row1 col2\" >0.0%</td>\n",
       "      <td id=\"T_e3800_row1_col3\" class=\"data row1 col3\" >62.9%</td>\n",
       "      <td id=\"T_e3800_row1_col4\" class=\"data row1 col4\" >1309</td>\n",
       "      <td id=\"T_e3800_row1_col5\" class=\"data row1 col5\" >28</td>\n",
       "      <td id=\"T_e3800_row1_col6\" class=\"data row1 col6\" >Sample: ? | 13 | C | 15 | 14</td>\n",
       "    </tr>\n",
       "    <tr>\n",
       "      <th id=\"T_e3800_level0_row2\" class=\"row_heading level0 row2\" >2</th>\n",
       "      <td id=\"T_e3800_row2_col0\" class=\"data row2 col0\" >body</td>\n",
       "      <td id=\"T_e3800_row2_col1\" class=\"data row2 col1\" >object</td>\n",
       "      <td id=\"T_e3800_row2_col2\" class=\"data row2 col2\" >0.0%</td>\n",
       "      <td id=\"T_e3800_row2_col3\" class=\"data row2 col3\" >90.8%</td>\n",
       "      <td id=\"T_e3800_row2_col4\" class=\"data row2 col4\" >1309</td>\n",
       "      <td id=\"T_e3800_row2_col5\" class=\"data row2 col5\" >122</td>\n",
       "      <td id=\"T_e3800_row2_col6\" class=\"data row2 col6\" >Sample: ? | 58 | 285 | 156 | 143</td>\n",
       "    </tr>\n",
       "    <tr>\n",
       "      <th id=\"T_e3800_level0_row3\" class=\"row_heading level0 row3\" >3</th>\n",
       "      <td id=\"T_e3800_row3_col0\" class=\"data row3 col0\" >cabin</td>\n",
       "      <td id=\"T_e3800_row3_col1\" class=\"data row3 col1\" >object</td>\n",
       "      <td id=\"T_e3800_row3_col2\" class=\"data row3 col2\" >0.0%</td>\n",
       "      <td id=\"T_e3800_row3_col3\" class=\"data row3 col3\" >77.5%</td>\n",
       "      <td id=\"T_e3800_row3_col4\" class=\"data row3 col4\" >1309</td>\n",
       "      <td id=\"T_e3800_row3_col5\" class=\"data row3 col5\" >187</td>\n",
       "      <td id=\"T_e3800_row3_col6\" class=\"data row3 col6\" >Sample: ? | C23 C25 C27 | G6 | B57 B59 B63 B66 | C22 C26</td>\n",
       "    </tr>\n",
       "    <tr>\n",
       "      <th id=\"T_e3800_level0_row4\" class=\"row_heading level0 row4\" >4</th>\n",
       "      <td id=\"T_e3800_row4_col0\" class=\"data row4 col0\" >embarked</td>\n",
       "      <td id=\"T_e3800_row4_col1\" class=\"data row4 col1\" >object</td>\n",
       "      <td id=\"T_e3800_row4_col2\" class=\"data row4 col2\" >0.0%</td>\n",
       "      <td id=\"T_e3800_row4_col3\" class=\"data row4 col3\" >69.8%</td>\n",
       "      <td id=\"T_e3800_row4_col4\" class=\"data row4 col4\" >1309</td>\n",
       "      <td id=\"T_e3800_row4_col5\" class=\"data row4 col5\" >4</td>\n",
       "      <td id=\"T_e3800_row4_col6\" class=\"data row4 col6\" >Sample: S | C | Q | ?</td>\n",
       "    </tr>\n",
       "    <tr>\n",
       "      <th id=\"T_e3800_level0_row5\" class=\"row_heading level0 row5\" >5</th>\n",
       "      <td id=\"T_e3800_row5_col0\" class=\"data row5 col0\" >fare</td>\n",
       "      <td id=\"T_e3800_row5_col1\" class=\"data row5 col1\" >object</td>\n",
       "      <td id=\"T_e3800_row5_col2\" class=\"data row5 col2\" >0.0%</td>\n",
       "      <td id=\"T_e3800_row5_col3\" class=\"data row5 col3\" >4.6%</td>\n",
       "      <td id=\"T_e3800_row5_col4\" class=\"data row5 col4\" >1309</td>\n",
       "      <td id=\"T_e3800_row5_col5\" class=\"data row5 col5\" >282</td>\n",
       "      <td id=\"T_e3800_row5_col6\" class=\"data row5 col6\" >Sample: 8.05 | 13 | 7.75 | 26 | 7.8958</td>\n",
       "    </tr>\n",
       "    <tr>\n",
       "      <th id=\"T_e3800_level0_row6\" class=\"row_heading level0 row6\" >6</th>\n",
       "      <td id=\"T_e3800_row6_col0\" class=\"data row6 col0\" >home.dest</td>\n",
       "      <td id=\"T_e3800_row6_col1\" class=\"data row6 col1\" >object</td>\n",
       "      <td id=\"T_e3800_row6_col2\" class=\"data row6 col2\" >0.0%</td>\n",
       "      <td id=\"T_e3800_row6_col3\" class=\"data row6 col3\" >43.1%</td>\n",
       "      <td id=\"T_e3800_row6_col4\" class=\"data row6 col4\" >1309</td>\n",
       "      <td id=\"T_e3800_row6_col5\" class=\"data row6 col5\" >370</td>\n",
       "      <td id=\"T_e3800_row6_col6\" class=\"data row6 col6\" >Sample: ? | New York, NY | London | Montreal, PQ | Paris, France</td>\n",
       "    </tr>\n",
       "    <tr>\n",
       "      <th id=\"T_e3800_level0_row7\" class=\"row_heading level0 row7\" >7</th>\n",
       "      <td id=\"T_e3800_row7_col0\" class=\"data row7 col0\" >name</td>\n",
       "      <td id=\"T_e3800_row7_col1\" class=\"data row7 col1\" >object</td>\n",
       "      <td id=\"T_e3800_row7_col2\" class=\"data row7 col2\" >0.0%</td>\n",
       "      <td id=\"T_e3800_row7_col3\" class=\"data row7 col3\" >0.2%</td>\n",
       "      <td id=\"T_e3800_row7_col4\" class=\"data row7 col4\" >1309</td>\n",
       "      <td id=\"T_e3800_row7_col5\" class=\"data row7 col5\" >1307</td>\n",
       "      <td id=\"T_e3800_row7_col6\" class=\"data row7 col6\" >Sample: Connolly, Miss. Kate | Kelly, Mr. James | Allen, Miss. Elisabeth Walton | Ilmakangas, Miss. ...</td>\n",
       "    </tr>\n",
       "    <tr>\n",
       "      <th id=\"T_e3800_level0_row8\" class=\"row_heading level0 row8\" >8</th>\n",
       "      <td id=\"T_e3800_row8_col0\" class=\"data row8 col0\" >parch</td>\n",
       "      <td id=\"T_e3800_row8_col1\" class=\"data row8 col1\" >int64</td>\n",
       "      <td id=\"T_e3800_row8_col2\" class=\"data row8 col2\" >0.0%</td>\n",
       "      <td id=\"T_e3800_row8_col3\" class=\"data row8 col3\" >76.5%</td>\n",
       "      <td id=\"T_e3800_row8_col4\" class=\"data row8 col4\" >1309</td>\n",
       "      <td id=\"T_e3800_row8_col5\" class=\"data row8 col5\" >8</td>\n",
       "      <td id=\"T_e3800_row8_col6\" class=\"data row8 col6\" >max=9 | min=0 | mean=0.39 | dominant=0</td>\n",
       "    </tr>\n",
       "    <tr>\n",
       "      <th id=\"T_e3800_level0_row9\" class=\"row_heading level0 row9\" >9</th>\n",
       "      <td id=\"T_e3800_row9_col0\" class=\"data row9 col0\" >pclass</td>\n",
       "      <td id=\"T_e3800_row9_col1\" class=\"data row9 col1\" >int64</td>\n",
       "      <td id=\"T_e3800_row9_col2\" class=\"data row9 col2\" >0.0%</td>\n",
       "      <td id=\"T_e3800_row9_col3\" class=\"data row9 col3\" >54.2%</td>\n",
       "      <td id=\"T_e3800_row9_col4\" class=\"data row9 col4\" >1309</td>\n",
       "      <td id=\"T_e3800_row9_col5\" class=\"data row9 col5\" >3</td>\n",
       "      <td id=\"T_e3800_row9_col6\" class=\"data row9 col6\" >max=3 | min=1 | mean=2.29 | dominant=3</td>\n",
       "    </tr>\n",
       "    <tr>\n",
       "      <th id=\"T_e3800_level0_row10\" class=\"row_heading level0 row10\" >10</th>\n",
       "      <td id=\"T_e3800_row10_col0\" class=\"data row10 col0\" >sex</td>\n",
       "      <td id=\"T_e3800_row10_col1\" class=\"data row10 col1\" >object</td>\n",
       "      <td id=\"T_e3800_row10_col2\" class=\"data row10 col2\" >0.0%</td>\n",
       "      <td id=\"T_e3800_row10_col3\" class=\"data row10 col3\" >64.4%</td>\n",
       "      <td id=\"T_e3800_row10_col4\" class=\"data row10 col4\" >1309</td>\n",
       "      <td id=\"T_e3800_row10_col5\" class=\"data row10 col5\" >2</td>\n",
       "      <td id=\"T_e3800_row10_col6\" class=\"data row10 col6\" >Sample: male | female</td>\n",
       "    </tr>\n",
       "    <tr>\n",
       "      <th id=\"T_e3800_level0_row11\" class=\"row_heading level0 row11\" >11</th>\n",
       "      <td id=\"T_e3800_row11_col0\" class=\"data row11 col0\" >sibsp</td>\n",
       "      <td id=\"T_e3800_row11_col1\" class=\"data row11 col1\" >int64</td>\n",
       "      <td id=\"T_e3800_row11_col2\" class=\"data row11 col2\" >0.0%</td>\n",
       "      <td id=\"T_e3800_row11_col3\" class=\"data row11 col3\" >68.1%</td>\n",
       "      <td id=\"T_e3800_row11_col4\" class=\"data row11 col4\" >1309</td>\n",
       "      <td id=\"T_e3800_row11_col5\" class=\"data row11 col5\" >7</td>\n",
       "      <td id=\"T_e3800_row11_col6\" class=\"data row11 col6\" >max=8 | min=0 | mean=0.5 | dominant=0</td>\n",
       "    </tr>\n",
       "    <tr>\n",
       "      <th id=\"T_e3800_level0_row12\" class=\"row_heading level0 row12\" >12</th>\n",
       "      <td id=\"T_e3800_row12_col0\" class=\"data row12 col0\" >survived</td>\n",
       "      <td id=\"T_e3800_row12_col1\" class=\"data row12 col1\" >int64</td>\n",
       "      <td id=\"T_e3800_row12_col2\" class=\"data row12 col2\" >0.0%</td>\n",
       "      <td id=\"T_e3800_row12_col3\" class=\"data row12 col3\" >61.8%</td>\n",
       "      <td id=\"T_e3800_row12_col4\" class=\"data row12 col4\" >1309</td>\n",
       "      <td id=\"T_e3800_row12_col5\" class=\"data row12 col5\" >2</td>\n",
       "      <td id=\"T_e3800_row12_col6\" class=\"data row12 col6\" >max=1 | min=0 | mean=0.38 | dominant=0</td>\n",
       "    </tr>\n",
       "    <tr>\n",
       "      <th id=\"T_e3800_level0_row13\" class=\"row_heading level0 row13\" >13</th>\n",
       "      <td id=\"T_e3800_row13_col0\" class=\"data row13 col0\" >ticket</td>\n",
       "      <td id=\"T_e3800_row13_col1\" class=\"data row13 col1\" >object</td>\n",
       "      <td id=\"T_e3800_row13_col2\" class=\"data row13 col2\" >0.0%</td>\n",
       "      <td id=\"T_e3800_row13_col3\" class=\"data row13 col3\" >0.8%</td>\n",
       "      <td id=\"T_e3800_row13_col4\" class=\"data row13 col4\" >1309</td>\n",
       "      <td id=\"T_e3800_row13_col5\" class=\"data row13 col5\" >929</td>\n",
       "      <td id=\"T_e3800_row13_col6\" class=\"data row13 col6\" >Sample: CA. 2343 | 1601 | CA 2144 | PC 17608 | 347077</td>\n",
       "    </tr>\n",
       "  </tbody>\n",
       "</table>\n"
      ],
      "text/plain": [
       "<pandas.io.formats.style.Styler at 0x7f9fb712bf70>"
      ]
     },
     "execution_count": 13,
     "metadata": {},
     "output_type": "execute_result"
    }
   ],
   "source": [
    "tr.canonical_report(df)"
   ]
  },
  {
   "cell_type": "markdown",
   "id": "9c5995f3-b5d7-4706-9c24-31b52f07fcfa",
   "metadata": {},
   "source": [
    "Thirdly, we can examine the connector contracts.  Connector contracts are setup as part of the Domain Contract and record where both datasets and Domain Contract are to be persisted. \n",
    "\n",
    "Through this report we can identify where the source data is taken from and persisted to.  In this instance we have also added the permeter `inc_pm` so the report adds the location of the Domain Contract. "
   ]
  },
  {
   "cell_type": "code",
   "execution_count": 14,
   "id": "1f045b50-e5d2-455c-ac6d-63b7e426adfc",
   "metadata": {
    "scrolled": true
   },
   "outputs": [
    {
     "data": {
      "text/html": [
       "<style type=\"text/css\">\n",
       "#T_8333d th {\n",
       "  font-size: 120%;\n",
       "  text-align: center;\n",
       "}\n",
       "#T_8333d .row_heading {\n",
       "  display: none;;\n",
       "}\n",
       "#T_8333d  .blank {\n",
       "  display: none;;\n",
       "}\n",
       "#T_8333d_row0_col0, #T_8333d_row1_col0, #T_8333d_row2_col0 {\n",
       "  text-align: left;\n",
       "  font-weight: bold;\n",
       "  font-size: 120%;\n",
       "}\n",
       "#T_8333d_row0_col1, #T_8333d_row0_col2, #T_8333d_row0_col3, #T_8333d_row0_col4, #T_8333d_row0_col5, #T_8333d_row0_col6, #T_8333d_row0_col7, #T_8333d_row1_col1, #T_8333d_row1_col2, #T_8333d_row1_col3, #T_8333d_row1_col4, #T_8333d_row1_col5, #T_8333d_row1_col6, #T_8333d_row1_col7, #T_8333d_row2_col1, #T_8333d_row2_col2, #T_8333d_row2_col3, #T_8333d_row2_col4, #T_8333d_row2_col5, #T_8333d_row2_col6, #T_8333d_row2_col7 {\n",
       "  text-align: left;\n",
       "}\n",
       "</style>\n",
       "<table id=\"T_8333d\">\n",
       "  <thead>\n",
       "    <tr>\n",
       "      <th class=\"blank level0\" >&nbsp;</th>\n",
       "      <th id=\"T_8333d_level0_col0\" class=\"col_heading level0 col0\" >connector_name</th>\n",
       "      <th id=\"T_8333d_level0_col1\" class=\"col_heading level0 col1\" >uri</th>\n",
       "      <th id=\"T_8333d_level0_col2\" class=\"col_heading level0 col2\" >module_name</th>\n",
       "      <th id=\"T_8333d_level0_col3\" class=\"col_heading level0 col3\" >handler</th>\n",
       "      <th id=\"T_8333d_level0_col4\" class=\"col_heading level0 col4\" >version</th>\n",
       "      <th id=\"T_8333d_level0_col5\" class=\"col_heading level0 col5\" >kwargs</th>\n",
       "      <th id=\"T_8333d_level0_col6\" class=\"col_heading level0 col6\" >query</th>\n",
       "      <th id=\"T_8333d_level0_col7\" class=\"col_heading level0 col7\" >aligned</th>\n",
       "    </tr>\n",
       "  </thead>\n",
       "  <tbody>\n",
       "    <tr>\n",
       "      <th id=\"T_8333d_level0_row0\" class=\"row_heading level0 row0\" >0</th>\n",
       "      <td id=\"T_8333d_row0_col0\" class=\"data row0 col0\" >primary_source</td>\n",
       "      <td id=\"T_8333d_row0_col1\" class=\"data row0 col1\" >https://www.openml.org/data/get_csv/16826755/phpMYEkMl.csv</td>\n",
       "      <td id=\"T_8333d_row0_col2\" class=\"data row0 col2\" >ds_discovery.handlers.pandas_handlers</td>\n",
       "      <td id=\"T_8333d_row0_col3\" class=\"data row0 col3\" >PandasPersistHandler</td>\n",
       "      <td id=\"T_8333d_row0_col4\" class=\"data row0 col4\" >v0.00</td>\n",
       "      <td id=\"T_8333d_row0_col5\" class=\"data row0 col5\" ></td>\n",
       "      <td id=\"T_8333d_row0_col6\" class=\"data row0 col6\" ></td>\n",
       "      <td id=\"T_8333d_row0_col7\" class=\"data row0 col7\" >False</td>\n",
       "    </tr>\n",
       "    <tr>\n",
       "      <th id=\"T_8333d_level0_row1\" class=\"row_heading level0 row1\" >1</th>\n",
       "      <td id=\"T_8333d_row1_col0\" class=\"data row1 col0\" >primary_persist</td>\n",
       "      <td id=\"T_8333d_row1_col1\" class=\"data row1 col1\" >./hadron/data/hadron_transition_hello_comp_primary_persist.pickle</td>\n",
       "      <td id=\"T_8333d_row1_col2\" class=\"data row1 col2\" >ds_discovery.handlers.pandas_handlers</td>\n",
       "      <td id=\"T_8333d_row1_col3\" class=\"data row1 col3\" >PandasPersistHandler</td>\n",
       "      <td id=\"T_8333d_row1_col4\" class=\"data row1 col4\" >v0.00</td>\n",
       "      <td id=\"T_8333d_row1_col5\" class=\"data row1 col5\" ></td>\n",
       "      <td id=\"T_8333d_row1_col6\" class=\"data row1 col6\" ></td>\n",
       "      <td id=\"T_8333d_row1_col7\" class=\"data row1 col7\" >True</td>\n",
       "    </tr>\n",
       "    <tr>\n",
       "      <th id=\"T_8333d_level0_row2\" class=\"row_heading level0 row2\" >2</th>\n",
       "      <td id=\"T_8333d_row2_col0\" class=\"data row2 col0\" >pm_transition_hello_comp</td>\n",
       "      <td id=\"T_8333d_row2_col1\" class=\"data row2 col1\" >./hadron/contracts/hadron_pm_transition_hello_comp.json</td>\n",
       "      <td id=\"T_8333d_row2_col2\" class=\"data row2 col2\" >ds_discovery.handlers.pandas_handlers</td>\n",
       "      <td id=\"T_8333d_row2_col3\" class=\"data row2 col3\" >PandasPersistHandler</td>\n",
       "      <td id=\"T_8333d_row2_col4\" class=\"data row2 col4\" >v0.00</td>\n",
       "      <td id=\"T_8333d_row2_col5\" class=\"data row2 col5\" ></td>\n",
       "      <td id=\"T_8333d_row2_col6\" class=\"data row2 col6\" ></td>\n",
       "      <td id=\"T_8333d_row2_col7\" class=\"data row2 col7\" >False</td>\n",
       "    </tr>\n",
       "  </tbody>\n",
       "</table>\n"
      ],
      "text/plain": [
       "<pandas.io.formats.style.Styler at 0x7f9fb7129f60>"
      ]
     },
     "execution_count": 14,
     "metadata": {},
     "output_type": "execute_result"
    }
   ],
   "source": [
    "tr.report_connectors(inc_pm=True)"
   ]
  },
  {
   "cell_type": "markdown",
   "id": "4d5fe2e3",
   "metadata": {},
   "source": [
    "This gives a flavour of the tools available to look inside a component and time should be taken viewing the different reports a component offers."
   ]
  },
  {
   "cell_type": "markdown",
   "id": "4d8e344d-e874-4b45-8caa-cc11c43ea739",
   "metadata": {},
   "source": [
    "------------------------------\n",
    "\n",
    "## Environment Variables\n",
    "To this point we have using the default settings of where to store the Domain Contract and the persisted dataset.  These are in general local and within your working directory.  The use of environment variables frees us up to use an extensive list of connector contracts to store the data to a location of the choice or requirements. \n",
    "\n",
    "Hadron provides an extensive list of environment variables to tailor how your components retrieve and persist their information, this is beyond the scope of this tutorial and tend to be for specialist use, therefore we are going to focus on the two most commonly used for the majority of projects. \n",
    "\n",
    "We initially import Python's `os` package."
   ]
  },
  {
   "cell_type": "code",
   "execution_count": 15,
   "id": "c05eb276-29a4-4860-897e-dc27fdd67881",
   "metadata": {},
   "outputs": [],
   "source": [
    "import os"
   ]
  },
  {
   "cell_type": "markdown",
   "id": "1175d9b9-8d5e-4b14-9f1b-e26f709ea720",
   "metadata": {},
   "source": [
    "In general and as good practice, most notebooks would `run` a set up file that contains imports and environment vartiables that are common across all notebooks.  In this case, for visability, because this is a tutorial we will import the packages and set up the two environment variables within each notebook. \n",
    "\n",
    "The first environment variable we set up is for the Domain Contract, this is critical to the components and the other components that rely on it (more of this later).  In this case we are setting the Domain Contract location to be in a common local directory, specific for Domain Contracts."
   ]
  },
  {
   "cell_type": "code",
   "execution_count": 16,
   "id": "6438a198-d7c8-4063-a104-83d656a45738",
   "metadata": {},
   "outputs": [],
   "source": [
    "os.environ['HADRON_PM_PATH'] = '0_hello_meta/demo/contracts'"
   ]
  },
  {
   "cell_type": "code",
   "execution_count": 17,
   "id": "6302c74e-7467-4a90-ac32-a0a2f9aad3ac",
   "metadata": {},
   "outputs": [],
   "source": [
    "os.environ['HADRON_DEFAULT_PATH'] = '0_hello_meta/demo/data'"
   ]
  },
  {
   "cell_type": "markdown",
   "id": "fd39c4da-ea6a-4688-a89c-3a3592809773",
   "metadata": {},
   "source": [
    "Next we set up where all the data is going to be persisted and recovered from.  This tends to be a common shared area so that other components can get access to the results of this components output (more of this later). In this case we are setting the default data store location to be in a common local directory, specific for datasets."
   ]
  },
  {
   "cell_type": "code",
   "execution_count": 18,
   "id": "b4439c2b-aa95-4bd1-b90c-aa84311b8d25",
   "metadata": {},
   "outputs": [],
   "source": [
    "from ds_discovery import Transition"
   ]
  },
  {
   "cell_type": "markdown",
   "id": "92719e52-e95f-4253-9777-a4b27780de31",
   "metadata": {},
   "source": [
    "Because we have now changed the location of where the Domain Contract can be found we need to reset things from the start giving the source location and using the default persist location which we now know has been set by the environment variable."
   ]
  },
  {
   "cell_type": "code",
   "execution_count": 19,
   "id": "d9c80c22-6a75-476a-84f9-447491488db3",
   "metadata": {},
   "outputs": [],
   "source": [
    "tr = Transition.from_env('hello_tr,', has_contract=False)"
   ]
  },
  {
   "cell_type": "code",
   "execution_count": 20,
   "id": "819a9492-a91b-42e2-a898-d5db4fefeb31",
   "metadata": {},
   "outputs": [],
   "source": [
    "tr.set_source_uri('https://www.openml.org/data/get_csv/16826755/phpMYEkMl.csv')\n",
    "tr.set_persist()"
   ]
  },
  {
   "cell_type": "markdown",
   "id": "86789211-25d9-42b9-8477-e8f4b45fcce8",
   "metadata": {},
   "source": [
    "Finally we run the pipeline with the new environemt variables in place and check everything runs okay."
   ]
  },
  {
   "cell_type": "code",
   "execution_count": 21,
   "id": "bca20638-a2d7-43cb-8873-c6fe9b0064e3",
   "metadata": {},
   "outputs": [],
   "source": [
    "tr.run_component_pipeline()"
   ]
  },
  {
   "cell_type": "markdown",
   "id": "90c4d848-b54d-4d00-9fe4-ecdd0f5315e2",
   "metadata": {},
   "source": [
    "And we are there! We now know how to build a component and set its environment variables.  The next step is to build a real pipeline and join that with other pipelines to construct our complete master Domain Contract."
   ]
  },
  {
   "cell_type": "code",
   "execution_count": null,
   "id": "a0259f1c",
   "metadata": {},
   "outputs": [],
   "source": []
  }
 ],
 "metadata": {
  "kernelspec": {
   "display_name": "Python 3 (ipykernel)",
   "language": "python",
   "name": "python3"
  },
  "language_info": {
   "codemirror_mode": {
    "name": "ipython",
    "version": 3
   },
   "file_extension": ".py",
   "mimetype": "text/x-python",
   "name": "python",
   "nbconvert_exporter": "python",
   "pygments_lexer": "ipython3",
   "version": "3.10.4"
  }
 },
 "nbformat": 4,
 "nbformat_minor": 5
}
