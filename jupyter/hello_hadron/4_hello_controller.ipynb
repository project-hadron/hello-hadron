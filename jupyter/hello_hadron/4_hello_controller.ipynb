{
 "cells": [
  {
   "cell_type": "markdown",
   "metadata": {},
   "source": [
    "Darryl Oatridge, August 2022"
   ]
  },
  {
   "cell_type": "code",
   "execution_count": 1,
   "metadata": {},
   "outputs": [],
   "source": [
    "import os"
   ]
  },
  {
   "cell_type": "code",
   "execution_count": 2,
   "metadata": {},
   "outputs": [],
   "source": [
    "os.environ['HADRON_PM_PATH'] = '0_hello_meta/demo/contracts'\n",
    "os.environ['HADRON_DEFAULT_PATH'] = '0_hello_meta/demo/data'"
   ]
  },
  {
   "cell_type": "markdown",
   "metadata": {},
   "source": [
    "## Controller\n",
    "\n",
    "The Controller is like the master Domain Contract for all of the components we have created.  It helps us run the Domain Contracts for each of the components.  With Controller you do not need to give it a name as this is assumed in each folder containing Domain Contracts for this set of components.  This allows us the entry point to interogate the Controller and its components. "
   ]
  },
  {
   "cell_type": "code",
   "execution_count": 3,
   "metadata": {},
   "outputs": [],
   "source": [
    "from ds_discovery import Controller"
   ]
  },
  {
   "cell_type": "code",
   "execution_count": 4,
   "metadata": {},
   "outputs": [],
   "source": [
    "controller = Controller.from_env(has_contract=False)"
   ]
  },
  {
   "cell_type": "markdown",
   "metadata": {},
   "source": [
    "### Add Components\n",
    "\n",
    "Now we have the empty Controller we need to register or add which components make up this Controller, it should be noted that the Domain Contracts for each component must be in the same folder of the Controller Domain Contract.\n",
    "\n",
    "To add a component we use the intent method specific for that component type in this case `model_transition` for `hello_tr` and `model_wrangle` for `hello_wr`."
   ]
  },
  {
   "cell_type": "code",
   "execution_count": 5,
   "metadata": {},
   "outputs": [],
   "source": [
    "controller.intent_model.transition(canonical=0, task_name='hello_tr', intent_level='hw_transition')"
   ]
  },
  {
   "cell_type": "code",
   "execution_count": 6,
   "metadata": {},
   "outputs": [],
   "source": [
    "controller.intent_model.wrangle(canonical=0, task_name='hello_wr', intent_level='hw_wrangle')"
   ]
  },
  {
   "cell_type": "markdown",
   "metadata": {},
   "source": [
    "### Report\n",
    "\n",
    "Using the Task report we can check the components have been added.  "
   ]
  },
  {
   "cell_type": "code",
   "execution_count": 7,
   "metadata": {},
   "outputs": [
    {
     "data": {
      "text/html": [
       "<style type=\"text/css\">\n",
       "#T_888d3 th {\n",
       "  font-size: 120%;\n",
       "  text-align: center;\n",
       "}\n",
       "#T_888d3 .row_heading {\n",
       "  display: none;;\n",
       "}\n",
       "#T_888d3  .blank {\n",
       "  display: none;;\n",
       "}\n",
       "#T_888d3_row0_col0, #T_888d3_row1_col0 {\n",
       "  text-align: left;\n",
       "  font-weight: bold;\n",
       "  font-size: 120%;\n",
       "}\n",
       "#T_888d3_row0_col1, #T_888d3_row0_col2, #T_888d3_row0_col3, #T_888d3_row0_col4, #T_888d3_row0_col5, #T_888d3_row1_col1, #T_888d3_row1_col2, #T_888d3_row1_col3, #T_888d3_row1_col4, #T_888d3_row1_col5 {\n",
       "  text-align: left;\n",
       "}\n",
       "</style>\n",
       "<table id=\"T_888d3\">\n",
       "  <thead>\n",
       "    <tr>\n",
       "      <th class=\"blank level0\" >&nbsp;</th>\n",
       "      <th id=\"T_888d3_level0_col0\" class=\"col_heading level0 col0\" >level</th>\n",
       "      <th id=\"T_888d3_level0_col1\" class=\"col_heading level0 col1\" >order</th>\n",
       "      <th id=\"T_888d3_level0_col2\" class=\"col_heading level0 col2\" >component</th>\n",
       "      <th id=\"T_888d3_level0_col3\" class=\"col_heading level0 col3\" >task</th>\n",
       "      <th id=\"T_888d3_level0_col4\" class=\"col_heading level0 col4\" >parameters</th>\n",
       "      <th id=\"T_888d3_level0_col5\" class=\"col_heading level0 col5\" >creator</th>\n",
       "    </tr>\n",
       "  </thead>\n",
       "  <tbody>\n",
       "    <tr>\n",
       "      <th id=\"T_888d3_level0_row0\" class=\"row_heading level0 row0\" >0</th>\n",
       "      <td id=\"T_888d3_row0_col0\" class=\"data row0 col0\" >hw_transition</td>\n",
       "      <td id=\"T_888d3_row0_col1\" class=\"data row0 col1\" >0</td>\n",
       "      <td id=\"T_888d3_row0_col2\" class=\"data row0 col2\" >Transition</td>\n",
       "      <td id=\"T_888d3_row0_col3\" class=\"data row0 col3\" >'hello_tr'</td>\n",
       "      <td id=\"T_888d3_row0_col4\" class=\"data row0 col4\" >[]</td>\n",
       "      <td id=\"T_888d3_row0_col5\" class=\"data row0 col5\" >doatridge</td>\n",
       "    </tr>\n",
       "    <tr>\n",
       "      <th id=\"T_888d3_level0_row1\" class=\"row_heading level0 row1\" >1</th>\n",
       "      <td id=\"T_888d3_row1_col0\" class=\"data row1 col0\" >hw_wrangle</td>\n",
       "      <td id=\"T_888d3_row1_col1\" class=\"data row1 col1\" >0</td>\n",
       "      <td id=\"T_888d3_row1_col2\" class=\"data row1 col2\" >Wrangle</td>\n",
       "      <td id=\"T_888d3_row1_col3\" class=\"data row1 col3\" >'hello_wr'</td>\n",
       "      <td id=\"T_888d3_row1_col4\" class=\"data row1 col4\" >[]</td>\n",
       "      <td id=\"T_888d3_row1_col5\" class=\"data row1 col5\" >doatridge</td>\n",
       "    </tr>\n",
       "  </tbody>\n",
       "</table>\n"
      ],
      "text/plain": [
       "<pandas.io.formats.style.Styler at 0x7fba22ad4760>"
      ]
     },
     "execution_count": 7,
     "metadata": {},
     "output_type": "execute_result"
    }
   ],
   "source": [
    "controller.report_tasks()"
   ]
  },
  {
   "cell_type": "markdown",
   "metadata": {},
   "source": [
    "As with all components the Controller executes the components in the order given.  By using the Controller's special Run Book we are given considerabily more flexability in the order and behaviour of each component and how it interacts with others.  \n",
    "\n",
    "As good practice a Run Book should always be created for each Controller as this provides better transparency into how the components run."
   ]
  },
  {
   "cell_type": "code",
   "execution_count": 8,
   "metadata": {},
   "outputs": [],
   "source": [
    "run_book = [\n",
    "    controller.runbook2dict(task='hw_transition'),\n",
    "    controller.runbook2dict(task='hw_wrangle'),\n",
    "]\n",
    "controller.add_run_book(run_levels=run_book)"
   ]
  },
  {
   "cell_type": "markdown",
   "metadata": {},
   "source": [
    "Finially we run the Controller which executes the component collective in its designed manner.  "
   ]
  },
  {
   "cell_type": "code",
   "execution_count": 9,
   "metadata": {},
   "outputs": [],
   "source": [
    "controller.run_controller()"
   ]
  },
  {
   "cell_type": "markdown",
   "metadata": {},
   "source": [
    "The Controller is a powerful tool and should be investigated further to understand all its options.  The Run Book can be used to provide a set of instructions on how each component recieves its source and persists, be it to another component or as an external data set.  The `run_controller` has useful tools to monitor changes in incoming data and provide a run report of how all the components ran."
   ]
  }
 ],
 "metadata": {
  "kernelspec": {
   "display_name": "Python 3 (ipykernel)",
   "language": "python",
   "name": "python3"
  },
  "language_info": {
   "codemirror_mode": {
    "name": "ipython",
    "version": 3
   },
   "file_extension": ".py",
   "mimetype": "text/x-python",
   "name": "python",
   "nbconvert_exporter": "python",
   "pygments_lexer": "ipython3",
   "version": "3.10.4"
  }
 },
 "nbformat": 4,
 "nbformat_minor": 4
}
