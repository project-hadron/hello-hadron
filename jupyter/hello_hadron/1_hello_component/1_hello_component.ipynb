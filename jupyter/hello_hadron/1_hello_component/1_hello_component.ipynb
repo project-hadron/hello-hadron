{
 "cells": [
  {
   "cell_type": "markdown",
   "id": "01c5e2c6",
   "metadata": {},
   "source": [
    "<cite>Darryl Oatridge, August 2022<cite>"
   ]
  },
  {
   "cell_type": "markdown",
   "id": "9bbd34d6",
   "metadata": {},
   "source": [
    "Hadron is made up of a number of components and we are going to use the Transitioning Component for the purposes of this tutorial."
   ]
  },
  {
   "cell_type": "code",
   "execution_count": 8,
   "id": "081cd9cd",
   "metadata": {},
   "outputs": [],
   "source": [
    "from ds_discovery import Transition"
   ]
  },
  {
   "cell_type": "markdown",
   "id": "3a295664",
   "metadata": {},
   "source": [
    "To create an instance of our Transitioning class we use the Factory method `from_env` passing a common name, and as this is our first instantiation we use the one off parameter call `has_contract` It is worth noting that by default this is set to True and is used to avoid the accidential loading of an instance of the same task name. "
   ]
  },
  {
   "cell_type": "code",
   "execution_count": 9,
   "id": "2e32915d",
   "metadata": {},
   "outputs": [],
   "source": [
    "tr = Transition.from_env('hello_tr', has_contract=False)"
   ]
  },
  {
   "cell_type": "markdown",
   "id": "c77e97ae",
   "metadata": {},
   "source": [
    "One needs to set where the data is coming from and where one wants it to go to.  In this case our persistance uses the default settings, more on this later.   "
   ]
  },
  {
   "cell_type": "code",
   "execution_count": 10,
   "id": "ea7a93cf",
   "metadata": {},
   "outputs": [],
   "source": [
    "tr.set_source_uri('https://www.openml.org/data/get_csv/16826755/phpMYEkMl.csv')\n",
    "tr.set_persist()"
   ]
  },
  {
   "cell_type": "markdown",
   "id": "560aae85",
   "metadata": {},
   "source": [
    "Finially we run the component which takes the source data, passes it through our task, and persists it."
   ]
  },
  {
   "cell_type": "code",
   "execution_count": 11,
   "id": "a40b298a",
   "metadata": {},
   "outputs": [],
   "source": [
    "tr.run_component_pipeline()"
   ]
  },
  {
   "cell_type": "code",
   "execution_count": null,
   "id": "ec789276",
   "metadata": {},
   "outputs": [],
   "source": []
  }
 ],
 "metadata": {
  "kernelspec": {
   "display_name": "Python 3 (ipykernel)",
   "language": "python",
   "name": "python3"
  },
  "language_info": {
   "codemirror_mode": {
    "name": "ipython",
    "version": 3
   },
   "file_extension": ".py",
   "mimetype": "text/x-python",
   "name": "python",
   "nbconvert_exporter": "python",
   "pygments_lexer": "ipython3",
   "version": "3.10.4"
  }
 },
 "nbformat": 4,
 "nbformat_minor": 5
}
