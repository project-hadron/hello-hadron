{
 "cells": [
  {
   "cell_type": "markdown",
   "id": "01c5e2c6",
   "metadata": {},
   "source": [
    "<cite>Darryl Oatridge, August 2022<cite>"
   ]
  },
  {
   "cell_type": "code",
   "execution_count": 8,
   "id": "081cd9cd",
   "metadata": {},
   "outputs": [],
   "source": [
    "from ds_discovery import Transition"
   ]
  },
  {
   "cell_type": "markdown",
   "id": "d07f69c0",
   "metadata": {},
   "source": []
  },
  {
   "cell_type": "code",
   "execution_count": 9,
   "id": "2e32915d",
   "metadata": {},
   "outputs": [],
   "source": [
    "tr = Transition.from_env('hello_tr', has_contract=False)"
   ]
  },
  {
   "cell_type": "markdown",
   "id": "c77e97ae",
   "metadata": {},
   "source": []
  },
  {
   "cell_type": "code",
   "execution_count": 10,
   "id": "ea7a93cf",
   "metadata": {},
   "outputs": [],
   "source": [
    "tr.set_source_uri('https://www.openml.org/data/get_csv/16826755/phpMYEkMl.csv')\n",
    "tr.set_persist()"
   ]
  },
  {
   "cell_type": "markdown",
   "id": "560aae85",
   "metadata": {},
   "source": []
  },
  {
   "cell_type": "code",
   "execution_count": 11,
   "id": "a40b298a",
   "metadata": {},
   "outputs": [],
   "source": [
    "tr.run_component_pipeline()"
   ]
  },
  {
   "cell_type": "code",
   "execution_count": null,
   "id": "ec789276",
   "metadata": {},
   "outputs": [],
   "source": []
  }
 ],
 "metadata": {
  "kernelspec": {
   "display_name": "Python 3 (ipykernel)",
   "language": "python",
   "name": "python3"
  },
  "language_info": {
   "codemirror_mode": {
    "name": "ipython",
    "version": 3
   },
   "file_extension": ".py",
   "mimetype": "text/x-python",
   "name": "python",
   "nbconvert_exporter": "python",
   "pygments_lexer": "ipython3",
   "version": "3.9.12"
  }
 },
 "nbformat": 4,
 "nbformat_minor": 5
}
