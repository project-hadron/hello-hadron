{
 "cells": [
  {
   "cell_type": "markdown",
   "id": "01c5e2c6",
   "metadata": {},
   "source": [
    "<cite>Darryl Oatridge, August 2022<cite>"
   ]
  },
  {
   "cell_type": "code",
   "execution_count": 11,
   "id": "081cd9cd",
   "metadata": {},
   "outputs": [],
   "source": [
    "from ds_discovery import Transition"
   ]
  },
  {
   "cell_type": "markdown",
   "id": "d07f69c0",
   "metadata": {},
   "source": [
    "As before one again create a new instance of our Transition component, set its source and persist and then run the task pipeline."
   ]
  },
  {
   "cell_type": "code",
   "execution_count": 12,
   "id": "2e32915d",
   "metadata": {},
   "outputs": [],
   "source": [
    "tr = Transition.from_env('hello_tr', has_contract=False)"
   ]
  },
  {
   "cell_type": "code",
   "execution_count": 13,
   "id": "ea7a93cf",
   "metadata": {},
   "outputs": [],
   "source": [
    "tr.set_source_uri('https://www.openml.org/data/get_csv/16826755/phpMYEkMl.csv')\n",
    "tr.set_persist()"
   ]
  },
  {
   "cell_type": "code",
   "execution_count": 14,
   "id": "a40b298a",
   "metadata": {},
   "outputs": [],
   "source": [
    "tr.run_component_pipeline()"
   ]
  },
  {
   "cell_type": "markdown",
   "id": "1632d7b1",
   "metadata": {},
   "source": [
    "One can now use some of the common features across components that gives a better view of the data output.  Taking our instance one simpily loads the persisted cononical. The component already knows what to get and where to get it and returns us our cononical. One can now use one of our reporting tools to pass in the cononical which returns a visualisation report."
   ]
  },
  {
   "cell_type": "code",
   "execution_count": 15,
   "id": "db102992",
   "metadata": {},
   "outputs": [],
   "source": [
    "df = tr.load_persist_canonical()"
   ]
  },
  {
   "cell_type": "code",
   "execution_count": 16,
   "id": "f4c291a3",
   "metadata": {
    "scrolled": true
   },
   "outputs": [
    {
     "data": {
      "text/html": [
       "<style type=\"text/css\">\n",
       "#T_7279c th {\n",
       "  font-size: 120%;\n",
       "  text-align: center;\n",
       "}\n",
       "#T_7279c .row_heading {\n",
       "  display: none;;\n",
       "}\n",
       "#T_7279c  .blank {\n",
       "  display: none;;\n",
       "}\n",
       "#T_7279c_row0_col0, #T_7279c_row1_col0, #T_7279c_row2_col0, #T_7279c_row3_col0, #T_7279c_row4_col0, #T_7279c_row5_col0, #T_7279c_row6_col0, #T_7279c_row7_col0, #T_7279c_row8_col0, #T_7279c_row9_col0, #T_7279c_row10_col0, #T_7279c_row11_col0, #T_7279c_row12_col0, #T_7279c_row13_col0 {\n",
       "  font-weight: bold;\n",
       "  font-size: 120%;\n",
       "}\n",
       "#T_7279c_row0_col2, #T_7279c_row0_col3, #T_7279c_row1_col2, #T_7279c_row1_col3, #T_7279c_row2_col2, #T_7279c_row2_col5, #T_7279c_row3_col2, #T_7279c_row3_col5, #T_7279c_row4_col2, #T_7279c_row5_col2, #T_7279c_row5_col3, #T_7279c_row5_col5, #T_7279c_row6_col2, #T_7279c_row6_col3, #T_7279c_row6_col5, #T_7279c_row7_col2, #T_7279c_row7_col3, #T_7279c_row7_col5, #T_7279c_row8_col2, #T_7279c_row9_col2, #T_7279c_row9_col3, #T_7279c_row10_col2, #T_7279c_row10_col3, #T_7279c_row11_col2, #T_7279c_row12_col2, #T_7279c_row12_col3, #T_7279c_row13_col2, #T_7279c_row13_col3, #T_7279c_row13_col5 {\n",
       "  color: black;\n",
       "}\n",
       "#T_7279c_row0_col5 {\n",
       "  background-color: #f0f9ed;\n",
       "  color: black;\n",
       "}\n",
       "#T_7279c_row1_col5 {\n",
       "  background-color: #e5f5e0;\n",
       "  color: black;\n",
       "}\n",
       "#T_7279c_row2_col3 {\n",
       "  background-color: #fcb499;\n",
       "  color: black;\n",
       "}\n",
       "#T_7279c_row3_col3, #T_7279c_row4_col3, #T_7279c_row8_col3, #T_7279c_row11_col3 {\n",
       "  background-color: #ffede5;\n",
       "  color: black;\n",
       "}\n",
       "#T_7279c_row4_col5, #T_7279c_row9_col5 {\n",
       "  background-color: #84cc83;\n",
       "  color: black;\n",
       "}\n",
       "#T_7279c_row8_col1, #T_7279c_row9_col1, #T_7279c_row11_col1, #T_7279c_row12_col1 {\n",
       "  color: #0f398a;\n",
       "}\n",
       "#T_7279c_row8_col5, #T_7279c_row11_col5 {\n",
       "  background-color: #a4da9e;\n",
       "  color: black;\n",
       "}\n",
       "#T_7279c_row10_col5, #T_7279c_row12_col5 {\n",
       "  background-color: #a1cbe2;\n",
       "  color: black;\n",
       "}\n",
       "</style>\n",
       "<table id=\"T_7279c\">\n",
       "  <caption>%_Dom: The % most dominant element </caption>\n",
       "  <thead>\n",
       "    <tr>\n",
       "      <th class=\"blank level0\" >&nbsp;</th>\n",
       "      <th id=\"T_7279c_level0_col0\" class=\"col_heading level0 col0\" >Attributes (14)</th>\n",
       "      <th id=\"T_7279c_level0_col1\" class=\"col_heading level0 col1\" >dType</th>\n",
       "      <th id=\"T_7279c_level0_col2\" class=\"col_heading level0 col2\" >%_Null</th>\n",
       "      <th id=\"T_7279c_level0_col3\" class=\"col_heading level0 col3\" >%_Dom</th>\n",
       "      <th id=\"T_7279c_level0_col4\" class=\"col_heading level0 col4\" >Count</th>\n",
       "      <th id=\"T_7279c_level0_col5\" class=\"col_heading level0 col5\" >Unique</th>\n",
       "      <th id=\"T_7279c_level0_col6\" class=\"col_heading level0 col6\" >Observations</th>\n",
       "    </tr>\n",
       "  </thead>\n",
       "  <tbody>\n",
       "    <tr>\n",
       "      <th id=\"T_7279c_level0_row0\" class=\"row_heading level0 row0\" >0</th>\n",
       "      <td id=\"T_7279c_row0_col0\" class=\"data row0 col0\" >age</td>\n",
       "      <td id=\"T_7279c_row0_col1\" class=\"data row0 col1\" >object</td>\n",
       "      <td id=\"T_7279c_row0_col2\" class=\"data row0 col2\" >0.0%</td>\n",
       "      <td id=\"T_7279c_row0_col3\" class=\"data row0 col3\" >20.1%</td>\n",
       "      <td id=\"T_7279c_row0_col4\" class=\"data row0 col4\" >1309</td>\n",
       "      <td id=\"T_7279c_row0_col5\" class=\"data row0 col5\" >99</td>\n",
       "      <td id=\"T_7279c_row0_col6\" class=\"data row0 col6\" >Sample: ? | 24 | 22 | 21 | 30</td>\n",
       "    </tr>\n",
       "    <tr>\n",
       "      <th id=\"T_7279c_level0_row1\" class=\"row_heading level0 row1\" >1</th>\n",
       "      <td id=\"T_7279c_row1_col0\" class=\"data row1 col0\" >boat</td>\n",
       "      <td id=\"T_7279c_row1_col1\" class=\"data row1 col1\" >object</td>\n",
       "      <td id=\"T_7279c_row1_col2\" class=\"data row1 col2\" >0.0%</td>\n",
       "      <td id=\"T_7279c_row1_col3\" class=\"data row1 col3\" >62.9%</td>\n",
       "      <td id=\"T_7279c_row1_col4\" class=\"data row1 col4\" >1309</td>\n",
       "      <td id=\"T_7279c_row1_col5\" class=\"data row1 col5\" >28</td>\n",
       "      <td id=\"T_7279c_row1_col6\" class=\"data row1 col6\" >Sample: ? | 13 | C | 15 | 14</td>\n",
       "    </tr>\n",
       "    <tr>\n",
       "      <th id=\"T_7279c_level0_row2\" class=\"row_heading level0 row2\" >2</th>\n",
       "      <td id=\"T_7279c_row2_col0\" class=\"data row2 col0\" >body</td>\n",
       "      <td id=\"T_7279c_row2_col1\" class=\"data row2 col1\" >object</td>\n",
       "      <td id=\"T_7279c_row2_col2\" class=\"data row2 col2\" >0.0%</td>\n",
       "      <td id=\"T_7279c_row2_col3\" class=\"data row2 col3\" >90.8%</td>\n",
       "      <td id=\"T_7279c_row2_col4\" class=\"data row2 col4\" >1309</td>\n",
       "      <td id=\"T_7279c_row2_col5\" class=\"data row2 col5\" >122</td>\n",
       "      <td id=\"T_7279c_row2_col6\" class=\"data row2 col6\" >Sample: ? | 58 | 285 | 156 | 143</td>\n",
       "    </tr>\n",
       "    <tr>\n",
       "      <th id=\"T_7279c_level0_row3\" class=\"row_heading level0 row3\" >3</th>\n",
       "      <td id=\"T_7279c_row3_col0\" class=\"data row3 col0\" >cabin</td>\n",
       "      <td id=\"T_7279c_row3_col1\" class=\"data row3 col1\" >object</td>\n",
       "      <td id=\"T_7279c_row3_col2\" class=\"data row3 col2\" >0.0%</td>\n",
       "      <td id=\"T_7279c_row3_col3\" class=\"data row3 col3\" >77.5%</td>\n",
       "      <td id=\"T_7279c_row3_col4\" class=\"data row3 col4\" >1309</td>\n",
       "      <td id=\"T_7279c_row3_col5\" class=\"data row3 col5\" >187</td>\n",
       "      <td id=\"T_7279c_row3_col6\" class=\"data row3 col6\" >Sample: ? | C23 C25 C27 | G6 | B57 B59 B63 B66 | C22 C26</td>\n",
       "    </tr>\n",
       "    <tr>\n",
       "      <th id=\"T_7279c_level0_row4\" class=\"row_heading level0 row4\" >4</th>\n",
       "      <td id=\"T_7279c_row4_col0\" class=\"data row4 col0\" >embarked</td>\n",
       "      <td id=\"T_7279c_row4_col1\" class=\"data row4 col1\" >object</td>\n",
       "      <td id=\"T_7279c_row4_col2\" class=\"data row4 col2\" >0.0%</td>\n",
       "      <td id=\"T_7279c_row4_col3\" class=\"data row4 col3\" >69.8%</td>\n",
       "      <td id=\"T_7279c_row4_col4\" class=\"data row4 col4\" >1309</td>\n",
       "      <td id=\"T_7279c_row4_col5\" class=\"data row4 col5\" >4</td>\n",
       "      <td id=\"T_7279c_row4_col6\" class=\"data row4 col6\" >Sample: S | C | Q | ?</td>\n",
       "    </tr>\n",
       "    <tr>\n",
       "      <th id=\"T_7279c_level0_row5\" class=\"row_heading level0 row5\" >5</th>\n",
       "      <td id=\"T_7279c_row5_col0\" class=\"data row5 col0\" >fare</td>\n",
       "      <td id=\"T_7279c_row5_col1\" class=\"data row5 col1\" >object</td>\n",
       "      <td id=\"T_7279c_row5_col2\" class=\"data row5 col2\" >0.0%</td>\n",
       "      <td id=\"T_7279c_row5_col3\" class=\"data row5 col3\" >4.6%</td>\n",
       "      <td id=\"T_7279c_row5_col4\" class=\"data row5 col4\" >1309</td>\n",
       "      <td id=\"T_7279c_row5_col5\" class=\"data row5 col5\" >282</td>\n",
       "      <td id=\"T_7279c_row5_col6\" class=\"data row5 col6\" >Sample: 8.05 | 13 | 7.75 | 26 | 7.8958</td>\n",
       "    </tr>\n",
       "    <tr>\n",
       "      <th id=\"T_7279c_level0_row6\" class=\"row_heading level0 row6\" >6</th>\n",
       "      <td id=\"T_7279c_row6_col0\" class=\"data row6 col0\" >home.dest</td>\n",
       "      <td id=\"T_7279c_row6_col1\" class=\"data row6 col1\" >object</td>\n",
       "      <td id=\"T_7279c_row6_col2\" class=\"data row6 col2\" >0.0%</td>\n",
       "      <td id=\"T_7279c_row6_col3\" class=\"data row6 col3\" >43.1%</td>\n",
       "      <td id=\"T_7279c_row6_col4\" class=\"data row6 col4\" >1309</td>\n",
       "      <td id=\"T_7279c_row6_col5\" class=\"data row6 col5\" >370</td>\n",
       "      <td id=\"T_7279c_row6_col6\" class=\"data row6 col6\" >Sample: ? | New York, NY | London | Montreal, PQ | Paris, France</td>\n",
       "    </tr>\n",
       "    <tr>\n",
       "      <th id=\"T_7279c_level0_row7\" class=\"row_heading level0 row7\" >7</th>\n",
       "      <td id=\"T_7279c_row7_col0\" class=\"data row7 col0\" >name</td>\n",
       "      <td id=\"T_7279c_row7_col1\" class=\"data row7 col1\" >object</td>\n",
       "      <td id=\"T_7279c_row7_col2\" class=\"data row7 col2\" >0.0%</td>\n",
       "      <td id=\"T_7279c_row7_col3\" class=\"data row7 col3\" >0.2%</td>\n",
       "      <td id=\"T_7279c_row7_col4\" class=\"data row7 col4\" >1309</td>\n",
       "      <td id=\"T_7279c_row7_col5\" class=\"data row7 col5\" >1307</td>\n",
       "      <td id=\"T_7279c_row7_col6\" class=\"data row7 col6\" >Sample: Connolly, Miss. Kate | Kelly, Mr. James | Allen, Miss. Elisabeth Walton | Ilmakangas, Miss. ...</td>\n",
       "    </tr>\n",
       "    <tr>\n",
       "      <th id=\"T_7279c_level0_row8\" class=\"row_heading level0 row8\" >8</th>\n",
       "      <td id=\"T_7279c_row8_col0\" class=\"data row8 col0\" >parch</td>\n",
       "      <td id=\"T_7279c_row8_col1\" class=\"data row8 col1\" >int64</td>\n",
       "      <td id=\"T_7279c_row8_col2\" class=\"data row8 col2\" >0.0%</td>\n",
       "      <td id=\"T_7279c_row8_col3\" class=\"data row8 col3\" >76.5%</td>\n",
       "      <td id=\"T_7279c_row8_col4\" class=\"data row8 col4\" >1309</td>\n",
       "      <td id=\"T_7279c_row8_col5\" class=\"data row8 col5\" >8</td>\n",
       "      <td id=\"T_7279c_row8_col6\" class=\"data row8 col6\" >max=9 | min=0 | mean=0.39 | dominant=0</td>\n",
       "    </tr>\n",
       "    <tr>\n",
       "      <th id=\"T_7279c_level0_row9\" class=\"row_heading level0 row9\" >9</th>\n",
       "      <td id=\"T_7279c_row9_col0\" class=\"data row9 col0\" >pclass</td>\n",
       "      <td id=\"T_7279c_row9_col1\" class=\"data row9 col1\" >int64</td>\n",
       "      <td id=\"T_7279c_row9_col2\" class=\"data row9 col2\" >0.0%</td>\n",
       "      <td id=\"T_7279c_row9_col3\" class=\"data row9 col3\" >54.2%</td>\n",
       "      <td id=\"T_7279c_row9_col4\" class=\"data row9 col4\" >1309</td>\n",
       "      <td id=\"T_7279c_row9_col5\" class=\"data row9 col5\" >3</td>\n",
       "      <td id=\"T_7279c_row9_col6\" class=\"data row9 col6\" >max=3 | min=1 | mean=2.29 | dominant=3</td>\n",
       "    </tr>\n",
       "    <tr>\n",
       "      <th id=\"T_7279c_level0_row10\" class=\"row_heading level0 row10\" >10</th>\n",
       "      <td id=\"T_7279c_row10_col0\" class=\"data row10 col0\" >sex</td>\n",
       "      <td id=\"T_7279c_row10_col1\" class=\"data row10 col1\" >object</td>\n",
       "      <td id=\"T_7279c_row10_col2\" class=\"data row10 col2\" >0.0%</td>\n",
       "      <td id=\"T_7279c_row10_col3\" class=\"data row10 col3\" >64.4%</td>\n",
       "      <td id=\"T_7279c_row10_col4\" class=\"data row10 col4\" >1309</td>\n",
       "      <td id=\"T_7279c_row10_col5\" class=\"data row10 col5\" >2</td>\n",
       "      <td id=\"T_7279c_row10_col6\" class=\"data row10 col6\" >Sample: male | female</td>\n",
       "    </tr>\n",
       "    <tr>\n",
       "      <th id=\"T_7279c_level0_row11\" class=\"row_heading level0 row11\" >11</th>\n",
       "      <td id=\"T_7279c_row11_col0\" class=\"data row11 col0\" >sibsp</td>\n",
       "      <td id=\"T_7279c_row11_col1\" class=\"data row11 col1\" >int64</td>\n",
       "      <td id=\"T_7279c_row11_col2\" class=\"data row11 col2\" >0.0%</td>\n",
       "      <td id=\"T_7279c_row11_col3\" class=\"data row11 col3\" >68.1%</td>\n",
       "      <td id=\"T_7279c_row11_col4\" class=\"data row11 col4\" >1309</td>\n",
       "      <td id=\"T_7279c_row11_col5\" class=\"data row11 col5\" >7</td>\n",
       "      <td id=\"T_7279c_row11_col6\" class=\"data row11 col6\" >max=8 | min=0 | mean=0.5 | dominant=0</td>\n",
       "    </tr>\n",
       "    <tr>\n",
       "      <th id=\"T_7279c_level0_row12\" class=\"row_heading level0 row12\" >12</th>\n",
       "      <td id=\"T_7279c_row12_col0\" class=\"data row12 col0\" >survived</td>\n",
       "      <td id=\"T_7279c_row12_col1\" class=\"data row12 col1\" >int64</td>\n",
       "      <td id=\"T_7279c_row12_col2\" class=\"data row12 col2\" >0.0%</td>\n",
       "      <td id=\"T_7279c_row12_col3\" class=\"data row12 col3\" >61.8%</td>\n",
       "      <td id=\"T_7279c_row12_col4\" class=\"data row12 col4\" >1309</td>\n",
       "      <td id=\"T_7279c_row12_col5\" class=\"data row12 col5\" >2</td>\n",
       "      <td id=\"T_7279c_row12_col6\" class=\"data row12 col6\" >max=1 | min=0 | mean=0.38 | dominant=0</td>\n",
       "    </tr>\n",
       "    <tr>\n",
       "      <th id=\"T_7279c_level0_row13\" class=\"row_heading level0 row13\" >13</th>\n",
       "      <td id=\"T_7279c_row13_col0\" class=\"data row13 col0\" >ticket</td>\n",
       "      <td id=\"T_7279c_row13_col1\" class=\"data row13 col1\" >object</td>\n",
       "      <td id=\"T_7279c_row13_col2\" class=\"data row13 col2\" >0.0%</td>\n",
       "      <td id=\"T_7279c_row13_col3\" class=\"data row13 col3\" >0.8%</td>\n",
       "      <td id=\"T_7279c_row13_col4\" class=\"data row13 col4\" >1309</td>\n",
       "      <td id=\"T_7279c_row13_col5\" class=\"data row13 col5\" >929</td>\n",
       "      <td id=\"T_7279c_row13_col6\" class=\"data row13 col6\" >Sample: CA. 2343 | 1601 | CA 2144 | PC 17608 | 347077</td>\n",
       "    </tr>\n",
       "  </tbody>\n",
       "</table>\n"
      ],
      "text/plain": [
       "<pandas.io.formats.style.Styler at 0x7fe6c2006020>"
      ]
     },
     "execution_count": 16,
     "metadata": {},
     "output_type": "execute_result"
    }
   ],
   "source": [
    "tr.canonical_report(df)"
   ]
  },
  {
   "cell_type": "markdown",
   "id": "fe4d7c5b",
   "metadata": {},
   "source": [
    "Though useful for visualisation one also has the ability to save this report to a given location to share with others."
   ]
  },
  {
   "cell_type": "code",
   "execution_count": 17,
   "id": "0fa24585",
   "metadata": {},
   "outputs": [],
   "source": [
    "dictionary = tr.canonical_report(df, stylise=False)\n",
    "tr.save_report_canonical(reports=tr.REPORT_DICTIONARY, report_canonical=dictionary)"
   ]
  },
  {
   "cell_type": "markdown",
   "id": "d25051e9",
   "metadata": {},
   "source": [
    "The following example renames the file, gives it a specific file type and adds on a time stamp to identify place and time."
   ]
  },
  {
   "cell_type": "code",
   "execution_count": 18,
   "id": "9f952c84",
   "metadata": {},
   "outputs": [],
   "source": [
    "reports = [tr.report2dict(report=tr.REPORT_DICTIONARY, prefix='report_titanic_', file_type='csv', stamped='days')]\n",
    "tr.save_report_canonical(reports=reports, report_canonical=dictionary)"
   ]
  },
  {
   "cell_type": "code",
   "execution_count": null,
   "id": "ec789276",
   "metadata": {},
   "outputs": [],
   "source": []
  }
 ],
 "metadata": {
  "kernelspec": {
   "display_name": "Python 3 (ipykernel)",
   "language": "python",
   "name": "python3"
  },
  "language_info": {
   "codemirror_mode": {
    "name": "ipython",
    "version": 3
   },
   "file_extension": ".py",
   "mimetype": "text/x-python",
   "name": "python",
   "nbconvert_exporter": "python",
   "pygments_lexer": "ipython3",
   "version": "3.10.4"
  }
 },
 "nbformat": 4,
 "nbformat_minor": 5
}
