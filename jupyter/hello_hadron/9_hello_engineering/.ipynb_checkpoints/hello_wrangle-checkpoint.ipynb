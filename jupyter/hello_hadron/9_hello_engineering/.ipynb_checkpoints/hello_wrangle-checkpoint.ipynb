{
 "cells": [
  {
   "cell_type": "markdown",
   "id": "dc1bc237",
   "metadata": {},
   "source": [
    "<cite>Darryl Oatridge, August 2022<cite>"
   ]
  },
  {
   "cell_type": "code",
   "execution_count": 1,
   "id": "77e90ce3",
   "metadata": {},
   "outputs": [],
   "source": [
    "import os"
   ]
  },
  {
   "cell_type": "code",
   "execution_count": 2,
   "id": "9f20228b",
   "metadata": {},
   "outputs": [],
   "source": [
    "os.environ['HADRON_PM_PATH'] = '../0_hello_meta/demo/contracts'\n",
    "os.environ['HADRON_DEFAULT_PATH'] = '../0_hello_meta/demo/data'"
   ]
  },
  {
   "cell_type": "markdown",
   "id": "6b7e8716",
   "metadata": {},
   "source": [
    "## Feature Engineering"
   ]
  },
  {
   "cell_type": "code",
   "execution_count": 3,
   "id": "dbf3056b",
   "metadata": {},
   "outputs": [],
   "source": [
    "from ds_discovery import Wrangle, Transition"
   ]
  },
  {
   "cell_type": "code",
   "execution_count": 4,
   "id": "70b8c4a8",
   "metadata": {},
   "outputs": [],
   "source": [
    "# get the instance\n",
    "wr = Wrangle.from_env('hello_wr', has_contract=False)"
   ]
  },
  {
   "cell_type": "markdown",
   "id": "093e81aa",
   "metadata": {},
   "source": []
  },
  {
   "cell_type": "code",
   "execution_count": 5,
   "id": "9e8d2cde",
   "metadata": {},
   "outputs": [],
   "source": [
    "source = Transition.from_env('hello_tr').get_persist_contract()\n",
    "wr.set_source_contract(source)\n",
    "wr.set_persist()"
   ]
  },
  {
   "cell_type": "markdown",
   "id": "e54b40c9",
   "metadata": {},
   "source": []
  },
  {
   "cell_type": "code",
   "execution_count": 6,
   "id": "0d7df244",
   "metadata": {},
   "outputs": [],
   "source": [
    "df = wr.load_source_canonical()"
   ]
  },
  {
   "cell_type": "code",
   "execution_count": 7,
   "id": "03ab2002",
   "metadata": {
    "scrolled": true
   },
   "outputs": [
    {
     "data": {
      "text/html": [
       "<style type=\"text/css\">\n",
       "#T_d1d83 th {\n",
       "  font-size: 120%;\n",
       "  text-align: center;\n",
       "}\n",
       "#T_d1d83 .row_heading {\n",
       "  display: none;;\n",
       "}\n",
       "#T_d1d83  .blank {\n",
       "  display: none;;\n",
       "}\n",
       "#T_d1d83_row0_col0, #T_d1d83_row1_col0, #T_d1d83_row2_col0, #T_d1d83_row3_col0, #T_d1d83_row4_col0, #T_d1d83_row5_col0, #T_d1d83_row6_col0, #T_d1d83_row7_col0, #T_d1d83_row8_col0, #T_d1d83_row9_col0 {\n",
       "  font-weight: bold;\n",
       "  font-size: 120%;\n",
       "}\n",
       "#T_d1d83_row0_col1, #T_d1d83_row3_col1 {\n",
       "  color: #2f0f8a;\n",
       "}\n",
       "#T_d1d83_row0_col2, #T_d1d83_row0_col3, #T_d1d83_row1_col5, #T_d1d83_row2_col2, #T_d1d83_row3_col2, #T_d1d83_row3_col3, #T_d1d83_row3_col5, #T_d1d83_row4_col2, #T_d1d83_row5_col2, #T_d1d83_row5_col3, #T_d1d83_row6_col2, #T_d1d83_row6_col3, #T_d1d83_row7_col2, #T_d1d83_row8_col2, #T_d1d83_row8_col3, #T_d1d83_row9_col2, #T_d1d83_row9_col3, #T_d1d83_row9_col5 {\n",
       "  color: black;\n",
       "}\n",
       "#T_d1d83_row0_col5 {\n",
       "  background-color: #f0f9ed;\n",
       "  color: black;\n",
       "}\n",
       "#T_d1d83_row1_col1, #T_d1d83_row9_col1 {\n",
       "  color: #761d38;\n",
       "}\n",
       "#T_d1d83_row1_col2, #T_d1d83_row1_col3, #T_d1d83_row2_col3, #T_d1d83_row4_col3, #T_d1d83_row7_col3 {\n",
       "  background-color: #ffede5;\n",
       "  color: black;\n",
       "}\n",
       "#T_d1d83_row2_col1, #T_d1d83_row4_col1, #T_d1d83_row5_col1, #T_d1d83_row6_col1, #T_d1d83_row7_col1, #T_d1d83_row8_col1 {\n",
       "  color: #208a0f;\n",
       "}\n",
       "#T_d1d83_row2_col5, #T_d1d83_row5_col5 {\n",
       "  background-color: #84cc83;\n",
       "  color: black;\n",
       "}\n",
       "#T_d1d83_row4_col5, #T_d1d83_row7_col5 {\n",
       "  background-color: #a4da9e;\n",
       "  color: black;\n",
       "}\n",
       "#T_d1d83_row6_col5, #T_d1d83_row8_col5 {\n",
       "  background-color: #a1cbe2;\n",
       "  color: black;\n",
       "}\n",
       "</style>\n",
       "<table id=\"T_d1d83\">\n",
       "  <caption>%_Dom: The % most dominant element </caption>\n",
       "  <thead>\n",
       "    <tr>\n",
       "      <th class=\"blank level0\" >&nbsp;</th>\n",
       "      <th id=\"T_d1d83_level0_col0\" class=\"col_heading level0 col0\" >Attributes (10)</th>\n",
       "      <th id=\"T_d1d83_level0_col1\" class=\"col_heading level0 col1\" >dType</th>\n",
       "      <th id=\"T_d1d83_level0_col2\" class=\"col_heading level0 col2\" >%_Null</th>\n",
       "      <th id=\"T_d1d83_level0_col3\" class=\"col_heading level0 col3\" >%_Dom</th>\n",
       "      <th id=\"T_d1d83_level0_col4\" class=\"col_heading level0 col4\" >Count</th>\n",
       "      <th id=\"T_d1d83_level0_col5\" class=\"col_heading level0 col5\" >Unique</th>\n",
       "      <th id=\"T_d1d83_level0_col6\" class=\"col_heading level0 col6\" >Observations</th>\n",
       "    </tr>\n",
       "  </thead>\n",
       "  <tbody>\n",
       "    <tr>\n",
       "      <th id=\"T_d1d83_level0_row0\" class=\"row_heading level0 row0\" >0</th>\n",
       "      <td id=\"T_d1d83_row0_col0\" class=\"data row0 col0\" >age</td>\n",
       "      <td id=\"T_d1d83_row0_col1\" class=\"data row0 col1\" >float64</td>\n",
       "      <td id=\"T_d1d83_row0_col2\" class=\"data row0 col2\" >20.1%</td>\n",
       "      <td id=\"T_d1d83_row0_col3\" class=\"data row0 col3\" >20.1%</td>\n",
       "      <td id=\"T_d1d83_row0_col4\" class=\"data row0 col4\" >1309</td>\n",
       "      <td id=\"T_d1d83_row0_col5\" class=\"data row0 col5\" >99</td>\n",
       "      <td id=\"T_d1d83_row0_col6\" class=\"data row0 col6\" >max=80.0 | min=0.1667 | mean=29.88 | dominant=24.0</td>\n",
       "    </tr>\n",
       "    <tr>\n",
       "      <th id=\"T_d1d83_level0_row1\" class=\"row_heading level0 row1\" >1</th>\n",
       "      <td id=\"T_d1d83_row1_col0\" class=\"data row1 col0\" >cabin</td>\n",
       "      <td id=\"T_d1d83_row1_col1\" class=\"data row1 col1\" >string</td>\n",
       "      <td id=\"T_d1d83_row1_col2\" class=\"data row1 col2\" >77.5%</td>\n",
       "      <td id=\"T_d1d83_row1_col3\" class=\"data row1 col3\" >77.5%</td>\n",
       "      <td id=\"T_d1d83_row1_col4\" class=\"data row1 col4\" >1309</td>\n",
       "      <td id=\"T_d1d83_row1_col5\" class=\"data row1 col5\" >187</td>\n",
       "      <td id=\"T_d1d83_row1_col6\" class=\"data row1 col6\" >Sample: C23 C25 C27 | G6 | B57 B59 B63 B66 | F4 | F33</td>\n",
       "    </tr>\n",
       "    <tr>\n",
       "      <th id=\"T_d1d83_level0_row2\" class=\"row_heading level0 row2\" >2</th>\n",
       "      <td id=\"T_d1d83_row2_col0\" class=\"data row2 col0\" >embarked</td>\n",
       "      <td id=\"T_d1d83_row2_col1\" class=\"data row2 col1\" >category</td>\n",
       "      <td id=\"T_d1d83_row2_col2\" class=\"data row2 col2\" >0.0%</td>\n",
       "      <td id=\"T_d1d83_row2_col3\" class=\"data row2 col3\" >69.8%</td>\n",
       "      <td id=\"T_d1d83_row2_col4\" class=\"data row2 col4\" >1309</td>\n",
       "      <td id=\"T_d1d83_row2_col5\" class=\"data row2 col5\" >4</td>\n",
       "      <td id=\"T_d1d83_row2_col6\" class=\"data row2 col6\" >Sample: S | C | Q | nan</td>\n",
       "    </tr>\n",
       "    <tr>\n",
       "      <th id=\"T_d1d83_level0_row3\" class=\"row_heading level0 row3\" >3</th>\n",
       "      <td id=\"T_d1d83_row3_col0\" class=\"data row3 col0\" >fare</td>\n",
       "      <td id=\"T_d1d83_row3_col1\" class=\"data row3 col1\" >float64</td>\n",
       "      <td id=\"T_d1d83_row3_col2\" class=\"data row3 col2\" >0.1%</td>\n",
       "      <td id=\"T_d1d83_row3_col3\" class=\"data row3 col3\" >4.6%</td>\n",
       "      <td id=\"T_d1d83_row3_col4\" class=\"data row3 col4\" >1309</td>\n",
       "      <td id=\"T_d1d83_row3_col5\" class=\"data row3 col5\" >282</td>\n",
       "      <td id=\"T_d1d83_row3_col6\" class=\"data row3 col6\" >max=512.3292 | min=0.0 | mean=33.3 | dominant=8.05</td>\n",
       "    </tr>\n",
       "    <tr>\n",
       "      <th id=\"T_d1d83_level0_row4\" class=\"row_heading level0 row4\" >4</th>\n",
       "      <td id=\"T_d1d83_row4_col0\" class=\"data row4 col0\" >parch</td>\n",
       "      <td id=\"T_d1d83_row4_col1\" class=\"data row4 col1\" >category</td>\n",
       "      <td id=\"T_d1d83_row4_col2\" class=\"data row4 col2\" >0.0%</td>\n",
       "      <td id=\"T_d1d83_row4_col3\" class=\"data row4 col3\" >76.5%</td>\n",
       "      <td id=\"T_d1d83_row4_col4\" class=\"data row4 col4\" >1309</td>\n",
       "      <td id=\"T_d1d83_row4_col5\" class=\"data row4 col5\" >8</td>\n",
       "      <td id=\"T_d1d83_row4_col6\" class=\"data row4 col6\" >Sample: 0 | 1 | 2 | 3 | 4</td>\n",
       "    </tr>\n",
       "    <tr>\n",
       "      <th id=\"T_d1d83_level0_row5\" class=\"row_heading level0 row5\" >5</th>\n",
       "      <td id=\"T_d1d83_row5_col0\" class=\"data row5 col0\" >pclass</td>\n",
       "      <td id=\"T_d1d83_row5_col1\" class=\"data row5 col1\" >category</td>\n",
       "      <td id=\"T_d1d83_row5_col2\" class=\"data row5 col2\" >0.0%</td>\n",
       "      <td id=\"T_d1d83_row5_col3\" class=\"data row5 col3\" >54.2%</td>\n",
       "      <td id=\"T_d1d83_row5_col4\" class=\"data row5 col4\" >1309</td>\n",
       "      <td id=\"T_d1d83_row5_col5\" class=\"data row5 col5\" >3</td>\n",
       "      <td id=\"T_d1d83_row5_col6\" class=\"data row5 col6\" >Sample: 3 | 1 | 2</td>\n",
       "    </tr>\n",
       "    <tr>\n",
       "      <th id=\"T_d1d83_level0_row6\" class=\"row_heading level0 row6\" >6</th>\n",
       "      <td id=\"T_d1d83_row6_col0\" class=\"data row6 col0\" >sex</td>\n",
       "      <td id=\"T_d1d83_row6_col1\" class=\"data row6 col1\" >category</td>\n",
       "      <td id=\"T_d1d83_row6_col2\" class=\"data row6 col2\" >0.0%</td>\n",
       "      <td id=\"T_d1d83_row6_col3\" class=\"data row6 col3\" >64.4%</td>\n",
       "      <td id=\"T_d1d83_row6_col4\" class=\"data row6 col4\" >1309</td>\n",
       "      <td id=\"T_d1d83_row6_col5\" class=\"data row6 col5\" >2</td>\n",
       "      <td id=\"T_d1d83_row6_col6\" class=\"data row6 col6\" >Sample: male | female</td>\n",
       "    </tr>\n",
       "    <tr>\n",
       "      <th id=\"T_d1d83_level0_row7\" class=\"row_heading level0 row7\" >7</th>\n",
       "      <td id=\"T_d1d83_row7_col0\" class=\"data row7 col0\" >sibsp</td>\n",
       "      <td id=\"T_d1d83_row7_col1\" class=\"data row7 col1\" >category</td>\n",
       "      <td id=\"T_d1d83_row7_col2\" class=\"data row7 col2\" >0.0%</td>\n",
       "      <td id=\"T_d1d83_row7_col3\" class=\"data row7 col3\" >68.1%</td>\n",
       "      <td id=\"T_d1d83_row7_col4\" class=\"data row7 col4\" >1309</td>\n",
       "      <td id=\"T_d1d83_row7_col5\" class=\"data row7 col5\" >7</td>\n",
       "      <td id=\"T_d1d83_row7_col6\" class=\"data row7 col6\" >Sample: 0 | 1 | 2 | 4 | 3</td>\n",
       "    </tr>\n",
       "    <tr>\n",
       "      <th id=\"T_d1d83_level0_row8\" class=\"row_heading level0 row8\" >8</th>\n",
       "      <td id=\"T_d1d83_row8_col0\" class=\"data row8 col0\" >survived</td>\n",
       "      <td id=\"T_d1d83_row8_col1\" class=\"data row8 col1\" >category</td>\n",
       "      <td id=\"T_d1d83_row8_col2\" class=\"data row8 col2\" >0.0%</td>\n",
       "      <td id=\"T_d1d83_row8_col3\" class=\"data row8 col3\" >61.8%</td>\n",
       "      <td id=\"T_d1d83_row8_col4\" class=\"data row8 col4\" >1309</td>\n",
       "      <td id=\"T_d1d83_row8_col5\" class=\"data row8 col5\" >2</td>\n",
       "      <td id=\"T_d1d83_row8_col6\" class=\"data row8 col6\" >Sample: 0 | 1</td>\n",
       "    </tr>\n",
       "    <tr>\n",
       "      <th id=\"T_d1d83_level0_row9\" class=\"row_heading level0 row9\" >9</th>\n",
       "      <td id=\"T_d1d83_row9_col0\" class=\"data row9 col0\" >ticket</td>\n",
       "      <td id=\"T_d1d83_row9_col1\" class=\"data row9 col1\" >string</td>\n",
       "      <td id=\"T_d1d83_row9_col2\" class=\"data row9 col2\" >0.0%</td>\n",
       "      <td id=\"T_d1d83_row9_col3\" class=\"data row9 col3\" >0.8%</td>\n",
       "      <td id=\"T_d1d83_row9_col4\" class=\"data row9 col4\" >1309</td>\n",
       "      <td id=\"T_d1d83_row9_col5\" class=\"data row9 col5\" >929</td>\n",
       "      <td id=\"T_d1d83_row9_col6\" class=\"data row9 col6\" >Sample: CA. 2343 | 1601 | CA 2144 | PC 17608 | 347077</td>\n",
       "    </tr>\n",
       "  </tbody>\n",
       "</table>\n"
      ],
      "text/plain": [
       "<pandas.io.formats.style.Styler at 0x7fc26263f160>"
      ]
     },
     "execution_count": 7,
     "metadata": {},
     "output_type": "execute_result"
    }
   ],
   "source": [
    "wr.canonical_report(df)"
   ]
  },
  {
   "cell_type": "markdown",
   "id": "01206984",
   "metadata": {},
   "source": []
  },
  {
   "cell_type": "code",
   "execution_count": 8,
   "id": "61d3af0b",
   "metadata": {},
   "outputs": [],
   "source": [
    "df['family'] = wr.tools.correlate_aggregate(df, headers=['parch', 'sibsp'], agg='sum', column_name='family')"
   ]
  },
  {
   "cell_type": "code",
   "execution_count": 9,
   "id": "ae5e7aa7",
   "metadata": {},
   "outputs": [],
   "source": [
    "df['deck'] = wr.tools.correlate_custom(df, code_str=\"@['cabin'].str[0]\", column_name='deck')"
   ]
  },
  {
   "cell_type": "markdown",
   "id": "321e1a42",
   "metadata": {},
   "source": []
  },
  {
   "cell_type": "code",
   "execution_count": 10,
   "id": "55ba26f2",
   "metadata": {},
   "outputs": [],
   "source": [
    "selection = [wr.tools.select2dict(column='family', condition='@==0')]\n",
    "df['is_alone'] = wr.tools.correlate_selection(df, selection=selection, action=1, default_action=0, column_name='is_alone')"
   ]
  },
  {
   "cell_type": "markdown",
   "id": "5309b64a",
   "metadata": {},
   "source": []
  },
  {
   "cell_type": "code",
   "execution_count": 11,
   "id": "873b62b0",
   "metadata": {},
   "outputs": [],
   "source": [
    "df = wr.tools.model_to_category(df, headers=['family','deck','is_alone'], intent_order=1, column_name='to_category')"
   ]
  },
  {
   "cell_type": "markdown",
   "id": "0fd53d68",
   "metadata": {},
   "source": []
  },
  {
   "cell_type": "code",
   "execution_count": 12,
   "id": "3a189db8",
   "metadata": {},
   "outputs": [
    {
     "data": {
      "text/html": [
       "<style type=\"text/css\">\n",
       "#T_4709a th {\n",
       "  font-size: 120%;\n",
       "  text-align: center;\n",
       "}\n",
       "#T_4709a .row_heading {\n",
       "  display: none;;\n",
       "}\n",
       "#T_4709a  .blank {\n",
       "  display: none;;\n",
       "}\n",
       "#T_4709a_row0_col0, #T_4709a_row1_col0, #T_4709a_row2_col0, #T_4709a_row3_col0 {\n",
       "  text-align: left;\n",
       "  font-weight: bold;\n",
       "  font-size: 120%;\n",
       "}\n",
       "#T_4709a_row0_col1, #T_4709a_row0_col2, #T_4709a_row0_col3, #T_4709a_row0_col4, #T_4709a_row1_col1, #T_4709a_row1_col2, #T_4709a_row1_col3, #T_4709a_row1_col4, #T_4709a_row2_col1, #T_4709a_row2_col2, #T_4709a_row2_col3, #T_4709a_row2_col4, #T_4709a_row3_col1, #T_4709a_row3_col2, #T_4709a_row3_col3, #T_4709a_row3_col4 {\n",
       "  text-align: left;\n",
       "}\n",
       "</style>\n",
       "<table id=\"T_4709a\">\n",
       "  <thead>\n",
       "    <tr>\n",
       "      <th class=\"blank level0\" >&nbsp;</th>\n",
       "      <th id=\"T_4709a_level0_col0\" class=\"col_heading level0 col0\" >level</th>\n",
       "      <th id=\"T_4709a_level0_col1\" class=\"col_heading level0 col1\" >order</th>\n",
       "      <th id=\"T_4709a_level0_col2\" class=\"col_heading level0 col2\" >intent</th>\n",
       "      <th id=\"T_4709a_level0_col3\" class=\"col_heading level0 col3\" >parameters</th>\n",
       "      <th id=\"T_4709a_level0_col4\" class=\"col_heading level0 col4\" >creator</th>\n",
       "    </tr>\n",
       "  </thead>\n",
       "  <tbody>\n",
       "    <tr>\n",
       "      <th id=\"T_4709a_level0_row0\" class=\"row_heading level0 row0\" >0</th>\n",
       "      <td id=\"T_4709a_row0_col0\" class=\"data row0 col0\" >deck</td>\n",
       "      <td id=\"T_4709a_row0_col1\" class=\"data row0 col1\" >0</td>\n",
       "      <td id=\"T_4709a_row0_col2\" class=\"data row0 col2\" >correlate_custom</td>\n",
       "      <td id=\"T_4709a_row0_col3\" class=\"data row0 col3\" >[\"code_str='@['cabin'].str[0]'\", \"column_name='deck'\", 'kwargs={}']</td>\n",
       "      <td id=\"T_4709a_row0_col4\" class=\"data row0 col4\" >doatridge</td>\n",
       "    </tr>\n",
       "    <tr>\n",
       "      <th id=\"T_4709a_level0_row1\" class=\"row_heading level0 row1\" >1</th>\n",
       "      <td id=\"T_4709a_row1_col0\" class=\"data row1 col0\" >family</td>\n",
       "      <td id=\"T_4709a_row1_col1\" class=\"data row1 col1\" >0</td>\n",
       "      <td id=\"T_4709a_row1_col2\" class=\"data row1 col2\" >correlate_aggregate</td>\n",
       "      <td id=\"T_4709a_row1_col3\" class=\"data row1 col3\" >[\"headers=['parch', 'sibsp']\", \"agg='sum'\", \"column_name='family'\"]</td>\n",
       "      <td id=\"T_4709a_row1_col4\" class=\"data row1 col4\" >doatridge</td>\n",
       "    </tr>\n",
       "    <tr>\n",
       "      <th id=\"T_4709a_level0_row2\" class=\"row_heading level0 row2\" >2</th>\n",
       "      <td id=\"T_4709a_row2_col0\" class=\"data row2 col0\" >is_alone</td>\n",
       "      <td id=\"T_4709a_row2_col1\" class=\"data row2 col1\" >0</td>\n",
       "      <td id=\"T_4709a_row2_col2\" class=\"data row2 col2\" >correlate_selection</td>\n",
       "      <td id=\"T_4709a_row2_col3\" class=\"data row2 col3\" >[\"selection=[{'column': 'family', 'condition': '@==0'}]\", 'action=1', 'default_action=0', \"column_name='is_alone'\"]</td>\n",
       "      <td id=\"T_4709a_row2_col4\" class=\"data row2 col4\" >doatridge</td>\n",
       "    </tr>\n",
       "    <tr>\n",
       "      <th id=\"T_4709a_level0_row3\" class=\"row_heading level0 row3\" >3</th>\n",
       "      <td id=\"T_4709a_row3_col0\" class=\"data row3 col0\" >to_category</td>\n",
       "      <td id=\"T_4709a_row3_col1\" class=\"data row3 col1\" >1</td>\n",
       "      <td id=\"T_4709a_row3_col2\" class=\"data row3 col2\" >model_to_category</td>\n",
       "      <td id=\"T_4709a_row3_col3\" class=\"data row3 col3\" >[\"headers=['family', 'deck', 'is_alone']\", \"column_name='to_category'\"]</td>\n",
       "      <td id=\"T_4709a_row3_col4\" class=\"data row3 col4\" >doatridge</td>\n",
       "    </tr>\n",
       "  </tbody>\n",
       "</table>\n"
      ],
      "text/plain": [
       "<pandas.io.formats.style.Styler at 0x7fc26312ae60>"
      ]
     },
     "execution_count": 12,
     "metadata": {},
     "output_type": "execute_result"
    }
   ],
   "source": [
    "wr.report_intent()"
   ]
  },
  {
   "cell_type": "markdown",
   "id": "74a14ef9",
   "metadata": {},
   "source": [
    "## Component Pipeline"
   ]
  },
  {
   "cell_type": "code",
   "execution_count": 13,
   "id": "fc3525c1",
   "metadata": {},
   "outputs": [],
   "source": [
    "wr.run_component_pipeline()"
   ]
  },
  {
   "cell_type": "code",
   "execution_count": 14,
   "id": "455b9ab5",
   "metadata": {},
   "outputs": [
    {
     "data": {
      "text/html": [
       "<style type=\"text/css\">\n",
       "#T_98910 th {\n",
       "  font-size: 120%;\n",
       "  text-align: center;\n",
       "}\n",
       "#T_98910 .row_heading {\n",
       "  display: none;;\n",
       "}\n",
       "#T_98910  .blank {\n",
       "  display: none;;\n",
       "}\n",
       "#T_98910_row0_col0, #T_98910_row1_col0, #T_98910_row2_col0, #T_98910_row3_col0, #T_98910_row4_col0, #T_98910_row5_col0, #T_98910_row6_col0, #T_98910_row7_col0, #T_98910_row8_col0, #T_98910_row9_col0, #T_98910_row10_col0, #T_98910_row11_col0, #T_98910_row12_col0 {\n",
       "  font-weight: bold;\n",
       "  font-size: 120%;\n",
       "}\n",
       "#T_98910_row0_col1, #T_98910_row5_col1 {\n",
       "  color: #2f0f8a;\n",
       "}\n",
       "#T_98910_row0_col2, #T_98910_row0_col3, #T_98910_row1_col5, #T_98910_row2_col2, #T_98910_row3_col2, #T_98910_row4_col2, #T_98910_row4_col3, #T_98910_row5_col2, #T_98910_row5_col3, #T_98910_row5_col5, #T_98910_row6_col2, #T_98910_row6_col3, #T_98910_row7_col2, #T_98910_row8_col2, #T_98910_row8_col3, #T_98910_row9_col2, #T_98910_row9_col3, #T_98910_row10_col2, #T_98910_row11_col2, #T_98910_row11_col3, #T_98910_row12_col2, #T_98910_row12_col3, #T_98910_row12_col5 {\n",
       "  color: black;\n",
       "}\n",
       "#T_98910_row0_col5 {\n",
       "  background-color: #f0f9ed;\n",
       "  color: black;\n",
       "}\n",
       "#T_98910_row1_col1, #T_98910_row12_col1 {\n",
       "  color: #761d38;\n",
       "}\n",
       "#T_98910_row1_col2, #T_98910_row1_col3, #T_98910_row2_col3, #T_98910_row3_col3, #T_98910_row7_col3, #T_98910_row10_col3 {\n",
       "  background-color: #ffede5;\n",
       "  color: black;\n",
       "}\n",
       "#T_98910_row2_col1, #T_98910_row3_col1, #T_98910_row4_col1, #T_98910_row6_col1, #T_98910_row7_col1, #T_98910_row8_col1, #T_98910_row9_col1, #T_98910_row10_col1, #T_98910_row11_col1 {\n",
       "  color: #208a0f;\n",
       "}\n",
       "#T_98910_row2_col5, #T_98910_row4_col5, #T_98910_row7_col5, #T_98910_row10_col5 {\n",
       "  background-color: #a4da9e;\n",
       "  color: black;\n",
       "}\n",
       "#T_98910_row3_col5, #T_98910_row8_col5 {\n",
       "  background-color: #84cc83;\n",
       "  color: black;\n",
       "}\n",
       "#T_98910_row6_col5, #T_98910_row9_col5, #T_98910_row11_col5 {\n",
       "  background-color: #a1cbe2;\n",
       "  color: black;\n",
       "}\n",
       "</style>\n",
       "<table id=\"T_98910\">\n",
       "  <caption>%_Dom: The % most dominant element </caption>\n",
       "  <thead>\n",
       "    <tr>\n",
       "      <th class=\"blank level0\" >&nbsp;</th>\n",
       "      <th id=\"T_98910_level0_col0\" class=\"col_heading level0 col0\" >Attributes (13)</th>\n",
       "      <th id=\"T_98910_level0_col1\" class=\"col_heading level0 col1\" >dType</th>\n",
       "      <th id=\"T_98910_level0_col2\" class=\"col_heading level0 col2\" >%_Null</th>\n",
       "      <th id=\"T_98910_level0_col3\" class=\"col_heading level0 col3\" >%_Dom</th>\n",
       "      <th id=\"T_98910_level0_col4\" class=\"col_heading level0 col4\" >Count</th>\n",
       "      <th id=\"T_98910_level0_col5\" class=\"col_heading level0 col5\" >Unique</th>\n",
       "      <th id=\"T_98910_level0_col6\" class=\"col_heading level0 col6\" >Observations</th>\n",
       "    </tr>\n",
       "  </thead>\n",
       "  <tbody>\n",
       "    <tr>\n",
       "      <th id=\"T_98910_level0_row0\" class=\"row_heading level0 row0\" >0</th>\n",
       "      <td id=\"T_98910_row0_col0\" class=\"data row0 col0\" >age</td>\n",
       "      <td id=\"T_98910_row0_col1\" class=\"data row0 col1\" >float64</td>\n",
       "      <td id=\"T_98910_row0_col2\" class=\"data row0 col2\" >20.1%</td>\n",
       "      <td id=\"T_98910_row0_col3\" class=\"data row0 col3\" >20.1%</td>\n",
       "      <td id=\"T_98910_row0_col4\" class=\"data row0 col4\" >1309</td>\n",
       "      <td id=\"T_98910_row0_col5\" class=\"data row0 col5\" >99</td>\n",
       "      <td id=\"T_98910_row0_col6\" class=\"data row0 col6\" >max=80.0 | min=0.1667 | mean=29.88 | dominant=24.0</td>\n",
       "    </tr>\n",
       "    <tr>\n",
       "      <th id=\"T_98910_level0_row1\" class=\"row_heading level0 row1\" >1</th>\n",
       "      <td id=\"T_98910_row1_col0\" class=\"data row1 col0\" >cabin</td>\n",
       "      <td id=\"T_98910_row1_col1\" class=\"data row1 col1\" >string</td>\n",
       "      <td id=\"T_98910_row1_col2\" class=\"data row1 col2\" >77.5%</td>\n",
       "      <td id=\"T_98910_row1_col3\" class=\"data row1 col3\" >77.5%</td>\n",
       "      <td id=\"T_98910_row1_col4\" class=\"data row1 col4\" >1309</td>\n",
       "      <td id=\"T_98910_row1_col5\" class=\"data row1 col5\" >187</td>\n",
       "      <td id=\"T_98910_row1_col6\" class=\"data row1 col6\" >Sample: C23 C25 C27 | G6 | B57 B59 B63 B66 | F4 | F33</td>\n",
       "    </tr>\n",
       "    <tr>\n",
       "      <th id=\"T_98910_level0_row2\" class=\"row_heading level0 row2\" >2</th>\n",
       "      <td id=\"T_98910_row2_col0\" class=\"data row2 col0\" >deck</td>\n",
       "      <td id=\"T_98910_row2_col1\" class=\"data row2 col1\" >category</td>\n",
       "      <td id=\"T_98910_row2_col2\" class=\"data row2 col2\" >0.0%</td>\n",
       "      <td id=\"T_98910_row2_col3\" class=\"data row2 col3\" >77.5%</td>\n",
       "      <td id=\"T_98910_row2_col4\" class=\"data row2 col4\" >1309</td>\n",
       "      <td id=\"T_98910_row2_col5\" class=\"data row2 col5\" >9</td>\n",
       "      <td id=\"T_98910_row2_col6\" class=\"data row2 col6\" >Sample: <NA> | C | B | D | E</td>\n",
       "    </tr>\n",
       "    <tr>\n",
       "      <th id=\"T_98910_level0_row3\" class=\"row_heading level0 row3\" >3</th>\n",
       "      <td id=\"T_98910_row3_col0\" class=\"data row3 col0\" >embarked</td>\n",
       "      <td id=\"T_98910_row3_col1\" class=\"data row3 col1\" >category</td>\n",
       "      <td id=\"T_98910_row3_col2\" class=\"data row3 col2\" >0.0%</td>\n",
       "      <td id=\"T_98910_row3_col3\" class=\"data row3 col3\" >69.8%</td>\n",
       "      <td id=\"T_98910_row3_col4\" class=\"data row3 col4\" >1309</td>\n",
       "      <td id=\"T_98910_row3_col5\" class=\"data row3 col5\" >4</td>\n",
       "      <td id=\"T_98910_row3_col6\" class=\"data row3 col6\" >Sample: S | C | Q | nan</td>\n",
       "    </tr>\n",
       "    <tr>\n",
       "      <th id=\"T_98910_level0_row4\" class=\"row_heading level0 row4\" >4</th>\n",
       "      <td id=\"T_98910_row4_col0\" class=\"data row4 col0\" >family</td>\n",
       "      <td id=\"T_98910_row4_col1\" class=\"data row4 col1\" >category</td>\n",
       "      <td id=\"T_98910_row4_col2\" class=\"data row4 col2\" >0.0%</td>\n",
       "      <td id=\"T_98910_row4_col3\" class=\"data row4 col3\" >60.4%</td>\n",
       "      <td id=\"T_98910_row4_col4\" class=\"data row4 col4\" >1309</td>\n",
       "      <td id=\"T_98910_row4_col5\" class=\"data row4 col5\" >9</td>\n",
       "      <td id=\"T_98910_row4_col6\" class=\"data row4 col6\" >Sample: 0 | 1 | 2 | 3 | 5</td>\n",
       "    </tr>\n",
       "    <tr>\n",
       "      <th id=\"T_98910_level0_row5\" class=\"row_heading level0 row5\" >5</th>\n",
       "      <td id=\"T_98910_row5_col0\" class=\"data row5 col0\" >fare</td>\n",
       "      <td id=\"T_98910_row5_col1\" class=\"data row5 col1\" >float64</td>\n",
       "      <td id=\"T_98910_row5_col2\" class=\"data row5 col2\" >0.1%</td>\n",
       "      <td id=\"T_98910_row5_col3\" class=\"data row5 col3\" >4.6%</td>\n",
       "      <td id=\"T_98910_row5_col4\" class=\"data row5 col4\" >1309</td>\n",
       "      <td id=\"T_98910_row5_col5\" class=\"data row5 col5\" >282</td>\n",
       "      <td id=\"T_98910_row5_col6\" class=\"data row5 col6\" >max=512.3292 | min=0.0 | mean=33.3 | dominant=8.05</td>\n",
       "    </tr>\n",
       "    <tr>\n",
       "      <th id=\"T_98910_level0_row6\" class=\"row_heading level0 row6\" >6</th>\n",
       "      <td id=\"T_98910_row6_col0\" class=\"data row6 col0\" >is_alone</td>\n",
       "      <td id=\"T_98910_row6_col1\" class=\"data row6 col1\" >category</td>\n",
       "      <td id=\"T_98910_row6_col2\" class=\"data row6 col2\" >0.0%</td>\n",
       "      <td id=\"T_98910_row6_col3\" class=\"data row6 col3\" >60.4%</td>\n",
       "      <td id=\"T_98910_row6_col4\" class=\"data row6 col4\" >1309</td>\n",
       "      <td id=\"T_98910_row6_col5\" class=\"data row6 col5\" >2</td>\n",
       "      <td id=\"T_98910_row6_col6\" class=\"data row6 col6\" >Sample: 1 | 0</td>\n",
       "    </tr>\n",
       "    <tr>\n",
       "      <th id=\"T_98910_level0_row7\" class=\"row_heading level0 row7\" >7</th>\n",
       "      <td id=\"T_98910_row7_col0\" class=\"data row7 col0\" >parch</td>\n",
       "      <td id=\"T_98910_row7_col1\" class=\"data row7 col1\" >category</td>\n",
       "      <td id=\"T_98910_row7_col2\" class=\"data row7 col2\" >0.0%</td>\n",
       "      <td id=\"T_98910_row7_col3\" class=\"data row7 col3\" >76.5%</td>\n",
       "      <td id=\"T_98910_row7_col4\" class=\"data row7 col4\" >1309</td>\n",
       "      <td id=\"T_98910_row7_col5\" class=\"data row7 col5\" >8</td>\n",
       "      <td id=\"T_98910_row7_col6\" class=\"data row7 col6\" >Sample: 0 | 1 | 2 | 3 | 4</td>\n",
       "    </tr>\n",
       "    <tr>\n",
       "      <th id=\"T_98910_level0_row8\" class=\"row_heading level0 row8\" >8</th>\n",
       "      <td id=\"T_98910_row8_col0\" class=\"data row8 col0\" >pclass</td>\n",
       "      <td id=\"T_98910_row8_col1\" class=\"data row8 col1\" >category</td>\n",
       "      <td id=\"T_98910_row8_col2\" class=\"data row8 col2\" >0.0%</td>\n",
       "      <td id=\"T_98910_row8_col3\" class=\"data row8 col3\" >54.2%</td>\n",
       "      <td id=\"T_98910_row8_col4\" class=\"data row8 col4\" >1309</td>\n",
       "      <td id=\"T_98910_row8_col5\" class=\"data row8 col5\" >3</td>\n",
       "      <td id=\"T_98910_row8_col6\" class=\"data row8 col6\" >Sample: 3 | 1 | 2</td>\n",
       "    </tr>\n",
       "    <tr>\n",
       "      <th id=\"T_98910_level0_row9\" class=\"row_heading level0 row9\" >9</th>\n",
       "      <td id=\"T_98910_row9_col0\" class=\"data row9 col0\" >sex</td>\n",
       "      <td id=\"T_98910_row9_col1\" class=\"data row9 col1\" >category</td>\n",
       "      <td id=\"T_98910_row9_col2\" class=\"data row9 col2\" >0.0%</td>\n",
       "      <td id=\"T_98910_row9_col3\" class=\"data row9 col3\" >64.4%</td>\n",
       "      <td id=\"T_98910_row9_col4\" class=\"data row9 col4\" >1309</td>\n",
       "      <td id=\"T_98910_row9_col5\" class=\"data row9 col5\" >2</td>\n",
       "      <td id=\"T_98910_row9_col6\" class=\"data row9 col6\" >Sample: male | female</td>\n",
       "    </tr>\n",
       "    <tr>\n",
       "      <th id=\"T_98910_level0_row10\" class=\"row_heading level0 row10\" >10</th>\n",
       "      <td id=\"T_98910_row10_col0\" class=\"data row10 col0\" >sibsp</td>\n",
       "      <td id=\"T_98910_row10_col1\" class=\"data row10 col1\" >category</td>\n",
       "      <td id=\"T_98910_row10_col2\" class=\"data row10 col2\" >0.0%</td>\n",
       "      <td id=\"T_98910_row10_col3\" class=\"data row10 col3\" >68.1%</td>\n",
       "      <td id=\"T_98910_row10_col4\" class=\"data row10 col4\" >1309</td>\n",
       "      <td id=\"T_98910_row10_col5\" class=\"data row10 col5\" >7</td>\n",
       "      <td id=\"T_98910_row10_col6\" class=\"data row10 col6\" >Sample: 0 | 1 | 2 | 4 | 3</td>\n",
       "    </tr>\n",
       "    <tr>\n",
       "      <th id=\"T_98910_level0_row11\" class=\"row_heading level0 row11\" >11</th>\n",
       "      <td id=\"T_98910_row11_col0\" class=\"data row11 col0\" >survived</td>\n",
       "      <td id=\"T_98910_row11_col1\" class=\"data row11 col1\" >category</td>\n",
       "      <td id=\"T_98910_row11_col2\" class=\"data row11 col2\" >0.0%</td>\n",
       "      <td id=\"T_98910_row11_col3\" class=\"data row11 col3\" >61.8%</td>\n",
       "      <td id=\"T_98910_row11_col4\" class=\"data row11 col4\" >1309</td>\n",
       "      <td id=\"T_98910_row11_col5\" class=\"data row11 col5\" >2</td>\n",
       "      <td id=\"T_98910_row11_col6\" class=\"data row11 col6\" >Sample: 0 | 1</td>\n",
       "    </tr>\n",
       "    <tr>\n",
       "      <th id=\"T_98910_level0_row12\" class=\"row_heading level0 row12\" >12</th>\n",
       "      <td id=\"T_98910_row12_col0\" class=\"data row12 col0\" >ticket</td>\n",
       "      <td id=\"T_98910_row12_col1\" class=\"data row12 col1\" >string</td>\n",
       "      <td id=\"T_98910_row12_col2\" class=\"data row12 col2\" >0.0%</td>\n",
       "      <td id=\"T_98910_row12_col3\" class=\"data row12 col3\" >0.8%</td>\n",
       "      <td id=\"T_98910_row12_col4\" class=\"data row12 col4\" >1309</td>\n",
       "      <td id=\"T_98910_row12_col5\" class=\"data row12 col5\" >929</td>\n",
       "      <td id=\"T_98910_row12_col6\" class=\"data row12 col6\" >Sample: CA. 2343 | 1601 | CA 2144 | PC 17608 | 347077</td>\n",
       "    </tr>\n",
       "  </tbody>\n",
       "</table>\n"
      ],
      "text/plain": [
       "<pandas.io.formats.style.Styler at 0x7fc263129ed0>"
      ]
     },
     "execution_count": 14,
     "metadata": {},
     "output_type": "execute_result"
    }
   ],
   "source": [
    "wr.canonical_report(df)"
   ]
  },
  {
   "cell_type": "markdown",
   "id": "26e74643",
   "metadata": {},
   "source": []
  },
  {
   "cell_type": "markdown",
   "id": "e76f254c-5111-49fa-b2f2-94e3e78357d0",
   "metadata": {},
   "source": [
    "## Missing Data\n",
    "\n",
    "- Missing Completely at Random (MCAR)\n",
    "- Missing at Random (MAR)\n",
    "- Missing not at Random (MNAR)"
   ]
  },
  {
   "cell_type": "code",
   "execution_count": 15,
   "id": "692ea8a9",
   "metadata": {},
   "outputs": [
    {
     "data": {
      "text/plain": [
       "<NA>    1014\n",
       "C         94\n",
       "B         65\n",
       "D         46\n",
       "E         41\n",
       "A         22\n",
       "F         21\n",
       "G          5\n",
       "T          1\n",
       "Name: deck, dtype: int64"
      ]
     },
     "execution_count": 15,
     "metadata": {},
     "output_type": "execute_result"
    }
   ],
   "source": [
    "df['deck'].value_counts()"
   ]
  },
  {
   "cell_type": "markdown",
   "id": "cbf293fb-891a-4a6e-a256-fee42a98adc5",
   "metadata": {},
   "source": []
  },
  {
   "cell_type": "code",
   "execution_count": 16,
   "id": "f4fc9a31-7fcf-43f3-ac1a-e8ebb088b778",
   "metadata": {},
   "outputs": [],
   "source": [
    "df['fare'] = wr.tools.correlate_missing(df, header='fare', method='random', column_name='fare')"
   ]
  },
  {
   "cell_type": "markdown",
   "id": "186ed561-3caf-47cc-a4e6-dde5544af327",
   "metadata": {},
   "source": []
  },
  {
   "cell_type": "code",
   "execution_count": 17,
   "id": "e64dd8d9-a8da-403f-8166-63f7754386a7",
   "metadata": {
    "scrolled": true
   },
   "outputs": [
    {
     "data": {
      "image/png": "[encoded data removed]",
      "text/plain": [
       "<Figure size 1152x288 with 3 Axes>"
      ]
     },
     "metadata": {
      "needs_background": "light"
     },
     "output_type": "display_data"
    },
    {
     "data": {
      "text/plain": [
       "<Figure size 432x288 with 0 Axes>"
      ]
     },
     "metadata": {},
     "output_type": "display_data"
    }
   ],
   "source": [
    "wr.visual.show_distribution(df, 'fare')"
   ]
  },
  {
   "cell_type": "markdown",
   "id": "1966ffd2-6200-4961-a3f2-5865e28c69e7",
   "metadata": {},
   "source": []
  },
  {
   "cell_type": "code",
   "execution_count": 18,
   "id": "eb77ed44-8762-4ec2-9a73-d306820df7dd",
   "metadata": {},
   "outputs": [],
   "source": [
    "df['age'] = wr.tools.correlate_missing_weighted(df, header='age', granularity=5.0, column_name='age')"
   ]
  },
  {
   "cell_type": "markdown",
   "id": "ea5eff23-5c78-47f3-b6a5-7c8ffe45b823",
   "metadata": {},
   "source": []
  },
  {
   "cell_type": "code",
   "execution_count": 19,
   "id": "1aa2c600-35d1-414f-bc66-542c916ed1d5",
   "metadata": {
    "scrolled": true
   },
   "outputs": [
    {
     "data": {
      "image/png": "[encoded data removed]",
      "text/plain": [
       "<Figure size 1152x288 with 3 Axes>"
      ]
     },
     "metadata": {
      "needs_background": "light"
     },
     "output_type": "display_data"
    },
    {
     "data": {
      "text/plain": [
       "<Figure size 432x288 with 0 Axes>"
      ]
     },
     "metadata": {},
     "output_type": "display_data"
    }
   ],
   "source": [
    "wr.visual.show_distribution(df, 'age')"
   ]
  },
  {
   "cell_type": "markdown",
   "id": "2db87899-5f58-4434-a6c0-5cf7e3d8f17f",
   "metadata": {},
   "source": []
  },
  {
   "cell_type": "markdown",
   "id": "ae074186-2a4f-48ff-9255-d65e95260035",
   "metadata": {},
   "source": []
  },
  {
   "cell_type": "code",
   "execution_count": 20,
   "id": "17689e2c-e904-4337-b81e-34511e11cf46",
   "metadata": {
    "scrolled": true
   },
   "outputs": [
    {
     "data": {
      "text/html": [
       "<style type=\"text/css\">\n",
       "#T_700eb th {\n",
       "  font-size: 120%;\n",
       "  text-align: center;\n",
       "}\n",
       "#T_700eb .row_heading {\n",
       "  display: none;;\n",
       "}\n",
       "#T_700eb  .blank {\n",
       "  display: none;;\n",
       "}\n",
       "#T_700eb_row0_col0, #T_700eb_row1_col0, #T_700eb_row2_col0, #T_700eb_row3_col0, #T_700eb_row4_col0, #T_700eb_row5_col0 {\n",
       "  text-align: left;\n",
       "  font-weight: bold;\n",
       "  font-size: 120%;\n",
       "}\n",
       "#T_700eb_row0_col1, #T_700eb_row0_col2, #T_700eb_row0_col3, #T_700eb_row0_col4, #T_700eb_row1_col1, #T_700eb_row1_col2, #T_700eb_row1_col3, #T_700eb_row1_col4, #T_700eb_row2_col1, #T_700eb_row2_col2, #T_700eb_row2_col3, #T_700eb_row2_col4, #T_700eb_row3_col1, #T_700eb_row3_col2, #T_700eb_row3_col3, #T_700eb_row3_col4, #T_700eb_row4_col1, #T_700eb_row4_col2, #T_700eb_row4_col3, #T_700eb_row4_col4, #T_700eb_row5_col1, #T_700eb_row5_col2, #T_700eb_row5_col3, #T_700eb_row5_col4 {\n",
       "  text-align: left;\n",
       "}\n",
       "</style>\n",
       "<table id=\"T_700eb\">\n",
       "  <thead>\n",
       "    <tr>\n",
       "      <th class=\"blank level0\" >&nbsp;</th>\n",
       "      <th id=\"T_700eb_level0_col0\" class=\"col_heading level0 col0\" >level</th>\n",
       "      <th id=\"T_700eb_level0_col1\" class=\"col_heading level0 col1\" >order</th>\n",
       "      <th id=\"T_700eb_level0_col2\" class=\"col_heading level0 col2\" >intent</th>\n",
       "      <th id=\"T_700eb_level0_col3\" class=\"col_heading level0 col3\" >parameters</th>\n",
       "      <th id=\"T_700eb_level0_col4\" class=\"col_heading level0 col4\" >creator</th>\n",
       "    </tr>\n",
       "  </thead>\n",
       "  <tbody>\n",
       "    <tr>\n",
       "      <th id=\"T_700eb_level0_row0\" class=\"row_heading level0 row0\" >0</th>\n",
       "      <td id=\"T_700eb_row0_col0\" class=\"data row0 col0\" >age</td>\n",
       "      <td id=\"T_700eb_row0_col1\" class=\"data row0 col1\" >0</td>\n",
       "      <td id=\"T_700eb_row0_col2\" class=\"data row0 col2\" >correlate_missing_weighted</td>\n",
       "      <td id=\"T_700eb_row0_col3\" class=\"data row0 col3\" >[\"header='age'\", 'granularity=5.0', \"column_name='age'\"]</td>\n",
       "      <td id=\"T_700eb_row0_col4\" class=\"data row0 col4\" >doatridge</td>\n",
       "    </tr>\n",
       "    <tr>\n",
       "      <th id=\"T_700eb_level0_row1\" class=\"row_heading level0 row1\" >1</th>\n",
       "      <td id=\"T_700eb_row1_col0\" class=\"data row1 col0\" >deck</td>\n",
       "      <td id=\"T_700eb_row1_col1\" class=\"data row1 col1\" >0</td>\n",
       "      <td id=\"T_700eb_row1_col2\" class=\"data row1 col2\" >correlate_custom</td>\n",
       "      <td id=\"T_700eb_row1_col3\" class=\"data row1 col3\" >[\"code_str='@['cabin'].str[0]'\", \"column_name='deck'\", 'kwargs={}']</td>\n",
       "      <td id=\"T_700eb_row1_col4\" class=\"data row1 col4\" >doatridge</td>\n",
       "    </tr>\n",
       "    <tr>\n",
       "      <th id=\"T_700eb_level0_row2\" class=\"row_heading level0 row2\" >2</th>\n",
       "      <td id=\"T_700eb_row2_col0\" class=\"data row2 col0\" >family</td>\n",
       "      <td id=\"T_700eb_row2_col1\" class=\"data row2 col1\" >0</td>\n",
       "      <td id=\"T_700eb_row2_col2\" class=\"data row2 col2\" >correlate_aggregate</td>\n",
       "      <td id=\"T_700eb_row2_col3\" class=\"data row2 col3\" >[\"headers=['parch', 'sibsp']\", \"agg='sum'\", \"column_name='family'\"]</td>\n",
       "      <td id=\"T_700eb_row2_col4\" class=\"data row2 col4\" >doatridge</td>\n",
       "    </tr>\n",
       "    <tr>\n",
       "      <th id=\"T_700eb_level0_row3\" class=\"row_heading level0 row3\" >3</th>\n",
       "      <td id=\"T_700eb_row3_col0\" class=\"data row3 col0\" >fare</td>\n",
       "      <td id=\"T_700eb_row3_col1\" class=\"data row3 col1\" >0</td>\n",
       "      <td id=\"T_700eb_row3_col2\" class=\"data row3 col2\" >correlate_missing</td>\n",
       "      <td id=\"T_700eb_row3_col3\" class=\"data row3 col3\" >[\"header='fare'\", \"method='random'\", \"column_name='fare'\"]</td>\n",
       "      <td id=\"T_700eb_row3_col4\" class=\"data row3 col4\" >doatridge</td>\n",
       "    </tr>\n",
       "    <tr>\n",
       "      <th id=\"T_700eb_level0_row4\" class=\"row_heading level0 row4\" >4</th>\n",
       "      <td id=\"T_700eb_row4_col0\" class=\"data row4 col0\" >is_alone</td>\n",
       "      <td id=\"T_700eb_row4_col1\" class=\"data row4 col1\" >0</td>\n",
       "      <td id=\"T_700eb_row4_col2\" class=\"data row4 col2\" >correlate_selection</td>\n",
       "      <td id=\"T_700eb_row4_col3\" class=\"data row4 col3\" >[\"selection=[{'column': 'family', 'condition': '@==0'}]\", 'action=1', 'default_action=0', \"column_name='is_alone'\"]</td>\n",
       "      <td id=\"T_700eb_row4_col4\" class=\"data row4 col4\" >doatridge</td>\n",
       "    </tr>\n",
       "    <tr>\n",
       "      <th id=\"T_700eb_level0_row5\" class=\"row_heading level0 row5\" >5</th>\n",
       "      <td id=\"T_700eb_row5_col0\" class=\"data row5 col0\" >to_category</td>\n",
       "      <td id=\"T_700eb_row5_col1\" class=\"data row5 col1\" >1</td>\n",
       "      <td id=\"T_700eb_row5_col2\" class=\"data row5 col2\" >model_to_category</td>\n",
       "      <td id=\"T_700eb_row5_col3\" class=\"data row5 col3\" >[\"headers=['family', 'deck', 'is_alone']\", \"column_name='to_category'\"]</td>\n",
       "      <td id=\"T_700eb_row5_col4\" class=\"data row5 col4\" >doatridge</td>\n",
       "    </tr>\n",
       "  </tbody>\n",
       "</table>\n"
      ],
      "text/plain": [
       "<pandas.io.formats.style.Styler at 0x7fc263334820>"
      ]
     },
     "execution_count": 20,
     "metadata": {},
     "output_type": "execute_result"
    }
   ],
   "source": [
    "wr.report_intent()"
   ]
  },
  {
   "cell_type": "markdown",
   "id": "0389ca6d-8103-4a44-a4f2-01a97e19b99e",
   "metadata": {},
   "source": [
    "### Run Book"
   ]
  },
  {
   "cell_type": "code",
   "execution_count": 23,
   "id": "32cf0aac",
   "metadata": {},
   "outputs": [],
   "source": [
    "wr.add_run_book(run_levels=['age','deck','family','fare','is_alone','to_category'])"
   ]
  },
  {
   "cell_type": "code",
   "execution_count": 24,
   "id": "085105f6",
   "metadata": {},
   "outputs": [
    {
     "data": {
      "text/html": [
       "<style type=\"text/css\">\n",
       "#T_44f5c th {\n",
       "  font-size: 120%;\n",
       "  text-align: center;\n",
       "}\n",
       "#T_44f5c .row_heading {\n",
       "  display: none;;\n",
       "}\n",
       "#T_44f5c  .blank {\n",
       "  display: none;;\n",
       "}\n",
       "#T_44f5c_row0_col0 {\n",
       "  text-align: left;\n",
       "  font-weight: bold;\n",
       "  font-size: 120%;\n",
       "}\n",
       "#T_44f5c_row0_col1 {\n",
       "  text-align: left;\n",
       "}\n",
       "</style>\n",
       "<table id=\"T_44f5c\">\n",
       "  <thead>\n",
       "    <tr>\n",
       "      <th class=\"blank level0\" >&nbsp;</th>\n",
       "      <th id=\"T_44f5c_level0_col0\" class=\"col_heading level0 col0\" >name</th>\n",
       "      <th id=\"T_44f5c_level0_col1\" class=\"col_heading level0 col1\" >run_book</th>\n",
       "    </tr>\n",
       "  </thead>\n",
       "  <tbody>\n",
       "    <tr>\n",
       "      <th id=\"T_44f5c_level0_row0\" class=\"row_heading level0 row0\" >0</th>\n",
       "      <td id=\"T_44f5c_row0_col0\" class=\"data row0 col0\" >primary_run_book</td>\n",
       "      <td id=\"T_44f5c_row0_col1\" class=\"data row0 col1\" >['age', 'deck', 'family', 'fare', 'is_alone', 'to_category']</td>\n",
       "    </tr>\n",
       "  </tbody>\n",
       "</table>\n"
      ],
      "text/plain": [
       "<pandas.io.formats.style.Styler at 0x7fc2639b5270>"
      ]
     },
     "execution_count": 24,
     "metadata": {},
     "output_type": "execute_result"
    }
   ],
   "source": [
    "wr.report_run_book()"
   ]
  },
  {
   "cell_type": "markdown",
   "id": "698a8734",
   "metadata": {},
   "source": [
    "## Component Pipeline"
   ]
  },
  {
   "cell_type": "markdown",
   "id": "5cfa1184-8631-4609-994e-4222645ba237",
   "metadata": {},
   "source": []
  },
  {
   "cell_type": "code",
   "execution_count": 25,
   "id": "e624e09e-ffc4-42e6-ab8f-24c1d864ded2",
   "metadata": {},
   "outputs": [],
   "source": [
    "wr.run_component_pipeline()"
   ]
  },
  {
   "cell_type": "code",
   "execution_count": 26,
   "id": "4fc263c6-d7bc-41bb-b6c2-aac18c1b42e5",
   "metadata": {},
   "outputs": [
    {
     "data": {
      "text/html": [
       "<style type=\"text/css\">\n",
       "#T_433e4 th {\n",
       "  font-size: 120%;\n",
       "  text-align: center;\n",
       "}\n",
       "#T_433e4 .row_heading {\n",
       "  display: none;;\n",
       "}\n",
       "#T_433e4  .blank {\n",
       "  display: none;;\n",
       "}\n",
       "#T_433e4_row0_col0, #T_433e4_row1_col0, #T_433e4_row2_col0, #T_433e4_row3_col0, #T_433e4_row4_col0, #T_433e4_row5_col0, #T_433e4_row6_col0, #T_433e4_row7_col0, #T_433e4_row8_col0, #T_433e4_row9_col0, #T_433e4_row10_col0, #T_433e4_row11_col0, #T_433e4_row12_col0 {\n",
       "  font-weight: bold;\n",
       "  font-size: 120%;\n",
       "}\n",
       "#T_433e4_row0_col1, #T_433e4_row5_col1 {\n",
       "  color: #2f0f8a;\n",
       "}\n",
       "#T_433e4_row0_col2, #T_433e4_row0_col3, #T_433e4_row0_col5, #T_433e4_row1_col5, #T_433e4_row2_col2, #T_433e4_row3_col2, #T_433e4_row4_col2, #T_433e4_row4_col3, #T_433e4_row5_col2, #T_433e4_row5_col3, #T_433e4_row5_col5, #T_433e4_row6_col2, #T_433e4_row6_col3, #T_433e4_row7_col2, #T_433e4_row8_col2, #T_433e4_row8_col3, #T_433e4_row9_col2, #T_433e4_row9_col3, #T_433e4_row10_col2, #T_433e4_row11_col2, #T_433e4_row11_col3, #T_433e4_row12_col2, #T_433e4_row12_col3, #T_433e4_row12_col5 {\n",
       "  color: black;\n",
       "}\n",
       "#T_433e4_row1_col1, #T_433e4_row12_col1 {\n",
       "  color: #761d38;\n",
       "}\n",
       "#T_433e4_row1_col2, #T_433e4_row1_col3, #T_433e4_row2_col3, #T_433e4_row3_col3, #T_433e4_row7_col3, #T_433e4_row10_col3 {\n",
       "  background-color: #ffede5;\n",
       "  color: black;\n",
       "}\n",
       "#T_433e4_row2_col1, #T_433e4_row3_col1, #T_433e4_row4_col1, #T_433e4_row6_col1, #T_433e4_row7_col1, #T_433e4_row8_col1, #T_433e4_row9_col1, #T_433e4_row10_col1, #T_433e4_row11_col1 {\n",
       "  color: #208a0f;\n",
       "}\n",
       "#T_433e4_row2_col5, #T_433e4_row4_col5, #T_433e4_row7_col5, #T_433e4_row10_col5 {\n",
       "  background-color: #a4da9e;\n",
       "  color: black;\n",
       "}\n",
       "#T_433e4_row3_col5, #T_433e4_row8_col5 {\n",
       "  background-color: #84cc83;\n",
       "  color: black;\n",
       "}\n",
       "#T_433e4_row6_col5, #T_433e4_row9_col5, #T_433e4_row11_col5 {\n",
       "  background-color: #a1cbe2;\n",
       "  color: black;\n",
       "}\n",
       "</style>\n",
       "<table id=\"T_433e4\">\n",
       "  <caption>%_Dom: The % most dominant element </caption>\n",
       "  <thead>\n",
       "    <tr>\n",
       "      <th class=\"blank level0\" >&nbsp;</th>\n",
       "      <th id=\"T_433e4_level0_col0\" class=\"col_heading level0 col0\" >Attributes (13)</th>\n",
       "      <th id=\"T_433e4_level0_col1\" class=\"col_heading level0 col1\" >dType</th>\n",
       "      <th id=\"T_433e4_level0_col2\" class=\"col_heading level0 col2\" >%_Null</th>\n",
       "      <th id=\"T_433e4_level0_col3\" class=\"col_heading level0 col3\" >%_Dom</th>\n",
       "      <th id=\"T_433e4_level0_col4\" class=\"col_heading level0 col4\" >Count</th>\n",
       "      <th id=\"T_433e4_level0_col5\" class=\"col_heading level0 col5\" >Unique</th>\n",
       "      <th id=\"T_433e4_level0_col6\" class=\"col_heading level0 col6\" >Observations</th>\n",
       "    </tr>\n",
       "  </thead>\n",
       "  <tbody>\n",
       "    <tr>\n",
       "      <th id=\"T_433e4_level0_row0\" class=\"row_heading level0 row0\" >0</th>\n",
       "      <td id=\"T_433e4_row0_col0\" class=\"data row0 col0\" >age</td>\n",
       "      <td id=\"T_433e4_row0_col1\" class=\"data row0 col1\" >float64</td>\n",
       "      <td id=\"T_433e4_row0_col2\" class=\"data row0 col2\" >0.0%</td>\n",
       "      <td id=\"T_433e4_row0_col3\" class=\"data row0 col3\" >3.6%</td>\n",
       "      <td id=\"T_433e4_row0_col4\" class=\"data row0 col4\" >1309</td>\n",
       "      <td id=\"T_433e4_row0_col5\" class=\"data row0 col5\" >361</td>\n",
       "      <td id=\"T_433e4_row0_col6\" class=\"data row0 col6\" >max=80.0 | min=0.1667 | mean=29.77 | dominant=24.0</td>\n",
       "    </tr>\n",
       "    <tr>\n",
       "      <th id=\"T_433e4_level0_row1\" class=\"row_heading level0 row1\" >1</th>\n",
       "      <td id=\"T_433e4_row1_col0\" class=\"data row1 col0\" >cabin</td>\n",
       "      <td id=\"T_433e4_row1_col1\" class=\"data row1 col1\" >string</td>\n",
       "      <td id=\"T_433e4_row1_col2\" class=\"data row1 col2\" >77.5%</td>\n",
       "      <td id=\"T_433e4_row1_col3\" class=\"data row1 col3\" >77.5%</td>\n",
       "      <td id=\"T_433e4_row1_col4\" class=\"data row1 col4\" >1309</td>\n",
       "      <td id=\"T_433e4_row1_col5\" class=\"data row1 col5\" >187</td>\n",
       "      <td id=\"T_433e4_row1_col6\" class=\"data row1 col6\" >Sample: C23 C25 C27 | G6 | B57 B59 B63 B66 | F4 | F33</td>\n",
       "    </tr>\n",
       "    <tr>\n",
       "      <th id=\"T_433e4_level0_row2\" class=\"row_heading level0 row2\" >2</th>\n",
       "      <td id=\"T_433e4_row2_col0\" class=\"data row2 col0\" >deck</td>\n",
       "      <td id=\"T_433e4_row2_col1\" class=\"data row2 col1\" >category</td>\n",
       "      <td id=\"T_433e4_row2_col2\" class=\"data row2 col2\" >0.0%</td>\n",
       "      <td id=\"T_433e4_row2_col3\" class=\"data row2 col3\" >77.5%</td>\n",
       "      <td id=\"T_433e4_row2_col4\" class=\"data row2 col4\" >1309</td>\n",
       "      <td id=\"T_433e4_row2_col5\" class=\"data row2 col5\" >9</td>\n",
       "      <td id=\"T_433e4_row2_col6\" class=\"data row2 col6\" >Sample: <NA> | C | B | D | E</td>\n",
       "    </tr>\n",
       "    <tr>\n",
       "      <th id=\"T_433e4_level0_row3\" class=\"row_heading level0 row3\" >3</th>\n",
       "      <td id=\"T_433e4_row3_col0\" class=\"data row3 col0\" >embarked</td>\n",
       "      <td id=\"T_433e4_row3_col1\" class=\"data row3 col1\" >category</td>\n",
       "      <td id=\"T_433e4_row3_col2\" class=\"data row3 col2\" >0.0%</td>\n",
       "      <td id=\"T_433e4_row3_col3\" class=\"data row3 col3\" >69.8%</td>\n",
       "      <td id=\"T_433e4_row3_col4\" class=\"data row3 col4\" >1309</td>\n",
       "      <td id=\"T_433e4_row3_col5\" class=\"data row3 col5\" >4</td>\n",
       "      <td id=\"T_433e4_row3_col6\" class=\"data row3 col6\" >Sample: S | C | Q | nan</td>\n",
       "    </tr>\n",
       "    <tr>\n",
       "      <th id=\"T_433e4_level0_row4\" class=\"row_heading level0 row4\" >4</th>\n",
       "      <td id=\"T_433e4_row4_col0\" class=\"data row4 col0\" >family</td>\n",
       "      <td id=\"T_433e4_row4_col1\" class=\"data row4 col1\" >category</td>\n",
       "      <td id=\"T_433e4_row4_col2\" class=\"data row4 col2\" >0.0%</td>\n",
       "      <td id=\"T_433e4_row4_col3\" class=\"data row4 col3\" >60.4%</td>\n",
       "      <td id=\"T_433e4_row4_col4\" class=\"data row4 col4\" >1309</td>\n",
       "      <td id=\"T_433e4_row4_col5\" class=\"data row4 col5\" >9</td>\n",
       "      <td id=\"T_433e4_row4_col6\" class=\"data row4 col6\" >Sample: 0 | 1 | 2 | 3 | 5</td>\n",
       "    </tr>\n",
       "    <tr>\n",
       "      <th id=\"T_433e4_level0_row5\" class=\"row_heading level0 row5\" >5</th>\n",
       "      <td id=\"T_433e4_row5_col0\" class=\"data row5 col0\" >fare</td>\n",
       "      <td id=\"T_433e4_row5_col1\" class=\"data row5 col1\" >float64</td>\n",
       "      <td id=\"T_433e4_row5_col2\" class=\"data row5 col2\" >0.0%</td>\n",
       "      <td id=\"T_433e4_row5_col3\" class=\"data row5 col3\" >4.6%</td>\n",
       "      <td id=\"T_433e4_row5_col4\" class=\"data row5 col4\" >1309</td>\n",
       "      <td id=\"T_433e4_row5_col5\" class=\"data row5 col5\" >281</td>\n",
       "      <td id=\"T_433e4_row5_col6\" class=\"data row5 col6\" >max=512.3292 | min=0.0 | mean=33.29 | dominant=8.05</td>\n",
       "    </tr>\n",
       "    <tr>\n",
       "      <th id=\"T_433e4_level0_row6\" class=\"row_heading level0 row6\" >6</th>\n",
       "      <td id=\"T_433e4_row6_col0\" class=\"data row6 col0\" >is_alone</td>\n",
       "      <td id=\"T_433e4_row6_col1\" class=\"data row6 col1\" >category</td>\n",
       "      <td id=\"T_433e4_row6_col2\" class=\"data row6 col2\" >0.0%</td>\n",
       "      <td id=\"T_433e4_row6_col3\" class=\"data row6 col3\" >60.4%</td>\n",
       "      <td id=\"T_433e4_row6_col4\" class=\"data row6 col4\" >1309</td>\n",
       "      <td id=\"T_433e4_row6_col5\" class=\"data row6 col5\" >2</td>\n",
       "      <td id=\"T_433e4_row6_col6\" class=\"data row6 col6\" >Sample: 1 | 0</td>\n",
       "    </tr>\n",
       "    <tr>\n",
       "      <th id=\"T_433e4_level0_row7\" class=\"row_heading level0 row7\" >7</th>\n",
       "      <td id=\"T_433e4_row7_col0\" class=\"data row7 col0\" >parch</td>\n",
       "      <td id=\"T_433e4_row7_col1\" class=\"data row7 col1\" >category</td>\n",
       "      <td id=\"T_433e4_row7_col2\" class=\"data row7 col2\" >0.0%</td>\n",
       "      <td id=\"T_433e4_row7_col3\" class=\"data row7 col3\" >76.5%</td>\n",
       "      <td id=\"T_433e4_row7_col4\" class=\"data row7 col4\" >1309</td>\n",
       "      <td id=\"T_433e4_row7_col5\" class=\"data row7 col5\" >8</td>\n",
       "      <td id=\"T_433e4_row7_col6\" class=\"data row7 col6\" >Sample: 0 | 1 | 2 | 3 | 4</td>\n",
       "    </tr>\n",
       "    <tr>\n",
       "      <th id=\"T_433e4_level0_row8\" class=\"row_heading level0 row8\" >8</th>\n",
       "      <td id=\"T_433e4_row8_col0\" class=\"data row8 col0\" >pclass</td>\n",
       "      <td id=\"T_433e4_row8_col1\" class=\"data row8 col1\" >category</td>\n",
       "      <td id=\"T_433e4_row8_col2\" class=\"data row8 col2\" >0.0%</td>\n",
       "      <td id=\"T_433e4_row8_col3\" class=\"data row8 col3\" >54.2%</td>\n",
       "      <td id=\"T_433e4_row8_col4\" class=\"data row8 col4\" >1309</td>\n",
       "      <td id=\"T_433e4_row8_col5\" class=\"data row8 col5\" >3</td>\n",
       "      <td id=\"T_433e4_row8_col6\" class=\"data row8 col6\" >Sample: 3 | 1 | 2</td>\n",
       "    </tr>\n",
       "    <tr>\n",
       "      <th id=\"T_433e4_level0_row9\" class=\"row_heading level0 row9\" >9</th>\n",
       "      <td id=\"T_433e4_row9_col0\" class=\"data row9 col0\" >sex</td>\n",
       "      <td id=\"T_433e4_row9_col1\" class=\"data row9 col1\" >category</td>\n",
       "      <td id=\"T_433e4_row9_col2\" class=\"data row9 col2\" >0.0%</td>\n",
       "      <td id=\"T_433e4_row9_col3\" class=\"data row9 col3\" >64.4%</td>\n",
       "      <td id=\"T_433e4_row9_col4\" class=\"data row9 col4\" >1309</td>\n",
       "      <td id=\"T_433e4_row9_col5\" class=\"data row9 col5\" >2</td>\n",
       "      <td id=\"T_433e4_row9_col6\" class=\"data row9 col6\" >Sample: male | female</td>\n",
       "    </tr>\n",
       "    <tr>\n",
       "      <th id=\"T_433e4_level0_row10\" class=\"row_heading level0 row10\" >10</th>\n",
       "      <td id=\"T_433e4_row10_col0\" class=\"data row10 col0\" >sibsp</td>\n",
       "      <td id=\"T_433e4_row10_col1\" class=\"data row10 col1\" >category</td>\n",
       "      <td id=\"T_433e4_row10_col2\" class=\"data row10 col2\" >0.0%</td>\n",
       "      <td id=\"T_433e4_row10_col3\" class=\"data row10 col3\" >68.1%</td>\n",
       "      <td id=\"T_433e4_row10_col4\" class=\"data row10 col4\" >1309</td>\n",
       "      <td id=\"T_433e4_row10_col5\" class=\"data row10 col5\" >7</td>\n",
       "      <td id=\"T_433e4_row10_col6\" class=\"data row10 col6\" >Sample: 0 | 1 | 2 | 4 | 3</td>\n",
       "    </tr>\n",
       "    <tr>\n",
       "      <th id=\"T_433e4_level0_row11\" class=\"row_heading level0 row11\" >11</th>\n",
       "      <td id=\"T_433e4_row11_col0\" class=\"data row11 col0\" >survived</td>\n",
       "      <td id=\"T_433e4_row11_col1\" class=\"data row11 col1\" >category</td>\n",
       "      <td id=\"T_433e4_row11_col2\" class=\"data row11 col2\" >0.0%</td>\n",
       "      <td id=\"T_433e4_row11_col3\" class=\"data row11 col3\" >61.8%</td>\n",
       "      <td id=\"T_433e4_row11_col4\" class=\"data row11 col4\" >1309</td>\n",
       "      <td id=\"T_433e4_row11_col5\" class=\"data row11 col5\" >2</td>\n",
       "      <td id=\"T_433e4_row11_col6\" class=\"data row11 col6\" >Sample: 0 | 1</td>\n",
       "    </tr>\n",
       "    <tr>\n",
       "      <th id=\"T_433e4_level0_row12\" class=\"row_heading level0 row12\" >12</th>\n",
       "      <td id=\"T_433e4_row12_col0\" class=\"data row12 col0\" >ticket</td>\n",
       "      <td id=\"T_433e4_row12_col1\" class=\"data row12 col1\" >string</td>\n",
       "      <td id=\"T_433e4_row12_col2\" class=\"data row12 col2\" >0.0%</td>\n",
       "      <td id=\"T_433e4_row12_col3\" class=\"data row12 col3\" >0.8%</td>\n",
       "      <td id=\"T_433e4_row12_col4\" class=\"data row12 col4\" >1309</td>\n",
       "      <td id=\"T_433e4_row12_col5\" class=\"data row12 col5\" >929</td>\n",
       "      <td id=\"T_433e4_row12_col6\" class=\"data row12 col6\" >Sample: CA. 2343 | 1601 | CA 2144 | PC 17608 | 347077</td>\n",
       "    </tr>\n",
       "  </tbody>\n",
       "</table>\n"
      ],
      "text/plain": [
       "<pandas.io.formats.style.Styler at 0x7fc2637b5510>"
      ]
     },
     "execution_count": 26,
     "metadata": {},
     "output_type": "execute_result"
    }
   ],
   "source": [
    "wr.canonical_report(wr.load_persist_canonical())"
   ]
  },
  {
   "cell_type": "code",
   "execution_count": null,
   "id": "8ed7e8bf-be7b-4d5b-8dfe-bfcef9ce037a",
   "metadata": {},
   "outputs": [],
   "source": []
  }
 ],
 "metadata": {
  "kernelspec": {
   "display_name": "Python 3 (ipykernel)",
   "language": "python",
   "name": "python3"
  },
  "language_info": {
   "codemirror_mode": {
    "name": "ipython",
    "version": 3
   },
   "file_extension": ".py",
   "mimetype": "text/x-python",
   "name": "python",
   "nbconvert_exporter": "python",
   "pygments_lexer": "ipython3",
   "version": "3.10.4"
  }
 },
 "nbformat": 4,
 "nbformat_minor": 5
}
