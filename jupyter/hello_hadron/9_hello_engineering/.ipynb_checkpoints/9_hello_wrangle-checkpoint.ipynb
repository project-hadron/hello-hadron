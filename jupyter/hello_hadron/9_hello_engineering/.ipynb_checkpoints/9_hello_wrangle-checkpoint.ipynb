{
 "cells": [
  {
   "cell_type": "markdown",
   "id": "dc1bc237",
   "metadata": {},
   "source": [
    "<cite>Darryl Oatridge, August 2022<cite>"
   ]
  },
  {
   "cell_type": "code",
   "execution_count": 1,
   "id": "77e90ce3",
   "metadata": {},
   "outputs": [],
   "source": [
    "import os"
   ]
  },
  {
   "cell_type": "code",
   "execution_count": 2,
   "id": "9f20228b",
   "metadata": {},
   "outputs": [],
   "source": [
    "os.environ['HADRON_PM_PATH'] = '../0_hello_meta/demo/contracts'\n",
    "os.environ['HADRON_DEFAULT_PATH'] = '../0_hello_meta/demo/data'"
   ]
  },
  {
   "cell_type": "markdown",
   "id": "6b7e8716",
   "metadata": {},
   "source": [
    "## Feature Engineering"
   ]
  },
  {
   "cell_type": "code",
   "execution_count": 3,
   "id": "dbf3056b",
   "metadata": {},
   "outputs": [],
   "source": [
    "from ds_discovery import Wrangle, Transition\n",
    "import numpy as np\n",
    "import pandas as pd\n",
    "import matplotlib.pyplot as plt\n",
    "import seaborn as sns"
   ]
  },
  {
   "cell_type": "code",
   "execution_count": 4,
   "id": "3599ccbc",
   "metadata": {},
   "outputs": [],
   "source": [
    "%matplotlib inline\n",
    "plt.rcParams['figure.figsize'] = 12,4"
   ]
  },
  {
   "cell_type": "code",
   "execution_count": 5,
   "id": "70b8c4a8",
   "metadata": {},
   "outputs": [],
   "source": [
    "# get the instance\n",
    "wr = Wrangle.from_env('hello_wr', has_contract=False)"
   ]
  },
  {
   "cell_type": "markdown",
   "id": "093e81aa",
   "metadata": {},
   "source": []
  },
  {
   "cell_type": "code",
   "execution_count": 6,
   "id": "9e8d2cde",
   "metadata": {},
   "outputs": [],
   "source": [
    "source = Transition.from_env('hello_tr').get_persist_contract()\n",
    "wr.set_source_contract(source)\n",
    "wr.set_persist()"
   ]
  },
  {
   "cell_type": "markdown",
   "id": "e54b40c9",
   "metadata": {},
   "source": []
  },
  {
   "cell_type": "code",
   "execution_count": 7,
   "id": "0d7df244",
   "metadata": {},
   "outputs": [],
   "source": [
    "df = wr.load_source_canonical()"
   ]
  },
  {
   "cell_type": "code",
   "execution_count": 8,
   "id": "05d93bc3",
   "metadata": {},
   "outputs": [],
   "source": [
    "df['deck'] = wr.tools.correlate_custom(df, code_str=\"@['cabin'].str[0]\", column_name='deck')\n"
   ]
  },
  {
   "cell_type": "code",
   "execution_count": 9,
   "id": "03ab2002",
   "metadata": {
    "scrolled": true
   },
   "outputs": [
    {
     "data": {
      "text/html": [
       "<style type=\"text/css\">\n",
       "#T_0940a th {\n",
       "  font-size: 120%;\n",
       "  text-align: center;\n",
       "}\n",
       "#T_0940a .row_heading {\n",
       "  display: none;;\n",
       "}\n",
       "#T_0940a  .blank {\n",
       "  display: none;;\n",
       "}\n",
       "#T_0940a_row0_col0, #T_0940a_row1_col0, #T_0940a_row2_col0, #T_0940a_row3_col0, #T_0940a_row4_col0, #T_0940a_row5_col0, #T_0940a_row6_col0, #T_0940a_row7_col0, #T_0940a_row8_col0, #T_0940a_row9_col0, #T_0940a_row10_col0 {\n",
       "  font-weight: bold;\n",
       "  font-size: 120%;\n",
       "}\n",
       "#T_0940a_row0_col1, #T_0940a_row4_col1 {\n",
       "  color: #2f0f8a;\n",
       "}\n",
       "#T_0940a_row0_col2, #T_0940a_row0_col3, #T_0940a_row1_col5, #T_0940a_row3_col2, #T_0940a_row4_col2, #T_0940a_row4_col3, #T_0940a_row4_col5, #T_0940a_row5_col2, #T_0940a_row6_col2, #T_0940a_row6_col3, #T_0940a_row7_col2, #T_0940a_row7_col3, #T_0940a_row8_col2, #T_0940a_row9_col2, #T_0940a_row9_col3, #T_0940a_row10_col2, #T_0940a_row10_col3, #T_0940a_row10_col5 {\n",
       "  color: black;\n",
       "}\n",
       "#T_0940a_row0_col5 {\n",
       "  background-color: #f0f9ed;\n",
       "  color: black;\n",
       "}\n",
       "#T_0940a_row1_col1, #T_0940a_row2_col1, #T_0940a_row10_col1 {\n",
       "  color: #761d38;\n",
       "}\n",
       "#T_0940a_row1_col2, #T_0940a_row1_col3, #T_0940a_row2_col2, #T_0940a_row2_col3, #T_0940a_row3_col3, #T_0940a_row5_col3, #T_0940a_row8_col3 {\n",
       "  background-color: #ffede5;\n",
       "  color: black;\n",
       "}\n",
       "#T_0940a_row2_col5, #T_0940a_row5_col5, #T_0940a_row8_col5 {\n",
       "  background-color: #a4da9e;\n",
       "  color: black;\n",
       "}\n",
       "#T_0940a_row3_col1, #T_0940a_row6_col1, #T_0940a_row7_col1 {\n",
       "  color: #208a0f;\n",
       "}\n",
       "#T_0940a_row3_col5, #T_0940a_row6_col5 {\n",
       "  background-color: #84cc83;\n",
       "  color: black;\n",
       "}\n",
       "#T_0940a_row5_col1, #T_0940a_row8_col1, #T_0940a_row9_col1 {\n",
       "  color: #0f398a;\n",
       "}\n",
       "#T_0940a_row7_col5, #T_0940a_row9_col5 {\n",
       "  background-color: #a1cbe2;\n",
       "  color: black;\n",
       "}\n",
       "</style>\n",
       "<table id=\"T_0940a\">\n",
       "  <caption>%_Dom: The % most dominant element </caption>\n",
       "  <thead>\n",
       "    <tr>\n",
       "      <th class=\"blank level0\" >&nbsp;</th>\n",
       "      <th id=\"T_0940a_level0_col0\" class=\"col_heading level0 col0\" >Attributes (11)</th>\n",
       "      <th id=\"T_0940a_level0_col1\" class=\"col_heading level0 col1\" >dType</th>\n",
       "      <th id=\"T_0940a_level0_col2\" class=\"col_heading level0 col2\" >%_Null</th>\n",
       "      <th id=\"T_0940a_level0_col3\" class=\"col_heading level0 col3\" >%_Dom</th>\n",
       "      <th id=\"T_0940a_level0_col4\" class=\"col_heading level0 col4\" >Count</th>\n",
       "      <th id=\"T_0940a_level0_col5\" class=\"col_heading level0 col5\" >Unique</th>\n",
       "      <th id=\"T_0940a_level0_col6\" class=\"col_heading level0 col6\" >Observations</th>\n",
       "    </tr>\n",
       "  </thead>\n",
       "  <tbody>\n",
       "    <tr>\n",
       "      <th id=\"T_0940a_level0_row0\" class=\"row_heading level0 row0\" >0</th>\n",
       "      <td id=\"T_0940a_row0_col0\" class=\"data row0 col0\" >age</td>\n",
       "      <td id=\"T_0940a_row0_col1\" class=\"data row0 col1\" >float64</td>\n",
       "      <td id=\"T_0940a_row0_col2\" class=\"data row0 col2\" >20.1%</td>\n",
       "      <td id=\"T_0940a_row0_col3\" class=\"data row0 col3\" >20.1%</td>\n",
       "      <td id=\"T_0940a_row0_col4\" class=\"data row0 col4\" >1309</td>\n",
       "      <td id=\"T_0940a_row0_col5\" class=\"data row0 col5\" >99</td>\n",
       "      <td id=\"T_0940a_row0_col6\" class=\"data row0 col6\" >max=80.0 | min=0.1667 | mean=29.88 | dominant=24.0</td>\n",
       "    </tr>\n",
       "    <tr>\n",
       "      <th id=\"T_0940a_level0_row1\" class=\"row_heading level0 row1\" >1</th>\n",
       "      <td id=\"T_0940a_row1_col0\" class=\"data row1 col0\" >cabin</td>\n",
       "      <td id=\"T_0940a_row1_col1\" class=\"data row1 col1\" >string</td>\n",
       "      <td id=\"T_0940a_row1_col2\" class=\"data row1 col2\" >77.5%</td>\n",
       "      <td id=\"T_0940a_row1_col3\" class=\"data row1 col3\" >77.5%</td>\n",
       "      <td id=\"T_0940a_row1_col4\" class=\"data row1 col4\" >1309</td>\n",
       "      <td id=\"T_0940a_row1_col5\" class=\"data row1 col5\" >187</td>\n",
       "      <td id=\"T_0940a_row1_col6\" class=\"data row1 col6\" >Sample: C23 C25 C27 | G6 | B57 B59 B63 B66 | F4 | F33</td>\n",
       "    </tr>\n",
       "    <tr>\n",
       "      <th id=\"T_0940a_level0_row2\" class=\"row_heading level0 row2\" >2</th>\n",
       "      <td id=\"T_0940a_row2_col0\" class=\"data row2 col0\" >deck</td>\n",
       "      <td id=\"T_0940a_row2_col1\" class=\"data row2 col1\" >string</td>\n",
       "      <td id=\"T_0940a_row2_col2\" class=\"data row2 col2\" >77.5%</td>\n",
       "      <td id=\"T_0940a_row2_col3\" class=\"data row2 col3\" >77.5%</td>\n",
       "      <td id=\"T_0940a_row2_col4\" class=\"data row2 col4\" >1309</td>\n",
       "      <td id=\"T_0940a_row2_col5\" class=\"data row2 col5\" >9</td>\n",
       "      <td id=\"T_0940a_row2_col6\" class=\"data row2 col6\" >Sample: C | B | D | E | A</td>\n",
       "    </tr>\n",
       "    <tr>\n",
       "      <th id=\"T_0940a_level0_row3\" class=\"row_heading level0 row3\" >3</th>\n",
       "      <td id=\"T_0940a_row3_col0\" class=\"data row3 col0\" >embarked</td>\n",
       "      <td id=\"T_0940a_row3_col1\" class=\"data row3 col1\" >category</td>\n",
       "      <td id=\"T_0940a_row3_col2\" class=\"data row3 col2\" >0.0%</td>\n",
       "      <td id=\"T_0940a_row3_col3\" class=\"data row3 col3\" >69.8%</td>\n",
       "      <td id=\"T_0940a_row3_col4\" class=\"data row3 col4\" >1309</td>\n",
       "      <td id=\"T_0940a_row3_col5\" class=\"data row3 col5\" >4</td>\n",
       "      <td id=\"T_0940a_row3_col6\" class=\"data row3 col6\" >Sample: S | C | Q | nan</td>\n",
       "    </tr>\n",
       "    <tr>\n",
       "      <th id=\"T_0940a_level0_row4\" class=\"row_heading level0 row4\" >4</th>\n",
       "      <td id=\"T_0940a_row4_col0\" class=\"data row4 col0\" >fare</td>\n",
       "      <td id=\"T_0940a_row4_col1\" class=\"data row4 col1\" >float64</td>\n",
       "      <td id=\"T_0940a_row4_col2\" class=\"data row4 col2\" >0.1%</td>\n",
       "      <td id=\"T_0940a_row4_col3\" class=\"data row4 col3\" >4.6%</td>\n",
       "      <td id=\"T_0940a_row4_col4\" class=\"data row4 col4\" >1309</td>\n",
       "      <td id=\"T_0940a_row4_col5\" class=\"data row4 col5\" >282</td>\n",
       "      <td id=\"T_0940a_row4_col6\" class=\"data row4 col6\" >max=512.3292 | min=0.0 | mean=33.3 | dominant=8.05</td>\n",
       "    </tr>\n",
       "    <tr>\n",
       "      <th id=\"T_0940a_level0_row5\" class=\"row_heading level0 row5\" >5</th>\n",
       "      <td id=\"T_0940a_row5_col0\" class=\"data row5 col0\" >parch</td>\n",
       "      <td id=\"T_0940a_row5_col1\" class=\"data row5 col1\" >int64</td>\n",
       "      <td id=\"T_0940a_row5_col2\" class=\"data row5 col2\" >0.0%</td>\n",
       "      <td id=\"T_0940a_row5_col3\" class=\"data row5 col3\" >76.5%</td>\n",
       "      <td id=\"T_0940a_row5_col4\" class=\"data row5 col4\" >1309</td>\n",
       "      <td id=\"T_0940a_row5_col5\" class=\"data row5 col5\" >8</td>\n",
       "      <td id=\"T_0940a_row5_col6\" class=\"data row5 col6\" >max=9 | min=0 | mean=0.39 | dominant=0</td>\n",
       "    </tr>\n",
       "    <tr>\n",
       "      <th id=\"T_0940a_level0_row6\" class=\"row_heading level0 row6\" >6</th>\n",
       "      <td id=\"T_0940a_row6_col0\" class=\"data row6 col0\" >pclass</td>\n",
       "      <td id=\"T_0940a_row6_col1\" class=\"data row6 col1\" >category</td>\n",
       "      <td id=\"T_0940a_row6_col2\" class=\"data row6 col2\" >0.0%</td>\n",
       "      <td id=\"T_0940a_row6_col3\" class=\"data row6 col3\" >54.2%</td>\n",
       "      <td id=\"T_0940a_row6_col4\" class=\"data row6 col4\" >1309</td>\n",
       "      <td id=\"T_0940a_row6_col5\" class=\"data row6 col5\" >3</td>\n",
       "      <td id=\"T_0940a_row6_col6\" class=\"data row6 col6\" >Sample: 3 | 1 | 2</td>\n",
       "    </tr>\n",
       "    <tr>\n",
       "      <th id=\"T_0940a_level0_row7\" class=\"row_heading level0 row7\" >7</th>\n",
       "      <td id=\"T_0940a_row7_col0\" class=\"data row7 col0\" >sex</td>\n",
       "      <td id=\"T_0940a_row7_col1\" class=\"data row7 col1\" >category</td>\n",
       "      <td id=\"T_0940a_row7_col2\" class=\"data row7 col2\" >0.0%</td>\n",
       "      <td id=\"T_0940a_row7_col3\" class=\"data row7 col3\" >64.4%</td>\n",
       "      <td id=\"T_0940a_row7_col4\" class=\"data row7 col4\" >1309</td>\n",
       "      <td id=\"T_0940a_row7_col5\" class=\"data row7 col5\" >2</td>\n",
       "      <td id=\"T_0940a_row7_col6\" class=\"data row7 col6\" >Sample: male | female</td>\n",
       "    </tr>\n",
       "    <tr>\n",
       "      <th id=\"T_0940a_level0_row8\" class=\"row_heading level0 row8\" >8</th>\n",
       "      <td id=\"T_0940a_row8_col0\" class=\"data row8 col0\" >sibsp</td>\n",
       "      <td id=\"T_0940a_row8_col1\" class=\"data row8 col1\" >int64</td>\n",
       "      <td id=\"T_0940a_row8_col2\" class=\"data row8 col2\" >0.0%</td>\n",
       "      <td id=\"T_0940a_row8_col3\" class=\"data row8 col3\" >68.1%</td>\n",
       "      <td id=\"T_0940a_row8_col4\" class=\"data row8 col4\" >1309</td>\n",
       "      <td id=\"T_0940a_row8_col5\" class=\"data row8 col5\" >7</td>\n",
       "      <td id=\"T_0940a_row8_col6\" class=\"data row8 col6\" >max=8 | min=0 | mean=0.5 | dominant=0</td>\n",
       "    </tr>\n",
       "    <tr>\n",
       "      <th id=\"T_0940a_level0_row9\" class=\"row_heading level0 row9\" >9</th>\n",
       "      <td id=\"T_0940a_row9_col0\" class=\"data row9 col0\" >survived</td>\n",
       "      <td id=\"T_0940a_row9_col1\" class=\"data row9 col1\" >int64</td>\n",
       "      <td id=\"T_0940a_row9_col2\" class=\"data row9 col2\" >0.0%</td>\n",
       "      <td id=\"T_0940a_row9_col3\" class=\"data row9 col3\" >61.8%</td>\n",
       "      <td id=\"T_0940a_row9_col4\" class=\"data row9 col4\" >1309</td>\n",
       "      <td id=\"T_0940a_row9_col5\" class=\"data row9 col5\" >2</td>\n",
       "      <td id=\"T_0940a_row9_col6\" class=\"data row9 col6\" >max=1 | min=0 | mean=0.38 | dominant=0</td>\n",
       "    </tr>\n",
       "    <tr>\n",
       "      <th id=\"T_0940a_level0_row10\" class=\"row_heading level0 row10\" >10</th>\n",
       "      <td id=\"T_0940a_row10_col0\" class=\"data row10 col0\" >ticket</td>\n",
       "      <td id=\"T_0940a_row10_col1\" class=\"data row10 col1\" >string</td>\n",
       "      <td id=\"T_0940a_row10_col2\" class=\"data row10 col2\" >0.0%</td>\n",
       "      <td id=\"T_0940a_row10_col3\" class=\"data row10 col3\" >0.8%</td>\n",
       "      <td id=\"T_0940a_row10_col4\" class=\"data row10 col4\" >1309</td>\n",
       "      <td id=\"T_0940a_row10_col5\" class=\"data row10 col5\" >929</td>\n",
       "      <td id=\"T_0940a_row10_col6\" class=\"data row10 col6\" >Sample: CA. 2343 | 1601 | CA 2144 | PC 17608 | 347077</td>\n",
       "    </tr>\n",
       "  </tbody>\n",
       "</table>\n"
      ],
      "text/plain": [
       "<pandas.io.formats.style.Styler at 0x7f7fbc1b2440>"
      ]
     },
     "execution_count": 9,
     "metadata": {},
     "output_type": "execute_result"
    }
   ],
   "source": [
    "wr.canonical_report(df)"
   ]
  },
  {
   "cell_type": "markdown",
   "id": "01206984",
   "metadata": {},
   "source": []
  },
  {
   "cell_type": "code",
   "execution_count": 10,
   "id": "b506a78f",
   "metadata": {},
   "outputs": [
    {
     "data": {
      "image/png": "[encoded data removed]",
      "text/plain": [
       "<Figure size 432x432 with 3 Axes>"
      ]
     },
     "metadata": {},
     "output_type": "display_data"
    }
   ],
   "source": [
    "# Age against Fare\n",
    "sns.set(style=\"ticks\", color_codes=True)\n",
    "g = sns.jointplot(x='fare',y='age',data=df, s=10)"
   ]
  },
  {
   "cell_type": "code",
   "execution_count": 11,
   "id": "43163aa9",
   "metadata": {},
   "outputs": [
    {
     "data": {
      "image/png": "[encoded data removed]",
      "text/plain": [
       "<Figure size 432x216 with 2 Axes>"
      ]
     },
     "metadata": {},
     "output_type": "display_data"
    }
   ],
   "source": [
    "# Age Gender distribution of survived as a hue\n",
    "sns.set(style=\"ticks\", color_codes=True)\n",
    "bins = np.arange(0, 80, 5)\n",
    "g = sns.FacetGrid(data=df, col='sex', hue='survived')\n",
    "g.map(plt.hist, 'age', bins=bins)\n",
    "plt.show(g)"
   ]
  },
  {
   "cell_type": "code",
   "execution_count": 12,
   "id": "1eb43c2c",
   "metadata": {},
   "outputs": [
    {
     "data": {
      "image/png": "[encoded data removed]",
      "text/plain": [
       "<Figure size 648x216 with 3 Axes>"
      ]
     },
     "metadata": {},
     "output_type": "display_data"
    }
   ],
   "source": [
    "# Age against class with the hue of survived\n",
    "sns.set(style=\"ticks\", color_codes=True)\n",
    "bins = np.arange(0, 80, 5)\n",
    "g = sns.FacetGrid(data=df, col='pclass', hue='survived')\n",
    "g.map(plt.hist, 'age', bins=bins)\n",
    "plt.show(g)"
   ]
  },
  {
   "cell_type": "code",
   "execution_count": 13,
   "id": "78c5ce67",
   "metadata": {
    "scrolled": false
   },
   "outputs": [
    {
     "data": {
      "image/png": "[encoded data removed]",
      "text/plain": [
       "<Figure size 765.725x360 with 8 Axes>"
      ]
     },
     "metadata": {},
     "output_type": "display_data"
    }
   ],
   "source": [
    "# Age against fair across the decks with a hueof class\n",
    "sns.set(style=\"ticks\", color_codes=True)\n",
    "g = sns.FacetGrid(data=df, col='deck', hue='pclass', col_wrap=4, height=2.5)\n",
    "g = g.map(plt.scatter, 'age', 'fare', s=15).add_legend()\n",
    "g.fig.subplots_adjust(wspace=0.1, hspace=0.4)\n",
    "plt.show(g)"
   ]
  },
  {
   "cell_type": "markdown",
   "id": "82536158",
   "metadata": {},
   "source": [
    "## Analysis"
   ]
  },
  {
   "cell_type": "code",
   "execution_count": null,
   "id": "bc360e40",
   "metadata": {},
   "outputs": [],
   "source": [
    "df2 = wr.tools"
   ]
  }
 ],
 "metadata": {
  "kernelspec": {
   "display_name": "Python 3 (ipykernel)",
   "language": "python",
   "name": "python3"
  },
  "language_info": {
   "codemirror_mode": {
    "name": "ipython",
    "version": 3
   },
   "file_extension": ".py",
   "mimetype": "text/x-python",
   "name": "python",
   "nbconvert_exporter": "python",
   "pygments_lexer": "ipython3",
   "version": "3.10.4"
  }
 },
 "nbformat": 4,
 "nbformat_minor": 5
}
