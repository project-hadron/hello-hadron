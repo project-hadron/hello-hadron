{
 "cells": [
  {
   "cell_type": "markdown",
   "id": "dc1bc237",
   "metadata": {},
   "source": [
    "<cite>Darryl Oatridge, August 2022<cite>"
   ]
  },
  {
   "cell_type": "code",
   "execution_count": 82,
   "id": "77e90ce3",
   "metadata": {},
   "outputs": [],
   "source": [
    "import os"
   ]
  },
  {
   "cell_type": "code",
   "execution_count": 83,
   "id": "9f20228b",
   "metadata": {},
   "outputs": [],
   "source": [
    "os.environ['HADRON_PM_PATH'] = '../0_hello_meta/demo/contracts'\n",
    "os.environ['HADRON_DEFAULT_PATH'] = '../0_hello_meta/demo/data'"
   ]
  },
  {
   "cell_type": "markdown",
   "id": "6b7e8716",
   "metadata": {},
   "source": [
    "## Feature Engineering"
   ]
  },
  {
   "cell_type": "code",
   "execution_count": 84,
   "id": "dbf3056b",
   "metadata": {},
   "outputs": [],
   "source": [
    "from ds_discovery import Wrangle, Transition"
   ]
  },
  {
   "cell_type": "code",
   "execution_count": 85,
   "id": "70b8c4a8",
   "metadata": {},
   "outputs": [],
   "source": [
    "# get the instance\n",
    "wr = Wrangle.from_env('hello_wr')"
   ]
  },
  {
   "cell_type": "markdown",
   "id": "e54b40c9",
   "metadata": {},
   "source": []
  },
  {
   "cell_type": "code",
   "execution_count": 86,
   "id": "0d7df244",
   "metadata": {},
   "outputs": [],
   "source": [
    "wr.run_component_pipeline()\n",
    "df = wr.load_persist_canonical()"
   ]
  },
  {
   "cell_type": "code",
   "execution_count": 87,
   "id": "03ab2002",
   "metadata": {
    "scrolled": true
   },
   "outputs": [
    {
     "data": {
      "text/html": [
       "<style type=\"text/css\">\n",
       "#T_5861e th {\n",
       "  font-size: 120%;\n",
       "  text-align: center;\n",
       "}\n",
       "#T_5861e .row_heading {\n",
       "  display: none;;\n",
       "}\n",
       "#T_5861e  .blank {\n",
       "  display: none;;\n",
       "}\n",
       "#T_5861e_row0_col0, #T_5861e_row1_col0, #T_5861e_row2_col0, #T_5861e_row3_col0, #T_5861e_row4_col0, #T_5861e_row5_col0, #T_5861e_row6_col0, #T_5861e_row7_col0, #T_5861e_row8_col0, #T_5861e_row9_col0 {\n",
       "  text-align: left;\n",
       "  font-weight: bold;\n",
       "  font-size: 120%;\n",
       "}\n",
       "#T_5861e_row0_col1, #T_5861e_row0_col2, #T_5861e_row0_col3, #T_5861e_row0_col4, #T_5861e_row1_col1, #T_5861e_row1_col2, #T_5861e_row1_col3, #T_5861e_row1_col4, #T_5861e_row2_col1, #T_5861e_row2_col2, #T_5861e_row2_col3, #T_5861e_row2_col4, #T_5861e_row3_col1, #T_5861e_row3_col2, #T_5861e_row3_col3, #T_5861e_row3_col4, #T_5861e_row4_col1, #T_5861e_row4_col2, #T_5861e_row4_col3, #T_5861e_row4_col4, #T_5861e_row5_col1, #T_5861e_row5_col2, #T_5861e_row5_col3, #T_5861e_row5_col4, #T_5861e_row6_col1, #T_5861e_row6_col2, #T_5861e_row6_col3, #T_5861e_row6_col4, #T_5861e_row7_col1, #T_5861e_row7_col2, #T_5861e_row7_col3, #T_5861e_row7_col4, #T_5861e_row8_col1, #T_5861e_row8_col2, #T_5861e_row8_col3, #T_5861e_row8_col4, #T_5861e_row9_col1, #T_5861e_row9_col2, #T_5861e_row9_col3, #T_5861e_row9_col4 {\n",
       "  text-align: left;\n",
       "}\n",
       "</style>\n",
       "<table id=\"T_5861e\">\n",
       "  <thead>\n",
       "    <tr>\n",
       "      <th class=\"blank level0\" >&nbsp;</th>\n",
       "      <th id=\"T_5861e_level0_col0\" class=\"col_heading level0 col0\" >level</th>\n",
       "      <th id=\"T_5861e_level0_col1\" class=\"col_heading level0 col1\" >order</th>\n",
       "      <th id=\"T_5861e_level0_col2\" class=\"col_heading level0 col2\" >intent</th>\n",
       "      <th id=\"T_5861e_level0_col3\" class=\"col_heading level0 col3\" >parameters</th>\n",
       "      <th id=\"T_5861e_level0_col4\" class=\"col_heading level0 col4\" >creator</th>\n",
       "    </tr>\n",
       "  </thead>\n",
       "  <tbody>\n",
       "    <tr>\n",
       "      <th id=\"T_5861e_level0_row0\" class=\"row_heading level0 row0\" >0</th>\n",
       "      <td id=\"T_5861e_row0_col0\" class=\"data row0 col0\" >age</td>\n",
       "      <td id=\"T_5861e_row0_col1\" class=\"data row0 col1\" >0</td>\n",
       "      <td id=\"T_5861e_row0_col2\" class=\"data row0 col2\" >correlate_missing_weighted</td>\n",
       "      <td id=\"T_5861e_row0_col3\" class=\"data row0 col3\" >[\"header='age'\", 'granularity=5.0', \"column_name='age'\"]</td>\n",
       "      <td id=\"T_5861e_row0_col4\" class=\"data row0 col4\" >doatridge</td>\n",
       "    </tr>\n",
       "    <tr>\n",
       "      <th id=\"T_5861e_level0_row1\" class=\"row_heading level0 row1\" >1</th>\n",
       "      <td id=\"T_5861e_row1_col0\" class=\"data row1 col0\" >deck</td>\n",
       "      <td id=\"T_5861e_row1_col1\" class=\"data row1 col1\" >0</td>\n",
       "      <td id=\"T_5861e_row1_col2\" class=\"data row1 col2\" >correlate_custom</td>\n",
       "      <td id=\"T_5861e_row1_col3\" class=\"data row1 col3\" >[\"code_str='@['cabin'].str[0]'\", \"column_name='deck'\", 'kwargs={}']</td>\n",
       "      <td id=\"T_5861e_row1_col4\" class=\"data row1 col4\" >doatridge</td>\n",
       "    </tr>\n",
       "    <tr>\n",
       "      <th id=\"T_5861e_level0_row2\" class=\"row_heading level0 row2\" >2</th>\n",
       "      <td id=\"T_5861e_row2_col0\" class=\"data row2 col0\" ></td>\n",
       "      <td id=\"T_5861e_row2_col1\" class=\"data row2 col1\" >0</td>\n",
       "      <td id=\"T_5861e_row2_col2\" class=\"data row2 col2\" >correlate_missing</td>\n",
       "      <td id=\"T_5861e_row2_col3\" class=\"data row2 col3\" >[\"header='deck'\", \"method='constant'\", \"constant='unknown'\", \"column_name='deck'\"]</td>\n",
       "      <td id=\"T_5861e_row2_col4\" class=\"data row2 col4\" >doatridge</td>\n",
       "    </tr>\n",
       "    <tr>\n",
       "      <th id=\"T_5861e_level0_row3\" class=\"row_heading level0 row3\" >3</th>\n",
       "      <td id=\"T_5861e_row3_col0\" class=\"data row3 col0\" >family</td>\n",
       "      <td id=\"T_5861e_row3_col1\" class=\"data row3 col1\" >0</td>\n",
       "      <td id=\"T_5861e_row3_col2\" class=\"data row3 col2\" >correlate_aggregate</td>\n",
       "      <td id=\"T_5861e_row3_col3\" class=\"data row3 col3\" >[\"headers=['parch', 'sibsp']\", \"agg='sum'\", \"column_name='family'\"]</td>\n",
       "      <td id=\"T_5861e_row3_col4\" class=\"data row3 col4\" >doatridge</td>\n",
       "    </tr>\n",
       "    <tr>\n",
       "      <th id=\"T_5861e_level0_row4\" class=\"row_heading level0 row4\" >4</th>\n",
       "      <td id=\"T_5861e_row4_col0\" class=\"data row4 col0\" >fare</td>\n",
       "      <td id=\"T_5861e_row4_col1\" class=\"data row4 col1\" >0</td>\n",
       "      <td id=\"T_5861e_row4_col2\" class=\"data row4 col2\" >correlate_missing</td>\n",
       "      <td id=\"T_5861e_row4_col3\" class=\"data row4 col3\" >[\"header='fare'\", \"method='random'\", \"column_name='fare'\"]</td>\n",
       "      <td id=\"T_5861e_row4_col4\" class=\"data row4 col4\" >doatridge</td>\n",
       "    </tr>\n",
       "    <tr>\n",
       "      <th id=\"T_5861e_level0_row5\" class=\"row_heading level0 row5\" >5</th>\n",
       "      <td id=\"T_5861e_row5_col0\" class=\"data row5 col0\" >impute_cabin</td>\n",
       "      <td id=\"T_5861e_row5_col1\" class=\"data row5 col1\" >0</td>\n",
       "      <td id=\"T_5861e_row5_col2\" class=\"data row5 col2\" >correlate_missing</td>\n",
       "      <td id=\"T_5861e_row5_col3\" class=\"data row5 col3\" >[\"header='cabin'\", \"method='constant'\", \"constant='unknown'\", \"column_name='impute_cabin'\"]</td>\n",
       "      <td id=\"T_5861e_row5_col4\" class=\"data row5 col4\" >doatridge</td>\n",
       "    </tr>\n",
       "    <tr>\n",
       "      <th id=\"T_5861e_level0_row6\" class=\"row_heading level0 row6\" >6</th>\n",
       "      <td id=\"T_5861e_row6_col0\" class=\"data row6 col0\" >impute_deck</td>\n",
       "      <td id=\"T_5861e_row6_col1\" class=\"data row6 col1\" >0</td>\n",
       "      <td id=\"T_5861e_row6_col2\" class=\"data row6 col2\" >correlate_missing</td>\n",
       "      <td id=\"T_5861e_row6_col3\" class=\"data row6 col3\" >[\"header='deck'\", \"method='constant'\", \"constant='unknown'\", \"column_name='impute_deck'\"]</td>\n",
       "      <td id=\"T_5861e_row6_col4\" class=\"data row6 col4\" >doatridge</td>\n",
       "    </tr>\n",
       "    <tr>\n",
       "      <th id=\"T_5861e_level0_row7\" class=\"row_heading level0 row7\" >7</th>\n",
       "      <td id=\"T_5861e_row7_col0\" class=\"data row7 col0\" >impute_fare</td>\n",
       "      <td id=\"T_5861e_row7_col1\" class=\"data row7 col1\" >0</td>\n",
       "      <td id=\"T_5861e_row7_col2\" class=\"data row7 col2\" >correlate_missing</td>\n",
       "      <td id=\"T_5861e_row7_col3\" class=\"data row7 col3\" >[\"header='fare'\", \"method='random'\", \"column_name='impute_fare'\"]</td>\n",
       "      <td id=\"T_5861e_row7_col4\" class=\"data row7 col4\" >doatridge</td>\n",
       "    </tr>\n",
       "    <tr>\n",
       "      <th id=\"T_5861e_level0_row8\" class=\"row_heading level0 row8\" >8</th>\n",
       "      <td id=\"T_5861e_row8_col0\" class=\"data row8 col0\" >is_alone</td>\n",
       "      <td id=\"T_5861e_row8_col1\" class=\"data row8 col1\" >0</td>\n",
       "      <td id=\"T_5861e_row8_col2\" class=\"data row8 col2\" >correlate_selection</td>\n",
       "      <td id=\"T_5861e_row8_col3\" class=\"data row8 col3\" >[\"selection=[{'column': 'family', 'condition': '@==0'}]\", 'action=1', 'default_action=0', \"column_name='is_alone'\"]</td>\n",
       "      <td id=\"T_5861e_row8_col4\" class=\"data row8 col4\" >doatridge</td>\n",
       "    </tr>\n",
       "    <tr>\n",
       "      <th id=\"T_5861e_level0_row9\" class=\"row_heading level0 row9\" >9</th>\n",
       "      <td id=\"T_5861e_row9_col0\" class=\"data row9 col0\" >to_category</td>\n",
       "      <td id=\"T_5861e_row9_col1\" class=\"data row9 col1\" >1</td>\n",
       "      <td id=\"T_5861e_row9_col2\" class=\"data row9 col2\" >model_to_category</td>\n",
       "      <td id=\"T_5861e_row9_col3\" class=\"data row9 col3\" >[\"headers=['family', 'deck', 'is_alone']\", \"column_name='to_category'\"]</td>\n",
       "      <td id=\"T_5861e_row9_col4\" class=\"data row9 col4\" >doatridge</td>\n",
       "    </tr>\n",
       "  </tbody>\n",
       "</table>\n"
      ],
      "text/plain": [
       "<pandas.io.formats.style.Styler at 0x7fe138651de0>"
      ]
     },
     "execution_count": 87,
     "metadata": {},
     "output_type": "execute_result"
    }
   ],
   "source": [
    "wr.report_intent()"
   ]
  },
  {
   "cell_type": "markdown",
   "id": "ca67c2a6",
   "metadata": {},
   "source": [
    "## Missing Data\n",
    "\n",
    "- Missing Completely at Random (MCAR)\n",
    "- Missing at Random (MAR)\n",
    "- Missing not at Random (MNAR)"
   ]
  },
  {
   "cell_type": "code",
   "execution_count": 88,
   "id": "38073a01",
   "metadata": {},
   "outputs": [],
   "source": [
    "df['deck'] = wr.tools.correlate_missing(df, header='deck', method='constant', constant='unknown', column_name='deck')"
   ]
  },
  {
   "cell_type": "markdown",
   "id": "c4b0ce95",
   "metadata": {},
   "source": []
  },
  {
   "cell_type": "code",
   "execution_count": 89,
   "id": "f4654893",
   "metadata": {},
   "outputs": [],
   "source": [
    "df['fare'] = wr.tools.correlate_missing(df, header='fare', method='random', column_name='fare')"
   ]
  },
  {
   "cell_type": "markdown",
   "id": "c6666d8a",
   "metadata": {},
   "source": []
  },
  {
   "cell_type": "code",
   "execution_count": 90,
   "id": "f6b0cfaf",
   "metadata": {
    "scrolled": true
   },
   "outputs": [
    {
     "data": {
      "image/png": "[encoded data removed]",
      "text/plain": [
       "<Figure size 1152x288 with 3 Axes>"
      ]
     },
     "metadata": {
      "needs_background": "light"
     },
     "output_type": "display_data"
    },
    {
     "data": {
      "text/plain": [
       "<Figure size 432x288 with 0 Axes>"
      ]
     },
     "metadata": {},
     "output_type": "display_data"
    }
   ],
   "source": [
    "wr.visual.show_distribution(df, 'fare')"
   ]
  },
  {
   "cell_type": "markdown",
   "id": "aacbc6cd",
   "metadata": {},
   "source": []
  },
  {
   "cell_type": "code",
   "execution_count": 91,
   "id": "8b960b61",
   "metadata": {},
   "outputs": [],
   "source": [
    "df['age'] = wr.tools.correlate_missing_weighted(df, header='age', granularity=5.0, column_name='age')"
   ]
  },
  {
   "cell_type": "markdown",
   "id": "6a4f5ce1",
   "metadata": {},
   "source": []
  },
  {
   "cell_type": "code",
   "execution_count": 92,
   "id": "bc10ee31",
   "metadata": {
    "scrolled": true
   },
   "outputs": [
    {
     "data": {
      "image/png": "[encoded data removed]",
      "text/plain": [
       "<Figure size 1152x288 with 3 Axes>"
      ]
     },
     "metadata": {
      "needs_background": "light"
     },
     "output_type": "display_data"
    },
    {
     "data": {
      "text/plain": [
       "<Figure size 432x288 with 0 Axes>"
      ]
     },
     "metadata": {},
     "output_type": "display_data"
    }
   ],
   "source": [
    "wr.visual.show_distribution(df, 'age')"
   ]
  },
  {
   "cell_type": "markdown",
   "id": "feccbffa",
   "metadata": {},
   "source": []
  },
  {
   "cell_type": "markdown",
   "id": "5309b64a",
   "metadata": {},
   "source": []
  },
  {
   "cell_type": "code",
   "execution_count": 94,
   "id": "3a189db8",
   "metadata": {
    "scrolled": true
   },
   "outputs": [
    {
     "data": {
      "text/html": [
       "<style type=\"text/css\">\n",
       "#T_122ad th {\n",
       "  font-size: 120%;\n",
       "  text-align: center;\n",
       "}\n",
       "#T_122ad .row_heading {\n",
       "  display: none;;\n",
       "}\n",
       "#T_122ad  .blank {\n",
       "  display: none;;\n",
       "}\n",
       "#T_122ad_row0_col0, #T_122ad_row1_col0, #T_122ad_row2_col0, #T_122ad_row3_col0, #T_122ad_row4_col0, #T_122ad_row5_col0, #T_122ad_row6_col0, #T_122ad_row7_col0, #T_122ad_row8_col0, #T_122ad_row9_col0 {\n",
       "  text-align: left;\n",
       "  font-weight: bold;\n",
       "  font-size: 120%;\n",
       "}\n",
       "#T_122ad_row0_col1, #T_122ad_row0_col2, #T_122ad_row0_col3, #T_122ad_row0_col4, #T_122ad_row1_col1, #T_122ad_row1_col2, #T_122ad_row1_col3, #T_122ad_row1_col4, #T_122ad_row2_col1, #T_122ad_row2_col2, #T_122ad_row2_col3, #T_122ad_row2_col4, #T_122ad_row3_col1, #T_122ad_row3_col2, #T_122ad_row3_col3, #T_122ad_row3_col4, #T_122ad_row4_col1, #T_122ad_row4_col2, #T_122ad_row4_col3, #T_122ad_row4_col4, #T_122ad_row5_col1, #T_122ad_row5_col2, #T_122ad_row5_col3, #T_122ad_row5_col4, #T_122ad_row6_col1, #T_122ad_row6_col2, #T_122ad_row6_col3, #T_122ad_row6_col4, #T_122ad_row7_col1, #T_122ad_row7_col2, #T_122ad_row7_col3, #T_122ad_row7_col4, #T_122ad_row8_col1, #T_122ad_row8_col2, #T_122ad_row8_col3, #T_122ad_row8_col4, #T_122ad_row9_col1, #T_122ad_row9_col2, #T_122ad_row9_col3, #T_122ad_row9_col4 {\n",
       "  text-align: left;\n",
       "}\n",
       "</style>\n",
       "<table id=\"T_122ad\">\n",
       "  <thead>\n",
       "    <tr>\n",
       "      <th class=\"blank level0\" >&nbsp;</th>\n",
       "      <th id=\"T_122ad_level0_col0\" class=\"col_heading level0 col0\" >level</th>\n",
       "      <th id=\"T_122ad_level0_col1\" class=\"col_heading level0 col1\" >order</th>\n",
       "      <th id=\"T_122ad_level0_col2\" class=\"col_heading level0 col2\" >intent</th>\n",
       "      <th id=\"T_122ad_level0_col3\" class=\"col_heading level0 col3\" >parameters</th>\n",
       "      <th id=\"T_122ad_level0_col4\" class=\"col_heading level0 col4\" >creator</th>\n",
       "    </tr>\n",
       "  </thead>\n",
       "  <tbody>\n",
       "    <tr>\n",
       "      <th id=\"T_122ad_level0_row0\" class=\"row_heading level0 row0\" >0</th>\n",
       "      <td id=\"T_122ad_row0_col0\" class=\"data row0 col0\" >age</td>\n",
       "      <td id=\"T_122ad_row0_col1\" class=\"data row0 col1\" >0</td>\n",
       "      <td id=\"T_122ad_row0_col2\" class=\"data row0 col2\" >correlate_missing_weighted</td>\n",
       "      <td id=\"T_122ad_row0_col3\" class=\"data row0 col3\" >[\"header='age'\", 'granularity=5.0', \"column_name='age'\"]</td>\n",
       "      <td id=\"T_122ad_row0_col4\" class=\"data row0 col4\" >doatridge</td>\n",
       "    </tr>\n",
       "    <tr>\n",
       "      <th id=\"T_122ad_level0_row1\" class=\"row_heading level0 row1\" >1</th>\n",
       "      <td id=\"T_122ad_row1_col0\" class=\"data row1 col0\" >deck</td>\n",
       "      <td id=\"T_122ad_row1_col1\" class=\"data row1 col1\" >0</td>\n",
       "      <td id=\"T_122ad_row1_col2\" class=\"data row1 col2\" >correlate_custom</td>\n",
       "      <td id=\"T_122ad_row1_col3\" class=\"data row1 col3\" >[\"code_str='@['cabin'].str[0]'\", \"column_name='deck'\", 'kwargs={}']</td>\n",
       "      <td id=\"T_122ad_row1_col4\" class=\"data row1 col4\" >doatridge</td>\n",
       "    </tr>\n",
       "    <tr>\n",
       "      <th id=\"T_122ad_level0_row2\" class=\"row_heading level0 row2\" >2</th>\n",
       "      <td id=\"T_122ad_row2_col0\" class=\"data row2 col0\" ></td>\n",
       "      <td id=\"T_122ad_row2_col1\" class=\"data row2 col1\" >0</td>\n",
       "      <td id=\"T_122ad_row2_col2\" class=\"data row2 col2\" >correlate_missing</td>\n",
       "      <td id=\"T_122ad_row2_col3\" class=\"data row2 col3\" >[\"header='deck'\", \"method='constant'\", \"constant='unknown'\", \"column_name='deck'\"]</td>\n",
       "      <td id=\"T_122ad_row2_col4\" class=\"data row2 col4\" >doatridge</td>\n",
       "    </tr>\n",
       "    <tr>\n",
       "      <th id=\"T_122ad_level0_row3\" class=\"row_heading level0 row3\" >3</th>\n",
       "      <td id=\"T_122ad_row3_col0\" class=\"data row3 col0\" >family</td>\n",
       "      <td id=\"T_122ad_row3_col1\" class=\"data row3 col1\" >0</td>\n",
       "      <td id=\"T_122ad_row3_col2\" class=\"data row3 col2\" >correlate_aggregate</td>\n",
       "      <td id=\"T_122ad_row3_col3\" class=\"data row3 col3\" >[\"headers=['parch', 'sibsp']\", \"agg='sum'\", \"column_name='family'\"]</td>\n",
       "      <td id=\"T_122ad_row3_col4\" class=\"data row3 col4\" >doatridge</td>\n",
       "    </tr>\n",
       "    <tr>\n",
       "      <th id=\"T_122ad_level0_row4\" class=\"row_heading level0 row4\" >4</th>\n",
       "      <td id=\"T_122ad_row4_col0\" class=\"data row4 col0\" >fare</td>\n",
       "      <td id=\"T_122ad_row4_col1\" class=\"data row4 col1\" >0</td>\n",
       "      <td id=\"T_122ad_row4_col2\" class=\"data row4 col2\" >correlate_missing</td>\n",
       "      <td id=\"T_122ad_row4_col3\" class=\"data row4 col3\" >[\"header='fare'\", \"method='random'\", \"column_name='fare'\"]</td>\n",
       "      <td id=\"T_122ad_row4_col4\" class=\"data row4 col4\" >doatridge</td>\n",
       "    </tr>\n",
       "    <tr>\n",
       "      <th id=\"T_122ad_level0_row5\" class=\"row_heading level0 row5\" >5</th>\n",
       "      <td id=\"T_122ad_row5_col0\" class=\"data row5 col0\" >impute_cabin</td>\n",
       "      <td id=\"T_122ad_row5_col1\" class=\"data row5 col1\" >0</td>\n",
       "      <td id=\"T_122ad_row5_col2\" class=\"data row5 col2\" >correlate_missing</td>\n",
       "      <td id=\"T_122ad_row5_col3\" class=\"data row5 col3\" >[\"header='cabin'\", \"method='constant'\", \"constant='unknown'\", \"column_name='impute_cabin'\"]</td>\n",
       "      <td id=\"T_122ad_row5_col4\" class=\"data row5 col4\" >doatridge</td>\n",
       "    </tr>\n",
       "    <tr>\n",
       "      <th id=\"T_122ad_level0_row6\" class=\"row_heading level0 row6\" >6</th>\n",
       "      <td id=\"T_122ad_row6_col0\" class=\"data row6 col0\" >impute_deck</td>\n",
       "      <td id=\"T_122ad_row6_col1\" class=\"data row6 col1\" >0</td>\n",
       "      <td id=\"T_122ad_row6_col2\" class=\"data row6 col2\" >correlate_missing</td>\n",
       "      <td id=\"T_122ad_row6_col3\" class=\"data row6 col3\" >[\"header='deck'\", \"method='constant'\", \"constant='unknown'\", \"column_name='impute_deck'\"]</td>\n",
       "      <td id=\"T_122ad_row6_col4\" class=\"data row6 col4\" >doatridge</td>\n",
       "    </tr>\n",
       "    <tr>\n",
       "      <th id=\"T_122ad_level0_row7\" class=\"row_heading level0 row7\" >7</th>\n",
       "      <td id=\"T_122ad_row7_col0\" class=\"data row7 col0\" >impute_fare</td>\n",
       "      <td id=\"T_122ad_row7_col1\" class=\"data row7 col1\" >0</td>\n",
       "      <td id=\"T_122ad_row7_col2\" class=\"data row7 col2\" >correlate_missing</td>\n",
       "      <td id=\"T_122ad_row7_col3\" class=\"data row7 col3\" >[\"header='fare'\", \"method='random'\", \"column_name='impute_fare'\"]</td>\n",
       "      <td id=\"T_122ad_row7_col4\" class=\"data row7 col4\" >doatridge</td>\n",
       "    </tr>\n",
       "    <tr>\n",
       "      <th id=\"T_122ad_level0_row8\" class=\"row_heading level0 row8\" >8</th>\n",
       "      <td id=\"T_122ad_row8_col0\" class=\"data row8 col0\" >is_alone</td>\n",
       "      <td id=\"T_122ad_row8_col1\" class=\"data row8 col1\" >0</td>\n",
       "      <td id=\"T_122ad_row8_col2\" class=\"data row8 col2\" >correlate_selection</td>\n",
       "      <td id=\"T_122ad_row8_col3\" class=\"data row8 col3\" >[\"selection=[{'column': 'family', 'condition': '@==0'}]\", 'action=1', 'default_action=0', \"column_name='is_alone'\"]</td>\n",
       "      <td id=\"T_122ad_row8_col4\" class=\"data row8 col4\" >doatridge</td>\n",
       "    </tr>\n",
       "    <tr>\n",
       "      <th id=\"T_122ad_level0_row9\" class=\"row_heading level0 row9\" >9</th>\n",
       "      <td id=\"T_122ad_row9_col0\" class=\"data row9 col0\" >to_category</td>\n",
       "      <td id=\"T_122ad_row9_col1\" class=\"data row9 col1\" >1</td>\n",
       "      <td id=\"T_122ad_row9_col2\" class=\"data row9 col2\" >model_to_category</td>\n",
       "      <td id=\"T_122ad_row9_col3\" class=\"data row9 col3\" >[\"headers=['family', 'deck', 'is_alone', 'deck']\", \"column_name='to_category'\"]</td>\n",
       "      <td id=\"T_122ad_row9_col4\" class=\"data row9 col4\" >doatridge</td>\n",
       "    </tr>\n",
       "  </tbody>\n",
       "</table>\n"
      ],
      "text/plain": [
       "<pandas.io.formats.style.Styler at 0x7fe119af2080>"
      ]
     },
     "execution_count": 94,
     "metadata": {},
     "output_type": "execute_result"
    }
   ],
   "source": [
    "wr.report_intent()"
   ]
  },
  {
   "cell_type": "markdown",
   "id": "74a14ef9",
   "metadata": {},
   "source": [
    "## Component Pipeline"
   ]
  },
  {
   "cell_type": "markdown",
   "id": "26e74643",
   "metadata": {},
   "source": []
  },
  {
   "cell_type": "code",
   "execution_count": 95,
   "id": "fc3525c1",
   "metadata": {},
   "outputs": [],
   "source": [
    "wr.run_component_pipeline()"
   ]
  },
  {
   "cell_type": "code",
   "execution_count": 96,
   "id": "455b9ab5",
   "metadata": {},
   "outputs": [
    {
     "data": {
      "text/html": [
       "<style type=\"text/css\">\n",
       "#T_818ef th {\n",
       "  font-size: 120%;\n",
       "  text-align: center;\n",
       "}\n",
       "#T_818ef .row_heading {\n",
       "  display: none;;\n",
       "}\n",
       "#T_818ef  .blank {\n",
       "  display: none;;\n",
       "}\n",
       "#T_818ef_row0_col0, #T_818ef_row1_col0, #T_818ef_row2_col0, #T_818ef_row3_col0, #T_818ef_row4_col0, #T_818ef_row5_col0, #T_818ef_row6_col0, #T_818ef_row7_col0, #T_818ef_row8_col0, #T_818ef_row9_col0, #T_818ef_row10_col0, #T_818ef_row11_col0, #T_818ef_row12_col0, #T_818ef_row13_col0, #T_818ef_row14_col0, #T_818ef_row15_col0 {\n",
       "  font-weight: bold;\n",
       "  font-size: 120%;\n",
       "}\n",
       "#T_818ef_row0_col1, #T_818ef_row5_col1, #T_818ef_row8_col1 {\n",
       "  color: #2f0f8a;\n",
       "}\n",
       "#T_818ef_row0_col2, #T_818ef_row0_col3, #T_818ef_row0_col5, #T_818ef_row1_col5, #T_818ef_row2_col2, #T_818ef_row3_col2, #T_818ef_row4_col2, #T_818ef_row4_col3, #T_818ef_row5_col2, #T_818ef_row5_col3, #T_818ef_row5_col5, #T_818ef_row6_col2, #T_818ef_row6_col5, #T_818ef_row7_col2, #T_818ef_row8_col2, #T_818ef_row8_col3, #T_818ef_row8_col5, #T_818ef_row9_col2, #T_818ef_row9_col3, #T_818ef_row10_col2, #T_818ef_row11_col2, #T_818ef_row11_col3, #T_818ef_row12_col2, #T_818ef_row12_col3, #T_818ef_row13_col2, #T_818ef_row14_col2, #T_818ef_row14_col3, #T_818ef_row15_col2, #T_818ef_row15_col3, #T_818ef_row15_col5 {\n",
       "  color: black;\n",
       "}\n",
       "#T_818ef_row1_col1, #T_818ef_row15_col1 {\n",
       "  color: #761d38;\n",
       "}\n",
       "#T_818ef_row1_col2, #T_818ef_row1_col3, #T_818ef_row2_col3, #T_818ef_row3_col3, #T_818ef_row6_col3, #T_818ef_row7_col3, #T_818ef_row10_col3, #T_818ef_row13_col3 {\n",
       "  background-color: #ffede5;\n",
       "  color: black;\n",
       "}\n",
       "#T_818ef_row2_col5, #T_818ef_row4_col5, #T_818ef_row7_col5, #T_818ef_row10_col5, #T_818ef_row13_col5 {\n",
       "  background-color: #a4da9e;\n",
       "  color: black;\n",
       "}\n",
       "#T_818ef_row3_col1, #T_818ef_row10_col1, #T_818ef_row11_col1, #T_818ef_row12_col1, #T_818ef_row13_col1, #T_818ef_row14_col1 {\n",
       "  color: #208a0f;\n",
       "}\n",
       "#T_818ef_row3_col5, #T_818ef_row11_col5 {\n",
       "  background-color: #84cc83;\n",
       "  color: black;\n",
       "}\n",
       "#T_818ef_row4_col1, #T_818ef_row9_col1 {\n",
       "  color: #0f398a;\n",
       "}\n",
       "#T_818ef_row9_col5, #T_818ef_row12_col5, #T_818ef_row14_col5 {\n",
       "  background-color: #a1cbe2;\n",
       "  color: black;\n",
       "}\n",
       "</style>\n",
       "<table id=\"T_818ef\">\n",
       "  <caption>%_Dom: The % most dominant element </caption>\n",
       "  <thead>\n",
       "    <tr>\n",
       "      <th class=\"blank level0\" >&nbsp;</th>\n",
       "      <th id=\"T_818ef_level0_col0\" class=\"col_heading level0 col0\" >Attributes (16)</th>\n",
       "      <th id=\"T_818ef_level0_col1\" class=\"col_heading level0 col1\" >dType</th>\n",
       "      <th id=\"T_818ef_level0_col2\" class=\"col_heading level0 col2\" >%_Null</th>\n",
       "      <th id=\"T_818ef_level0_col3\" class=\"col_heading level0 col3\" >%_Dom</th>\n",
       "      <th id=\"T_818ef_level0_col4\" class=\"col_heading level0 col4\" >Count</th>\n",
       "      <th id=\"T_818ef_level0_col5\" class=\"col_heading level0 col5\" >Unique</th>\n",
       "      <th id=\"T_818ef_level0_col6\" class=\"col_heading level0 col6\" >Observations</th>\n",
       "    </tr>\n",
       "  </thead>\n",
       "  <tbody>\n",
       "    <tr>\n",
       "      <th id=\"T_818ef_level0_row0\" class=\"row_heading level0 row0\" >0</th>\n",
       "      <td id=\"T_818ef_row0_col0\" class=\"data row0 col0\" >age</td>\n",
       "      <td id=\"T_818ef_row0_col1\" class=\"data row0 col1\" >float64</td>\n",
       "      <td id=\"T_818ef_row0_col2\" class=\"data row0 col2\" >0.0%</td>\n",
       "      <td id=\"T_818ef_row0_col3\" class=\"data row0 col3\" >3.6%</td>\n",
       "      <td id=\"T_818ef_row0_col4\" class=\"data row0 col4\" >1309</td>\n",
       "      <td id=\"T_818ef_row0_col5\" class=\"data row0 col5\" >350</td>\n",
       "      <td id=\"T_818ef_row0_col6\" class=\"data row0 col6\" >max=80.0 | min=0.1667 | mean=29.77 | dominant=24.0</td>\n",
       "    </tr>\n",
       "    <tr>\n",
       "      <th id=\"T_818ef_level0_row1\" class=\"row_heading level0 row1\" >1</th>\n",
       "      <td id=\"T_818ef_row1_col0\" class=\"data row1 col0\" >cabin</td>\n",
       "      <td id=\"T_818ef_row1_col1\" class=\"data row1 col1\" >string</td>\n",
       "      <td id=\"T_818ef_row1_col2\" class=\"data row1 col2\" >77.5%</td>\n",
       "      <td id=\"T_818ef_row1_col3\" class=\"data row1 col3\" >77.5%</td>\n",
       "      <td id=\"T_818ef_row1_col4\" class=\"data row1 col4\" >1309</td>\n",
       "      <td id=\"T_818ef_row1_col5\" class=\"data row1 col5\" >187</td>\n",
       "      <td id=\"T_818ef_row1_col6\" class=\"data row1 col6\" >Sample: C23 C25 C27 | G6 | B57 B59 B63 B66 | F4 | F33</td>\n",
       "    </tr>\n",
       "    <tr>\n",
       "      <th id=\"T_818ef_level0_row2\" class=\"row_heading level0 row2\" >2</th>\n",
       "      <td id=\"T_818ef_row2_col0\" class=\"data row2 col0\" >deck</td>\n",
       "      <td id=\"T_818ef_row2_col1\" class=\"data row2 col1\" >object</td>\n",
       "      <td id=\"T_818ef_row2_col2\" class=\"data row2 col2\" >0.0%</td>\n",
       "      <td id=\"T_818ef_row2_col3\" class=\"data row2 col3\" >77.5%</td>\n",
       "      <td id=\"T_818ef_row2_col4\" class=\"data row2 col4\" >1309</td>\n",
       "      <td id=\"T_818ef_row2_col5\" class=\"data row2 col5\" >9</td>\n",
       "      <td id=\"T_818ef_row2_col6\" class=\"data row2 col6\" >Sample: unknown | C | B | D | E</td>\n",
       "    </tr>\n",
       "    <tr>\n",
       "      <th id=\"T_818ef_level0_row3\" class=\"row_heading level0 row3\" >3</th>\n",
       "      <td id=\"T_818ef_row3_col0\" class=\"data row3 col0\" >embarked</td>\n",
       "      <td id=\"T_818ef_row3_col1\" class=\"data row3 col1\" >category</td>\n",
       "      <td id=\"T_818ef_row3_col2\" class=\"data row3 col2\" >0.0%</td>\n",
       "      <td id=\"T_818ef_row3_col3\" class=\"data row3 col3\" >69.8%</td>\n",
       "      <td id=\"T_818ef_row3_col4\" class=\"data row3 col4\" >1309</td>\n",
       "      <td id=\"T_818ef_row3_col5\" class=\"data row3 col5\" >4</td>\n",
       "      <td id=\"T_818ef_row3_col6\" class=\"data row3 col6\" >Sample: S | C | Q | nan</td>\n",
       "    </tr>\n",
       "    <tr>\n",
       "      <th id=\"T_818ef_level0_row4\" class=\"row_heading level0 row4\" >4</th>\n",
       "      <td id=\"T_818ef_row4_col0\" class=\"data row4 col0\" >family</td>\n",
       "      <td id=\"T_818ef_row4_col1\" class=\"data row4 col1\" >int64</td>\n",
       "      <td id=\"T_818ef_row4_col2\" class=\"data row4 col2\" >0.0%</td>\n",
       "      <td id=\"T_818ef_row4_col3\" class=\"data row4 col3\" >60.4%</td>\n",
       "      <td id=\"T_818ef_row4_col4\" class=\"data row4 col4\" >1309</td>\n",
       "      <td id=\"T_818ef_row4_col5\" class=\"data row4 col5\" >9</td>\n",
       "      <td id=\"T_818ef_row4_col6\" class=\"data row4 col6\" >max=10 | min=0 | mean=0.88 | dominant=0</td>\n",
       "    </tr>\n",
       "    <tr>\n",
       "      <th id=\"T_818ef_level0_row5\" class=\"row_heading level0 row5\" >5</th>\n",
       "      <td id=\"T_818ef_row5_col0\" class=\"data row5 col0\" >fare</td>\n",
       "      <td id=\"T_818ef_row5_col1\" class=\"data row5 col1\" >float64</td>\n",
       "      <td id=\"T_818ef_row5_col2\" class=\"data row5 col2\" >0.0%</td>\n",
       "      <td id=\"T_818ef_row5_col3\" class=\"data row5 col3\" >4.6%</td>\n",
       "      <td id=\"T_818ef_row5_col4\" class=\"data row5 col4\" >1309</td>\n",
       "      <td id=\"T_818ef_row5_col5\" class=\"data row5 col5\" >281</td>\n",
       "      <td id=\"T_818ef_row5_col6\" class=\"data row5 col6\" >max=512.3292 | min=0.0 | mean=33.29 | dominant=8.05</td>\n",
       "    </tr>\n",
       "    <tr>\n",
       "      <th id=\"T_818ef_level0_row6\" class=\"row_heading level0 row6\" >6</th>\n",
       "      <td id=\"T_818ef_row6_col0\" class=\"data row6 col0\" >impute_cabin</td>\n",
       "      <td id=\"T_818ef_row6_col1\" class=\"data row6 col1\" >object</td>\n",
       "      <td id=\"T_818ef_row6_col2\" class=\"data row6 col2\" >0.0%</td>\n",
       "      <td id=\"T_818ef_row6_col3\" class=\"data row6 col3\" >77.5%</td>\n",
       "      <td id=\"T_818ef_row6_col4\" class=\"data row6 col4\" >1309</td>\n",
       "      <td id=\"T_818ef_row6_col5\" class=\"data row6 col5\" >187</td>\n",
       "      <td id=\"T_818ef_row6_col6\" class=\"data row6 col6\" >Sample: unknown | C23 C25 C27 | G6 | B57 B59 B63 B66 | C22 C26</td>\n",
       "    </tr>\n",
       "    <tr>\n",
       "      <th id=\"T_818ef_level0_row7\" class=\"row_heading level0 row7\" >7</th>\n",
       "      <td id=\"T_818ef_row7_col0\" class=\"data row7 col0\" >impute_deck</td>\n",
       "      <td id=\"T_818ef_row7_col1\" class=\"data row7 col1\" >object</td>\n",
       "      <td id=\"T_818ef_row7_col2\" class=\"data row7 col2\" >0.0%</td>\n",
       "      <td id=\"T_818ef_row7_col3\" class=\"data row7 col3\" >77.5%</td>\n",
       "      <td id=\"T_818ef_row7_col4\" class=\"data row7 col4\" >1309</td>\n",
       "      <td id=\"T_818ef_row7_col5\" class=\"data row7 col5\" >9</td>\n",
       "      <td id=\"T_818ef_row7_col6\" class=\"data row7 col6\" >Sample: unknown | C | B | D | E</td>\n",
       "    </tr>\n",
       "    <tr>\n",
       "      <th id=\"T_818ef_level0_row8\" class=\"row_heading level0 row8\" >8</th>\n",
       "      <td id=\"T_818ef_row8_col0\" class=\"data row8 col0\" >impute_fare</td>\n",
       "      <td id=\"T_818ef_row8_col1\" class=\"data row8 col1\" >float64</td>\n",
       "      <td id=\"T_818ef_row8_col2\" class=\"data row8 col2\" >0.0%</td>\n",
       "      <td id=\"T_818ef_row8_col3\" class=\"data row8 col3\" >4.6%</td>\n",
       "      <td id=\"T_818ef_row8_col4\" class=\"data row8 col4\" >1309</td>\n",
       "      <td id=\"T_818ef_row8_col5\" class=\"data row8 col5\" >281</td>\n",
       "      <td id=\"T_818ef_row8_col6\" class=\"data row8 col6\" >max=512.3292 | min=0.0 | mean=33.29 | dominant=8.05</td>\n",
       "    </tr>\n",
       "    <tr>\n",
       "      <th id=\"T_818ef_level0_row9\" class=\"row_heading level0 row9\" >9</th>\n",
       "      <td id=\"T_818ef_row9_col0\" class=\"data row9 col0\" >is_alone</td>\n",
       "      <td id=\"T_818ef_row9_col1\" class=\"data row9 col1\" >int64</td>\n",
       "      <td id=\"T_818ef_row9_col2\" class=\"data row9 col2\" >0.0%</td>\n",
       "      <td id=\"T_818ef_row9_col3\" class=\"data row9 col3\" >60.4%</td>\n",
       "      <td id=\"T_818ef_row9_col4\" class=\"data row9 col4\" >1309</td>\n",
       "      <td id=\"T_818ef_row9_col5\" class=\"data row9 col5\" >2</td>\n",
       "      <td id=\"T_818ef_row9_col6\" class=\"data row9 col6\" >max=1 | min=0 | mean=0.6 | dominant=1</td>\n",
       "    </tr>\n",
       "    <tr>\n",
       "      <th id=\"T_818ef_level0_row10\" class=\"row_heading level0 row10\" >10</th>\n",
       "      <td id=\"T_818ef_row10_col0\" class=\"data row10 col0\" >parch</td>\n",
       "      <td id=\"T_818ef_row10_col1\" class=\"data row10 col1\" >category</td>\n",
       "      <td id=\"T_818ef_row10_col2\" class=\"data row10 col2\" >0.0%</td>\n",
       "      <td id=\"T_818ef_row10_col3\" class=\"data row10 col3\" >76.5%</td>\n",
       "      <td id=\"T_818ef_row10_col4\" class=\"data row10 col4\" >1309</td>\n",
       "      <td id=\"T_818ef_row10_col5\" class=\"data row10 col5\" >8</td>\n",
       "      <td id=\"T_818ef_row10_col6\" class=\"data row10 col6\" >Sample: 0 | 1 | 2 | 3 | 4</td>\n",
       "    </tr>\n",
       "    <tr>\n",
       "      <th id=\"T_818ef_level0_row11\" class=\"row_heading level0 row11\" >11</th>\n",
       "      <td id=\"T_818ef_row11_col0\" class=\"data row11 col0\" >pclass</td>\n",
       "      <td id=\"T_818ef_row11_col1\" class=\"data row11 col1\" >category</td>\n",
       "      <td id=\"T_818ef_row11_col2\" class=\"data row11 col2\" >0.0%</td>\n",
       "      <td id=\"T_818ef_row11_col3\" class=\"data row11 col3\" >54.2%</td>\n",
       "      <td id=\"T_818ef_row11_col4\" class=\"data row11 col4\" >1309</td>\n",
       "      <td id=\"T_818ef_row11_col5\" class=\"data row11 col5\" >3</td>\n",
       "      <td id=\"T_818ef_row11_col6\" class=\"data row11 col6\" >Sample: 3 | 1 | 2</td>\n",
       "    </tr>\n",
       "    <tr>\n",
       "      <th id=\"T_818ef_level0_row12\" class=\"row_heading level0 row12\" >12</th>\n",
       "      <td id=\"T_818ef_row12_col0\" class=\"data row12 col0\" >sex</td>\n",
       "      <td id=\"T_818ef_row12_col1\" class=\"data row12 col1\" >category</td>\n",
       "      <td id=\"T_818ef_row12_col2\" class=\"data row12 col2\" >0.0%</td>\n",
       "      <td id=\"T_818ef_row12_col3\" class=\"data row12 col3\" >64.4%</td>\n",
       "      <td id=\"T_818ef_row12_col4\" class=\"data row12 col4\" >1309</td>\n",
       "      <td id=\"T_818ef_row12_col5\" class=\"data row12 col5\" >2</td>\n",
       "      <td id=\"T_818ef_row12_col6\" class=\"data row12 col6\" >Sample: male | female</td>\n",
       "    </tr>\n",
       "    <tr>\n",
       "      <th id=\"T_818ef_level0_row13\" class=\"row_heading level0 row13\" >13</th>\n",
       "      <td id=\"T_818ef_row13_col0\" class=\"data row13 col0\" >sibsp</td>\n",
       "      <td id=\"T_818ef_row13_col1\" class=\"data row13 col1\" >category</td>\n",
       "      <td id=\"T_818ef_row13_col2\" class=\"data row13 col2\" >0.0%</td>\n",
       "      <td id=\"T_818ef_row13_col3\" class=\"data row13 col3\" >68.1%</td>\n",
       "      <td id=\"T_818ef_row13_col4\" class=\"data row13 col4\" >1309</td>\n",
       "      <td id=\"T_818ef_row13_col5\" class=\"data row13 col5\" >7</td>\n",
       "      <td id=\"T_818ef_row13_col6\" class=\"data row13 col6\" >Sample: 0 | 1 | 2 | 4 | 3</td>\n",
       "    </tr>\n",
       "    <tr>\n",
       "      <th id=\"T_818ef_level0_row14\" class=\"row_heading level0 row14\" >14</th>\n",
       "      <td id=\"T_818ef_row14_col0\" class=\"data row14 col0\" >survived</td>\n",
       "      <td id=\"T_818ef_row14_col1\" class=\"data row14 col1\" >category</td>\n",
       "      <td id=\"T_818ef_row14_col2\" class=\"data row14 col2\" >0.0%</td>\n",
       "      <td id=\"T_818ef_row14_col3\" class=\"data row14 col3\" >61.8%</td>\n",
       "      <td id=\"T_818ef_row14_col4\" class=\"data row14 col4\" >1309</td>\n",
       "      <td id=\"T_818ef_row14_col5\" class=\"data row14 col5\" >2</td>\n",
       "      <td id=\"T_818ef_row14_col6\" class=\"data row14 col6\" >Sample: 0 | 1</td>\n",
       "    </tr>\n",
       "    <tr>\n",
       "      <th id=\"T_818ef_level0_row15\" class=\"row_heading level0 row15\" >15</th>\n",
       "      <td id=\"T_818ef_row15_col0\" class=\"data row15 col0\" >ticket</td>\n",
       "      <td id=\"T_818ef_row15_col1\" class=\"data row15 col1\" >string</td>\n",
       "      <td id=\"T_818ef_row15_col2\" class=\"data row15 col2\" >0.0%</td>\n",
       "      <td id=\"T_818ef_row15_col3\" class=\"data row15 col3\" >0.8%</td>\n",
       "      <td id=\"T_818ef_row15_col4\" class=\"data row15 col4\" >1309</td>\n",
       "      <td id=\"T_818ef_row15_col5\" class=\"data row15 col5\" >929</td>\n",
       "      <td id=\"T_818ef_row15_col6\" class=\"data row15 col6\" >Sample: CA. 2343 | 1601 | CA 2144 | PC 17608 | 347077</td>\n",
       "    </tr>\n",
       "  </tbody>\n",
       "</table>\n"
      ],
      "text/plain": [
       "<pandas.io.formats.style.Styler at 0x7fe119b15840>"
      ]
     },
     "execution_count": 96,
     "metadata": {},
     "output_type": "execute_result"
    }
   ],
   "source": [
    "wr.canonical_report(wr.load_persist_canonical())"
   ]
  },
  {
   "cell_type": "code",
   "execution_count": null,
   "id": "d2204611",
   "metadata": {},
   "outputs": [],
   "source": []
  }
 ],
 "metadata": {
  "kernelspec": {
   "display_name": "Python 3 (ipykernel)",
   "language": "python",
   "name": "python3"
  },
  "language_info": {
   "codemirror_mode": {
    "name": "ipython",
    "version": 3
   },
   "file_extension": ".py",
   "mimetype": "text/x-python",
   "name": "python",
   "nbconvert_exporter": "python",
   "pygments_lexer": "ipython3",
   "version": "3.10.4"
  }
 },
 "nbformat": 4,
 "nbformat_minor": 5
}
