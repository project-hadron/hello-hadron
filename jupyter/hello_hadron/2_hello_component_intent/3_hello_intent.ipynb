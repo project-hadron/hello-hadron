{
 "cells": [
  {
   "cell_type": "markdown",
   "id": "dc1bc237",
   "metadata": {},
   "source": [
    "<cite>Darryl Oatridge, August 2022<cite>"
   ]
  },
  {
   "cell_type": "code",
   "execution_count": 1,
   "id": "77e90ce3",
   "metadata": {},
   "outputs": [],
   "source": [
    "import os"
   ]
  },
  {
   "cell_type": "code",
   "execution_count": 2,
   "id": "9f20228b",
   "metadata": {},
   "outputs": [],
   "source": [
    "os.environ['HADRON_PM_PATH'] = '../0_hello_meta/demo/contracts'\n",
    "os.environ['HADRON_DEFAULT_PATH'] = '../0_hello_meta/demo/data'"
   ]
  },
  {
   "cell_type": "markdown",
   "id": "6b7e8716",
   "metadata": {},
   "source": []
  },
  {
   "cell_type": "code",
   "execution_count": 3,
   "id": "dbf3056b",
   "metadata": {},
   "outputs": [],
   "source": [
    "from ds_discovery import Transition"
   ]
  },
  {
   "cell_type": "code",
   "execution_count": 4,
   "id": "70b8c4a8",
   "metadata": {},
   "outputs": [],
   "source": [
    "# get the instance\n",
    "tr = Transition.from_env('hello_tr')"
   ]
  },
  {
   "cell_type": "markdown",
   "id": "e54b40c9",
   "metadata": {},
   "source": []
  },
  {
   "cell_type": "code",
   "execution_count": 5,
   "id": "f16b73e6",
   "metadata": {
    "scrolled": true
   },
   "outputs": [
    {
     "data": {
      "text/html": [
       "<style type=\"text/css\">\n",
       "#T_a2d34 th {\n",
       "  font-size: 120%;\n",
       "  text-align: center;\n",
       "}\n",
       "#T_a2d34 .row_heading {\n",
       "  display: none;;\n",
       "}\n",
       "#T_a2d34  .blank {\n",
       "  display: none;;\n",
       "}\n",
       "#T_a2d34_row0_col0, #T_a2d34_row1_col0, #T_a2d34_row2_col0, #T_a2d34_row3_col0, #T_a2d34_row4_col0 {\n",
       "  text-align: left;\n",
       "  font-weight: bold;\n",
       "  font-size: 120%;\n",
       "}\n",
       "#T_a2d34_row0_col1, #T_a2d34_row0_col2, #T_a2d34_row0_col3, #T_a2d34_row0_col4, #T_a2d34_row1_col1, #T_a2d34_row1_col2, #T_a2d34_row1_col3, #T_a2d34_row1_col4, #T_a2d34_row2_col1, #T_a2d34_row2_col2, #T_a2d34_row2_col3, #T_a2d34_row2_col4, #T_a2d34_row3_col1, #T_a2d34_row3_col2, #T_a2d34_row3_col3, #T_a2d34_row3_col4, #T_a2d34_row4_col1, #T_a2d34_row4_col2, #T_a2d34_row4_col3, #T_a2d34_row4_col4 {\n",
       "  text-align: left;\n",
       "}\n",
       "</style>\n",
       "<table id=\"T_a2d34\">\n",
       "  <thead>\n",
       "    <tr>\n",
       "      <th class=\"blank level0\" >&nbsp;</th>\n",
       "      <th id=\"T_a2d34_level0_col0\" class=\"col_heading level0 col0\" >level</th>\n",
       "      <th id=\"T_a2d34_level0_col1\" class=\"col_heading level0 col1\" >order</th>\n",
       "      <th id=\"T_a2d34_level0_col2\" class=\"col_heading level0 col2\" >intent</th>\n",
       "      <th id=\"T_a2d34_level0_col3\" class=\"col_heading level0 col3\" >parameters</th>\n",
       "      <th id=\"T_a2d34_level0_col4\" class=\"col_heading level0 col4\" >creator</th>\n",
       "    </tr>\n",
       "  </thead>\n",
       "  <tbody>\n",
       "    <tr>\n",
       "      <th id=\"T_a2d34_level0_row0\" class=\"row_heading level0 row0\" >0</th>\n",
       "      <td id=\"T_a2d34_row0_col0\" class=\"data row0 col0\" >base</td>\n",
       "      <td id=\"T_a2d34_row0_col1\" class=\"data row0 col1\" >0</td>\n",
       "      <td id=\"T_a2d34_row0_col2\" class=\"data row0 col2\" >auto_reinstate_nulls</td>\n",
       "      <td id=\"T_a2d34_row0_col3\" class=\"data row0 col3\" >[\"nulls_list=['?']\"]</td>\n",
       "      <td id=\"T_a2d34_row0_col4\" class=\"data row0 col4\" >doatridge</td>\n",
       "    </tr>\n",
       "    <tr>\n",
       "      <th id=\"T_a2d34_level0_row1\" class=\"row_heading level0 row1\" >1</th>\n",
       "      <td id=\"T_a2d34_row1_col0\" class=\"data row1 col0\" ></td>\n",
       "      <td id=\"T_a2d34_row1_col1\" class=\"data row1 col1\" >0</td>\n",
       "      <td id=\"T_a2d34_row1_col2\" class=\"data row1 col2\" >auto_to_category</td>\n",
       "      <td id=\"T_a2d34_row1_col3\" class=\"data row1 col3\" >['unique_max=20']</td>\n",
       "      <td id=\"T_a2d34_row1_col4\" class=\"data row1 col4\" >doatridge</td>\n",
       "    </tr>\n",
       "    <tr>\n",
       "      <th id=\"T_a2d34_level0_row2\" class=\"row_heading level0 row2\" >2</th>\n",
       "      <td id=\"T_a2d34_row2_col0\" class=\"data row2 col0\" ></td>\n",
       "      <td id=\"T_a2d34_row2_col1\" class=\"data row2 col1\" >0</td>\n",
       "      <td id=\"T_a2d34_row2_col2\" class=\"data row2 col2\" >to_int_type</td>\n",
       "      <td id=\"T_a2d34_row2_col3\" class=\"data row2 col3\" >[\"headers=['sibsp', 'parch', 'pclass', 'survived']\"]</td>\n",
       "      <td id=\"T_a2d34_row2_col4\" class=\"data row2 col4\" >doatridge</td>\n",
       "    </tr>\n",
       "    <tr>\n",
       "      <th id=\"T_a2d34_level0_row3\" class=\"row_heading level0 row3\" >3</th>\n",
       "      <td id=\"T_a2d34_row3_col0\" class=\"data row3 col0\" ></td>\n",
       "      <td id=\"T_a2d34_row3_col1\" class=\"data row3 col1\" >0</td>\n",
       "      <td id=\"T_a2d34_row3_col2\" class=\"data row3 col2\" >to_numeric_type</td>\n",
       "      <td id=\"T_a2d34_row3_col3\" class=\"data row3 col3\" >[\"headers=['age', 'fare']\"]</td>\n",
       "      <td id=\"T_a2d34_row3_col4\" class=\"data row3 col4\" >doatridge</td>\n",
       "    </tr>\n",
       "    <tr>\n",
       "      <th id=\"T_a2d34_level0_row4\" class=\"row_heading level0 row4\" >4</th>\n",
       "      <td id=\"T_a2d34_row4_col0\" class=\"data row4 col0\" ></td>\n",
       "      <td id=\"T_a2d34_row4_col1\" class=\"data row4 col1\" >0</td>\n",
       "      <td id=\"T_a2d34_row4_col2\" class=\"data row4 col2\" >to_remove</td>\n",
       "      <td id=\"T_a2d34_row4_col3\" class=\"data row4 col3\" >[\"headers=['name', 'boat', 'body', 'home.dest']\"]</td>\n",
       "      <td id=\"T_a2d34_row4_col4\" class=\"data row4 col4\" >doatridge</td>\n",
       "    </tr>\n",
       "  </tbody>\n",
       "</table>\n"
      ],
      "text/plain": [
       "<pandas.io.formats.style.Styler at 0x7fb0209370d0>"
      ]
     },
     "execution_count": 5,
     "metadata": {},
     "output_type": "execute_result"
    }
   ],
   "source": [
    "tr.report_intent()"
   ]
  },
  {
   "cell_type": "markdown",
   "id": "c5eb48dc",
   "metadata": {},
   "source": []
  },
  {
   "cell_type": "code",
   "execution_count": 7,
   "id": "0d7df244",
   "metadata": {},
   "outputs": [],
   "source": [
    "df = tr.load_persist_canonical()"
   ]
  },
  {
   "cell_type": "code",
   "execution_count": 8,
   "id": "f4460434",
   "metadata": {},
   "outputs": [],
   "source": [
    "df = tr.tools.auto_reinstate_nulls(df, nulls_list=['?'], intent_order=2)\n",
    "df = tr.tools.to_remove(df, headers=['name', 'boat', 'body', 'home.dest'], intent_order=1)\n",
    "df = tr.tools.auto_to_category(df, unique_max=20, intent_order=3)\n",
    "df = tr.tools.to_int_type(df, headers=['sibsp', 'parch', 'pclass', 'survived'], intent_order=4)\n",
    "df = tr.tools.to_numeric_type(df, headers=['age', 'fare'], intent_order=5)"
   ]
  },
  {
   "cell_type": "markdown",
   "id": "e5182c44",
   "metadata": {},
   "source": []
  },
  {
   "cell_type": "code",
   "execution_count": 9,
   "id": "bf8be505",
   "metadata": {},
   "outputs": [
    {
     "data": {
      "text/html": [
       "<style type=\"text/css\">\n",
       "#T_cd68a th {\n",
       "  font-size: 120%;\n",
       "  text-align: center;\n",
       "}\n",
       "#T_cd68a .row_heading {\n",
       "  display: none;;\n",
       "}\n",
       "#T_cd68a  .blank {\n",
       "  display: none;;\n",
       "}\n",
       "#T_cd68a_row0_col0, #T_cd68a_row1_col0, #T_cd68a_row2_col0, #T_cd68a_row3_col0, #T_cd68a_row4_col0 {\n",
       "  text-align: left;\n",
       "  font-weight: bold;\n",
       "  font-size: 120%;\n",
       "}\n",
       "#T_cd68a_row0_col1, #T_cd68a_row0_col2, #T_cd68a_row0_col3, #T_cd68a_row0_col4, #T_cd68a_row1_col1, #T_cd68a_row1_col2, #T_cd68a_row1_col3, #T_cd68a_row1_col4, #T_cd68a_row2_col1, #T_cd68a_row2_col2, #T_cd68a_row2_col3, #T_cd68a_row2_col4, #T_cd68a_row3_col1, #T_cd68a_row3_col2, #T_cd68a_row3_col3, #T_cd68a_row3_col4, #T_cd68a_row4_col1, #T_cd68a_row4_col2, #T_cd68a_row4_col3, #T_cd68a_row4_col4 {\n",
       "  text-align: left;\n",
       "}\n",
       "</style>\n",
       "<table id=\"T_cd68a\">\n",
       "  <thead>\n",
       "    <tr>\n",
       "      <th class=\"blank level0\" >&nbsp;</th>\n",
       "      <th id=\"T_cd68a_level0_col0\" class=\"col_heading level0 col0\" >level</th>\n",
       "      <th id=\"T_cd68a_level0_col1\" class=\"col_heading level0 col1\" >order</th>\n",
       "      <th id=\"T_cd68a_level0_col2\" class=\"col_heading level0 col2\" >intent</th>\n",
       "      <th id=\"T_cd68a_level0_col3\" class=\"col_heading level0 col3\" >parameters</th>\n",
       "      <th id=\"T_cd68a_level0_col4\" class=\"col_heading level0 col4\" >creator</th>\n",
       "    </tr>\n",
       "  </thead>\n",
       "  <tbody>\n",
       "    <tr>\n",
       "      <th id=\"T_cd68a_level0_row0\" class=\"row_heading level0 row0\" >0</th>\n",
       "      <td id=\"T_cd68a_row0_col0\" class=\"data row0 col0\" >base</td>\n",
       "      <td id=\"T_cd68a_row0_col1\" class=\"data row0 col1\" >1</td>\n",
       "      <td id=\"T_cd68a_row0_col2\" class=\"data row0 col2\" >to_remove</td>\n",
       "      <td id=\"T_cd68a_row0_col3\" class=\"data row0 col3\" >[\"headers=['name', 'boat', 'body', 'home.dest']\"]</td>\n",
       "      <td id=\"T_cd68a_row0_col4\" class=\"data row0 col4\" >doatridge</td>\n",
       "    </tr>\n",
       "    <tr>\n",
       "      <th id=\"T_cd68a_level0_row1\" class=\"row_heading level0 row1\" >1</th>\n",
       "      <td id=\"T_cd68a_row1_col0\" class=\"data row1 col0\" ></td>\n",
       "      <td id=\"T_cd68a_row1_col1\" class=\"data row1 col1\" >2</td>\n",
       "      <td id=\"T_cd68a_row1_col2\" class=\"data row1 col2\" >auto_reinstate_nulls</td>\n",
       "      <td id=\"T_cd68a_row1_col3\" class=\"data row1 col3\" >[\"nulls_list=['?']\"]</td>\n",
       "      <td id=\"T_cd68a_row1_col4\" class=\"data row1 col4\" >doatridge</td>\n",
       "    </tr>\n",
       "    <tr>\n",
       "      <th id=\"T_cd68a_level0_row2\" class=\"row_heading level0 row2\" >2</th>\n",
       "      <td id=\"T_cd68a_row2_col0\" class=\"data row2 col0\" ></td>\n",
       "      <td id=\"T_cd68a_row2_col1\" class=\"data row2 col1\" >3</td>\n",
       "      <td id=\"T_cd68a_row2_col2\" class=\"data row2 col2\" >auto_to_category</td>\n",
       "      <td id=\"T_cd68a_row2_col3\" class=\"data row2 col3\" >['unique_max=20']</td>\n",
       "      <td id=\"T_cd68a_row2_col4\" class=\"data row2 col4\" >doatridge</td>\n",
       "    </tr>\n",
       "    <tr>\n",
       "      <th id=\"T_cd68a_level0_row3\" class=\"row_heading level0 row3\" >3</th>\n",
       "      <td id=\"T_cd68a_row3_col0\" class=\"data row3 col0\" ></td>\n",
       "      <td id=\"T_cd68a_row3_col1\" class=\"data row3 col1\" >4</td>\n",
       "      <td id=\"T_cd68a_row3_col2\" class=\"data row3 col2\" >to_int_type</td>\n",
       "      <td id=\"T_cd68a_row3_col3\" class=\"data row3 col3\" >[\"headers=['sibsp', 'parch', 'pclass', 'survived']\"]</td>\n",
       "      <td id=\"T_cd68a_row3_col4\" class=\"data row3 col4\" >doatridge</td>\n",
       "    </tr>\n",
       "    <tr>\n",
       "      <th id=\"T_cd68a_level0_row4\" class=\"row_heading level0 row4\" >4</th>\n",
       "      <td id=\"T_cd68a_row4_col0\" class=\"data row4 col0\" ></td>\n",
       "      <td id=\"T_cd68a_row4_col1\" class=\"data row4 col1\" >5</td>\n",
       "      <td id=\"T_cd68a_row4_col2\" class=\"data row4 col2\" >to_numeric_type</td>\n",
       "      <td id=\"T_cd68a_row4_col3\" class=\"data row4 col3\" >[\"headers=['age', 'fare']\"]</td>\n",
       "      <td id=\"T_cd68a_row4_col4\" class=\"data row4 col4\" >doatridge</td>\n",
       "    </tr>\n",
       "  </tbody>\n",
       "</table>\n"
      ],
      "text/plain": [
       "<pandas.io.formats.style.Styler at 0x7fb0220b4970>"
      ]
     },
     "execution_count": 9,
     "metadata": {},
     "output_type": "execute_result"
    }
   ],
   "source": [
    "tr.report_intent()"
   ]
  },
  {
   "cell_type": "markdown",
   "id": "eb5deafd",
   "metadata": {},
   "source": []
  },
  {
   "cell_type": "code",
   "execution_count": null,
   "id": "d9df082c",
   "metadata": {},
   "outputs": [],
   "source": [
    "tr.run_component_pipeline()"
   ]
  },
  {
   "cell_type": "code",
   "execution_count": null,
   "id": "425546c6",
   "metadata": {},
   "outputs": [],
   "source": []
  }
 ],
 "metadata": {
  "kernelspec": {
   "display_name": "Python 3 (ipykernel)",
   "language": "python",
   "name": "python3"
  },
  "language_info": {
   "codemirror_mode": {
    "name": "ipython",
    "version": 3
   },
   "file_extension": ".py",
   "mimetype": "text/x-python",
   "name": "python",
   "nbconvert_exporter": "python",
   "pygments_lexer": "ipython3",
   "version": "3.9.12"
  }
 },
 "nbformat": 4,
 "nbformat_minor": 5
}
