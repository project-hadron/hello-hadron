{
 "cells": [
  {
   "cell_type": "markdown",
   "id": "dc1bc237",
   "metadata": {},
   "source": [
    "<cite>Darryl Oatridge, August 2022<cite>"
   ]
  },
  {
   "cell_type": "code",
   "execution_count": 89,
   "id": "77e90ce3",
   "metadata": {},
   "outputs": [],
   "source": [
    "import os"
   ]
  },
  {
   "cell_type": "code",
   "execution_count": 90,
   "id": "9f20228b",
   "metadata": {},
   "outputs": [],
   "source": [
    "os.environ['HADRON_PM_PATH'] = '../0_hello_meta/demo/contracts'\n",
    "os.environ['HADRON_DEFAULT_PATH'] = '../0_hello_meta/demo/data'"
   ]
  },
  {
   "cell_type": "markdown",
   "id": "6b7e8716",
   "metadata": {},
   "source": []
  },
  {
   "cell_type": "code",
   "execution_count": 91,
   "id": "dbf3056b",
   "metadata": {},
   "outputs": [],
   "source": [
    "from ds_discovery import Transition"
   ]
  },
  {
   "cell_type": "code",
   "execution_count": 93,
   "id": "70b8c4a8",
   "metadata": {},
   "outputs": [],
   "source": [
    "# get the instance\n",
    "tr = Transition.from_env('hello_tr')"
   ]
  },
  {
   "cell_type": "markdown",
   "id": "e54b40c9",
   "metadata": {},
   "source": []
  },
  {
   "cell_type": "code",
   "execution_count": 94,
   "id": "f16b73e6",
   "metadata": {
    "scrolled": false
   },
   "outputs": [
    {
     "data": {
      "text/html": [
       "<style type=\"text/css\">\n",
       "#T_0307c th {\n",
       "  font-size: 120%;\n",
       "  text-align: center;\n",
       "}\n",
       "#T_0307c .row_heading {\n",
       "  display: none;;\n",
       "}\n",
       "#T_0307c  .blank {\n",
       "  display: none;;\n",
       "}\n",
       "#T_0307c_row0_col0, #T_0307c_row1_col0, #T_0307c_row2_col0, #T_0307c_row3_col0, #T_0307c_row4_col0, #T_0307c_row5_col0, #T_0307c_row6_col0, #T_0307c_row7_col0 {\n",
       "  text-align: left;\n",
       "  font-weight: bold;\n",
       "  font-size: 120%;\n",
       "}\n",
       "#T_0307c_row0_col1, #T_0307c_row0_col2, #T_0307c_row0_col3, #T_0307c_row0_col4, #T_0307c_row1_col1, #T_0307c_row1_col2, #T_0307c_row1_col3, #T_0307c_row1_col4, #T_0307c_row2_col1, #T_0307c_row2_col2, #T_0307c_row2_col3, #T_0307c_row2_col4, #T_0307c_row3_col1, #T_0307c_row3_col2, #T_0307c_row3_col3, #T_0307c_row3_col4, #T_0307c_row4_col1, #T_0307c_row4_col2, #T_0307c_row4_col3, #T_0307c_row4_col4, #T_0307c_row5_col1, #T_0307c_row5_col2, #T_0307c_row5_col3, #T_0307c_row5_col4, #T_0307c_row6_col1, #T_0307c_row6_col2, #T_0307c_row6_col3, #T_0307c_row6_col4, #T_0307c_row7_col1, #T_0307c_row7_col2, #T_0307c_row7_col3, #T_0307c_row7_col4 {\n",
       "  text-align: left;\n",
       "}\n",
       "</style>\n",
       "<table id=\"T_0307c\">\n",
       "  <thead>\n",
       "    <tr>\n",
       "      <th class=\"blank level0\" >&nbsp;</th>\n",
       "      <th id=\"T_0307c_level0_col0\" class=\"col_heading level0 col0\" >level</th>\n",
       "      <th id=\"T_0307c_level0_col1\" class=\"col_heading level0 col1\" >order</th>\n",
       "      <th id=\"T_0307c_level0_col2\" class=\"col_heading level0 col2\" >intent</th>\n",
       "      <th id=\"T_0307c_level0_col3\" class=\"col_heading level0 col3\" >parameters</th>\n",
       "      <th id=\"T_0307c_level0_col4\" class=\"col_heading level0 col4\" >creator</th>\n",
       "    </tr>\n",
       "  </thead>\n",
       "  <tbody>\n",
       "    <tr>\n",
       "      <th id=\"T_0307c_level0_row0\" class=\"row_heading level0 row0\" >0</th>\n",
       "      <td id=\"T_0307c_row0_col0\" class=\"data row0 col0\" >auto_category</td>\n",
       "      <td id=\"T_0307c_row0_col1\" class=\"data row0 col1\" >0</td>\n",
       "      <td id=\"T_0307c_row0_col2\" class=\"data row0 col2\" >auto_to_category</td>\n",
       "      <td id=\"T_0307c_row0_col3\" class=\"data row0 col3\" >['unique_max=20']</td>\n",
       "      <td id=\"T_0307c_row0_col4\" class=\"data row0 col4\" >doatridge</td>\n",
       "    </tr>\n",
       "    <tr>\n",
       "      <th id=\"T_0307c_level0_row1\" class=\"row_heading level0 row1\" >1</th>\n",
       "      <td id=\"T_0307c_row1_col0\" class=\"data row1 col0\" >reinstate</td>\n",
       "      <td id=\"T_0307c_row1_col1\" class=\"data row1 col1\" >0</td>\n",
       "      <td id=\"T_0307c_row1_col2\" class=\"data row1 col2\" >auto_reinstate_nulls</td>\n",
       "      <td id=\"T_0307c_row1_col3\" class=\"data row1 col3\" >[\"nulls_list=['?']\"]</td>\n",
       "      <td id=\"T_0307c_row1_col4\" class=\"data row1 col4\" >doatridge</td>\n",
       "    </tr>\n",
       "    <tr>\n",
       "      <th id=\"T_0307c_level0_row2\" class=\"row_heading level0 row2\" >2</th>\n",
       "      <td id=\"T_0307c_row2_col0\" class=\"data row2 col0\" >remove</td>\n",
       "      <td id=\"T_0307c_row2_col1\" class=\"data row2 col1\" >0</td>\n",
       "      <td id=\"T_0307c_row2_col2\" class=\"data row2 col2\" >to_remove</td>\n",
       "      <td id=\"T_0307c_row2_col3\" class=\"data row2 col3\" >[\"headers=['name', 'boat', 'body', 'home.dest']\"]</td>\n",
       "      <td id=\"T_0307c_row2_col4\" class=\"data row2 col4\" >doatridge</td>\n",
       "    </tr>\n",
       "    <tr>\n",
       "      <th id=\"T_0307c_level0_row3\" class=\"row_heading level0 row3\" >3</th>\n",
       "      <td id=\"T_0307c_row3_col0\" class=\"data row3 col0\" >to_dtype</td>\n",
       "      <td id=\"T_0307c_row3_col1\" class=\"data row3 col1\" >0</td>\n",
       "      <td id=\"T_0307c_row3_col2\" class=\"data row3 col2\" >to_int_type</td>\n",
       "      <td id=\"T_0307c_row3_col3\" class=\"data row3 col3\" >[\"headers=['sibsp', 'parch', 'pclass', 'survived']\"]</td>\n",
       "      <td id=\"T_0307c_row3_col4\" class=\"data row3 col4\" >doatridge</td>\n",
       "    </tr>\n",
       "    <tr>\n",
       "      <th id=\"T_0307c_level0_row4\" class=\"row_heading level0 row4\" >4</th>\n",
       "      <td id=\"T_0307c_row4_col0\" class=\"data row4 col0\" ></td>\n",
       "      <td id=\"T_0307c_row4_col1\" class=\"data row4 col1\" >0</td>\n",
       "      <td id=\"T_0307c_row4_col2\" class=\"data row4 col2\" >to_numeric_type</td>\n",
       "      <td id=\"T_0307c_row4_col3\" class=\"data row4 col3\" >[\"headers=['age', 'fare']\"]</td>\n",
       "      <td id=\"T_0307c_row4_col4\" class=\"data row4 col4\" >doatridge</td>\n",
       "    </tr>\n",
       "    <tr>\n",
       "      <th id=\"T_0307c_level0_row5\" class=\"row_heading level0 row5\" >5</th>\n",
       "      <td id=\"T_0307c_row5_col0\" class=\"data row5 col0\" ></td>\n",
       "      <td id=\"T_0307c_row5_col1\" class=\"data row5 col1\" >0</td>\n",
       "      <td id=\"T_0307c_row5_col2\" class=\"data row5 col2\" >to_str_type</td>\n",
       "      <td id=\"T_0307c_row5_col3\" class=\"data row5 col3\" >[\"headers=['cabin', 'ticket']\", 'use_string_type=True']</td>\n",
       "      <td id=\"T_0307c_row5_col4\" class=\"data row5 col4\" >doatridge</td>\n",
       "    </tr>\n",
       "    <tr>\n",
       "      <th id=\"T_0307c_level0_row6\" class=\"row_heading level0 row6\" >6</th>\n",
       "      <td id=\"T_0307c_row6_col0\" class=\"data row6 col0\" >to_float</td>\n",
       "      <td id=\"T_0307c_row6_col1\" class=\"data row6 col1\" >0</td>\n",
       "      <td id=\"T_0307c_row6_col2\" class=\"data row6 col2\" >to_numeric_type</td>\n",
       "      <td id=\"T_0307c_row6_col3\" class=\"data row6 col3\" >[\"headers=['age', 'fare']\"]</td>\n",
       "      <td id=\"T_0307c_row6_col4\" class=\"data row6 col4\" >doatridge</td>\n",
       "    </tr>\n",
       "    <tr>\n",
       "      <th id=\"T_0307c_level0_row7\" class=\"row_heading level0 row7\" >7</th>\n",
       "      <td id=\"T_0307c_row7_col0\" class=\"data row7 col0\" >to_int</td>\n",
       "      <td id=\"T_0307c_row7_col1\" class=\"data row7 col1\" >0</td>\n",
       "      <td id=\"T_0307c_row7_col2\" class=\"data row7 col2\" >to_int_type</td>\n",
       "      <td id=\"T_0307c_row7_col3\" class=\"data row7 col3\" >[\"headers=['sibsp', 'parch', 'pclass', 'survived']\"]</td>\n",
       "      <td id=\"T_0307c_row7_col4\" class=\"data row7 col4\" >doatridge</td>\n",
       "    </tr>\n",
       "  </tbody>\n",
       "</table>\n"
      ],
      "text/plain": [
       "<pandas.io.formats.style.Styler at 0x7f9e7bd5c610>"
      ]
     },
     "execution_count": 94,
     "metadata": {},
     "output_type": "execute_result"
    }
   ],
   "source": [
    "tr.report_intent()"
   ]
  },
  {
   "cell_type": "markdown",
   "id": "1f4343fb",
   "metadata": {},
   "source": []
  },
  {
   "cell_type": "code",
   "execution_count": 95,
   "id": "18ab5fb0",
   "metadata": {},
   "outputs": [
    {
     "data": {
      "text/plain": [
       "True"
      ]
     },
     "execution_count": 95,
     "metadata": {},
     "output_type": "execute_result"
    }
   ],
   "source": [
    "tr.remove_intent()dd"
   ]
  },
  {
   "cell_type": "code",
   "execution_count": 96,
   "id": "1c70a10b",
   "metadata": {},
   "outputs": [
    {
     "data": {
      "text/html": [
       "<style type=\"text/css\">\n",
       "#T_d951e th {\n",
       "  font-size: 120%;\n",
       "  text-align: center;\n",
       "}\n",
       "#T_d951e .row_heading {\n",
       "  display: none;;\n",
       "}\n",
       "#T_d951e  .blank {\n",
       "  display: none;;\n",
       "}\n",
       "</style>\n",
       "<table id=\"T_d951e\">\n",
       "  <thead>\n",
       "    <tr>\n",
       "      <th class=\"blank level0\" >&nbsp;</th>\n",
       "      <th id=\"T_d951e_level0_col0\" class=\"col_heading level0 col0\" >level</th>\n",
       "      <th id=\"T_d951e_level0_col1\" class=\"col_heading level0 col1\" >order</th>\n",
       "      <th id=\"T_d951e_level0_col2\" class=\"col_heading level0 col2\" >intent</th>\n",
       "      <th id=\"T_d951e_level0_col3\" class=\"col_heading level0 col3\" >parameters</th>\n",
       "      <th id=\"T_d951e_level0_col4\" class=\"col_heading level0 col4\" >creator</th>\n",
       "    </tr>\n",
       "  </thead>\n",
       "  <tbody>\n",
       "  </tbody>\n",
       "</table>\n"
      ],
      "text/plain": [
       "<pandas.io.formats.style.Styler at 0x7f9e7b7cc220>"
      ]
     },
     "execution_count": 96,
     "metadata": {},
     "output_type": "execute_result"
    }
   ],
   "source": [
    "tr.report_intent()"
   ]
  },
  {
   "cell_type": "markdown",
   "id": "c5eb48dc",
   "metadata": {},
   "source": []
  },
  {
   "cell_type": "code",
   "execution_count": 74,
   "id": "0d7df244",
   "metadata": {},
   "outputs": [],
   "source": [
    "df = tr.load_source_canonical()"
   ]
  },
  {
   "cell_type": "code",
   "execution_count": 75,
   "id": "f4460434",
   "metadata": {},
   "outputs": [],
   "source": [
    "df = tr.tools.auto_reinstate_nulls(df, nulls_list=['?'], intent_level='reinstate')\n",
    "df = tr.tools.to_remove(df, headers=['name', 'boat', 'body', 'home.dest'], intent_level='remove')\n",
    "df = tr.tools.auto_to_category(df, unique_max=20, intent_level='auto_category')\n",
    "df = tr.tools.to_int_type(df, headers=['sibsp', 'parch', 'survived'], intent_level='to_dtype')\n",
    "df = tr.tools.to_numeric_type(df, headers=['age', 'fare'], intent_level='to_dtype')\n",
    "df = tr.tools.to_str_type(df, headers=['cabin', 'ticket'],use_string_type=True , intent_level='to_dtype')"
   ]
  },
  {
   "cell_type": "markdown",
   "id": "c78a2d0f",
   "metadata": {},
   "source": []
  },
  {
   "cell_type": "code",
   "execution_count": 76,
   "id": "e5a18077",
   "metadata": {},
   "outputs": [],
   "source": [
    "tr.add_column_description('reinstate', description=\"reinstate nulls that where obfuscated with '?'\")\n",
    "tr.add_column_description('remove', description=\"remove column of no value\")\n",
    "tr.add_column_description('auto_category', description=\"auto fit features to categories where their uniqueness is 20 or less\")\n",
    "tr.add_column_description('to_dtype', description=\"ensure all other columns of interest are appropriately typed\")\n"
   ]
  },
  {
   "cell_type": "markdown",
   "id": "e5182c44",
   "metadata": {},
   "source": []
  },
  {
   "cell_type": "code",
   "execution_count": 77,
   "id": "bf8be505",
   "metadata": {},
   "outputs": [
    {
     "data": {
      "text/html": [
       "<style type=\"text/css\">\n",
       "#T_89ec8 th {\n",
       "  font-size: 120%;\n",
       "  text-align: center;\n",
       "}\n",
       "#T_89ec8 .row_heading {\n",
       "  display: none;;\n",
       "}\n",
       "#T_89ec8  .blank {\n",
       "  display: none;;\n",
       "}\n",
       "#T_89ec8_row0_col0, #T_89ec8_row1_col0, #T_89ec8_row2_col0, #T_89ec8_row3_col0, #T_89ec8_row4_col0, #T_89ec8_row5_col0 {\n",
       "  text-align: left;\n",
       "  font-weight: bold;\n",
       "  font-size: 120%;\n",
       "}\n",
       "#T_89ec8_row0_col1, #T_89ec8_row0_col2, #T_89ec8_row0_col3, #T_89ec8_row0_col4, #T_89ec8_row1_col1, #T_89ec8_row1_col2, #T_89ec8_row1_col3, #T_89ec8_row1_col4, #T_89ec8_row2_col1, #T_89ec8_row2_col2, #T_89ec8_row2_col3, #T_89ec8_row2_col4, #T_89ec8_row3_col1, #T_89ec8_row3_col2, #T_89ec8_row3_col3, #T_89ec8_row3_col4, #T_89ec8_row4_col1, #T_89ec8_row4_col2, #T_89ec8_row4_col3, #T_89ec8_row4_col4, #T_89ec8_row5_col1, #T_89ec8_row5_col2, #T_89ec8_row5_col3, #T_89ec8_row5_col4 {\n",
       "  text-align: left;\n",
       "}\n",
       "</style>\n",
       "<table id=\"T_89ec8\">\n",
       "  <thead>\n",
       "    <tr>\n",
       "      <th class=\"blank level0\" >&nbsp;</th>\n",
       "      <th id=\"T_89ec8_level0_col0\" class=\"col_heading level0 col0\" >level</th>\n",
       "      <th id=\"T_89ec8_level0_col1\" class=\"col_heading level0 col1\" >order</th>\n",
       "      <th id=\"T_89ec8_level0_col2\" class=\"col_heading level0 col2\" >intent</th>\n",
       "      <th id=\"T_89ec8_level0_col3\" class=\"col_heading level0 col3\" >parameters</th>\n",
       "      <th id=\"T_89ec8_level0_col4\" class=\"col_heading level0 col4\" >creator</th>\n",
       "    </tr>\n",
       "  </thead>\n",
       "  <tbody>\n",
       "    <tr>\n",
       "      <th id=\"T_89ec8_level0_row0\" class=\"row_heading level0 row0\" >0</th>\n",
       "      <td id=\"T_89ec8_row0_col0\" class=\"data row0 col0\" >auto_category</td>\n",
       "      <td id=\"T_89ec8_row0_col1\" class=\"data row0 col1\" >0</td>\n",
       "      <td id=\"T_89ec8_row0_col2\" class=\"data row0 col2\" >auto_to_category</td>\n",
       "      <td id=\"T_89ec8_row0_col3\" class=\"data row0 col3\" >['unique_max=20']</td>\n",
       "      <td id=\"T_89ec8_row0_col4\" class=\"data row0 col4\" >doatridge</td>\n",
       "    </tr>\n",
       "    <tr>\n",
       "      <th id=\"T_89ec8_level0_row1\" class=\"row_heading level0 row1\" >1</th>\n",
       "      <td id=\"T_89ec8_row1_col0\" class=\"data row1 col0\" >reinstate</td>\n",
       "      <td id=\"T_89ec8_row1_col1\" class=\"data row1 col1\" >0</td>\n",
       "      <td id=\"T_89ec8_row1_col2\" class=\"data row1 col2\" >auto_reinstate_nulls</td>\n",
       "      <td id=\"T_89ec8_row1_col3\" class=\"data row1 col3\" >[\"nulls_list=['?']\"]</td>\n",
       "      <td id=\"T_89ec8_row1_col4\" class=\"data row1 col4\" >doatridge</td>\n",
       "    </tr>\n",
       "    <tr>\n",
       "      <th id=\"T_89ec8_level0_row2\" class=\"row_heading level0 row2\" >2</th>\n",
       "      <td id=\"T_89ec8_row2_col0\" class=\"data row2 col0\" >remove</td>\n",
       "      <td id=\"T_89ec8_row2_col1\" class=\"data row2 col1\" >0</td>\n",
       "      <td id=\"T_89ec8_row2_col2\" class=\"data row2 col2\" >to_remove</td>\n",
       "      <td id=\"T_89ec8_row2_col3\" class=\"data row2 col3\" >[\"headers=['name', 'boat', 'body', 'home.dest']\"]</td>\n",
       "      <td id=\"T_89ec8_row2_col4\" class=\"data row2 col4\" >doatridge</td>\n",
       "    </tr>\n",
       "    <tr>\n",
       "      <th id=\"T_89ec8_level0_row3\" class=\"row_heading level0 row3\" >3</th>\n",
       "      <td id=\"T_89ec8_row3_col0\" class=\"data row3 col0\" >to_dtype</td>\n",
       "      <td id=\"T_89ec8_row3_col1\" class=\"data row3 col1\" >0</td>\n",
       "      <td id=\"T_89ec8_row3_col2\" class=\"data row3 col2\" >to_int_type</td>\n",
       "      <td id=\"T_89ec8_row3_col3\" class=\"data row3 col3\" >[\"headers=['sibsp', 'parch', 'pclass', 'survived']\"]</td>\n",
       "      <td id=\"T_89ec8_row3_col4\" class=\"data row3 col4\" >doatridge</td>\n",
       "    </tr>\n",
       "    <tr>\n",
       "      <th id=\"T_89ec8_level0_row4\" class=\"row_heading level0 row4\" >4</th>\n",
       "      <td id=\"T_89ec8_row4_col0\" class=\"data row4 col0\" ></td>\n",
       "      <td id=\"T_89ec8_row4_col1\" class=\"data row4 col1\" >0</td>\n",
       "      <td id=\"T_89ec8_row4_col2\" class=\"data row4 col2\" >to_numeric_type</td>\n",
       "      <td id=\"T_89ec8_row4_col3\" class=\"data row4 col3\" >[\"headers=['age', 'fare']\"]</td>\n",
       "      <td id=\"T_89ec8_row4_col4\" class=\"data row4 col4\" >doatridge</td>\n",
       "    </tr>\n",
       "    <tr>\n",
       "      <th id=\"T_89ec8_level0_row5\" class=\"row_heading level0 row5\" >5</th>\n",
       "      <td id=\"T_89ec8_row5_col0\" class=\"data row5 col0\" ></td>\n",
       "      <td id=\"T_89ec8_row5_col1\" class=\"data row5 col1\" >0</td>\n",
       "      <td id=\"T_89ec8_row5_col2\" class=\"data row5 col2\" >to_str_type</td>\n",
       "      <td id=\"T_89ec8_row5_col3\" class=\"data row5 col3\" >[\"headers=['cabin', 'ticket']\", 'use_string_type=True']</td>\n",
       "      <td id=\"T_89ec8_row5_col4\" class=\"data row5 col4\" >doatridge</td>\n",
       "    </tr>\n",
       "  </tbody>\n",
       "</table>\n"
      ],
      "text/plain": [
       "<pandas.io.formats.style.Styler at 0x7f9e7ac92a30>"
      ]
     },
     "execution_count": 77,
     "metadata": {},
     "output_type": "execute_result"
    }
   ],
   "source": [
    "tr.report_intent()"
   ]
  },
  {
   "cell_type": "markdown",
   "id": "0735274a",
   "metadata": {},
   "source": []
  },
  {
   "cell_type": "code",
   "execution_count": 78,
   "id": "3b7d7d64",
   "metadata": {
    "scrolled": false
   },
   "outputs": [
    {
     "data": {
      "text/html": [
       "<style type=\"text/css\">\n",
       "#T_e5a41 th {\n",
       "  font-size: 120%;\n",
       "  text-align: center;\n",
       "}\n",
       "#T_e5a41 .row_heading {\n",
       "  display: none;;\n",
       "}\n",
       "#T_e5a41  .blank {\n",
       "  display: none;;\n",
       "}\n",
       "#T_e5a41_row0_col0, #T_e5a41_row1_col0, #T_e5a41_row2_col0, #T_e5a41_row3_col0 {\n",
       "  text-align: left;\n",
       "  font-weight: bold;\n",
       "}\n",
       "#T_e5a41_row0_col1, #T_e5a41_row1_col1, #T_e5a41_row2_col1, #T_e5a41_row3_col1 {\n",
       "  text-align: left;\n",
       "}\n",
       "</style>\n",
       "<table id=\"T_e5a41\">\n",
       "  <thead>\n",
       "    <tr>\n",
       "      <th class=\"blank level0\" >&nbsp;</th>\n",
       "      <th id=\"T_e5a41_level0_col0\" class=\"col_heading level0 col0\" >column_name</th>\n",
       "      <th id=\"T_e5a41_level0_col1\" class=\"col_heading level0 col1\" >description</th>\n",
       "    </tr>\n",
       "  </thead>\n",
       "  <tbody>\n",
       "    <tr>\n",
       "      <th id=\"T_e5a41_level0_row0\" class=\"row_heading level0 row0\" >0</th>\n",
       "      <td id=\"T_e5a41_row0_col0\" class=\"data row0 col0\" >auto_category</td>\n",
       "      <td id=\"T_e5a41_row0_col1\" class=\"data row0 col1\" >auto fit features to categories where their uniqueness is 20 or less</td>\n",
       "    </tr>\n",
       "    <tr>\n",
       "      <th id=\"T_e5a41_level0_row1\" class=\"row_heading level0 row1\" >1</th>\n",
       "      <td id=\"T_e5a41_row1_col0\" class=\"data row1 col0\" >reinstate</td>\n",
       "      <td id=\"T_e5a41_row1_col1\" class=\"data row1 col1\" >reinstate nulls that where obfuscated with '?'</td>\n",
       "    </tr>\n",
       "    <tr>\n",
       "      <th id=\"T_e5a41_level0_row2\" class=\"row_heading level0 row2\" >2</th>\n",
       "      <td id=\"T_e5a41_row2_col0\" class=\"data row2 col0\" >remove</td>\n",
       "      <td id=\"T_e5a41_row2_col1\" class=\"data row2 col1\" >remove column of no value</td>\n",
       "    </tr>\n",
       "    <tr>\n",
       "      <th id=\"T_e5a41_level0_row3\" class=\"row_heading level0 row3\" >3</th>\n",
       "      <td id=\"T_e5a41_row3_col0\" class=\"data row3 col0\" >to_dtype</td>\n",
       "      <td id=\"T_e5a41_row3_col1\" class=\"data row3 col1\" >ensure all other columns of interest are appropriately typed</td>\n",
       "    </tr>\n",
       "  </tbody>\n",
       "</table>\n"
      ],
      "text/plain": [
       "<pandas.io.formats.style.Styler at 0x7f9e7c86b670>"
      ]
     },
     "execution_count": 78,
     "metadata": {},
     "output_type": "execute_result"
    }
   ],
   "source": [
    "tr.report_column_catalog()"
   ]
  },
  {
   "cell_type": "markdown",
   "id": "74a14ef9",
   "metadata": {},
   "source": [
    "## Component Pipeline"
   ]
  },
  {
   "cell_type": "markdown",
   "id": "2a068208",
   "metadata": {},
   "source": [
    "```\n",
    "tr.run_component_pipeline(\n",
    "    intent_levels: '[str, int, list]' = None,\n",
    "    run_book: 'str' = None,\n",
    ")\n",
    "```\n"
   ]
  },
  {
   "cell_type": "code",
   "execution_count": 79,
   "id": "fc3525c1",
   "metadata": {},
   "outputs": [],
   "source": [
    "tr.run_component_pipeline()"
   ]
  },
  {
   "cell_type": "markdown",
   "id": "fe5b6ab3",
   "metadata": {},
   "source": []
  },
  {
   "cell_type": "code",
   "execution_count": 80,
   "id": "d469da25",
   "metadata": {},
   "outputs": [],
   "source": [
    "tr.run_component_pipeline(intent_levels=['remove', 'reinstate', 'auto_category', 'to_dtype'])"
   ]
  },
  {
   "cell_type": "markdown",
   "id": "311a4b9f",
   "metadata": {},
   "source": [
    "## Run Books"
   ]
  },
  {
   "cell_type": "code",
   "execution_count": 81,
   "id": "d85518b3",
   "metadata": {},
   "outputs": [
    {
     "data": {
      "text/plain": [
       "True"
      ]
     },
     "execution_count": 81,
     "metadata": {},
     "output_type": "execute_result"
    }
   ],
   "source": [
    "tr.remove_run_book()"
   ]
  },
  {
   "cell_type": "code",
   "execution_count": 82,
   "id": "f007fdd9",
   "metadata": {},
   "outputs": [],
   "source": [
    "tr.add_run_book(run_levels=['remove', 'reinstate', 'auto_category', 'to_dtype'])"
   ]
  },
  {
   "cell_type": "markdown",
   "id": "30cba275",
   "metadata": {},
   "source": []
  },
  {
   "cell_type": "code",
   "execution_count": 83,
   "id": "9d7b44a2",
   "metadata": {},
   "outputs": [],
   "source": [
    "tr.add_run_book(book_name='cleaner', run_levels=['remove', 'reinstate'])"
   ]
  },
  {
   "cell_type": "code",
   "execution_count": 84,
   "id": "c9cbedc5",
   "metadata": {
    "scrolled": true
   },
   "outputs": [
    {
     "data": {
      "text/html": [
       "<style type=\"text/css\">\n",
       "#T_f0551 th {\n",
       "  font-size: 120%;\n",
       "  text-align: center;\n",
       "}\n",
       "#T_f0551 .row_heading {\n",
       "  display: none;;\n",
       "}\n",
       "#T_f0551  .blank {\n",
       "  display: none;;\n",
       "}\n",
       "#T_f0551_row0_col0, #T_f0551_row1_col0 {\n",
       "  text-align: left;\n",
       "  font-weight: bold;\n",
       "  font-size: 120%;\n",
       "}\n",
       "#T_f0551_row0_col1, #T_f0551_row1_col1 {\n",
       "  text-align: left;\n",
       "}\n",
       "</style>\n",
       "<table id=\"T_f0551\">\n",
       "  <thead>\n",
       "    <tr>\n",
       "      <th class=\"blank level0\" >&nbsp;</th>\n",
       "      <th id=\"T_f0551_level0_col0\" class=\"col_heading level0 col0\" >name</th>\n",
       "      <th id=\"T_f0551_level0_col1\" class=\"col_heading level0 col1\" >run_book</th>\n",
       "    </tr>\n",
       "  </thead>\n",
       "  <tbody>\n",
       "    <tr>\n",
       "      <th id=\"T_f0551_level0_row0\" class=\"row_heading level0 row0\" >0</th>\n",
       "      <td id=\"T_f0551_row0_col0\" class=\"data row0 col0\" >primary_run_book</td>\n",
       "      <td id=\"T_f0551_row0_col1\" class=\"data row0 col1\" >['remove', 'reinstate', 'auto_category', 'to_dtype']</td>\n",
       "    </tr>\n",
       "    <tr>\n",
       "      <th id=\"T_f0551_level0_row1\" class=\"row_heading level0 row1\" >1</th>\n",
       "      <td id=\"T_f0551_row1_col0\" class=\"data row1 col0\" >cleaner</td>\n",
       "      <td id=\"T_f0551_row1_col1\" class=\"data row1 col1\" >['remove', 'reinstate']</td>\n",
       "    </tr>\n",
       "  </tbody>\n",
       "</table>\n"
      ],
      "text/plain": [
       "<pandas.io.formats.style.Styler at 0x7f9e7adec9a0>"
      ]
     },
     "execution_count": 84,
     "metadata": {},
     "output_type": "execute_result"
    }
   ],
   "source": [
    "tr.report_run_book()"
   ]
  },
  {
   "cell_type": "markdown",
   "id": "58c003cc",
   "metadata": {},
   "source": []
  },
  {
   "cell_type": "code",
   "execution_count": 85,
   "id": "f4cc632b",
   "metadata": {},
   "outputs": [],
   "source": [
    "tr.run_component_pipeline(run_book='cleaner')"
   ]
  },
  {
   "cell_type": "code",
   "execution_count": 86,
   "id": "1ffa63db",
   "metadata": {
    "scrolled": true
   },
   "outputs": [
    {
     "data": {
      "text/html": [
       "<style type=\"text/css\">\n",
       "#T_eef64 th {\n",
       "  font-size: 120%;\n",
       "  text-align: center;\n",
       "}\n",
       "#T_eef64 .row_heading {\n",
       "  display: none;;\n",
       "}\n",
       "#T_eef64  .blank {\n",
       "  display: none;;\n",
       "}\n",
       "#T_eef64_row0_col0, #T_eef64_row1_col0, #T_eef64_row2_col0, #T_eef64_row3_col0, #T_eef64_row4_col0, #T_eef64_row5_col0, #T_eef64_row6_col0, #T_eef64_row7_col0, #T_eef64_row8_col0, #T_eef64_row9_col0 {\n",
       "  font-weight: bold;\n",
       "  font-size: 120%;\n",
       "}\n",
       "#T_eef64_row0_col2, #T_eef64_row0_col3, #T_eef64_row1_col5, #T_eef64_row2_col2, #T_eef64_row3_col2, #T_eef64_row3_col3, #T_eef64_row3_col5, #T_eef64_row4_col2, #T_eef64_row5_col2, #T_eef64_row5_col3, #T_eef64_row6_col2, #T_eef64_row6_col3, #T_eef64_row7_col2, #T_eef64_row8_col2, #T_eef64_row8_col3, #T_eef64_row9_col2, #T_eef64_row9_col3, #T_eef64_row9_col5 {\n",
       "  color: black;\n",
       "}\n",
       "#T_eef64_row0_col5 {\n",
       "  background-color: #f0f9ed;\n",
       "  color: black;\n",
       "}\n",
       "#T_eef64_row1_col2, #T_eef64_row1_col3, #T_eef64_row2_col3, #T_eef64_row4_col3, #T_eef64_row7_col3 {\n",
       "  background-color: #ffede5;\n",
       "  color: black;\n",
       "}\n",
       "#T_eef64_row2_col5, #T_eef64_row5_col5 {\n",
       "  background-color: #84cc83;\n",
       "  color: black;\n",
       "}\n",
       "#T_eef64_row4_col1, #T_eef64_row5_col1, #T_eef64_row7_col1, #T_eef64_row8_col1 {\n",
       "  color: #0f398a;\n",
       "}\n",
       "#T_eef64_row4_col5, #T_eef64_row7_col5 {\n",
       "  background-color: #a4da9e;\n",
       "  color: black;\n",
       "}\n",
       "#T_eef64_row6_col5, #T_eef64_row8_col5 {\n",
       "  background-color: #a1cbe2;\n",
       "  color: black;\n",
       "}\n",
       "</style>\n",
       "<table id=\"T_eef64\">\n",
       "  <caption>%_Dom: The % most dominant element </caption>\n",
       "  <thead>\n",
       "    <tr>\n",
       "      <th class=\"blank level0\" >&nbsp;</th>\n",
       "      <th id=\"T_eef64_level0_col0\" class=\"col_heading level0 col0\" >Attributes (10)</th>\n",
       "      <th id=\"T_eef64_level0_col1\" class=\"col_heading level0 col1\" >dType</th>\n",
       "      <th id=\"T_eef64_level0_col2\" class=\"col_heading level0 col2\" >%_Null</th>\n",
       "      <th id=\"T_eef64_level0_col3\" class=\"col_heading level0 col3\" >%_Dom</th>\n",
       "      <th id=\"T_eef64_level0_col4\" class=\"col_heading level0 col4\" >Count</th>\n",
       "      <th id=\"T_eef64_level0_col5\" class=\"col_heading level0 col5\" >Unique</th>\n",
       "      <th id=\"T_eef64_level0_col6\" class=\"col_heading level0 col6\" >Observations</th>\n",
       "    </tr>\n",
       "  </thead>\n",
       "  <tbody>\n",
       "    <tr>\n",
       "      <th id=\"T_eef64_level0_row0\" class=\"row_heading level0 row0\" >0</th>\n",
       "      <td id=\"T_eef64_row0_col0\" class=\"data row0 col0\" >age</td>\n",
       "      <td id=\"T_eef64_row0_col1\" class=\"data row0 col1\" >object</td>\n",
       "      <td id=\"T_eef64_row0_col2\" class=\"data row0 col2\" >20.1%</td>\n",
       "      <td id=\"T_eef64_row0_col3\" class=\"data row0 col3\" >20.1%</td>\n",
       "      <td id=\"T_eef64_row0_col4\" class=\"data row0 col4\" >1309</td>\n",
       "      <td id=\"T_eef64_row0_col5\" class=\"data row0 col5\" >99</td>\n",
       "      <td id=\"T_eef64_row0_col6\" class=\"data row0 col6\" >Sample: 24 | 22 | 21 | 30 | 18</td>\n",
       "    </tr>\n",
       "    <tr>\n",
       "      <th id=\"T_eef64_level0_row1\" class=\"row_heading level0 row1\" >1</th>\n",
       "      <td id=\"T_eef64_row1_col0\" class=\"data row1 col0\" >cabin</td>\n",
       "      <td id=\"T_eef64_row1_col1\" class=\"data row1 col1\" >object</td>\n",
       "      <td id=\"T_eef64_row1_col2\" class=\"data row1 col2\" >77.5%</td>\n",
       "      <td id=\"T_eef64_row1_col3\" class=\"data row1 col3\" >77.5%</td>\n",
       "      <td id=\"T_eef64_row1_col4\" class=\"data row1 col4\" >1309</td>\n",
       "      <td id=\"T_eef64_row1_col5\" class=\"data row1 col5\" >187</td>\n",
       "      <td id=\"T_eef64_row1_col6\" class=\"data row1 col6\" >Sample: C23 C25 C27 | G6 | B57 B59 B63 B66 | F4 | F33</td>\n",
       "    </tr>\n",
       "    <tr>\n",
       "      <th id=\"T_eef64_level0_row2\" class=\"row_heading level0 row2\" >2</th>\n",
       "      <td id=\"T_eef64_row2_col0\" class=\"data row2 col0\" >embarked</td>\n",
       "      <td id=\"T_eef64_row2_col1\" class=\"data row2 col1\" >object</td>\n",
       "      <td id=\"T_eef64_row2_col2\" class=\"data row2 col2\" >0.2%</td>\n",
       "      <td id=\"T_eef64_row2_col3\" class=\"data row2 col3\" >69.8%</td>\n",
       "      <td id=\"T_eef64_row2_col4\" class=\"data row2 col4\" >1309</td>\n",
       "      <td id=\"T_eef64_row2_col5\" class=\"data row2 col5\" >4</td>\n",
       "      <td id=\"T_eef64_row2_col6\" class=\"data row2 col6\" >Sample: S | C | Q</td>\n",
       "    </tr>\n",
       "    <tr>\n",
       "      <th id=\"T_eef64_level0_row3\" class=\"row_heading level0 row3\" >3</th>\n",
       "      <td id=\"T_eef64_row3_col0\" class=\"data row3 col0\" >fare</td>\n",
       "      <td id=\"T_eef64_row3_col1\" class=\"data row3 col1\" >object</td>\n",
       "      <td id=\"T_eef64_row3_col2\" class=\"data row3 col2\" >0.1%</td>\n",
       "      <td id=\"T_eef64_row3_col3\" class=\"data row3 col3\" >4.6%</td>\n",
       "      <td id=\"T_eef64_row3_col4\" class=\"data row3 col4\" >1309</td>\n",
       "      <td id=\"T_eef64_row3_col5\" class=\"data row3 col5\" >282</td>\n",
       "      <td id=\"T_eef64_row3_col6\" class=\"data row3 col6\" >Sample: 8.05 | 13 | 7.75 | 26 | 7.8958</td>\n",
       "    </tr>\n",
       "    <tr>\n",
       "      <th id=\"T_eef64_level0_row4\" class=\"row_heading level0 row4\" >4</th>\n",
       "      <td id=\"T_eef64_row4_col0\" class=\"data row4 col0\" >parch</td>\n",
       "      <td id=\"T_eef64_row4_col1\" class=\"data row4 col1\" >int64</td>\n",
       "      <td id=\"T_eef64_row4_col2\" class=\"data row4 col2\" >0.0%</td>\n",
       "      <td id=\"T_eef64_row4_col3\" class=\"data row4 col3\" >76.5%</td>\n",
       "      <td id=\"T_eef64_row4_col4\" class=\"data row4 col4\" >1309</td>\n",
       "      <td id=\"T_eef64_row4_col5\" class=\"data row4 col5\" >8</td>\n",
       "      <td id=\"T_eef64_row4_col6\" class=\"data row4 col6\" >max=9 | min=0 | mean=0.39 | dominant=0</td>\n",
       "    </tr>\n",
       "    <tr>\n",
       "      <th id=\"T_eef64_level0_row5\" class=\"row_heading level0 row5\" >5</th>\n",
       "      <td id=\"T_eef64_row5_col0\" class=\"data row5 col0\" >pclass</td>\n",
       "      <td id=\"T_eef64_row5_col1\" class=\"data row5 col1\" >int64</td>\n",
       "      <td id=\"T_eef64_row5_col2\" class=\"data row5 col2\" >0.0%</td>\n",
       "      <td id=\"T_eef64_row5_col3\" class=\"data row5 col3\" >54.2%</td>\n",
       "      <td id=\"T_eef64_row5_col4\" class=\"data row5 col4\" >1309</td>\n",
       "      <td id=\"T_eef64_row5_col5\" class=\"data row5 col5\" >3</td>\n",
       "      <td id=\"T_eef64_row5_col6\" class=\"data row5 col6\" >max=3 | min=1 | mean=2.29 | dominant=3</td>\n",
       "    </tr>\n",
       "    <tr>\n",
       "      <th id=\"T_eef64_level0_row6\" class=\"row_heading level0 row6\" >6</th>\n",
       "      <td id=\"T_eef64_row6_col0\" class=\"data row6 col0\" >sex</td>\n",
       "      <td id=\"T_eef64_row6_col1\" class=\"data row6 col1\" >object</td>\n",
       "      <td id=\"T_eef64_row6_col2\" class=\"data row6 col2\" >0.0%</td>\n",
       "      <td id=\"T_eef64_row6_col3\" class=\"data row6 col3\" >64.4%</td>\n",
       "      <td id=\"T_eef64_row6_col4\" class=\"data row6 col4\" >1309</td>\n",
       "      <td id=\"T_eef64_row6_col5\" class=\"data row6 col5\" >2</td>\n",
       "      <td id=\"T_eef64_row6_col6\" class=\"data row6 col6\" >Sample: male | female</td>\n",
       "    </tr>\n",
       "    <tr>\n",
       "      <th id=\"T_eef64_level0_row7\" class=\"row_heading level0 row7\" >7</th>\n",
       "      <td id=\"T_eef64_row7_col0\" class=\"data row7 col0\" >sibsp</td>\n",
       "      <td id=\"T_eef64_row7_col1\" class=\"data row7 col1\" >int64</td>\n",
       "      <td id=\"T_eef64_row7_col2\" class=\"data row7 col2\" >0.0%</td>\n",
       "      <td id=\"T_eef64_row7_col3\" class=\"data row7 col3\" >68.1%</td>\n",
       "      <td id=\"T_eef64_row7_col4\" class=\"data row7 col4\" >1309</td>\n",
       "      <td id=\"T_eef64_row7_col5\" class=\"data row7 col5\" >7</td>\n",
       "      <td id=\"T_eef64_row7_col6\" class=\"data row7 col6\" >max=8 | min=0 | mean=0.5 | dominant=0</td>\n",
       "    </tr>\n",
       "    <tr>\n",
       "      <th id=\"T_eef64_level0_row8\" class=\"row_heading level0 row8\" >8</th>\n",
       "      <td id=\"T_eef64_row8_col0\" class=\"data row8 col0\" >survived</td>\n",
       "      <td id=\"T_eef64_row8_col1\" class=\"data row8 col1\" >int64</td>\n",
       "      <td id=\"T_eef64_row8_col2\" class=\"data row8 col2\" >0.0%</td>\n",
       "      <td id=\"T_eef64_row8_col3\" class=\"data row8 col3\" >61.8%</td>\n",
       "      <td id=\"T_eef64_row8_col4\" class=\"data row8 col4\" >1309</td>\n",
       "      <td id=\"T_eef64_row8_col5\" class=\"data row8 col5\" >2</td>\n",
       "      <td id=\"T_eef64_row8_col6\" class=\"data row8 col6\" >max=1 | min=0 | mean=0.38 | dominant=0</td>\n",
       "    </tr>\n",
       "    <tr>\n",
       "      <th id=\"T_eef64_level0_row9\" class=\"row_heading level0 row9\" >9</th>\n",
       "      <td id=\"T_eef64_row9_col0\" class=\"data row9 col0\" >ticket</td>\n",
       "      <td id=\"T_eef64_row9_col1\" class=\"data row9 col1\" >object</td>\n",
       "      <td id=\"T_eef64_row9_col2\" class=\"data row9 col2\" >0.0%</td>\n",
       "      <td id=\"T_eef64_row9_col3\" class=\"data row9 col3\" >0.8%</td>\n",
       "      <td id=\"T_eef64_row9_col4\" class=\"data row9 col4\" >1309</td>\n",
       "      <td id=\"T_eef64_row9_col5\" class=\"data row9 col5\" >929</td>\n",
       "      <td id=\"T_eef64_row9_col6\" class=\"data row9 col6\" >Sample: CA. 2343 | 1601 | CA 2144 | PC 17608 | 347077</td>\n",
       "    </tr>\n",
       "  </tbody>\n",
       "</table>\n"
      ],
      "text/plain": [
       "<pandas.io.formats.style.Styler at 0x7f9e7ac9e220>"
      ]
     },
     "execution_count": 86,
     "metadata": {},
     "output_type": "execute_result"
    }
   ],
   "source": [
    "tr.canonical_report(tr.load_persist_canonical())"
   ]
  },
  {
   "cell_type": "markdown",
   "id": "3b041347",
   "metadata": {},
   "source": []
  },
  {
   "cell_type": "code",
   "execution_count": 87,
   "id": "74953069",
   "metadata": {},
   "outputs": [],
   "source": [
    "tr.run_component_pipeline()"
   ]
  },
  {
   "cell_type": "code",
   "execution_count": 88,
   "id": "85bb4d3a",
   "metadata": {
    "scrolled": true
   },
   "outputs": [
    {
     "data": {
      "text/html": [
       "<style type=\"text/css\">\n",
       "#T_02e1b th {\n",
       "  font-size: 120%;\n",
       "  text-align: center;\n",
       "}\n",
       "#T_02e1b .row_heading {\n",
       "  display: none;;\n",
       "}\n",
       "#T_02e1b  .blank {\n",
       "  display: none;;\n",
       "}\n",
       "#T_02e1b_row0_col0, #T_02e1b_row1_col0, #T_02e1b_row2_col0, #T_02e1b_row3_col0, #T_02e1b_row4_col0, #T_02e1b_row5_col0, #T_02e1b_row6_col0, #T_02e1b_row7_col0, #T_02e1b_row8_col0, #T_02e1b_row9_col0 {\n",
       "  font-weight: bold;\n",
       "  font-size: 120%;\n",
       "}\n",
       "#T_02e1b_row0_col1, #T_02e1b_row3_col1 {\n",
       "  color: #2f0f8a;\n",
       "}\n",
       "#T_02e1b_row0_col2, #T_02e1b_row0_col3, #T_02e1b_row1_col5, #T_02e1b_row2_col2, #T_02e1b_row3_col2, #T_02e1b_row3_col3, #T_02e1b_row3_col5, #T_02e1b_row4_col2, #T_02e1b_row5_col2, #T_02e1b_row5_col3, #T_02e1b_row6_col2, #T_02e1b_row6_col3, #T_02e1b_row7_col2, #T_02e1b_row8_col2, #T_02e1b_row8_col3, #T_02e1b_row9_col2, #T_02e1b_row9_col3, #T_02e1b_row9_col5 {\n",
       "  color: black;\n",
       "}\n",
       "#T_02e1b_row0_col5 {\n",
       "  background-color: #f0f9ed;\n",
       "  color: black;\n",
       "}\n",
       "#T_02e1b_row1_col1, #T_02e1b_row9_col1 {\n",
       "  color: #761d38;\n",
       "}\n",
       "#T_02e1b_row1_col2, #T_02e1b_row1_col3, #T_02e1b_row2_col3, #T_02e1b_row4_col3, #T_02e1b_row7_col3 {\n",
       "  background-color: #ffede5;\n",
       "  color: black;\n",
       "}\n",
       "#T_02e1b_row2_col1, #T_02e1b_row6_col1 {\n",
       "  color: #208a0f;\n",
       "}\n",
       "#T_02e1b_row2_col5, #T_02e1b_row5_col5 {\n",
       "  background-color: #84cc83;\n",
       "  color: black;\n",
       "}\n",
       "#T_02e1b_row4_col1, #T_02e1b_row5_col1, #T_02e1b_row7_col1, #T_02e1b_row8_col1 {\n",
       "  color: #0f398a;\n",
       "}\n",
       "#T_02e1b_row4_col5, #T_02e1b_row7_col5 {\n",
       "  background-color: #a4da9e;\n",
       "  color: black;\n",
       "}\n",
       "#T_02e1b_row6_col5, #T_02e1b_row8_col5 {\n",
       "  background-color: #a1cbe2;\n",
       "  color: black;\n",
       "}\n",
       "</style>\n",
       "<table id=\"T_02e1b\">\n",
       "  <caption>%_Dom: The % most dominant element </caption>\n",
       "  <thead>\n",
       "    <tr>\n",
       "      <th class=\"blank level0\" >&nbsp;</th>\n",
       "      <th id=\"T_02e1b_level0_col0\" class=\"col_heading level0 col0\" >Attributes (10)</th>\n",
       "      <th id=\"T_02e1b_level0_col1\" class=\"col_heading level0 col1\" >dType</th>\n",
       "      <th id=\"T_02e1b_level0_col2\" class=\"col_heading level0 col2\" >%_Null</th>\n",
       "      <th id=\"T_02e1b_level0_col3\" class=\"col_heading level0 col3\" >%_Dom</th>\n",
       "      <th id=\"T_02e1b_level0_col4\" class=\"col_heading level0 col4\" >Count</th>\n",
       "      <th id=\"T_02e1b_level0_col5\" class=\"col_heading level0 col5\" >Unique</th>\n",
       "      <th id=\"T_02e1b_level0_col6\" class=\"col_heading level0 col6\" >Observations</th>\n",
       "    </tr>\n",
       "  </thead>\n",
       "  <tbody>\n",
       "    <tr>\n",
       "      <th id=\"T_02e1b_level0_row0\" class=\"row_heading level0 row0\" >0</th>\n",
       "      <td id=\"T_02e1b_row0_col0\" class=\"data row0 col0\" >age</td>\n",
       "      <td id=\"T_02e1b_row0_col1\" class=\"data row0 col1\" >float64</td>\n",
       "      <td id=\"T_02e1b_row0_col2\" class=\"data row0 col2\" >20.1%</td>\n",
       "      <td id=\"T_02e1b_row0_col3\" class=\"data row0 col3\" >20.1%</td>\n",
       "      <td id=\"T_02e1b_row0_col4\" class=\"data row0 col4\" >1309</td>\n",
       "      <td id=\"T_02e1b_row0_col5\" class=\"data row0 col5\" >99</td>\n",
       "      <td id=\"T_02e1b_row0_col6\" class=\"data row0 col6\" >max=80.0 | min=0.1667 | mean=29.88 | dominant=24.0</td>\n",
       "    </tr>\n",
       "    <tr>\n",
       "      <th id=\"T_02e1b_level0_row1\" class=\"row_heading level0 row1\" >1</th>\n",
       "      <td id=\"T_02e1b_row1_col0\" class=\"data row1 col0\" >cabin</td>\n",
       "      <td id=\"T_02e1b_row1_col1\" class=\"data row1 col1\" >string</td>\n",
       "      <td id=\"T_02e1b_row1_col2\" class=\"data row1 col2\" >77.5%</td>\n",
       "      <td id=\"T_02e1b_row1_col3\" class=\"data row1 col3\" >77.5%</td>\n",
       "      <td id=\"T_02e1b_row1_col4\" class=\"data row1 col4\" >1309</td>\n",
       "      <td id=\"T_02e1b_row1_col5\" class=\"data row1 col5\" >187</td>\n",
       "      <td id=\"T_02e1b_row1_col6\" class=\"data row1 col6\" >Sample: C23 C25 C27 | G6 | B57 B59 B63 B66 | F4 | F33</td>\n",
       "    </tr>\n",
       "    <tr>\n",
       "      <th id=\"T_02e1b_level0_row2\" class=\"row_heading level0 row2\" >2</th>\n",
       "      <td id=\"T_02e1b_row2_col0\" class=\"data row2 col0\" >embarked</td>\n",
       "      <td id=\"T_02e1b_row2_col1\" class=\"data row2 col1\" >category</td>\n",
       "      <td id=\"T_02e1b_row2_col2\" class=\"data row2 col2\" >0.0%</td>\n",
       "      <td id=\"T_02e1b_row2_col3\" class=\"data row2 col3\" >69.8%</td>\n",
       "      <td id=\"T_02e1b_row2_col4\" class=\"data row2 col4\" >1309</td>\n",
       "      <td id=\"T_02e1b_row2_col5\" class=\"data row2 col5\" >4</td>\n",
       "      <td id=\"T_02e1b_row2_col6\" class=\"data row2 col6\" >Sample: S | C | Q | nan</td>\n",
       "    </tr>\n",
       "    <tr>\n",
       "      <th id=\"T_02e1b_level0_row3\" class=\"row_heading level0 row3\" >3</th>\n",
       "      <td id=\"T_02e1b_row3_col0\" class=\"data row3 col0\" >fare</td>\n",
       "      <td id=\"T_02e1b_row3_col1\" class=\"data row3 col1\" >float64</td>\n",
       "      <td id=\"T_02e1b_row3_col2\" class=\"data row3 col2\" >0.1%</td>\n",
       "      <td id=\"T_02e1b_row3_col3\" class=\"data row3 col3\" >4.6%</td>\n",
       "      <td id=\"T_02e1b_row3_col4\" class=\"data row3 col4\" >1309</td>\n",
       "      <td id=\"T_02e1b_row3_col5\" class=\"data row3 col5\" >282</td>\n",
       "      <td id=\"T_02e1b_row3_col6\" class=\"data row3 col6\" >max=512.3292 | min=0.0 | mean=33.3 | dominant=8.05</td>\n",
       "    </tr>\n",
       "    <tr>\n",
       "      <th id=\"T_02e1b_level0_row4\" class=\"row_heading level0 row4\" >4</th>\n",
       "      <td id=\"T_02e1b_row4_col0\" class=\"data row4 col0\" >parch</td>\n",
       "      <td id=\"T_02e1b_row4_col1\" class=\"data row4 col1\" >int64</td>\n",
       "      <td id=\"T_02e1b_row4_col2\" class=\"data row4 col2\" >0.0%</td>\n",
       "      <td id=\"T_02e1b_row4_col3\" class=\"data row4 col3\" >76.5%</td>\n",
       "      <td id=\"T_02e1b_row4_col4\" class=\"data row4 col4\" >1309</td>\n",
       "      <td id=\"T_02e1b_row4_col5\" class=\"data row4 col5\" >8</td>\n",
       "      <td id=\"T_02e1b_row4_col6\" class=\"data row4 col6\" >max=9 | min=0 | mean=0.39 | dominant=0</td>\n",
       "    </tr>\n",
       "    <tr>\n",
       "      <th id=\"T_02e1b_level0_row5\" class=\"row_heading level0 row5\" >5</th>\n",
       "      <td id=\"T_02e1b_row5_col0\" class=\"data row5 col0\" >pclass</td>\n",
       "      <td id=\"T_02e1b_row5_col1\" class=\"data row5 col1\" >int64</td>\n",
       "      <td id=\"T_02e1b_row5_col2\" class=\"data row5 col2\" >0.0%</td>\n",
       "      <td id=\"T_02e1b_row5_col3\" class=\"data row5 col3\" >54.2%</td>\n",
       "      <td id=\"T_02e1b_row5_col4\" class=\"data row5 col4\" >1309</td>\n",
       "      <td id=\"T_02e1b_row5_col5\" class=\"data row5 col5\" >3</td>\n",
       "      <td id=\"T_02e1b_row5_col6\" class=\"data row5 col6\" >max=3 | min=1 | mean=2.29 | dominant=3</td>\n",
       "    </tr>\n",
       "    <tr>\n",
       "      <th id=\"T_02e1b_level0_row6\" class=\"row_heading level0 row6\" >6</th>\n",
       "      <td id=\"T_02e1b_row6_col0\" class=\"data row6 col0\" >sex</td>\n",
       "      <td id=\"T_02e1b_row6_col1\" class=\"data row6 col1\" >category</td>\n",
       "      <td id=\"T_02e1b_row6_col2\" class=\"data row6 col2\" >0.0%</td>\n",
       "      <td id=\"T_02e1b_row6_col3\" class=\"data row6 col3\" >64.4%</td>\n",
       "      <td id=\"T_02e1b_row6_col4\" class=\"data row6 col4\" >1309</td>\n",
       "      <td id=\"T_02e1b_row6_col5\" class=\"data row6 col5\" >2</td>\n",
       "      <td id=\"T_02e1b_row6_col6\" class=\"data row6 col6\" >Sample: male | female</td>\n",
       "    </tr>\n",
       "    <tr>\n",
       "      <th id=\"T_02e1b_level0_row7\" class=\"row_heading level0 row7\" >7</th>\n",
       "      <td id=\"T_02e1b_row7_col0\" class=\"data row7 col0\" >sibsp</td>\n",
       "      <td id=\"T_02e1b_row7_col1\" class=\"data row7 col1\" >int64</td>\n",
       "      <td id=\"T_02e1b_row7_col2\" class=\"data row7 col2\" >0.0%</td>\n",
       "      <td id=\"T_02e1b_row7_col3\" class=\"data row7 col3\" >68.1%</td>\n",
       "      <td id=\"T_02e1b_row7_col4\" class=\"data row7 col4\" >1309</td>\n",
       "      <td id=\"T_02e1b_row7_col5\" class=\"data row7 col5\" >7</td>\n",
       "      <td id=\"T_02e1b_row7_col6\" class=\"data row7 col6\" >max=8 | min=0 | mean=0.5 | dominant=0</td>\n",
       "    </tr>\n",
       "    <tr>\n",
       "      <th id=\"T_02e1b_level0_row8\" class=\"row_heading level0 row8\" >8</th>\n",
       "      <td id=\"T_02e1b_row8_col0\" class=\"data row8 col0\" >survived</td>\n",
       "      <td id=\"T_02e1b_row8_col1\" class=\"data row8 col1\" >int64</td>\n",
       "      <td id=\"T_02e1b_row8_col2\" class=\"data row8 col2\" >0.0%</td>\n",
       "      <td id=\"T_02e1b_row8_col3\" class=\"data row8 col3\" >61.8%</td>\n",
       "      <td id=\"T_02e1b_row8_col4\" class=\"data row8 col4\" >1309</td>\n",
       "      <td id=\"T_02e1b_row8_col5\" class=\"data row8 col5\" >2</td>\n",
       "      <td id=\"T_02e1b_row8_col6\" class=\"data row8 col6\" >max=1 | min=0 | mean=0.38 | dominant=0</td>\n",
       "    </tr>\n",
       "    <tr>\n",
       "      <th id=\"T_02e1b_level0_row9\" class=\"row_heading level0 row9\" >9</th>\n",
       "      <td id=\"T_02e1b_row9_col0\" class=\"data row9 col0\" >ticket</td>\n",
       "      <td id=\"T_02e1b_row9_col1\" class=\"data row9 col1\" >string</td>\n",
       "      <td id=\"T_02e1b_row9_col2\" class=\"data row9 col2\" >0.0%</td>\n",
       "      <td id=\"T_02e1b_row9_col3\" class=\"data row9 col3\" >0.8%</td>\n",
       "      <td id=\"T_02e1b_row9_col4\" class=\"data row9 col4\" >1309</td>\n",
       "      <td id=\"T_02e1b_row9_col5\" class=\"data row9 col5\" >929</td>\n",
       "      <td id=\"T_02e1b_row9_col6\" class=\"data row9 col6\" >Sample: CA. 2343 | 1601 | CA 2144 | PC 17608 | 347077</td>\n",
       "    </tr>\n",
       "  </tbody>\n",
       "</table>\n"
      ],
      "text/plain": [
       "<pandas.io.formats.style.Styler at 0x7f9e7bdb2190>"
      ]
     },
     "execution_count": 88,
     "metadata": {},
     "output_type": "execute_result"
    }
   ],
   "source": [
    "tr.canonical_report(tr.load_persist_canonical())"
   ]
  },
  {
   "cell_type": "code",
   "execution_count": null,
   "id": "455b9ab5",
   "metadata": {},
   "outputs": [],
   "source": []
  }
 ],
 "metadata": {
  "kernelspec": {
   "display_name": "Python 3 (ipykernel)",
   "language": "python",
   "name": "python3"
  },
  "language_info": {
   "codemirror_mode": {
    "name": "ipython",
    "version": 3
   },
   "file_extension": ".py",
   "mimetype": "text/x-python",
   "name": "python",
   "nbconvert_exporter": "python",
   "pygments_lexer": "ipython3",
   "version": "3.9.12"
  }
 },
 "nbformat": 4,
 "nbformat_minor": 5
}
