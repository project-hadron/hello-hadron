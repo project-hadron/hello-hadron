{
 "cells": [
  {
   "cell_type": "markdown",
   "id": "dc1bc237",
   "metadata": {},
   "source": [
    "<cite>Darryl Oatridge, August 2022<cite>"
   ]
  },
  {
   "cell_type": "markdown",
   "id": "d8c50cf4",
   "metadata": {},
   "source": [
    "## Building a Pipeline\n",
    "Now we know what a component looks like we can start to build the pipeline adding in actions or intent that gives the component purpose.  \n",
    "\n",
    "The first component we will build as part of the pipeline is the data selection component with the class name  Transition.  This component provides a set of Intent that focuses on tidying raw data by removing data columns that are not useful to the final feature set.  These may include null columns, single value columns, duplicate columns and noise etc.  We can also ensure the data is properly canonicalised through enforcing data typing.\n",
    "\n",
    "Before we do that, and as shown in the previous section, we now use the environment variables to define the location of the Domain Contract and datastore.\n"
   ]
  },
  {
   "cell_type": "code",
   "execution_count": 1,
   "id": "77e90ce3",
   "metadata": {},
   "outputs": [],
   "source": [
    "import os "
   ]
  },
  {
   "cell_type": "code",
   "execution_count": 2,
   "id": "9f20228b",
   "metadata": {},
   "outputs": [],
   "source": [
    "os.environ['HADRON_PM_PATH'] = '0_hello_meta/demo/contracts'\n",
    "os.environ['HADRON_DEFAULT_PATH'] = '0_hello_meta/demo/data'"
   ]
  },
  {
   "cell_type": "markdown",
   "id": "6b7e8716",
   "metadata": {},
   "source": [
    "For the feature selection we are using the Transition component with the ability to select the correct columns from raw data, potentially reducing the column count.  In addition the Transistioning component extends the common reporting tools and provides additional functionality for identifying quality, quantity, veracity and availability.\n",
    "\n",
    "It should be worth noting we are creating a new component and as such must set up the input and the output of the component. "
   ]
  },
  {
   "cell_type": "code",
   "execution_count": 3,
   "id": "dbf3056b",
   "metadata": {},
   "outputs": [],
   "source": [
    "from ds_discovery import Transition"
   ]
  },
  {
   "cell_type": "code",
   "execution_count": 4,
   "id": "70b8c4a8",
   "metadata": {},
   "outputs": [],
   "source": [
    "# get the instance\n",
    "tr = Transition.from_env('hello_tr', has_contract=False)"
   ]
  },
  {
   "cell_type": "code",
   "execution_count": 5,
   "id": "b04cbdf9",
   "metadata": {},
   "outputs": [],
   "source": [
    "tr.set_source_uri('https://www.openml.org/data/get_csv/16826755/phpMYEkMl.csv')\n",
    "tr.set_persist()"
   ]
  },
  {
   "cell_type": "markdown",
   "id": "ce7d6426",
   "metadata": {},
   "source": [
    "### Adding Intent\n",
    "At the core of a component is its tasks, in other words how it changes incoming data into a different data outcome. To achieve this we use the components Intent.  Intent is a finate set of methods, unique to each component, that can be applied to the raw data in order to change it in a way that is useful to the outcome of the task. The intent is used individually and selectively to ensure that each outcome is tailored to its specific needs.\n",
    "\n",
    "Firstly load the raw data."
   ]
  },
  {
   "cell_type": "code",
   "execution_count": 6,
   "id": "85bde869",
   "metadata": {},
   "outputs": [],
   "source": [
    "df = tr.load_source_canonical()"
   ]
  },
  {
   "cell_type": "markdown",
   "id": "7909c458",
   "metadata": {},
   "source": [
    "In the first instance through the reporting we observed that empty cells have been replaced by a `?`.  Here we can use our `auto_reinstate_nulls` to replace all the obfusacted cells with nulls.  In addition we can immediately observe columns that are inappropriate for our needs.  In this case we do not need to know the name of the traveller."
   ]
  },
  {
   "cell_type": "code",
   "execution_count": 7,
   "id": "4c714615",
   "metadata": {},
   "outputs": [],
   "source": [
    "# returns obfusacted nulls\n",
    "df = tr.tools.auto_reinstate_nulls(df, nulls_list=['?'])\n",
    "# removes data columns of no interest\n",
    "df = tr.tools.to_remove(df, headers=['name'])"
   ]
  },
  {
   "cell_type": "markdown",
   "id": "e54b40c9",
   "metadata": {},
   "source": [
    "By now using the Intent Report we can see the selection made to this point. "
   ]
  },
  {
   "cell_type": "code",
   "execution_count": 8,
   "id": "f16b73e6",
   "metadata": {},
   "outputs": [
    {
     "data": {
      "text/html": [
       "<style type=\"text/css\">\n",
       "#T_6a967 th {\n",
       "  font-size: 120%;\n",
       "  text-align: center;\n",
       "}\n",
       "#T_6a967 .row_heading {\n",
       "  display: none;;\n",
       "}\n",
       "#T_6a967  .blank {\n",
       "  display: none;;\n",
       "}\n",
       "#T_6a967_row0_col0, #T_6a967_row1_col0 {\n",
       "  text-align: left;\n",
       "  font-weight: bold;\n",
       "  font-size: 120%;\n",
       "}\n",
       "#T_6a967_row0_col1, #T_6a967_row0_col2, #T_6a967_row0_col3, #T_6a967_row0_col4, #T_6a967_row1_col1, #T_6a967_row1_col2, #T_6a967_row1_col3, #T_6a967_row1_col4 {\n",
       "  text-align: left;\n",
       "}\n",
       "</style>\n",
       "<table id=\"T_6a967\">\n",
       "  <thead>\n",
       "    <tr>\n",
       "      <th class=\"blank level0\" >&nbsp;</th>\n",
       "      <th id=\"T_6a967_level0_col0\" class=\"col_heading level0 col0\" >level</th>\n",
       "      <th id=\"T_6a967_level0_col1\" class=\"col_heading level0 col1\" >order</th>\n",
       "      <th id=\"T_6a967_level0_col2\" class=\"col_heading level0 col2\" >intent</th>\n",
       "      <th id=\"T_6a967_level0_col3\" class=\"col_heading level0 col3\" >parameters</th>\n",
       "      <th id=\"T_6a967_level0_col4\" class=\"col_heading level0 col4\" >creator</th>\n",
       "    </tr>\n",
       "  </thead>\n",
       "  <tbody>\n",
       "    <tr>\n",
       "      <th id=\"T_6a967_level0_row0\" class=\"row_heading level0 row0\" >0</th>\n",
       "      <td id=\"T_6a967_row0_col0\" class=\"data row0 col0\" >base</td>\n",
       "      <td id=\"T_6a967_row0_col1\" class=\"data row0 col1\" >0</td>\n",
       "      <td id=\"T_6a967_row0_col2\" class=\"data row0 col2\" >auto_reinstate_nulls</td>\n",
       "      <td id=\"T_6a967_row0_col3\" class=\"data row0 col3\" >[\"nulls_list=['?']\"]</td>\n",
       "      <td id=\"T_6a967_row0_col4\" class=\"data row0 col4\" >doatridge</td>\n",
       "    </tr>\n",
       "    <tr>\n",
       "      <th id=\"T_6a967_level0_row1\" class=\"row_heading level0 row1\" >1</th>\n",
       "      <td id=\"T_6a967_row1_col0\" class=\"data row1 col0\" ></td>\n",
       "      <td id=\"T_6a967_row1_col1\" class=\"data row1 col1\" >0</td>\n",
       "      <td id=\"T_6a967_row1_col2\" class=\"data row1 col2\" >to_remove</td>\n",
       "      <td id=\"T_6a967_row1_col3\" class=\"data row1 col3\" >[\"headers=['name']\"]</td>\n",
       "      <td id=\"T_6a967_row1_col4\" class=\"data row1 col4\" >doatridge</td>\n",
       "    </tr>\n",
       "  </tbody>\n",
       "</table>\n"
      ],
      "text/plain": [
       "<pandas.io.formats.style.Styler at 0x7f868ea5ed40>"
      ]
     },
     "execution_count": 8,
     "metadata": {},
     "output_type": "execute_result"
    }
   ],
   "source": [
    "tr.report_intent()"
   ]
  },
  {
   "cell_type": "markdown",
   "id": "0129aa48",
   "metadata": {},
   "source": [
    "We can now run the pipeline and use the canonical report to observe the outcome.  From it we can see the nulls column now indicates the number of nulls in each column correctly so we can deal with them later.  We have also removed `name`."
   ]
  },
  {
   "cell_type": "code",
   "execution_count": 9,
   "id": "66142e7d",
   "metadata": {
    "scrolled": true
   },
   "outputs": [
    {
     "data": {
      "text/html": [
       "<style type=\"text/css\">\n",
       "#T_a4f8e th {\n",
       "  font-size: 120%;\n",
       "  text-align: center;\n",
       "}\n",
       "#T_a4f8e .row_heading {\n",
       "  display: none;;\n",
       "}\n",
       "#T_a4f8e  .blank {\n",
       "  display: none;;\n",
       "}\n",
       "#T_a4f8e_row0_col0, #T_a4f8e_row1_col0, #T_a4f8e_row2_col0, #T_a4f8e_row3_col0, #T_a4f8e_row4_col0, #T_a4f8e_row5_col0, #T_a4f8e_row6_col0, #T_a4f8e_row7_col0, #T_a4f8e_row8_col0, #T_a4f8e_row9_col0, #T_a4f8e_row10_col0, #T_a4f8e_row11_col0, #T_a4f8e_row12_col0 {\n",
       "  font-weight: bold;\n",
       "  font-size: 120%;\n",
       "}\n",
       "#T_a4f8e_row0_col2, #T_a4f8e_row0_col3, #T_a4f8e_row1_col2, #T_a4f8e_row1_col3, #T_a4f8e_row2_col5, #T_a4f8e_row3_col5, #T_a4f8e_row4_col2, #T_a4f8e_row5_col2, #T_a4f8e_row5_col3, #T_a4f8e_row5_col5, #T_a4f8e_row6_col2, #T_a4f8e_row6_col3, #T_a4f8e_row6_col5, #T_a4f8e_row7_col2, #T_a4f8e_row8_col2, #T_a4f8e_row8_col3, #T_a4f8e_row9_col2, #T_a4f8e_row9_col3, #T_a4f8e_row10_col2, #T_a4f8e_row11_col2, #T_a4f8e_row11_col3, #T_a4f8e_row12_col2, #T_a4f8e_row12_col3, #T_a4f8e_row12_col5 {\n",
       "  color: black;\n",
       "}\n",
       "#T_a4f8e_row0_col5 {\n",
       "  background-color: #f0f9ed;\n",
       "  color: black;\n",
       "}\n",
       "#T_a4f8e_row1_col5 {\n",
       "  background-color: #e5f5e0;\n",
       "  color: black;\n",
       "}\n",
       "#T_a4f8e_row2_col2, #T_a4f8e_row2_col3 {\n",
       "  background-color: #fcb499;\n",
       "  color: black;\n",
       "}\n",
       "#T_a4f8e_row3_col2, #T_a4f8e_row3_col3, #T_a4f8e_row4_col3, #T_a4f8e_row7_col3, #T_a4f8e_row10_col3 {\n",
       "  background-color: #ffede5;\n",
       "  color: black;\n",
       "}\n",
       "#T_a4f8e_row4_col5, #T_a4f8e_row8_col5 {\n",
       "  background-color: #84cc83;\n",
       "  color: black;\n",
       "}\n",
       "#T_a4f8e_row7_col1, #T_a4f8e_row8_col1, #T_a4f8e_row10_col1, #T_a4f8e_row11_col1 {\n",
       "  color: #0f398a;\n",
       "}\n",
       "#T_a4f8e_row7_col5, #T_a4f8e_row10_col5 {\n",
       "  background-color: #a4da9e;\n",
       "  color: black;\n",
       "}\n",
       "#T_a4f8e_row9_col5, #T_a4f8e_row11_col5 {\n",
       "  background-color: #a1cbe2;\n",
       "  color: black;\n",
       "}\n",
       "</style>\n",
       "<table id=\"T_a4f8e\">\n",
       "  <caption>%_Dom: The % most dominant element </caption>\n",
       "  <thead>\n",
       "    <tr>\n",
       "      <th class=\"blank level0\" >&nbsp;</th>\n",
       "      <th id=\"T_a4f8e_level0_col0\" class=\"col_heading level0 col0\" >Attributes (13)</th>\n",
       "      <th id=\"T_a4f8e_level0_col1\" class=\"col_heading level0 col1\" >dType</th>\n",
       "      <th id=\"T_a4f8e_level0_col2\" class=\"col_heading level0 col2\" >%_Null</th>\n",
       "      <th id=\"T_a4f8e_level0_col3\" class=\"col_heading level0 col3\" >%_Dom</th>\n",
       "      <th id=\"T_a4f8e_level0_col4\" class=\"col_heading level0 col4\" >Count</th>\n",
       "      <th id=\"T_a4f8e_level0_col5\" class=\"col_heading level0 col5\" >Unique</th>\n",
       "      <th id=\"T_a4f8e_level0_col6\" class=\"col_heading level0 col6\" >Observations</th>\n",
       "    </tr>\n",
       "  </thead>\n",
       "  <tbody>\n",
       "    <tr>\n",
       "      <th id=\"T_a4f8e_level0_row0\" class=\"row_heading level0 row0\" >0</th>\n",
       "      <td id=\"T_a4f8e_row0_col0\" class=\"data row0 col0\" >age</td>\n",
       "      <td id=\"T_a4f8e_row0_col1\" class=\"data row0 col1\" >object</td>\n",
       "      <td id=\"T_a4f8e_row0_col2\" class=\"data row0 col2\" >20.1%</td>\n",
       "      <td id=\"T_a4f8e_row0_col3\" class=\"data row0 col3\" >20.1%</td>\n",
       "      <td id=\"T_a4f8e_row0_col4\" class=\"data row0 col4\" >1309</td>\n",
       "      <td id=\"T_a4f8e_row0_col5\" class=\"data row0 col5\" >99</td>\n",
       "      <td id=\"T_a4f8e_row0_col6\" class=\"data row0 col6\" >Sample: 24 | 22 | 21 | 30 | 18</td>\n",
       "    </tr>\n",
       "    <tr>\n",
       "      <th id=\"T_a4f8e_level0_row1\" class=\"row_heading level0 row1\" >1</th>\n",
       "      <td id=\"T_a4f8e_row1_col0\" class=\"data row1 col0\" >boat</td>\n",
       "      <td id=\"T_a4f8e_row1_col1\" class=\"data row1 col1\" >object</td>\n",
       "      <td id=\"T_a4f8e_row1_col2\" class=\"data row1 col2\" >62.9%</td>\n",
       "      <td id=\"T_a4f8e_row1_col3\" class=\"data row1 col3\" >62.9%</td>\n",
       "      <td id=\"T_a4f8e_row1_col4\" class=\"data row1 col4\" >1309</td>\n",
       "      <td id=\"T_a4f8e_row1_col5\" class=\"data row1 col5\" >28</td>\n",
       "      <td id=\"T_a4f8e_row1_col6\" class=\"data row1 col6\" >Sample: 13 | C | 15 | 14 | 4</td>\n",
       "    </tr>\n",
       "    <tr>\n",
       "      <th id=\"T_a4f8e_level0_row2\" class=\"row_heading level0 row2\" >2</th>\n",
       "      <td id=\"T_a4f8e_row2_col0\" class=\"data row2 col0\" >body</td>\n",
       "      <td id=\"T_a4f8e_row2_col1\" class=\"data row2 col1\" >object</td>\n",
       "      <td id=\"T_a4f8e_row2_col2\" class=\"data row2 col2\" >90.8%</td>\n",
       "      <td id=\"T_a4f8e_row2_col3\" class=\"data row2 col3\" >90.8%</td>\n",
       "      <td id=\"T_a4f8e_row2_col4\" class=\"data row2 col4\" >1309</td>\n",
       "      <td id=\"T_a4f8e_row2_col5\" class=\"data row2 col5\" >122</td>\n",
       "      <td id=\"T_a4f8e_row2_col6\" class=\"data row2 col6\" >Sample: 135 | 101 | 37 | 285 | 156</td>\n",
       "    </tr>\n",
       "    <tr>\n",
       "      <th id=\"T_a4f8e_level0_row3\" class=\"row_heading level0 row3\" >3</th>\n",
       "      <td id=\"T_a4f8e_row3_col0\" class=\"data row3 col0\" >cabin</td>\n",
       "      <td id=\"T_a4f8e_row3_col1\" class=\"data row3 col1\" >object</td>\n",
       "      <td id=\"T_a4f8e_row3_col2\" class=\"data row3 col2\" >77.5%</td>\n",
       "      <td id=\"T_a4f8e_row3_col3\" class=\"data row3 col3\" >77.5%</td>\n",
       "      <td id=\"T_a4f8e_row3_col4\" class=\"data row3 col4\" >1309</td>\n",
       "      <td id=\"T_a4f8e_row3_col5\" class=\"data row3 col5\" >187</td>\n",
       "      <td id=\"T_a4f8e_row3_col6\" class=\"data row3 col6\" >Sample: C23 C25 C27 | G6 | B57 B59 B63 B66 | F4 | F33</td>\n",
       "    </tr>\n",
       "    <tr>\n",
       "      <th id=\"T_a4f8e_level0_row4\" class=\"row_heading level0 row4\" >4</th>\n",
       "      <td id=\"T_a4f8e_row4_col0\" class=\"data row4 col0\" >embarked</td>\n",
       "      <td id=\"T_a4f8e_row4_col1\" class=\"data row4 col1\" >object</td>\n",
       "      <td id=\"T_a4f8e_row4_col2\" class=\"data row4 col2\" >0.2%</td>\n",
       "      <td id=\"T_a4f8e_row4_col3\" class=\"data row4 col3\" >69.8%</td>\n",
       "      <td id=\"T_a4f8e_row4_col4\" class=\"data row4 col4\" >1309</td>\n",
       "      <td id=\"T_a4f8e_row4_col5\" class=\"data row4 col5\" >4</td>\n",
       "      <td id=\"T_a4f8e_row4_col6\" class=\"data row4 col6\" >Sample: S | C | Q</td>\n",
       "    </tr>\n",
       "    <tr>\n",
       "      <th id=\"T_a4f8e_level0_row5\" class=\"row_heading level0 row5\" >5</th>\n",
       "      <td id=\"T_a4f8e_row5_col0\" class=\"data row5 col0\" >fare</td>\n",
       "      <td id=\"T_a4f8e_row5_col1\" class=\"data row5 col1\" >object</td>\n",
       "      <td id=\"T_a4f8e_row5_col2\" class=\"data row5 col2\" >0.1%</td>\n",
       "      <td id=\"T_a4f8e_row5_col3\" class=\"data row5 col3\" >4.6%</td>\n",
       "      <td id=\"T_a4f8e_row5_col4\" class=\"data row5 col4\" >1309</td>\n",
       "      <td id=\"T_a4f8e_row5_col5\" class=\"data row5 col5\" >282</td>\n",
       "      <td id=\"T_a4f8e_row5_col6\" class=\"data row5 col6\" >Sample: 8.05 | 13 | 7.75 | 26 | 7.8958</td>\n",
       "    </tr>\n",
       "    <tr>\n",
       "      <th id=\"T_a4f8e_level0_row6\" class=\"row_heading level0 row6\" >6</th>\n",
       "      <td id=\"T_a4f8e_row6_col0\" class=\"data row6 col0\" >home.dest</td>\n",
       "      <td id=\"T_a4f8e_row6_col1\" class=\"data row6 col1\" >object</td>\n",
       "      <td id=\"T_a4f8e_row6_col2\" class=\"data row6 col2\" >43.1%</td>\n",
       "      <td id=\"T_a4f8e_row6_col3\" class=\"data row6 col3\" >43.1%</td>\n",
       "      <td id=\"T_a4f8e_row6_col4\" class=\"data row6 col4\" >1309</td>\n",
       "      <td id=\"T_a4f8e_row6_col5\" class=\"data row6 col5\" >370</td>\n",
       "      <td id=\"T_a4f8e_row6_col6\" class=\"data row6 col6\" >Sample: New York, NY | London | Montreal, PQ | Paris, France | Cornwall / Akron, OH</td>\n",
       "    </tr>\n",
       "    <tr>\n",
       "      <th id=\"T_a4f8e_level0_row7\" class=\"row_heading level0 row7\" >7</th>\n",
       "      <td id=\"T_a4f8e_row7_col0\" class=\"data row7 col0\" >parch</td>\n",
       "      <td id=\"T_a4f8e_row7_col1\" class=\"data row7 col1\" >int64</td>\n",
       "      <td id=\"T_a4f8e_row7_col2\" class=\"data row7 col2\" >0.0%</td>\n",
       "      <td id=\"T_a4f8e_row7_col3\" class=\"data row7 col3\" >76.5%</td>\n",
       "      <td id=\"T_a4f8e_row7_col4\" class=\"data row7 col4\" >1309</td>\n",
       "      <td id=\"T_a4f8e_row7_col5\" class=\"data row7 col5\" >8</td>\n",
       "      <td id=\"T_a4f8e_row7_col6\" class=\"data row7 col6\" >max=9 | min=0 | mean=0.39 | dominant=0</td>\n",
       "    </tr>\n",
       "    <tr>\n",
       "      <th id=\"T_a4f8e_level0_row8\" class=\"row_heading level0 row8\" >8</th>\n",
       "      <td id=\"T_a4f8e_row8_col0\" class=\"data row8 col0\" >pclass</td>\n",
       "      <td id=\"T_a4f8e_row8_col1\" class=\"data row8 col1\" >int64</td>\n",
       "      <td id=\"T_a4f8e_row8_col2\" class=\"data row8 col2\" >0.0%</td>\n",
       "      <td id=\"T_a4f8e_row8_col3\" class=\"data row8 col3\" >54.2%</td>\n",
       "      <td id=\"T_a4f8e_row8_col4\" class=\"data row8 col4\" >1309</td>\n",
       "      <td id=\"T_a4f8e_row8_col5\" class=\"data row8 col5\" >3</td>\n",
       "      <td id=\"T_a4f8e_row8_col6\" class=\"data row8 col6\" >max=3 | min=1 | mean=2.29 | dominant=3</td>\n",
       "    </tr>\n",
       "    <tr>\n",
       "      <th id=\"T_a4f8e_level0_row9\" class=\"row_heading level0 row9\" >9</th>\n",
       "      <td id=\"T_a4f8e_row9_col0\" class=\"data row9 col0\" >sex</td>\n",
       "      <td id=\"T_a4f8e_row9_col1\" class=\"data row9 col1\" >object</td>\n",
       "      <td id=\"T_a4f8e_row9_col2\" class=\"data row9 col2\" >0.0%</td>\n",
       "      <td id=\"T_a4f8e_row9_col3\" class=\"data row9 col3\" >64.4%</td>\n",
       "      <td id=\"T_a4f8e_row9_col4\" class=\"data row9 col4\" >1309</td>\n",
       "      <td id=\"T_a4f8e_row9_col5\" class=\"data row9 col5\" >2</td>\n",
       "      <td id=\"T_a4f8e_row9_col6\" class=\"data row9 col6\" >Sample: male | female</td>\n",
       "    </tr>\n",
       "    <tr>\n",
       "      <th id=\"T_a4f8e_level0_row10\" class=\"row_heading level0 row10\" >10</th>\n",
       "      <td id=\"T_a4f8e_row10_col0\" class=\"data row10 col0\" >sibsp</td>\n",
       "      <td id=\"T_a4f8e_row10_col1\" class=\"data row10 col1\" >int64</td>\n",
       "      <td id=\"T_a4f8e_row10_col2\" class=\"data row10 col2\" >0.0%</td>\n",
       "      <td id=\"T_a4f8e_row10_col3\" class=\"data row10 col3\" >68.1%</td>\n",
       "      <td id=\"T_a4f8e_row10_col4\" class=\"data row10 col4\" >1309</td>\n",
       "      <td id=\"T_a4f8e_row10_col5\" class=\"data row10 col5\" >7</td>\n",
       "      <td id=\"T_a4f8e_row10_col6\" class=\"data row10 col6\" >max=8 | min=0 | mean=0.5 | dominant=0</td>\n",
       "    </tr>\n",
       "    <tr>\n",
       "      <th id=\"T_a4f8e_level0_row11\" class=\"row_heading level0 row11\" >11</th>\n",
       "      <td id=\"T_a4f8e_row11_col0\" class=\"data row11 col0\" >survived</td>\n",
       "      <td id=\"T_a4f8e_row11_col1\" class=\"data row11 col1\" >int64</td>\n",
       "      <td id=\"T_a4f8e_row11_col2\" class=\"data row11 col2\" >0.0%</td>\n",
       "      <td id=\"T_a4f8e_row11_col3\" class=\"data row11 col3\" >61.8%</td>\n",
       "      <td id=\"T_a4f8e_row11_col4\" class=\"data row11 col4\" >1309</td>\n",
       "      <td id=\"T_a4f8e_row11_col5\" class=\"data row11 col5\" >2</td>\n",
       "      <td id=\"T_a4f8e_row11_col6\" class=\"data row11 col6\" >max=1 | min=0 | mean=0.38 | dominant=0</td>\n",
       "    </tr>\n",
       "    <tr>\n",
       "      <th id=\"T_a4f8e_level0_row12\" class=\"row_heading level0 row12\" >12</th>\n",
       "      <td id=\"T_a4f8e_row12_col0\" class=\"data row12 col0\" >ticket</td>\n",
       "      <td id=\"T_a4f8e_row12_col1\" class=\"data row12 col1\" >object</td>\n",
       "      <td id=\"T_a4f8e_row12_col2\" class=\"data row12 col2\" >0.0%</td>\n",
       "      <td id=\"T_a4f8e_row12_col3\" class=\"data row12 col3\" >0.8%</td>\n",
       "      <td id=\"T_a4f8e_row12_col4\" class=\"data row12 col4\" >1309</td>\n",
       "      <td id=\"T_a4f8e_row12_col5\" class=\"data row12 col5\" >929</td>\n",
       "      <td id=\"T_a4f8e_row12_col6\" class=\"data row12 col6\" >Sample: CA. 2343 | 1601 | CA 2144 | PC 17608 | 347077</td>\n",
       "    </tr>\n",
       "  </tbody>\n",
       "</table>\n"
      ],
      "text/plain": [
       "<pandas.io.formats.style.Styler at 0x7f868f568460>"
      ]
     },
     "execution_count": 9,
     "metadata": {},
     "output_type": "execute_result"
    }
   ],
   "source": [
    "tr.run_component_pipeline()\n",
    "tr.canonical_report(tr.load_persist_canonical())"
   ]
  },
  {
   "cell_type": "markdown",
   "id": "67de4356-d3c8-4b11-8de6-df0dd180fb34",
   "metadata": {},
   "source": [
    "Now we have seen the changes let's add some more Intent.  In this case, as well as `name` we notice we don't need `boat` `body` and `home.dest` so we add these to the list.  In addition we will auto catagorise any obvious columns in the data and then ensure the numeric values are of the correct type."
   ]
  },
  {
   "cell_type": "code",
   "execution_count": 10,
   "id": "51dc8df3-5929-4f46-b8aa-ecf842bff7f8",
   "metadata": {},
   "outputs": [],
   "source": [
    "df = tr.tools.to_remove(df, headers=['name', 'boat', 'body', 'home.dest'])\n",
    "df = tr.tools.auto_to_category(df, unique_max=20)\n",
    "df = tr.tools.to_numeric_type(df, headers=['age', 'fare'])"
   ]
  },
  {
   "cell_type": "markdown",
   "id": "b6343875-f8e5-42f3-b2ff-332fb1eb9a6d",
   "metadata": {},
   "source": [
    "Using the Intent reporting tool to check the work and see what the Intent currently looks like all together."
   ]
  },
  {
   "cell_type": "code",
   "execution_count": 11,
   "id": "213d9d6e-08a9-45c0-b4a5-20795fe209e8",
   "metadata": {},
   "outputs": [
    {
     "data": {
      "text/html": [
       "<style type=\"text/css\">\n",
       "#T_f9ea8 th {\n",
       "  font-size: 120%;\n",
       "  text-align: center;\n",
       "}\n",
       "#T_f9ea8 .row_heading {\n",
       "  display: none;;\n",
       "}\n",
       "#T_f9ea8  .blank {\n",
       "  display: none;;\n",
       "}\n",
       "#T_f9ea8_row0_col0, #T_f9ea8_row1_col0, #T_f9ea8_row2_col0, #T_f9ea8_row3_col0 {\n",
       "  text-align: left;\n",
       "  font-weight: bold;\n",
       "  font-size: 120%;\n",
       "}\n",
       "#T_f9ea8_row0_col1, #T_f9ea8_row0_col2, #T_f9ea8_row0_col3, #T_f9ea8_row0_col4, #T_f9ea8_row1_col1, #T_f9ea8_row1_col2, #T_f9ea8_row1_col3, #T_f9ea8_row1_col4, #T_f9ea8_row2_col1, #T_f9ea8_row2_col2, #T_f9ea8_row2_col3, #T_f9ea8_row2_col4, #T_f9ea8_row3_col1, #T_f9ea8_row3_col2, #T_f9ea8_row3_col3, #T_f9ea8_row3_col4 {\n",
       "  text-align: left;\n",
       "}\n",
       "</style>\n",
       "<table id=\"T_f9ea8\">\n",
       "  <thead>\n",
       "    <tr>\n",
       "      <th class=\"blank level0\" >&nbsp;</th>\n",
       "      <th id=\"T_f9ea8_level0_col0\" class=\"col_heading level0 col0\" >level</th>\n",
       "      <th id=\"T_f9ea8_level0_col1\" class=\"col_heading level0 col1\" >order</th>\n",
       "      <th id=\"T_f9ea8_level0_col2\" class=\"col_heading level0 col2\" >intent</th>\n",
       "      <th id=\"T_f9ea8_level0_col3\" class=\"col_heading level0 col3\" >parameters</th>\n",
       "      <th id=\"T_f9ea8_level0_col4\" class=\"col_heading level0 col4\" >creator</th>\n",
       "    </tr>\n",
       "  </thead>\n",
       "  <tbody>\n",
       "    <tr>\n",
       "      <th id=\"T_f9ea8_level0_row0\" class=\"row_heading level0 row0\" >0</th>\n",
       "      <td id=\"T_f9ea8_row0_col0\" class=\"data row0 col0\" >base</td>\n",
       "      <td id=\"T_f9ea8_row0_col1\" class=\"data row0 col1\" >0</td>\n",
       "      <td id=\"T_f9ea8_row0_col2\" class=\"data row0 col2\" >auto_reinstate_nulls</td>\n",
       "      <td id=\"T_f9ea8_row0_col3\" class=\"data row0 col3\" >[\"nulls_list=['?']\"]</td>\n",
       "      <td id=\"T_f9ea8_row0_col4\" class=\"data row0 col4\" >doatridge</td>\n",
       "    </tr>\n",
       "    <tr>\n",
       "      <th id=\"T_f9ea8_level0_row1\" class=\"row_heading level0 row1\" >1</th>\n",
       "      <td id=\"T_f9ea8_row1_col0\" class=\"data row1 col0\" ></td>\n",
       "      <td id=\"T_f9ea8_row1_col1\" class=\"data row1 col1\" >0</td>\n",
       "      <td id=\"T_f9ea8_row1_col2\" class=\"data row1 col2\" >auto_to_category</td>\n",
       "      <td id=\"T_f9ea8_row1_col3\" class=\"data row1 col3\" >['unique_max=20']</td>\n",
       "      <td id=\"T_f9ea8_row1_col4\" class=\"data row1 col4\" >doatridge</td>\n",
       "    </tr>\n",
       "    <tr>\n",
       "      <th id=\"T_f9ea8_level0_row2\" class=\"row_heading level0 row2\" >2</th>\n",
       "      <td id=\"T_f9ea8_row2_col0\" class=\"data row2 col0\" ></td>\n",
       "      <td id=\"T_f9ea8_row2_col1\" class=\"data row2 col1\" >0</td>\n",
       "      <td id=\"T_f9ea8_row2_col2\" class=\"data row2 col2\" >to_numeric_type</td>\n",
       "      <td id=\"T_f9ea8_row2_col3\" class=\"data row2 col3\" >[\"headers=['age', 'fare']\"]</td>\n",
       "      <td id=\"T_f9ea8_row2_col4\" class=\"data row2 col4\" >doatridge</td>\n",
       "    </tr>\n",
       "    <tr>\n",
       "      <th id=\"T_f9ea8_level0_row3\" class=\"row_heading level0 row3\" >3</th>\n",
       "      <td id=\"T_f9ea8_row3_col0\" class=\"data row3 col0\" ></td>\n",
       "      <td id=\"T_f9ea8_row3_col1\" class=\"data row3 col1\" >0</td>\n",
       "      <td id=\"T_f9ea8_row3_col2\" class=\"data row3 col2\" >to_remove</td>\n",
       "      <td id=\"T_f9ea8_row3_col3\" class=\"data row3 col3\" >[\"headers=['name', 'boat', 'body', 'home.dest']\"]</td>\n",
       "      <td id=\"T_f9ea8_row3_col4\" class=\"data row3 col4\" >doatridge</td>\n",
       "    </tr>\n",
       "  </tbody>\n",
       "</table>\n"
      ],
      "text/plain": [
       "<pandas.io.formats.style.Styler at 0x7f868f56b190>"
      ]
     },
     "execution_count": 11,
     "metadata": {},
     "output_type": "execute_result"
    }
   ],
   "source": [
    "tr.report_intent()"
   ]
  },
  {
   "cell_type": "markdown",
   "id": "665bc07a",
   "metadata": {},
   "source": [
    "As we can see adding the components Intent is a process of looking at the raw data and making decisions on the selection of the features of interest.  From here we would run the pipeline and use the canonical reporting and other tools to check the results then keep iterating until we have what we need."
   ]
  },
  {
   "cell_type": "markdown",
   "id": "386fcdfe",
   "metadata": {},
   "source": [
    "----------------\n",
    "\n",
    "## Ordering Intent"
   ]
  },
  {
   "cell_type": "markdown",
   "id": "e7efefd2-be1e-46cd-850d-b71906c160be",
   "metadata": {},
   "source": [
    "With the component Intent now defined the run pipeline does its best to guess the best order of that Intent but sometimes we want to ensure things run in a certain order due to dependancies or other challenges.  Though not necessary, we will clear the previous Intent and write it again, this time in order."
   ]
  },
  {
   "cell_type": "code",
   "execution_count": 12,
   "id": "66df7163-2fa3-4542-90d3-2175eadb0e52",
   "metadata": {},
   "outputs": [
    {
     "data": {
      "text/plain": [
       "True"
      ]
     },
     "execution_count": 12,
     "metadata": {},
     "output_type": "execute_result"
    }
   ],
   "source": [
    "tr.remove_intent()"
   ]
  },
  {
   "cell_type": "code",
   "execution_count": 13,
   "id": "9f78956d-799f-4dd8-9a22-263f350784dd",
   "metadata": {},
   "outputs": [
    {
     "data": {
      "text/html": [
       "<style type=\"text/css\">\n",
       "#T_5324f th {\n",
       "  font-size: 120%;\n",
       "  text-align: center;\n",
       "}\n",
       "#T_5324f .row_heading {\n",
       "  display: none;;\n",
       "}\n",
       "#T_5324f  .blank {\n",
       "  display: none;;\n",
       "}\n",
       "</style>\n",
       "<table id=\"T_5324f\">\n",
       "  <thead>\n",
       "    <tr>\n",
       "      <th class=\"blank level0\" >&nbsp;</th>\n",
       "      <th id=\"T_5324f_level0_col0\" class=\"col_heading level0 col0\" >level</th>\n",
       "      <th id=\"T_5324f_level0_col1\" class=\"col_heading level0 col1\" >order</th>\n",
       "      <th id=\"T_5324f_level0_col2\" class=\"col_heading level0 col2\" >intent</th>\n",
       "      <th id=\"T_5324f_level0_col3\" class=\"col_heading level0 col3\" >parameters</th>\n",
       "      <th id=\"T_5324f_level0_col4\" class=\"col_heading level0 col4\" >creator</th>\n",
       "    </tr>\n",
       "  </thead>\n",
       "  <tbody>\n",
       "  </tbody>\n",
       "</table>\n"
      ],
      "text/plain": [
       "<pandas.io.formats.style.Styler at 0x7f868f569e10>"
      ]
     },
     "execution_count": 13,
     "metadata": {},
     "output_type": "execute_result"
    }
   ],
   "source": [
    "tr.report_intent()"
   ]
  },
  {
   "cell_type": "markdown",
   "id": "437aed7f-014e-422a-a30e-1acecba3d815",
   "metadata": {},
   "source": [
    "This time when we add the Intent we include the parameter `intent_level` to indicate the different order or level of execution.  \n",
    "\n",
    "We load the source canonical and repeat the Intent, this time including the new intent level.  "
   ]
  },
  {
   "cell_type": "code",
   "execution_count": 14,
   "id": "2f658a0c-40e5-484c-b3aa-6a51f2a2430e",
   "metadata": {},
   "outputs": [],
   "source": [
    "df = tr.load_source_canonical()"
   ]
  },
  {
   "cell_type": "code",
   "execution_count": 15,
   "id": "d7fdff46-4601-4068-8cb8-a8f0bb86bb9a",
   "metadata": {},
   "outputs": [],
   "source": [
    "df = tr.tools.auto_reinstate_nulls(df, nulls_list=['?'], intent_level='reinstate')\n",
    "df = tr.tools.to_remove(df, headers=['name', 'boat', 'body', 'home.dest'], intent_level='remove')\n",
    "df = tr.tools.auto_to_category(df, unique_max=20, intent_level='auto_category')\n",
    "df = tr.tools.to_numeric_type(df, headers=['age', 'fare'], intent_level='to_dtype')\n",
    "df = tr.tools.to_str_type(df, headers=['cabin', 'ticket'],use_string_type=True , intent_level='to_dtype')"
   ]
  },
  {
   "cell_type": "markdown",
   "id": "54940e83-5e4a-4c05-a81b-71edd712604a",
   "metadata": {},
   "source": [
    "In addition, and as an introduction to a new feature, we will add in the column description that describes the reasoning behind why an Intent was added."
   ]
  },
  {
   "cell_type": "code",
   "execution_count": 16,
   "id": "c96e2ce6-a14f-4cfd-a822-5351ea35ec50",
   "metadata": {},
   "outputs": [],
   "source": [
    "tr.add_column_description('reinstate', description=\"reinstate nulls that where obfuscated with '?'\")\n",
    "tr.add_column_description('remove', description=\"remove column of no value\")\n",
    "tr.add_column_description('auto_category', description=\"auto fit features to categories where their uniqueness is 20 or less\")\n",
    "tr.add_column_description('to_dtype', description=\"ensure all other columns of interest are appropriately typed\")\n"
   ]
  },
  {
   "cell_type": "markdown",
   "id": "071862f4",
   "metadata": {},
   "source": [
    "Using the report we can see the addition of the numbers, in the level column, which helps the run component run the tasks in the order given.  It is worth noting that the tasks can be given the same level if the order is not important and the run component will deal with it using its ordering algorithm."
   ]
  },
  {
   "cell_type": "code",
   "execution_count": 17,
   "id": "b5b6535e-bacb-43fe-a8a1-aac4394947a5",
   "metadata": {},
   "outputs": [
    {
     "data": {
      "text/html": [
       "<style type=\"text/css\">\n",
       "#T_3ba36 th {\n",
       "  font-size: 120%;\n",
       "  text-align: center;\n",
       "}\n",
       "#T_3ba36 .row_heading {\n",
       "  display: none;;\n",
       "}\n",
       "#T_3ba36  .blank {\n",
       "  display: none;;\n",
       "}\n",
       "#T_3ba36_row0_col0, #T_3ba36_row1_col0, #T_3ba36_row2_col0, #T_3ba36_row3_col0, #T_3ba36_row4_col0 {\n",
       "  text-align: left;\n",
       "  font-weight: bold;\n",
       "  font-size: 120%;\n",
       "}\n",
       "#T_3ba36_row0_col1, #T_3ba36_row0_col2, #T_3ba36_row0_col3, #T_3ba36_row0_col4, #T_3ba36_row1_col1, #T_3ba36_row1_col2, #T_3ba36_row1_col3, #T_3ba36_row1_col4, #T_3ba36_row2_col1, #T_3ba36_row2_col2, #T_3ba36_row2_col3, #T_3ba36_row2_col4, #T_3ba36_row3_col1, #T_3ba36_row3_col2, #T_3ba36_row3_col3, #T_3ba36_row3_col4, #T_3ba36_row4_col1, #T_3ba36_row4_col2, #T_3ba36_row4_col3, #T_3ba36_row4_col4 {\n",
       "  text-align: left;\n",
       "}\n",
       "</style>\n",
       "<table id=\"T_3ba36\">\n",
       "  <thead>\n",
       "    <tr>\n",
       "      <th class=\"blank level0\" >&nbsp;</th>\n",
       "      <th id=\"T_3ba36_level0_col0\" class=\"col_heading level0 col0\" >level</th>\n",
       "      <th id=\"T_3ba36_level0_col1\" class=\"col_heading level0 col1\" >order</th>\n",
       "      <th id=\"T_3ba36_level0_col2\" class=\"col_heading level0 col2\" >intent</th>\n",
       "      <th id=\"T_3ba36_level0_col3\" class=\"col_heading level0 col3\" >parameters</th>\n",
       "      <th id=\"T_3ba36_level0_col4\" class=\"col_heading level0 col4\" >creator</th>\n",
       "    </tr>\n",
       "  </thead>\n",
       "  <tbody>\n",
       "    <tr>\n",
       "      <th id=\"T_3ba36_level0_row0\" class=\"row_heading level0 row0\" >0</th>\n",
       "      <td id=\"T_3ba36_row0_col0\" class=\"data row0 col0\" >auto_category</td>\n",
       "      <td id=\"T_3ba36_row0_col1\" class=\"data row0 col1\" >0</td>\n",
       "      <td id=\"T_3ba36_row0_col2\" class=\"data row0 col2\" >auto_to_category</td>\n",
       "      <td id=\"T_3ba36_row0_col3\" class=\"data row0 col3\" >['unique_max=20']</td>\n",
       "      <td id=\"T_3ba36_row0_col4\" class=\"data row0 col4\" >doatridge</td>\n",
       "    </tr>\n",
       "    <tr>\n",
       "      <th id=\"T_3ba36_level0_row1\" class=\"row_heading level0 row1\" >1</th>\n",
       "      <td id=\"T_3ba36_row1_col0\" class=\"data row1 col0\" >reinstate</td>\n",
       "      <td id=\"T_3ba36_row1_col1\" class=\"data row1 col1\" >0</td>\n",
       "      <td id=\"T_3ba36_row1_col2\" class=\"data row1 col2\" >auto_reinstate_nulls</td>\n",
       "      <td id=\"T_3ba36_row1_col3\" class=\"data row1 col3\" >[\"nulls_list=['?']\"]</td>\n",
       "      <td id=\"T_3ba36_row1_col4\" class=\"data row1 col4\" >doatridge</td>\n",
       "    </tr>\n",
       "    <tr>\n",
       "      <th id=\"T_3ba36_level0_row2\" class=\"row_heading level0 row2\" >2</th>\n",
       "      <td id=\"T_3ba36_row2_col0\" class=\"data row2 col0\" >remove</td>\n",
       "      <td id=\"T_3ba36_row2_col1\" class=\"data row2 col1\" >0</td>\n",
       "      <td id=\"T_3ba36_row2_col2\" class=\"data row2 col2\" >to_remove</td>\n",
       "      <td id=\"T_3ba36_row2_col3\" class=\"data row2 col3\" >[\"headers=['name', 'boat', 'body', 'home.dest']\"]</td>\n",
       "      <td id=\"T_3ba36_row2_col4\" class=\"data row2 col4\" >doatridge</td>\n",
       "    </tr>\n",
       "    <tr>\n",
       "      <th id=\"T_3ba36_level0_row3\" class=\"row_heading level0 row3\" >3</th>\n",
       "      <td id=\"T_3ba36_row3_col0\" class=\"data row3 col0\" >to_dtype</td>\n",
       "      <td id=\"T_3ba36_row3_col1\" class=\"data row3 col1\" >0</td>\n",
       "      <td id=\"T_3ba36_row3_col2\" class=\"data row3 col2\" >to_numeric_type</td>\n",
       "      <td id=\"T_3ba36_row3_col3\" class=\"data row3 col3\" >[\"headers=['age', 'fare']\"]</td>\n",
       "      <td id=\"T_3ba36_row3_col4\" class=\"data row3 col4\" >doatridge</td>\n",
       "    </tr>\n",
       "    <tr>\n",
       "      <th id=\"T_3ba36_level0_row4\" class=\"row_heading level0 row4\" >4</th>\n",
       "      <td id=\"T_3ba36_row4_col0\" class=\"data row4 col0\" ></td>\n",
       "      <td id=\"T_3ba36_row4_col1\" class=\"data row4 col1\" >0</td>\n",
       "      <td id=\"T_3ba36_row4_col2\" class=\"data row4 col2\" >to_str_type</td>\n",
       "      <td id=\"T_3ba36_row4_col3\" class=\"data row4 col3\" >[\"headers=['cabin', 'ticket']\", 'use_string_type=True']</td>\n",
       "      <td id=\"T_3ba36_row4_col4\" class=\"data row4 col4\" >doatridge</td>\n",
       "    </tr>\n",
       "  </tbody>\n",
       "</table>\n"
      ],
      "text/plain": [
       "<pandas.io.formats.style.Styler at 0x7f868eaa8a30>"
      ]
     },
     "execution_count": 17,
     "metadata": {},
     "output_type": "execute_result"
    }
   ],
   "source": [
    "tr.report_intent()"
   ]
  },
  {
   "cell_type": "markdown",
   "id": "63013ceb-7611-46ce-9257-6a715c0ef2aa",
   "metadata": {},
   "source": [
    "As we have taken the time to capture the reasoning to include the compoment Intent we can use the reports to produce a view of the Intent column comments that are invaluable when interrogating a component and understanding why decisions were made."
   ]
  },
  {
   "cell_type": "code",
   "execution_count": 18,
   "id": "f6b476d5-49e0-4193-9a06-2ae6339e2180",
   "metadata": {},
   "outputs": [
    {
     "data": {
      "text/html": [
       "<style type=\"text/css\">\n",
       "#T_f029c th {\n",
       "  font-size: 120%;\n",
       "  text-align: center;\n",
       "}\n",
       "#T_f029c .row_heading {\n",
       "  display: none;;\n",
       "}\n",
       "#T_f029c  .blank {\n",
       "  display: none;;\n",
       "}\n",
       "#T_f029c_row0_col0, #T_f029c_row1_col0, #T_f029c_row2_col0, #T_f029c_row3_col0 {\n",
       "  text-align: left;\n",
       "  font-weight: bold;\n",
       "}\n",
       "#T_f029c_row0_col1, #T_f029c_row1_col1, #T_f029c_row2_col1, #T_f029c_row3_col1 {\n",
       "  text-align: left;\n",
       "}\n",
       "</style>\n",
       "<table id=\"T_f029c\">\n",
       "  <thead>\n",
       "    <tr>\n",
       "      <th class=\"blank level0\" >&nbsp;</th>\n",
       "      <th id=\"T_f029c_level0_col0\" class=\"col_heading level0 col0\" >column_name</th>\n",
       "      <th id=\"T_f029c_level0_col1\" class=\"col_heading level0 col1\" >description</th>\n",
       "    </tr>\n",
       "  </thead>\n",
       "  <tbody>\n",
       "    <tr>\n",
       "      <th id=\"T_f029c_level0_row0\" class=\"row_heading level0 row0\" >0</th>\n",
       "      <td id=\"T_f029c_row0_col0\" class=\"data row0 col0\" >auto_category</td>\n",
       "      <td id=\"T_f029c_row0_col1\" class=\"data row0 col1\" >auto fit features to categories where their uniqueness is 20 or less</td>\n",
       "    </tr>\n",
       "    <tr>\n",
       "      <th id=\"T_f029c_level0_row1\" class=\"row_heading level0 row1\" >1</th>\n",
       "      <td id=\"T_f029c_row1_col0\" class=\"data row1 col0\" >reinstate</td>\n",
       "      <td id=\"T_f029c_row1_col1\" class=\"data row1 col1\" >reinstate nulls that where obfuscated with '?'</td>\n",
       "    </tr>\n",
       "    <tr>\n",
       "      <th id=\"T_f029c_level0_row2\" class=\"row_heading level0 row2\" >2</th>\n",
       "      <td id=\"T_f029c_row2_col0\" class=\"data row2 col0\" >remove</td>\n",
       "      <td id=\"T_f029c_row2_col1\" class=\"data row2 col1\" >remove column of no value</td>\n",
       "    </tr>\n",
       "    <tr>\n",
       "      <th id=\"T_f029c_level0_row3\" class=\"row_heading level0 row3\" >3</th>\n",
       "      <td id=\"T_f029c_row3_col0\" class=\"data row3 col0\" >to_dtype</td>\n",
       "      <td id=\"T_f029c_row3_col1\" class=\"data row3 col1\" >ensure all other columns of interest are appropriately typed</td>\n",
       "    </tr>\n",
       "  </tbody>\n",
       "</table>\n"
      ],
      "text/plain": [
       "<pandas.io.formats.style.Styler at 0x7f868f53e170>"
      ]
     },
     "execution_count": 18,
     "metadata": {},
     "output_type": "execute_result"
    }
   ],
   "source": [
    "tr.report_column_catalog()"
   ]
  },
  {
   "cell_type": "markdown",
   "id": "206c426b-1b8b-49d0-867a-e9914a95ddc9",
   "metadata": {},
   "source": [
    "## Component Pipeline\n",
    "\n",
    "As usual we can now run the Compant pipeline to apply the components tasks."
   ]
  },
  {
   "cell_type": "code",
   "execution_count": 19,
   "id": "15f80af6-8f7f-4a86-9917-2e8d1c3b4a1a",
   "metadata": {},
   "outputs": [],
   "source": [
    "tr.run_component_pipeline()"
   ]
  },
  {
   "cell_type": "markdown",
   "id": "60a85e5c-d635-4bc8-b46e-eeac798cb506",
   "metadata": {},
   "source": [
    "As an extension of the default, `run_component_pipeline` provides useful tools to help manage the outcome.  In this case we've specificially defined the Intent order we wanted to run."
   ]
  },
  {
   "cell_type": "code",
   "execution_count": 20,
   "id": "e3575ab2-e5c5-428d-a2dd-de1ee5ad0b81",
   "metadata": {},
   "outputs": [],
   "source": [
    "tr.run_component_pipeline(intent_levels=['remove', 'reinstate', 'auto_category', 'to_dtype'])"
   ]
  },
  {
   "cell_type": "markdown",
   "id": "7132dc5b-f61a-42ca-a59e-c5695c9f94b0",
   "metadata": {},
   "source": [
    "----------------------\n",
    "## Run Books\n",
    "We've seen how run pipeline allows us to define the intent in real time, but we can also use 'Run Books' to predefine that same order and reuse it. We simply add our list of Intent to a book in the order needed. In this case we have not specified a book name so this book is allocated to the primary Run Book. Now each time we run our pipeline, it is set to run the primary Run Book."
   ]
  },
  {
   "cell_type": "code",
   "execution_count": 21,
   "id": "9a080e19-d145-41bd-9a58-e59158a9ef69",
   "metadata": {},
   "outputs": [],
   "source": [
    "tr.add_run_book(run_levels=['remove', 'reinstate', 'auto_category', 'to_dtype'])"
   ]
  },
  {
   "cell_type": "markdown",
   "id": "b8a939e5-6d46-41b9-a1f4-0683fc151de6",
   "metadata": {},
   "source": [
    "Here we had a book by name where we select only the intent that cleans the raw data. The Run book report Now what are shows us the two run books;"
   ]
  },
  {
   "cell_type": "code",
   "execution_count": 22,
   "id": "74fae168-0605-454f-a992-e47f37af7905",
   "metadata": {},
   "outputs": [],
   "source": [
    "tr.add_run_book(book_name='cleaner', run_levels=['remove', 'reinstate'])"
   ]
  },
  {
   "cell_type": "code",
   "execution_count": 23,
   "id": "18ac291e-42e0-4aab-aa68-46c001651ec1",
   "metadata": {
    "scrolled": true
   },
   "outputs": [
    {
     "data": {
      "text/html": [
       "<style type=\"text/css\">\n",
       "#T_31c4d th {\n",
       "  font-size: 120%;\n",
       "  text-align: center;\n",
       "}\n",
       "#T_31c4d .row_heading {\n",
       "  display: none;;\n",
       "}\n",
       "#T_31c4d  .blank {\n",
       "  display: none;;\n",
       "}\n",
       "#T_31c4d_row0_col0, #T_31c4d_row1_col0 {\n",
       "  text-align: left;\n",
       "  font-weight: bold;\n",
       "  font-size: 120%;\n",
       "}\n",
       "#T_31c4d_row0_col1, #T_31c4d_row1_col1 {\n",
       "  text-align: left;\n",
       "}\n",
       "</style>\n",
       "<table id=\"T_31c4d\">\n",
       "  <thead>\n",
       "    <tr>\n",
       "      <th class=\"blank level0\" >&nbsp;</th>\n",
       "      <th id=\"T_31c4d_level0_col0\" class=\"col_heading level0 col0\" >name</th>\n",
       "      <th id=\"T_31c4d_level0_col1\" class=\"col_heading level0 col1\" >run_book</th>\n",
       "    </tr>\n",
       "  </thead>\n",
       "  <tbody>\n",
       "    <tr>\n",
       "      <th id=\"T_31c4d_level0_row0\" class=\"row_heading level0 row0\" >0</th>\n",
       "      <td id=\"T_31c4d_row0_col0\" class=\"data row0 col0\" >primary_run_book</td>\n",
       "      <td id=\"T_31c4d_row0_col1\" class=\"data row0 col1\" >['remove', 'reinstate', 'auto_category', 'to_dtype']</td>\n",
       "    </tr>\n",
       "    <tr>\n",
       "      <th id=\"T_31c4d_level0_row1\" class=\"row_heading level0 row1\" >1</th>\n",
       "      <td id=\"T_31c4d_row1_col0\" class=\"data row1 col0\" >cleaner</td>\n",
       "      <td id=\"T_31c4d_row1_col1\" class=\"data row1 col1\" >['remove', 'reinstate']</td>\n",
       "    </tr>\n",
       "  </tbody>\n",
       "</table>\n"
      ],
      "text/plain": [
       "<pandas.io.formats.style.Styler at 0x7f868f53dff0>"
      ]
     },
     "execution_count": 23,
     "metadata": {},
     "output_type": "execute_result"
    }
   ],
   "source": [
    "tr.report_run_book()"
   ]
  },
  {
   "cell_type": "markdown",
   "id": "9fafdc2a-44bf-48b1-b1c6-4a09af6da8eb",
   "metadata": {},
   "source": [
    "In this next example we add an additional Run Book that is a subset of the tasks to only clean the data.  By passing this named Run Book to the run pipeline it is obliged to only run this subset and only clean the data.  We can see the results of this in our canonical report below."
   ]
  },
  {
   "cell_type": "code",
   "execution_count": 24,
   "id": "ce11d70d-9837-4b14-a716-6e25529e0dc9",
   "metadata": {},
   "outputs": [],
   "source": [
    "tr.run_component_pipeline(run_book='cleaner')"
   ]
  },
  {
   "cell_type": "code",
   "execution_count": 25,
   "id": "198e0d3a-bd3c-441d-9260-6f90e3ff1039",
   "metadata": {
    "scrolled": true
   },
   "outputs": [
    {
     "data": {
      "text/html": [
       "<style type=\"text/css\">\n",
       "#T_257b8 th {\n",
       "  font-size: 120%;\n",
       "  text-align: center;\n",
       "}\n",
       "#T_257b8 .row_heading {\n",
       "  display: none;;\n",
       "}\n",
       "#T_257b8  .blank {\n",
       "  display: none;;\n",
       "}\n",
       "#T_257b8_row0_col0, #T_257b8_row1_col0, #T_257b8_row2_col0, #T_257b8_row3_col0, #T_257b8_row4_col0, #T_257b8_row5_col0, #T_257b8_row6_col0, #T_257b8_row7_col0, #T_257b8_row8_col0, #T_257b8_row9_col0 {\n",
       "  font-weight: bold;\n",
       "  font-size: 120%;\n",
       "}\n",
       "#T_257b8_row0_col2, #T_257b8_row0_col3, #T_257b8_row1_col5, #T_257b8_row2_col2, #T_257b8_row3_col2, #T_257b8_row3_col3, #T_257b8_row3_col5, #T_257b8_row4_col2, #T_257b8_row5_col2, #T_257b8_row5_col3, #T_257b8_row6_col2, #T_257b8_row6_col3, #T_257b8_row7_col2, #T_257b8_row8_col2, #T_257b8_row8_col3, #T_257b8_row9_col2, #T_257b8_row9_col3, #T_257b8_row9_col5 {\n",
       "  color: black;\n",
       "}\n",
       "#T_257b8_row0_col5 {\n",
       "  background-color: #f0f9ed;\n",
       "  color: black;\n",
       "}\n",
       "#T_257b8_row1_col2, #T_257b8_row1_col3, #T_257b8_row2_col3, #T_257b8_row4_col3, #T_257b8_row7_col3 {\n",
       "  background-color: #ffede5;\n",
       "  color: black;\n",
       "}\n",
       "#T_257b8_row2_col5, #T_257b8_row5_col5 {\n",
       "  background-color: #84cc83;\n",
       "  color: black;\n",
       "}\n",
       "#T_257b8_row4_col1, #T_257b8_row5_col1, #T_257b8_row7_col1, #T_257b8_row8_col1 {\n",
       "  color: #0f398a;\n",
       "}\n",
       "#T_257b8_row4_col5, #T_257b8_row7_col5 {\n",
       "  background-color: #a4da9e;\n",
       "  color: black;\n",
       "}\n",
       "#T_257b8_row6_col5, #T_257b8_row8_col5 {\n",
       "  background-color: #a1cbe2;\n",
       "  color: black;\n",
       "}\n",
       "</style>\n",
       "<table id=\"T_257b8\">\n",
       "  <caption>%_Dom: The % most dominant element </caption>\n",
       "  <thead>\n",
       "    <tr>\n",
       "      <th class=\"blank level0\" >&nbsp;</th>\n",
       "      <th id=\"T_257b8_level0_col0\" class=\"col_heading level0 col0\" >Attributes (10)</th>\n",
       "      <th id=\"T_257b8_level0_col1\" class=\"col_heading level0 col1\" >dType</th>\n",
       "      <th id=\"T_257b8_level0_col2\" class=\"col_heading level0 col2\" >%_Null</th>\n",
       "      <th id=\"T_257b8_level0_col3\" class=\"col_heading level0 col3\" >%_Dom</th>\n",
       "      <th id=\"T_257b8_level0_col4\" class=\"col_heading level0 col4\" >Count</th>\n",
       "      <th id=\"T_257b8_level0_col5\" class=\"col_heading level0 col5\" >Unique</th>\n",
       "      <th id=\"T_257b8_level0_col6\" class=\"col_heading level0 col6\" >Observations</th>\n",
       "    </tr>\n",
       "  </thead>\n",
       "  <tbody>\n",
       "    <tr>\n",
       "      <th id=\"T_257b8_level0_row0\" class=\"row_heading level0 row0\" >0</th>\n",
       "      <td id=\"T_257b8_row0_col0\" class=\"data row0 col0\" >age</td>\n",
       "      <td id=\"T_257b8_row0_col1\" class=\"data row0 col1\" >object</td>\n",
       "      <td id=\"T_257b8_row0_col2\" class=\"data row0 col2\" >20.1%</td>\n",
       "      <td id=\"T_257b8_row0_col3\" class=\"data row0 col3\" >20.1%</td>\n",
       "      <td id=\"T_257b8_row0_col4\" class=\"data row0 col4\" >1309</td>\n",
       "      <td id=\"T_257b8_row0_col5\" class=\"data row0 col5\" >99</td>\n",
       "      <td id=\"T_257b8_row0_col6\" class=\"data row0 col6\" >Sample: 24 | 22 | 21 | 30 | 18</td>\n",
       "    </tr>\n",
       "    <tr>\n",
       "      <th id=\"T_257b8_level0_row1\" class=\"row_heading level0 row1\" >1</th>\n",
       "      <td id=\"T_257b8_row1_col0\" class=\"data row1 col0\" >cabin</td>\n",
       "      <td id=\"T_257b8_row1_col1\" class=\"data row1 col1\" >object</td>\n",
       "      <td id=\"T_257b8_row1_col2\" class=\"data row1 col2\" >77.5%</td>\n",
       "      <td id=\"T_257b8_row1_col3\" class=\"data row1 col3\" >77.5%</td>\n",
       "      <td id=\"T_257b8_row1_col4\" class=\"data row1 col4\" >1309</td>\n",
       "      <td id=\"T_257b8_row1_col5\" class=\"data row1 col5\" >187</td>\n",
       "      <td id=\"T_257b8_row1_col6\" class=\"data row1 col6\" >Sample: C23 C25 C27 | G6 | B57 B59 B63 B66 | F4 | F33</td>\n",
       "    </tr>\n",
       "    <tr>\n",
       "      <th id=\"T_257b8_level0_row2\" class=\"row_heading level0 row2\" >2</th>\n",
       "      <td id=\"T_257b8_row2_col0\" class=\"data row2 col0\" >embarked</td>\n",
       "      <td id=\"T_257b8_row2_col1\" class=\"data row2 col1\" >object</td>\n",
       "      <td id=\"T_257b8_row2_col2\" class=\"data row2 col2\" >0.2%</td>\n",
       "      <td id=\"T_257b8_row2_col3\" class=\"data row2 col3\" >69.8%</td>\n",
       "      <td id=\"T_257b8_row2_col4\" class=\"data row2 col4\" >1309</td>\n",
       "      <td id=\"T_257b8_row2_col5\" class=\"data row2 col5\" >4</td>\n",
       "      <td id=\"T_257b8_row2_col6\" class=\"data row2 col6\" >Sample: S | C | Q</td>\n",
       "    </tr>\n",
       "    <tr>\n",
       "      <th id=\"T_257b8_level0_row3\" class=\"row_heading level0 row3\" >3</th>\n",
       "      <td id=\"T_257b8_row3_col0\" class=\"data row3 col0\" >fare</td>\n",
       "      <td id=\"T_257b8_row3_col1\" class=\"data row3 col1\" >object</td>\n",
       "      <td id=\"T_257b8_row3_col2\" class=\"data row3 col2\" >0.1%</td>\n",
       "      <td id=\"T_257b8_row3_col3\" class=\"data row3 col3\" >4.6%</td>\n",
       "      <td id=\"T_257b8_row3_col4\" class=\"data row3 col4\" >1309</td>\n",
       "      <td id=\"T_257b8_row3_col5\" class=\"data row3 col5\" >282</td>\n",
       "      <td id=\"T_257b8_row3_col6\" class=\"data row3 col6\" >Sample: 8.05 | 13 | 7.75 | 26 | 7.8958</td>\n",
       "    </tr>\n",
       "    <tr>\n",
       "      <th id=\"T_257b8_level0_row4\" class=\"row_heading level0 row4\" >4</th>\n",
       "      <td id=\"T_257b8_row4_col0\" class=\"data row4 col0\" >parch</td>\n",
       "      <td id=\"T_257b8_row4_col1\" class=\"data row4 col1\" >int64</td>\n",
       "      <td id=\"T_257b8_row4_col2\" class=\"data row4 col2\" >0.0%</td>\n",
       "      <td id=\"T_257b8_row4_col3\" class=\"data row4 col3\" >76.5%</td>\n",
       "      <td id=\"T_257b8_row4_col4\" class=\"data row4 col4\" >1309</td>\n",
       "      <td id=\"T_257b8_row4_col5\" class=\"data row4 col5\" >8</td>\n",
       "      <td id=\"T_257b8_row4_col6\" class=\"data row4 col6\" >max=9 | min=0 | mean=0.39 | dominant=0</td>\n",
       "    </tr>\n",
       "    <tr>\n",
       "      <th id=\"T_257b8_level0_row5\" class=\"row_heading level0 row5\" >5</th>\n",
       "      <td id=\"T_257b8_row5_col0\" class=\"data row5 col0\" >pclass</td>\n",
       "      <td id=\"T_257b8_row5_col1\" class=\"data row5 col1\" >int64</td>\n",
       "      <td id=\"T_257b8_row5_col2\" class=\"data row5 col2\" >0.0%</td>\n",
       "      <td id=\"T_257b8_row5_col3\" class=\"data row5 col3\" >54.2%</td>\n",
       "      <td id=\"T_257b8_row5_col4\" class=\"data row5 col4\" >1309</td>\n",
       "      <td id=\"T_257b8_row5_col5\" class=\"data row5 col5\" >3</td>\n",
       "      <td id=\"T_257b8_row5_col6\" class=\"data row5 col6\" >max=3 | min=1 | mean=2.29 | dominant=3</td>\n",
       "    </tr>\n",
       "    <tr>\n",
       "      <th id=\"T_257b8_level0_row6\" class=\"row_heading level0 row6\" >6</th>\n",
       "      <td id=\"T_257b8_row6_col0\" class=\"data row6 col0\" >sex</td>\n",
       "      <td id=\"T_257b8_row6_col1\" class=\"data row6 col1\" >object</td>\n",
       "      <td id=\"T_257b8_row6_col2\" class=\"data row6 col2\" >0.0%</td>\n",
       "      <td id=\"T_257b8_row6_col3\" class=\"data row6 col3\" >64.4%</td>\n",
       "      <td id=\"T_257b8_row6_col4\" class=\"data row6 col4\" >1309</td>\n",
       "      <td id=\"T_257b8_row6_col5\" class=\"data row6 col5\" >2</td>\n",
       "      <td id=\"T_257b8_row6_col6\" class=\"data row6 col6\" >Sample: male | female</td>\n",
       "    </tr>\n",
       "    <tr>\n",
       "      <th id=\"T_257b8_level0_row7\" class=\"row_heading level0 row7\" >7</th>\n",
       "      <td id=\"T_257b8_row7_col0\" class=\"data row7 col0\" >sibsp</td>\n",
       "      <td id=\"T_257b8_row7_col1\" class=\"data row7 col1\" >int64</td>\n",
       "      <td id=\"T_257b8_row7_col2\" class=\"data row7 col2\" >0.0%</td>\n",
       "      <td id=\"T_257b8_row7_col3\" class=\"data row7 col3\" >68.1%</td>\n",
       "      <td id=\"T_257b8_row7_col4\" class=\"data row7 col4\" >1309</td>\n",
       "      <td id=\"T_257b8_row7_col5\" class=\"data row7 col5\" >7</td>\n",
       "      <td id=\"T_257b8_row7_col6\" class=\"data row7 col6\" >max=8 | min=0 | mean=0.5 | dominant=0</td>\n",
       "    </tr>\n",
       "    <tr>\n",
       "      <th id=\"T_257b8_level0_row8\" class=\"row_heading level0 row8\" >8</th>\n",
       "      <td id=\"T_257b8_row8_col0\" class=\"data row8 col0\" >survived</td>\n",
       "      <td id=\"T_257b8_row8_col1\" class=\"data row8 col1\" >int64</td>\n",
       "      <td id=\"T_257b8_row8_col2\" class=\"data row8 col2\" >0.0%</td>\n",
       "      <td id=\"T_257b8_row8_col3\" class=\"data row8 col3\" >61.8%</td>\n",
       "      <td id=\"T_257b8_row8_col4\" class=\"data row8 col4\" >1309</td>\n",
       "      <td id=\"T_257b8_row8_col5\" class=\"data row8 col5\" >2</td>\n",
       "      <td id=\"T_257b8_row8_col6\" class=\"data row8 col6\" >max=1 | min=0 | mean=0.38 | dominant=0</td>\n",
       "    </tr>\n",
       "    <tr>\n",
       "      <th id=\"T_257b8_level0_row9\" class=\"row_heading level0 row9\" >9</th>\n",
       "      <td id=\"T_257b8_row9_col0\" class=\"data row9 col0\" >ticket</td>\n",
       "      <td id=\"T_257b8_row9_col1\" class=\"data row9 col1\" >object</td>\n",
       "      <td id=\"T_257b8_row9_col2\" class=\"data row9 col2\" >0.0%</td>\n",
       "      <td id=\"T_257b8_row9_col3\" class=\"data row9 col3\" >0.8%</td>\n",
       "      <td id=\"T_257b8_row9_col4\" class=\"data row9 col4\" >1309</td>\n",
       "      <td id=\"T_257b8_row9_col5\" class=\"data row9 col5\" >929</td>\n",
       "      <td id=\"T_257b8_row9_col6\" class=\"data row9 col6\" >Sample: CA. 2343 | 1601 | CA 2144 | PC 17608 | 347077</td>\n",
       "    </tr>\n",
       "  </tbody>\n",
       "</table>\n"
      ],
      "text/plain": [
       "<pandas.io.formats.style.Styler at 0x7f868f581bd0>"
      ]
     },
     "execution_count": 25,
     "metadata": {},
     "output_type": "execute_result"
    }
   ],
   "source": [
    "tr.canonical_report(tr.load_persist_canonical())"
   ]
  },
  {
   "cell_type": "markdown",
   "id": "54df2321-25a7-40ea-af25-bdec2ea3a762",
   "metadata": {},
   "source": [
    "As a contrast to the above we can run the pipeline without providing a Run Book name and it will automatically default to the primary run book, assuming this has been set up.  In this case running the full component Intent the resulting outcome is shown below in the canonical report."
   ]
  },
  {
   "cell_type": "code",
   "execution_count": 26,
   "id": "3d485265-d140-4c22-a79e-7051689208f7",
   "metadata": {},
   "outputs": [],
   "source": [
    "tr.run_component_pipeline()"
   ]
  },
  {
   "cell_type": "code",
   "execution_count": 27,
   "id": "804f4b1e-f963-44a5-bbc2-46c2339c2b13",
   "metadata": {
    "scrolled": true
   },
   "outputs": [
    {
     "data": {
      "text/html": [
       "<style type=\"text/css\">\n",
       "#T_b705a th {\n",
       "  font-size: 120%;\n",
       "  text-align: center;\n",
       "}\n",
       "#T_b705a .row_heading {\n",
       "  display: none;;\n",
       "}\n",
       "#T_b705a  .blank {\n",
       "  display: none;;\n",
       "}\n",
       "#T_b705a_row0_col0, #T_b705a_row1_col0, #T_b705a_row2_col0, #T_b705a_row3_col0, #T_b705a_row4_col0, #T_b705a_row5_col0, #T_b705a_row6_col0, #T_b705a_row7_col0, #T_b705a_row8_col0, #T_b705a_row9_col0 {\n",
       "  font-weight: bold;\n",
       "  font-size: 120%;\n",
       "}\n",
       "#T_b705a_row0_col1, #T_b705a_row3_col1 {\n",
       "  color: #2f0f8a;\n",
       "}\n",
       "#T_b705a_row0_col2, #T_b705a_row0_col3, #T_b705a_row1_col5, #T_b705a_row2_col2, #T_b705a_row3_col2, #T_b705a_row3_col3, #T_b705a_row3_col5, #T_b705a_row4_col2, #T_b705a_row5_col2, #T_b705a_row5_col3, #T_b705a_row6_col2, #T_b705a_row6_col3, #T_b705a_row7_col2, #T_b705a_row8_col2, #T_b705a_row8_col3, #T_b705a_row9_col2, #T_b705a_row9_col3, #T_b705a_row9_col5 {\n",
       "  color: black;\n",
       "}\n",
       "#T_b705a_row0_col5 {\n",
       "  background-color: #f0f9ed;\n",
       "  color: black;\n",
       "}\n",
       "#T_b705a_row1_col1, #T_b705a_row9_col1 {\n",
       "  color: #761d38;\n",
       "}\n",
       "#T_b705a_row1_col2, #T_b705a_row1_col3, #T_b705a_row2_col3, #T_b705a_row4_col3, #T_b705a_row7_col3 {\n",
       "  background-color: #ffede5;\n",
       "  color: black;\n",
       "}\n",
       "#T_b705a_row2_col1, #T_b705a_row4_col1, #T_b705a_row5_col1, #T_b705a_row6_col1, #T_b705a_row7_col1, #T_b705a_row8_col1 {\n",
       "  color: #208a0f;\n",
       "}\n",
       "#T_b705a_row2_col5, #T_b705a_row5_col5 {\n",
       "  background-color: #84cc83;\n",
       "  color: black;\n",
       "}\n",
       "#T_b705a_row4_col5, #T_b705a_row7_col5 {\n",
       "  background-color: #a4da9e;\n",
       "  color: black;\n",
       "}\n",
       "#T_b705a_row6_col5, #T_b705a_row8_col5 {\n",
       "  background-color: #a1cbe2;\n",
       "  color: black;\n",
       "}\n",
       "</style>\n",
       "<table id=\"T_b705a\">\n",
       "  <caption>%_Dom: The % most dominant element </caption>\n",
       "  <thead>\n",
       "    <tr>\n",
       "      <th class=\"blank level0\" >&nbsp;</th>\n",
       "      <th id=\"T_b705a_level0_col0\" class=\"col_heading level0 col0\" >Attributes (10)</th>\n",
       "      <th id=\"T_b705a_level0_col1\" class=\"col_heading level0 col1\" >dType</th>\n",
       "      <th id=\"T_b705a_level0_col2\" class=\"col_heading level0 col2\" >%_Null</th>\n",
       "      <th id=\"T_b705a_level0_col3\" class=\"col_heading level0 col3\" >%_Dom</th>\n",
       "      <th id=\"T_b705a_level0_col4\" class=\"col_heading level0 col4\" >Count</th>\n",
       "      <th id=\"T_b705a_level0_col5\" class=\"col_heading level0 col5\" >Unique</th>\n",
       "      <th id=\"T_b705a_level0_col6\" class=\"col_heading level0 col6\" >Observations</th>\n",
       "    </tr>\n",
       "  </thead>\n",
       "  <tbody>\n",
       "    <tr>\n",
       "      <th id=\"T_b705a_level0_row0\" class=\"row_heading level0 row0\" >0</th>\n",
       "      <td id=\"T_b705a_row0_col0\" class=\"data row0 col0\" >age</td>\n",
       "      <td id=\"T_b705a_row0_col1\" class=\"data row0 col1\" >float64</td>\n",
       "      <td id=\"T_b705a_row0_col2\" class=\"data row0 col2\" >20.1%</td>\n",
       "      <td id=\"T_b705a_row0_col3\" class=\"data row0 col3\" >20.1%</td>\n",
       "      <td id=\"T_b705a_row0_col4\" class=\"data row0 col4\" >1309</td>\n",
       "      <td id=\"T_b705a_row0_col5\" class=\"data row0 col5\" >99</td>\n",
       "      <td id=\"T_b705a_row0_col6\" class=\"data row0 col6\" >max=80.0 | min=0.1667 | mean=29.88 | dominant=24.0</td>\n",
       "    </tr>\n",
       "    <tr>\n",
       "      <th id=\"T_b705a_level0_row1\" class=\"row_heading level0 row1\" >1</th>\n",
       "      <td id=\"T_b705a_row1_col0\" class=\"data row1 col0\" >cabin</td>\n",
       "      <td id=\"T_b705a_row1_col1\" class=\"data row1 col1\" >string</td>\n",
       "      <td id=\"T_b705a_row1_col2\" class=\"data row1 col2\" >77.5%</td>\n",
       "      <td id=\"T_b705a_row1_col3\" class=\"data row1 col3\" >77.5%</td>\n",
       "      <td id=\"T_b705a_row1_col4\" class=\"data row1 col4\" >1309</td>\n",
       "      <td id=\"T_b705a_row1_col5\" class=\"data row1 col5\" >187</td>\n",
       "      <td id=\"T_b705a_row1_col6\" class=\"data row1 col6\" >Sample: C23 C25 C27 | G6 | B57 B59 B63 B66 | F4 | F33</td>\n",
       "    </tr>\n",
       "    <tr>\n",
       "      <th id=\"T_b705a_level0_row2\" class=\"row_heading level0 row2\" >2</th>\n",
       "      <td id=\"T_b705a_row2_col0\" class=\"data row2 col0\" >embarked</td>\n",
       "      <td id=\"T_b705a_row2_col1\" class=\"data row2 col1\" >category</td>\n",
       "      <td id=\"T_b705a_row2_col2\" class=\"data row2 col2\" >0.0%</td>\n",
       "      <td id=\"T_b705a_row2_col3\" class=\"data row2 col3\" >69.8%</td>\n",
       "      <td id=\"T_b705a_row2_col4\" class=\"data row2 col4\" >1309</td>\n",
       "      <td id=\"T_b705a_row2_col5\" class=\"data row2 col5\" >4</td>\n",
       "      <td id=\"T_b705a_row2_col6\" class=\"data row2 col6\" >Sample: S | C | Q | nan</td>\n",
       "    </tr>\n",
       "    <tr>\n",
       "      <th id=\"T_b705a_level0_row3\" class=\"row_heading level0 row3\" >3</th>\n",
       "      <td id=\"T_b705a_row3_col0\" class=\"data row3 col0\" >fare</td>\n",
       "      <td id=\"T_b705a_row3_col1\" class=\"data row3 col1\" >float64</td>\n",
       "      <td id=\"T_b705a_row3_col2\" class=\"data row3 col2\" >0.1%</td>\n",
       "      <td id=\"T_b705a_row3_col3\" class=\"data row3 col3\" >4.6%</td>\n",
       "      <td id=\"T_b705a_row3_col4\" class=\"data row3 col4\" >1309</td>\n",
       "      <td id=\"T_b705a_row3_col5\" class=\"data row3 col5\" >282</td>\n",
       "      <td id=\"T_b705a_row3_col6\" class=\"data row3 col6\" >max=512.3292 | min=0.0 | mean=33.3 | dominant=8.05</td>\n",
       "    </tr>\n",
       "    <tr>\n",
       "      <th id=\"T_b705a_level0_row4\" class=\"row_heading level0 row4\" >4</th>\n",
       "      <td id=\"T_b705a_row4_col0\" class=\"data row4 col0\" >parch</td>\n",
       "      <td id=\"T_b705a_row4_col1\" class=\"data row4 col1\" >category</td>\n",
       "      <td id=\"T_b705a_row4_col2\" class=\"data row4 col2\" >0.0%</td>\n",
       "      <td id=\"T_b705a_row4_col3\" class=\"data row4 col3\" >76.5%</td>\n",
       "      <td id=\"T_b705a_row4_col4\" class=\"data row4 col4\" >1309</td>\n",
       "      <td id=\"T_b705a_row4_col5\" class=\"data row4 col5\" >8</td>\n",
       "      <td id=\"T_b705a_row4_col6\" class=\"data row4 col6\" >Sample: 0 | 1 | 2 | 3 | 4</td>\n",
       "    </tr>\n",
       "    <tr>\n",
       "      <th id=\"T_b705a_level0_row5\" class=\"row_heading level0 row5\" >5</th>\n",
       "      <td id=\"T_b705a_row5_col0\" class=\"data row5 col0\" >pclass</td>\n",
       "      <td id=\"T_b705a_row5_col1\" class=\"data row5 col1\" >category</td>\n",
       "      <td id=\"T_b705a_row5_col2\" class=\"data row5 col2\" >0.0%</td>\n",
       "      <td id=\"T_b705a_row5_col3\" class=\"data row5 col3\" >54.2%</td>\n",
       "      <td id=\"T_b705a_row5_col4\" class=\"data row5 col4\" >1309</td>\n",
       "      <td id=\"T_b705a_row5_col5\" class=\"data row5 col5\" >3</td>\n",
       "      <td id=\"T_b705a_row5_col6\" class=\"data row5 col6\" >Sample: 3 | 1 | 2</td>\n",
       "    </tr>\n",
       "    <tr>\n",
       "      <th id=\"T_b705a_level0_row6\" class=\"row_heading level0 row6\" >6</th>\n",
       "      <td id=\"T_b705a_row6_col0\" class=\"data row6 col0\" >sex</td>\n",
       "      <td id=\"T_b705a_row6_col1\" class=\"data row6 col1\" >category</td>\n",
       "      <td id=\"T_b705a_row6_col2\" class=\"data row6 col2\" >0.0%</td>\n",
       "      <td id=\"T_b705a_row6_col3\" class=\"data row6 col3\" >64.4%</td>\n",
       "      <td id=\"T_b705a_row6_col4\" class=\"data row6 col4\" >1309</td>\n",
       "      <td id=\"T_b705a_row6_col5\" class=\"data row6 col5\" >2</td>\n",
       "      <td id=\"T_b705a_row6_col6\" class=\"data row6 col6\" >Sample: male | female</td>\n",
       "    </tr>\n",
       "    <tr>\n",
       "      <th id=\"T_b705a_level0_row7\" class=\"row_heading level0 row7\" >7</th>\n",
       "      <td id=\"T_b705a_row7_col0\" class=\"data row7 col0\" >sibsp</td>\n",
       "      <td id=\"T_b705a_row7_col1\" class=\"data row7 col1\" >category</td>\n",
       "      <td id=\"T_b705a_row7_col2\" class=\"data row7 col2\" >0.0%</td>\n",
       "      <td id=\"T_b705a_row7_col3\" class=\"data row7 col3\" >68.1%</td>\n",
       "      <td id=\"T_b705a_row7_col4\" class=\"data row7 col4\" >1309</td>\n",
       "      <td id=\"T_b705a_row7_col5\" class=\"data row7 col5\" >7</td>\n",
       "      <td id=\"T_b705a_row7_col6\" class=\"data row7 col6\" >Sample: 0 | 1 | 2 | 4 | 3</td>\n",
       "    </tr>\n",
       "    <tr>\n",
       "      <th id=\"T_b705a_level0_row8\" class=\"row_heading level0 row8\" >8</th>\n",
       "      <td id=\"T_b705a_row8_col0\" class=\"data row8 col0\" >survived</td>\n",
       "      <td id=\"T_b705a_row8_col1\" class=\"data row8 col1\" >category</td>\n",
       "      <td id=\"T_b705a_row8_col2\" class=\"data row8 col2\" >0.0%</td>\n",
       "      <td id=\"T_b705a_row8_col3\" class=\"data row8 col3\" >61.8%</td>\n",
       "      <td id=\"T_b705a_row8_col4\" class=\"data row8 col4\" >1309</td>\n",
       "      <td id=\"T_b705a_row8_col5\" class=\"data row8 col5\" >2</td>\n",
       "      <td id=\"T_b705a_row8_col6\" class=\"data row8 col6\" >Sample: 0 | 1</td>\n",
       "    </tr>\n",
       "    <tr>\n",
       "      <th id=\"T_b705a_level0_row9\" class=\"row_heading level0 row9\" >9</th>\n",
       "      <td id=\"T_b705a_row9_col0\" class=\"data row9 col0\" >ticket</td>\n",
       "      <td id=\"T_b705a_row9_col1\" class=\"data row9 col1\" >string</td>\n",
       "      <td id=\"T_b705a_row9_col2\" class=\"data row9 col2\" >0.0%</td>\n",
       "      <td id=\"T_b705a_row9_col3\" class=\"data row9 col3\" >0.8%</td>\n",
       "      <td id=\"T_b705a_row9_col4\" class=\"data row9 col4\" >1309</td>\n",
       "      <td id=\"T_b705a_row9_col5\" class=\"data row9 col5\" >929</td>\n",
       "      <td id=\"T_b705a_row9_col6\" class=\"data row9 col6\" >Sample: CA. 2343 | 1601 | CA 2144 | PC 17608 | 347077</td>\n",
       "    </tr>\n",
       "  </tbody>\n",
       "</table>\n"
      ],
      "text/plain": [
       "<pandas.io.formats.style.Styler at 0x7f868f580460>"
      ]
     },
     "execution_count": 27,
     "metadata": {},
     "output_type": "execute_result"
    }
   ],
   "source": [
    "tr.canonical_report(tr.load_persist_canonical())"
   ]
  },
  {
   "cell_type": "code",
   "execution_count": null,
   "id": "df0528a1-fedf-418a-a618-d1f623a3da2b",
   "metadata": {},
   "outputs": [],
   "source": []
  }
 ],
 "metadata": {
  "kernelspec": {
   "display_name": "Python 3 (ipykernel)",
   "language": "python",
   "name": "python3"
  },
  "language_info": {
   "codemirror_mode": {
    "name": "ipython",
    "version": 3
   },
   "file_extension": ".py",
   "mimetype": "text/x-python",
   "name": "python",
   "nbconvert_exporter": "python",
   "pygments_lexer": "ipython3",
   "version": "3.10.4"
  }
 },
 "nbformat": 4,
 "nbformat_minor": 5
}
