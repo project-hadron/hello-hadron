{
 "cells": [
  {
   "cell_type": "markdown",
   "id": "dc1bc237",
   "metadata": {},
   "source": [
    "<cite>Darryl Oatridge, August 2022<cite>"
   ]
  },
  {
   "cell_type": "code",
   "execution_count": 49,
   "id": "77e90ce3",
   "metadata": {},
   "outputs": [],
   "source": [
    "import os"
   ]
  },
  {
   "cell_type": "code",
   "execution_count": 50,
   "id": "9f20228b",
   "metadata": {},
   "outputs": [],
   "source": [
    "os.environ['HADRON_PM_PATH'] = '0_hello_meta/demo/contracts'\n",
    "os.environ['HADRON_DEFAULT_PATH'] = '0_hello_meta/demo/data'"
   ]
  },
  {
   "cell_type": "markdown",
   "id": "6b7e8716",
   "metadata": {},
   "source": [
    "## Feature Engineering\n",
    "In the previous section we built the first component to cover selection with the second component we are going to deal  with Feature engineering.  We have now identified the features of interest and now want to tidy those features So they are more compliant to a machine learning model or further feature investigation. \n",
    "\n",
    "For feature engineering we are going to use the wrangle component and as before create a new contract."
   ]
  },
  {
   "cell_type": "code",
   "execution_count": 51,
   "id": "dbf3056b",
   "metadata": {},
   "outputs": [],
   "source": [
    "from ds_discovery import Wrangle, Transition"
   ]
  },
  {
   "cell_type": "code",
   "execution_count": 52,
   "id": "70b8c4a8",
   "metadata": {},
   "outputs": [],
   "source": [
    "# get the instance\n",
    "wr = Wrangle.from_env('hello_wr', has_contract=False)"
   ]
  },
  {
   "cell_type": "markdown",
   "id": "093e81aa",
   "metadata": {},
   "source": [
    "As this is a new component we need to set the source and the persist but in this case we want the source to be the outcome of the previous component. As this is a common thing to do there is a First class method call `get_persist_contract` that can be called directly.  We create an instance of the Transistion component giving it its unique name and then call the method that retrieves a copy of that components persist Connector Contract, this we then set as the source."
   ]
  },
  {
   "cell_type": "code",
   "execution_count": 53,
   "id": "9e8d2cde",
   "metadata": {},
   "outputs": [],
   "source": [
    "source = Transition.from_env('hello_tr').get_persist_contract()\n",
    "wr.set_source_contract(source)\n",
    "wr.set_persist()"
   ]
  },
  {
   "cell_type": "markdown",
   "id": "e54b40c9",
   "metadata": {},
   "source": [
    "As a check we can run the canonical report and see that we have loaded the output of the previous component (Transition component) into the current source.  \n",
    "\n"
   ]
  },
  {
   "cell_type": "code",
   "execution_count": 54,
   "id": "0d7df244",
   "metadata": {},
   "outputs": [],
   "source": [
    "df = wr.load_source_canonical()"
   ]
  },
  {
   "cell_type": "code",
   "execution_count": 55,
   "id": "03ab2002",
   "metadata": {
    "scrolled": true
   },
   "outputs": [
    {
     "data": {
      "text/html": [
       "<style type=\"text/css\">\n",
       "#T_d8f4e th {\n",
       "  font-size: 120%;\n",
       "  text-align: center;\n",
       "}\n",
       "#T_d8f4e .row_heading {\n",
       "  display: none;;\n",
       "}\n",
       "#T_d8f4e  .blank {\n",
       "  display: none;;\n",
       "}\n",
       "#T_d8f4e_row0_col0, #T_d8f4e_row1_col0, #T_d8f4e_row2_col0, #T_d8f4e_row3_col0, #T_d8f4e_row4_col0, #T_d8f4e_row5_col0, #T_d8f4e_row6_col0, #T_d8f4e_row7_col0, #T_d8f4e_row8_col0, #T_d8f4e_row9_col0 {\n",
       "  font-weight: bold;\n",
       "  font-size: 120%;\n",
       "}\n",
       "#T_d8f4e_row0_col1, #T_d8f4e_row3_col1 {\n",
       "  color: #2f0f8a;\n",
       "}\n",
       "#T_d8f4e_row0_col2, #T_d8f4e_row0_col3, #T_d8f4e_row1_col5, #T_d8f4e_row2_col2, #T_d8f4e_row3_col2, #T_d8f4e_row3_col3, #T_d8f4e_row3_col5, #T_d8f4e_row4_col2, #T_d8f4e_row5_col2, #T_d8f4e_row5_col3, #T_d8f4e_row6_col2, #T_d8f4e_row6_col3, #T_d8f4e_row7_col2, #T_d8f4e_row8_col2, #T_d8f4e_row8_col3, #T_d8f4e_row9_col2, #T_d8f4e_row9_col3, #T_d8f4e_row9_col5 {\n",
       "  color: black;\n",
       "}\n",
       "#T_d8f4e_row0_col5 {\n",
       "  background-color: #f0f9ed;\n",
       "  color: black;\n",
       "}\n",
       "#T_d8f4e_row1_col1, #T_d8f4e_row9_col1 {\n",
       "  color: #761d38;\n",
       "}\n",
       "#T_d8f4e_row1_col2, #T_d8f4e_row1_col3, #T_d8f4e_row2_col3, #T_d8f4e_row4_col3, #T_d8f4e_row7_col3 {\n",
       "  background-color: #ffede5;\n",
       "  color: black;\n",
       "}\n",
       "#T_d8f4e_row2_col1, #T_d8f4e_row4_col1, #T_d8f4e_row5_col1, #T_d8f4e_row6_col1, #T_d8f4e_row7_col1, #T_d8f4e_row8_col1 {\n",
       "  color: #208a0f;\n",
       "}\n",
       "#T_d8f4e_row2_col5, #T_d8f4e_row5_col5 {\n",
       "  background-color: #84cc83;\n",
       "  color: black;\n",
       "}\n",
       "#T_d8f4e_row4_col5, #T_d8f4e_row7_col5 {\n",
       "  background-color: #a4da9e;\n",
       "  color: black;\n",
       "}\n",
       "#T_d8f4e_row6_col5, #T_d8f4e_row8_col5 {\n",
       "  background-color: #a1cbe2;\n",
       "  color: black;\n",
       "}\n",
       "</style>\n",
       "<table id=\"T_d8f4e\">\n",
       "  <caption>%_Dom: The % most dominant element </caption>\n",
       "  <thead>\n",
       "    <tr>\n",
       "      <th class=\"blank level0\" >&nbsp;</th>\n",
       "      <th id=\"T_d8f4e_level0_col0\" class=\"col_heading level0 col0\" >Attributes (10)</th>\n",
       "      <th id=\"T_d8f4e_level0_col1\" class=\"col_heading level0 col1\" >dType</th>\n",
       "      <th id=\"T_d8f4e_level0_col2\" class=\"col_heading level0 col2\" >%_Null</th>\n",
       "      <th id=\"T_d8f4e_level0_col3\" class=\"col_heading level0 col3\" >%_Dom</th>\n",
       "      <th id=\"T_d8f4e_level0_col4\" class=\"col_heading level0 col4\" >Count</th>\n",
       "      <th id=\"T_d8f4e_level0_col5\" class=\"col_heading level0 col5\" >Unique</th>\n",
       "      <th id=\"T_d8f4e_level0_col6\" class=\"col_heading level0 col6\" >Observations</th>\n",
       "    </tr>\n",
       "  </thead>\n",
       "  <tbody>\n",
       "    <tr>\n",
       "      <th id=\"T_d8f4e_level0_row0\" class=\"row_heading level0 row0\" >0</th>\n",
       "      <td id=\"T_d8f4e_row0_col0\" class=\"data row0 col0\" >age</td>\n",
       "      <td id=\"T_d8f4e_row0_col1\" class=\"data row0 col1\" >float64</td>\n",
       "      <td id=\"T_d8f4e_row0_col2\" class=\"data row0 col2\" >20.1%</td>\n",
       "      <td id=\"T_d8f4e_row0_col3\" class=\"data row0 col3\" >20.1%</td>\n",
       "      <td id=\"T_d8f4e_row0_col4\" class=\"data row0 col4\" >1309</td>\n",
       "      <td id=\"T_d8f4e_row0_col5\" class=\"data row0 col5\" >99</td>\n",
       "      <td id=\"T_d8f4e_row0_col6\" class=\"data row0 col6\" >max=80.0 | min=0.1667 | mean=29.88 | dominant=24.0</td>\n",
       "    </tr>\n",
       "    <tr>\n",
       "      <th id=\"T_d8f4e_level0_row1\" class=\"row_heading level0 row1\" >1</th>\n",
       "      <td id=\"T_d8f4e_row1_col0\" class=\"data row1 col0\" >cabin</td>\n",
       "      <td id=\"T_d8f4e_row1_col1\" class=\"data row1 col1\" >string</td>\n",
       "      <td id=\"T_d8f4e_row1_col2\" class=\"data row1 col2\" >77.5%</td>\n",
       "      <td id=\"T_d8f4e_row1_col3\" class=\"data row1 col3\" >77.5%</td>\n",
       "      <td id=\"T_d8f4e_row1_col4\" class=\"data row1 col4\" >1309</td>\n",
       "      <td id=\"T_d8f4e_row1_col5\" class=\"data row1 col5\" >187</td>\n",
       "      <td id=\"T_d8f4e_row1_col6\" class=\"data row1 col6\" >Sample: C23 C25 C27 | G6 | B57 B59 B63 B66 | F4 | F33</td>\n",
       "    </tr>\n",
       "    <tr>\n",
       "      <th id=\"T_d8f4e_level0_row2\" class=\"row_heading level0 row2\" >2</th>\n",
       "      <td id=\"T_d8f4e_row2_col0\" class=\"data row2 col0\" >embarked</td>\n",
       "      <td id=\"T_d8f4e_row2_col1\" class=\"data row2 col1\" >category</td>\n",
       "      <td id=\"T_d8f4e_row2_col2\" class=\"data row2 col2\" >0.0%</td>\n",
       "      <td id=\"T_d8f4e_row2_col3\" class=\"data row2 col3\" >69.8%</td>\n",
       "      <td id=\"T_d8f4e_row2_col4\" class=\"data row2 col4\" >1309</td>\n",
       "      <td id=\"T_d8f4e_row2_col5\" class=\"data row2 col5\" >4</td>\n",
       "      <td id=\"T_d8f4e_row2_col6\" class=\"data row2 col6\" >Sample: S | C | Q | nan</td>\n",
       "    </tr>\n",
       "    <tr>\n",
       "      <th id=\"T_d8f4e_level0_row3\" class=\"row_heading level0 row3\" >3</th>\n",
       "      <td id=\"T_d8f4e_row3_col0\" class=\"data row3 col0\" >fare</td>\n",
       "      <td id=\"T_d8f4e_row3_col1\" class=\"data row3 col1\" >float64</td>\n",
       "      <td id=\"T_d8f4e_row3_col2\" class=\"data row3 col2\" >0.1%</td>\n",
       "      <td id=\"T_d8f4e_row3_col3\" class=\"data row3 col3\" >4.6%</td>\n",
       "      <td id=\"T_d8f4e_row3_col4\" class=\"data row3 col4\" >1309</td>\n",
       "      <td id=\"T_d8f4e_row3_col5\" class=\"data row3 col5\" >282</td>\n",
       "      <td id=\"T_d8f4e_row3_col6\" class=\"data row3 col6\" >max=512.3292 | min=0.0 | mean=33.3 | dominant=8.05</td>\n",
       "    </tr>\n",
       "    <tr>\n",
       "      <th id=\"T_d8f4e_level0_row4\" class=\"row_heading level0 row4\" >4</th>\n",
       "      <td id=\"T_d8f4e_row4_col0\" class=\"data row4 col0\" >parch</td>\n",
       "      <td id=\"T_d8f4e_row4_col1\" class=\"data row4 col1\" >category</td>\n",
       "      <td id=\"T_d8f4e_row4_col2\" class=\"data row4 col2\" >0.0%</td>\n",
       "      <td id=\"T_d8f4e_row4_col3\" class=\"data row4 col3\" >76.5%</td>\n",
       "      <td id=\"T_d8f4e_row4_col4\" class=\"data row4 col4\" >1309</td>\n",
       "      <td id=\"T_d8f4e_row4_col5\" class=\"data row4 col5\" >8</td>\n",
       "      <td id=\"T_d8f4e_row4_col6\" class=\"data row4 col6\" >Sample: 0 | 1 | 2 | 3 | 4</td>\n",
       "    </tr>\n",
       "    <tr>\n",
       "      <th id=\"T_d8f4e_level0_row5\" class=\"row_heading level0 row5\" >5</th>\n",
       "      <td id=\"T_d8f4e_row5_col0\" class=\"data row5 col0\" >pclass</td>\n",
       "      <td id=\"T_d8f4e_row5_col1\" class=\"data row5 col1\" >category</td>\n",
       "      <td id=\"T_d8f4e_row5_col2\" class=\"data row5 col2\" >0.0%</td>\n",
       "      <td id=\"T_d8f4e_row5_col3\" class=\"data row5 col3\" >54.2%</td>\n",
       "      <td id=\"T_d8f4e_row5_col4\" class=\"data row5 col4\" >1309</td>\n",
       "      <td id=\"T_d8f4e_row5_col5\" class=\"data row5 col5\" >3</td>\n",
       "      <td id=\"T_d8f4e_row5_col6\" class=\"data row5 col6\" >Sample: 3 | 1 | 2</td>\n",
       "    </tr>\n",
       "    <tr>\n",
       "      <th id=\"T_d8f4e_level0_row6\" class=\"row_heading level0 row6\" >6</th>\n",
       "      <td id=\"T_d8f4e_row6_col0\" class=\"data row6 col0\" >sex</td>\n",
       "      <td id=\"T_d8f4e_row6_col1\" class=\"data row6 col1\" >category</td>\n",
       "      <td id=\"T_d8f4e_row6_col2\" class=\"data row6 col2\" >0.0%</td>\n",
       "      <td id=\"T_d8f4e_row6_col3\" class=\"data row6 col3\" >64.4%</td>\n",
       "      <td id=\"T_d8f4e_row6_col4\" class=\"data row6 col4\" >1309</td>\n",
       "      <td id=\"T_d8f4e_row6_col5\" class=\"data row6 col5\" >2</td>\n",
       "      <td id=\"T_d8f4e_row6_col6\" class=\"data row6 col6\" >Sample: male | female</td>\n",
       "    </tr>\n",
       "    <tr>\n",
       "      <th id=\"T_d8f4e_level0_row7\" class=\"row_heading level0 row7\" >7</th>\n",
       "      <td id=\"T_d8f4e_row7_col0\" class=\"data row7 col0\" >sibsp</td>\n",
       "      <td id=\"T_d8f4e_row7_col1\" class=\"data row7 col1\" >category</td>\n",
       "      <td id=\"T_d8f4e_row7_col2\" class=\"data row7 col2\" >0.0%</td>\n",
       "      <td id=\"T_d8f4e_row7_col3\" class=\"data row7 col3\" >68.1%</td>\n",
       "      <td id=\"T_d8f4e_row7_col4\" class=\"data row7 col4\" >1309</td>\n",
       "      <td id=\"T_d8f4e_row7_col5\" class=\"data row7 col5\" >7</td>\n",
       "      <td id=\"T_d8f4e_row7_col6\" class=\"data row7 col6\" >Sample: 0 | 1 | 2 | 4 | 3</td>\n",
       "    </tr>\n",
       "    <tr>\n",
       "      <th id=\"T_d8f4e_level0_row8\" class=\"row_heading level0 row8\" >8</th>\n",
       "      <td id=\"T_d8f4e_row8_col0\" class=\"data row8 col0\" >survived</td>\n",
       "      <td id=\"T_d8f4e_row8_col1\" class=\"data row8 col1\" >category</td>\n",
       "      <td id=\"T_d8f4e_row8_col2\" class=\"data row8 col2\" >0.0%</td>\n",
       "      <td id=\"T_d8f4e_row8_col3\" class=\"data row8 col3\" >61.8%</td>\n",
       "      <td id=\"T_d8f4e_row8_col4\" class=\"data row8 col4\" >1309</td>\n",
       "      <td id=\"T_d8f4e_row8_col5\" class=\"data row8 col5\" >2</td>\n",
       "      <td id=\"T_d8f4e_row8_col6\" class=\"data row8 col6\" >Sample: 0 | 1</td>\n",
       "    </tr>\n",
       "    <tr>\n",
       "      <th id=\"T_d8f4e_level0_row9\" class=\"row_heading level0 row9\" >9</th>\n",
       "      <td id=\"T_d8f4e_row9_col0\" class=\"data row9 col0\" >ticket</td>\n",
       "      <td id=\"T_d8f4e_row9_col1\" class=\"data row9 col1\" >string</td>\n",
       "      <td id=\"T_d8f4e_row9_col2\" class=\"data row9 col2\" >0.0%</td>\n",
       "      <td id=\"T_d8f4e_row9_col3\" class=\"data row9 col3\" >0.8%</td>\n",
       "      <td id=\"T_d8f4e_row9_col4\" class=\"data row9 col4\" >1309</td>\n",
       "      <td id=\"T_d8f4e_row9_col5\" class=\"data row9 col5\" >929</td>\n",
       "      <td id=\"T_d8f4e_row9_col6\" class=\"data row9 col6\" >Sample: CA. 2343 | 1601 | CA 2144 | PC 17608 | 347077</td>\n",
       "    </tr>\n",
       "  </tbody>\n",
       "</table>\n"
      ],
      "text/plain": [
       "<pandas.io.formats.style.Styler at 0x7fdf51353130>"
      ]
     },
     "execution_count": 55,
     "metadata": {},
     "output_type": "execute_result"
    }
   ],
   "source": [
    "wr.canonical_report(df)"
   ]
  },
  {
   "cell_type": "markdown",
   "id": "01206984",
   "metadata": {},
   "source": [
    "Now we have the source we can deal with the feature Engineering. As this is for the purpose of demonstration we are only sampling a small selection of Intent methods. It is well worth looking through the other Intent methods to get to know the full extent of the feature engineering package.\n",
    "\n",
    "To get started, the column name `sibsip`, the number of siblings or the spouse of a person onboard, and `parch`, the number of parents or children each passenger was touring with, added together provide a new value that provides the size of each family."
   ]
  },
  {
   "cell_type": "code",
   "execution_count": 56,
   "id": "61d3af0b",
   "metadata": {},
   "outputs": [],
   "source": [
    "df['family'] = wr.tools.correlate_aggregate(df, headers=['parch', 'sibsp'], agg='sum', column_name='family')"
   ]
  },
  {
   "cell_type": "markdown",
   "id": "dfacedd5",
   "metadata": {},
   "source": [
    "The column name `cabin` provides us with a record of the cabin each passenger was allocated.  Taking the first letter from each cabin gives us the deck the passenger was on. This provides us with a useful catagorical. "
   ]
  },
  {
   "cell_type": "code",
   "execution_count": 57,
   "id": "ae5e7aa7",
   "metadata": {},
   "outputs": [],
   "source": [
    "df['deck'] = wr.tools.correlate_custom(df, code_str=\"@['cabin'].str[0]\", column_name='deck')"
   ]
  },
  {
   "cell_type": "markdown",
   "id": "321e1a42",
   "metadata": {},
   "source": [
    "We also note that a passenger travelling alone seems to have an improved survival rate. By selecting `family`, who's value is one and giving all other values a zero we can create a new column `is_alone` that indicates passengers travelling on their own."
   ]
  },
  {
   "cell_type": "code",
   "execution_count": 58,
   "id": "55ba26f2",
   "metadata": {},
   "outputs": [],
   "source": [
    "selection = [wr.tools.select2dict(column='family', condition='@==0')]\n",
    "df['is_alone'] = wr.tools.correlate_selection(df, selection=selection, action=1, default_action=0, column_name='is_alone')"
   ]
  },
  {
   "cell_type": "markdown",
   "id": "5309b64a",
   "metadata": {},
   "source": [
    "Finally we ensure each of our new features are appropriately `typed` as a category. We also want to ensure the change to catagory runs after the newly created columns so we add the parameter `intent_order` with a value of one."
   ]
  },
  {
   "cell_type": "code",
   "execution_count": 59,
   "id": "873b62b0",
   "metadata": {},
   "outputs": [],
   "source": [
    "df = wr.tools.model_to_category(df, headers=['family','deck','is_alone'], intent_order=1, column_name='to_category')"
   ]
  },
  {
   "cell_type": "markdown",
   "id": "0fd53d68",
   "metadata": {},
   "source": [
    "By running the Intent report we can observe the change of order of the intent level."
   ]
  },
  {
   "cell_type": "code",
   "execution_count": 60,
   "id": "3a189db8",
   "metadata": {},
   "outputs": [
    {
     "data": {
      "text/html": [
       "<style type=\"text/css\">\n",
       "#T_36eae th {\n",
       "  font-size: 120%;\n",
       "  text-align: center;\n",
       "}\n",
       "#T_36eae .row_heading {\n",
       "  display: none;;\n",
       "}\n",
       "#T_36eae  .blank {\n",
       "  display: none;;\n",
       "}\n",
       "#T_36eae_row0_col0, #T_36eae_row1_col0, #T_36eae_row2_col0, #T_36eae_row3_col0 {\n",
       "  text-align: left;\n",
       "  font-weight: bold;\n",
       "  font-size: 120%;\n",
       "}\n",
       "#T_36eae_row0_col1, #T_36eae_row0_col2, #T_36eae_row0_col3, #T_36eae_row0_col4, #T_36eae_row1_col1, #T_36eae_row1_col2, #T_36eae_row1_col3, #T_36eae_row1_col4, #T_36eae_row2_col1, #T_36eae_row2_col2, #T_36eae_row2_col3, #T_36eae_row2_col4, #T_36eae_row3_col1, #T_36eae_row3_col2, #T_36eae_row3_col3, #T_36eae_row3_col4 {\n",
       "  text-align: left;\n",
       "}\n",
       "</style>\n",
       "<table id=\"T_36eae\">\n",
       "  <thead>\n",
       "    <tr>\n",
       "      <th class=\"blank level0\" >&nbsp;</th>\n",
       "      <th id=\"T_36eae_level0_col0\" class=\"col_heading level0 col0\" >level</th>\n",
       "      <th id=\"T_36eae_level0_col1\" class=\"col_heading level0 col1\" >order</th>\n",
       "      <th id=\"T_36eae_level0_col2\" class=\"col_heading level0 col2\" >intent</th>\n",
       "      <th id=\"T_36eae_level0_col3\" class=\"col_heading level0 col3\" >parameters</th>\n",
       "      <th id=\"T_36eae_level0_col4\" class=\"col_heading level0 col4\" >creator</th>\n",
       "    </tr>\n",
       "  </thead>\n",
       "  <tbody>\n",
       "    <tr>\n",
       "      <th id=\"T_36eae_level0_row0\" class=\"row_heading level0 row0\" >0</th>\n",
       "      <td id=\"T_36eae_row0_col0\" class=\"data row0 col0\" >deck</td>\n",
       "      <td id=\"T_36eae_row0_col1\" class=\"data row0 col1\" >0</td>\n",
       "      <td id=\"T_36eae_row0_col2\" class=\"data row0 col2\" >correlate_custom</td>\n",
       "      <td id=\"T_36eae_row0_col3\" class=\"data row0 col3\" >[\"code_str='@['cabin'].str[0]'\", \"column_name='deck'\", 'kwargs={}']</td>\n",
       "      <td id=\"T_36eae_row0_col4\" class=\"data row0 col4\" >doatridge</td>\n",
       "    </tr>\n",
       "    <tr>\n",
       "      <th id=\"T_36eae_level0_row1\" class=\"row_heading level0 row1\" >1</th>\n",
       "      <td id=\"T_36eae_row1_col0\" class=\"data row1 col0\" >family</td>\n",
       "      <td id=\"T_36eae_row1_col1\" class=\"data row1 col1\" >0</td>\n",
       "      <td id=\"T_36eae_row1_col2\" class=\"data row1 col2\" >correlate_aggregate</td>\n",
       "      <td id=\"T_36eae_row1_col3\" class=\"data row1 col3\" >[\"headers=['parch', 'sibsp']\", \"agg='sum'\", \"column_name='family'\"]</td>\n",
       "      <td id=\"T_36eae_row1_col4\" class=\"data row1 col4\" >doatridge</td>\n",
       "    </tr>\n",
       "    <tr>\n",
       "      <th id=\"T_36eae_level0_row2\" class=\"row_heading level0 row2\" >2</th>\n",
       "      <td id=\"T_36eae_row2_col0\" class=\"data row2 col0\" >is_alone</td>\n",
       "      <td id=\"T_36eae_row2_col1\" class=\"data row2 col1\" >0</td>\n",
       "      <td id=\"T_36eae_row2_col2\" class=\"data row2 col2\" >correlate_selection</td>\n",
       "      <td id=\"T_36eae_row2_col3\" class=\"data row2 col3\" >[\"selection=[{'column': 'family', 'condition': '@==0'}]\", 'action=1', 'default_action=0', \"column_name='is_alone'\"]</td>\n",
       "      <td id=\"T_36eae_row2_col4\" class=\"data row2 col4\" >doatridge</td>\n",
       "    </tr>\n",
       "    <tr>\n",
       "      <th id=\"T_36eae_level0_row3\" class=\"row_heading level0 row3\" >3</th>\n",
       "      <td id=\"T_36eae_row3_col0\" class=\"data row3 col0\" >to_category</td>\n",
       "      <td id=\"T_36eae_row3_col1\" class=\"data row3 col1\" >1</td>\n",
       "      <td id=\"T_36eae_row3_col2\" class=\"data row3 col2\" >model_to_category</td>\n",
       "      <td id=\"T_36eae_row3_col3\" class=\"data row3 col3\" >[\"headers=['family', 'deck', 'is_alone']\", \"column_name='to_category'\"]</td>\n",
       "      <td id=\"T_36eae_row3_col4\" class=\"data row3 col4\" >doatridge</td>\n",
       "    </tr>\n",
       "  </tbody>\n",
       "</table>\n"
      ],
      "text/plain": [
       "<pandas.io.formats.style.Styler at 0x7fdf50a42b00>"
      ]
     },
     "execution_count": 60,
     "metadata": {},
     "output_type": "execute_result"
    }
   ],
   "source": [
    "wr.report_intent()"
   ]
  },
  {
   "cell_type": "markdown",
   "id": "74a14ef9",
   "metadata": {},
   "source": [
    "## Component Pipeline\n",
    "\n",
    "At this point we can run the pipeline and see the results of the new features."
   ]
  },
  {
   "cell_type": "code",
   "execution_count": 61,
   "id": "fc3525c1",
   "metadata": {},
   "outputs": [],
   "source": [
    "wr.run_component_pipeline()"
   ]
  },
  {
   "cell_type": "code",
   "execution_count": 62,
   "id": "455b9ab5",
   "metadata": {},
   "outputs": [
    {
     "data": {
      "text/html": [
       "<style type=\"text/css\">\n",
       "#T_43afa th {\n",
       "  font-size: 120%;\n",
       "  text-align: center;\n",
       "}\n",
       "#T_43afa .row_heading {\n",
       "  display: none;;\n",
       "}\n",
       "#T_43afa  .blank {\n",
       "  display: none;;\n",
       "}\n",
       "#T_43afa_row0_col0, #T_43afa_row1_col0, #T_43afa_row2_col0, #T_43afa_row3_col0, #T_43afa_row4_col0, #T_43afa_row5_col0, #T_43afa_row6_col0, #T_43afa_row7_col0, #T_43afa_row8_col0, #T_43afa_row9_col0, #T_43afa_row10_col0, #T_43afa_row11_col0, #T_43afa_row12_col0 {\n",
       "  font-weight: bold;\n",
       "  font-size: 120%;\n",
       "}\n",
       "#T_43afa_row0_col1, #T_43afa_row5_col1 {\n",
       "  color: #2f0f8a;\n",
       "}\n",
       "#T_43afa_row0_col2, #T_43afa_row0_col3, #T_43afa_row1_col5, #T_43afa_row2_col2, #T_43afa_row3_col2, #T_43afa_row4_col2, #T_43afa_row4_col3, #T_43afa_row5_col2, #T_43afa_row5_col3, #T_43afa_row5_col5, #T_43afa_row6_col2, #T_43afa_row6_col3, #T_43afa_row7_col2, #T_43afa_row8_col2, #T_43afa_row8_col3, #T_43afa_row9_col2, #T_43afa_row9_col3, #T_43afa_row10_col2, #T_43afa_row11_col2, #T_43afa_row11_col3, #T_43afa_row12_col2, #T_43afa_row12_col3, #T_43afa_row12_col5 {\n",
       "  color: black;\n",
       "}\n",
       "#T_43afa_row0_col5 {\n",
       "  background-color: #f0f9ed;\n",
       "  color: black;\n",
       "}\n",
       "#T_43afa_row1_col1, #T_43afa_row12_col1 {\n",
       "  color: #761d38;\n",
       "}\n",
       "#T_43afa_row1_col2, #T_43afa_row1_col3, #T_43afa_row2_col3, #T_43afa_row3_col3, #T_43afa_row7_col3, #T_43afa_row10_col3 {\n",
       "  background-color: #ffede5;\n",
       "  color: black;\n",
       "}\n",
       "#T_43afa_row2_col1, #T_43afa_row3_col1, #T_43afa_row4_col1, #T_43afa_row6_col1, #T_43afa_row7_col1, #T_43afa_row8_col1, #T_43afa_row9_col1, #T_43afa_row10_col1, #T_43afa_row11_col1 {\n",
       "  color: #208a0f;\n",
       "}\n",
       "#T_43afa_row2_col5, #T_43afa_row4_col5, #T_43afa_row7_col5, #T_43afa_row10_col5 {\n",
       "  background-color: #a4da9e;\n",
       "  color: black;\n",
       "}\n",
       "#T_43afa_row3_col5, #T_43afa_row8_col5 {\n",
       "  background-color: #84cc83;\n",
       "  color: black;\n",
       "}\n",
       "#T_43afa_row6_col5, #T_43afa_row9_col5, #T_43afa_row11_col5 {\n",
       "  background-color: #a1cbe2;\n",
       "  color: black;\n",
       "}\n",
       "</style>\n",
       "<table id=\"T_43afa\">\n",
       "  <caption>%_Dom: The % most dominant element </caption>\n",
       "  <thead>\n",
       "    <tr>\n",
       "      <th class=\"blank level0\" >&nbsp;</th>\n",
       "      <th id=\"T_43afa_level0_col0\" class=\"col_heading level0 col0\" >Attributes (13)</th>\n",
       "      <th id=\"T_43afa_level0_col1\" class=\"col_heading level0 col1\" >dType</th>\n",
       "      <th id=\"T_43afa_level0_col2\" class=\"col_heading level0 col2\" >%_Null</th>\n",
       "      <th id=\"T_43afa_level0_col3\" class=\"col_heading level0 col3\" >%_Dom</th>\n",
       "      <th id=\"T_43afa_level0_col4\" class=\"col_heading level0 col4\" >Count</th>\n",
       "      <th id=\"T_43afa_level0_col5\" class=\"col_heading level0 col5\" >Unique</th>\n",
       "      <th id=\"T_43afa_level0_col6\" class=\"col_heading level0 col6\" >Observations</th>\n",
       "    </tr>\n",
       "  </thead>\n",
       "  <tbody>\n",
       "    <tr>\n",
       "      <th id=\"T_43afa_level0_row0\" class=\"row_heading level0 row0\" >0</th>\n",
       "      <td id=\"T_43afa_row0_col0\" class=\"data row0 col0\" >age</td>\n",
       "      <td id=\"T_43afa_row0_col1\" class=\"data row0 col1\" >float64</td>\n",
       "      <td id=\"T_43afa_row0_col2\" class=\"data row0 col2\" >20.1%</td>\n",
       "      <td id=\"T_43afa_row0_col3\" class=\"data row0 col3\" >20.1%</td>\n",
       "      <td id=\"T_43afa_row0_col4\" class=\"data row0 col4\" >1309</td>\n",
       "      <td id=\"T_43afa_row0_col5\" class=\"data row0 col5\" >99</td>\n",
       "      <td id=\"T_43afa_row0_col6\" class=\"data row0 col6\" >max=80.0 | min=0.1667 | mean=29.88 | dominant=24.0</td>\n",
       "    </tr>\n",
       "    <tr>\n",
       "      <th id=\"T_43afa_level0_row1\" class=\"row_heading level0 row1\" >1</th>\n",
       "      <td id=\"T_43afa_row1_col0\" class=\"data row1 col0\" >cabin</td>\n",
       "      <td id=\"T_43afa_row1_col1\" class=\"data row1 col1\" >string</td>\n",
       "      <td id=\"T_43afa_row1_col2\" class=\"data row1 col2\" >77.5%</td>\n",
       "      <td id=\"T_43afa_row1_col3\" class=\"data row1 col3\" >77.5%</td>\n",
       "      <td id=\"T_43afa_row1_col4\" class=\"data row1 col4\" >1309</td>\n",
       "      <td id=\"T_43afa_row1_col5\" class=\"data row1 col5\" >187</td>\n",
       "      <td id=\"T_43afa_row1_col6\" class=\"data row1 col6\" >Sample: C23 C25 C27 | G6 | B57 B59 B63 B66 | F4 | F33</td>\n",
       "    </tr>\n",
       "    <tr>\n",
       "      <th id=\"T_43afa_level0_row2\" class=\"row_heading level0 row2\" >2</th>\n",
       "      <td id=\"T_43afa_row2_col0\" class=\"data row2 col0\" >deck</td>\n",
       "      <td id=\"T_43afa_row2_col1\" class=\"data row2 col1\" >category</td>\n",
       "      <td id=\"T_43afa_row2_col2\" class=\"data row2 col2\" >0.0%</td>\n",
       "      <td id=\"T_43afa_row2_col3\" class=\"data row2 col3\" >77.5%</td>\n",
       "      <td id=\"T_43afa_row2_col4\" class=\"data row2 col4\" >1309</td>\n",
       "      <td id=\"T_43afa_row2_col5\" class=\"data row2 col5\" >9</td>\n",
       "      <td id=\"T_43afa_row2_col6\" class=\"data row2 col6\" >Sample: <NA> | C | B | D | E</td>\n",
       "    </tr>\n",
       "    <tr>\n",
       "      <th id=\"T_43afa_level0_row3\" class=\"row_heading level0 row3\" >3</th>\n",
       "      <td id=\"T_43afa_row3_col0\" class=\"data row3 col0\" >embarked</td>\n",
       "      <td id=\"T_43afa_row3_col1\" class=\"data row3 col1\" >category</td>\n",
       "      <td id=\"T_43afa_row3_col2\" class=\"data row3 col2\" >0.0%</td>\n",
       "      <td id=\"T_43afa_row3_col3\" class=\"data row3 col3\" >69.8%</td>\n",
       "      <td id=\"T_43afa_row3_col4\" class=\"data row3 col4\" >1309</td>\n",
       "      <td id=\"T_43afa_row3_col5\" class=\"data row3 col5\" >4</td>\n",
       "      <td id=\"T_43afa_row3_col6\" class=\"data row3 col6\" >Sample: S | C | Q | nan</td>\n",
       "    </tr>\n",
       "    <tr>\n",
       "      <th id=\"T_43afa_level0_row4\" class=\"row_heading level0 row4\" >4</th>\n",
       "      <td id=\"T_43afa_row4_col0\" class=\"data row4 col0\" >family</td>\n",
       "      <td id=\"T_43afa_row4_col1\" class=\"data row4 col1\" >category</td>\n",
       "      <td id=\"T_43afa_row4_col2\" class=\"data row4 col2\" >0.0%</td>\n",
       "      <td id=\"T_43afa_row4_col3\" class=\"data row4 col3\" >60.4%</td>\n",
       "      <td id=\"T_43afa_row4_col4\" class=\"data row4 col4\" >1309</td>\n",
       "      <td id=\"T_43afa_row4_col5\" class=\"data row4 col5\" >9</td>\n",
       "      <td id=\"T_43afa_row4_col6\" class=\"data row4 col6\" >Sample: 0 | 1 | 2 | 3 | 5</td>\n",
       "    </tr>\n",
       "    <tr>\n",
       "      <th id=\"T_43afa_level0_row5\" class=\"row_heading level0 row5\" >5</th>\n",
       "      <td id=\"T_43afa_row5_col0\" class=\"data row5 col0\" >fare</td>\n",
       "      <td id=\"T_43afa_row5_col1\" class=\"data row5 col1\" >float64</td>\n",
       "      <td id=\"T_43afa_row5_col2\" class=\"data row5 col2\" >0.1%</td>\n",
       "      <td id=\"T_43afa_row5_col3\" class=\"data row5 col3\" >4.6%</td>\n",
       "      <td id=\"T_43afa_row5_col4\" class=\"data row5 col4\" >1309</td>\n",
       "      <td id=\"T_43afa_row5_col5\" class=\"data row5 col5\" >282</td>\n",
       "      <td id=\"T_43afa_row5_col6\" class=\"data row5 col6\" >max=512.3292 | min=0.0 | mean=33.3 | dominant=8.05</td>\n",
       "    </tr>\n",
       "    <tr>\n",
       "      <th id=\"T_43afa_level0_row6\" class=\"row_heading level0 row6\" >6</th>\n",
       "      <td id=\"T_43afa_row6_col0\" class=\"data row6 col0\" >is_alone</td>\n",
       "      <td id=\"T_43afa_row6_col1\" class=\"data row6 col1\" >category</td>\n",
       "      <td id=\"T_43afa_row6_col2\" class=\"data row6 col2\" >0.0%</td>\n",
       "      <td id=\"T_43afa_row6_col3\" class=\"data row6 col3\" >60.4%</td>\n",
       "      <td id=\"T_43afa_row6_col4\" class=\"data row6 col4\" >1309</td>\n",
       "      <td id=\"T_43afa_row6_col5\" class=\"data row6 col5\" >2</td>\n",
       "      <td id=\"T_43afa_row6_col6\" class=\"data row6 col6\" >Sample: 1 | 0</td>\n",
       "    </tr>\n",
       "    <tr>\n",
       "      <th id=\"T_43afa_level0_row7\" class=\"row_heading level0 row7\" >7</th>\n",
       "      <td id=\"T_43afa_row7_col0\" class=\"data row7 col0\" >parch</td>\n",
       "      <td id=\"T_43afa_row7_col1\" class=\"data row7 col1\" >category</td>\n",
       "      <td id=\"T_43afa_row7_col2\" class=\"data row7 col2\" >0.0%</td>\n",
       "      <td id=\"T_43afa_row7_col3\" class=\"data row7 col3\" >76.5%</td>\n",
       "      <td id=\"T_43afa_row7_col4\" class=\"data row7 col4\" >1309</td>\n",
       "      <td id=\"T_43afa_row7_col5\" class=\"data row7 col5\" >8</td>\n",
       "      <td id=\"T_43afa_row7_col6\" class=\"data row7 col6\" >Sample: 0 | 1 | 2 | 3 | 4</td>\n",
       "    </tr>\n",
       "    <tr>\n",
       "      <th id=\"T_43afa_level0_row8\" class=\"row_heading level0 row8\" >8</th>\n",
       "      <td id=\"T_43afa_row8_col0\" class=\"data row8 col0\" >pclass</td>\n",
       "      <td id=\"T_43afa_row8_col1\" class=\"data row8 col1\" >category</td>\n",
       "      <td id=\"T_43afa_row8_col2\" class=\"data row8 col2\" >0.0%</td>\n",
       "      <td id=\"T_43afa_row8_col3\" class=\"data row8 col3\" >54.2%</td>\n",
       "      <td id=\"T_43afa_row8_col4\" class=\"data row8 col4\" >1309</td>\n",
       "      <td id=\"T_43afa_row8_col5\" class=\"data row8 col5\" >3</td>\n",
       "      <td id=\"T_43afa_row8_col6\" class=\"data row8 col6\" >Sample: 3 | 1 | 2</td>\n",
       "    </tr>\n",
       "    <tr>\n",
       "      <th id=\"T_43afa_level0_row9\" class=\"row_heading level0 row9\" >9</th>\n",
       "      <td id=\"T_43afa_row9_col0\" class=\"data row9 col0\" >sex</td>\n",
       "      <td id=\"T_43afa_row9_col1\" class=\"data row9 col1\" >category</td>\n",
       "      <td id=\"T_43afa_row9_col2\" class=\"data row9 col2\" >0.0%</td>\n",
       "      <td id=\"T_43afa_row9_col3\" class=\"data row9 col3\" >64.4%</td>\n",
       "      <td id=\"T_43afa_row9_col4\" class=\"data row9 col4\" >1309</td>\n",
       "      <td id=\"T_43afa_row9_col5\" class=\"data row9 col5\" >2</td>\n",
       "      <td id=\"T_43afa_row9_col6\" class=\"data row9 col6\" >Sample: male | female</td>\n",
       "    </tr>\n",
       "    <tr>\n",
       "      <th id=\"T_43afa_level0_row10\" class=\"row_heading level0 row10\" >10</th>\n",
       "      <td id=\"T_43afa_row10_col0\" class=\"data row10 col0\" >sibsp</td>\n",
       "      <td id=\"T_43afa_row10_col1\" class=\"data row10 col1\" >category</td>\n",
       "      <td id=\"T_43afa_row10_col2\" class=\"data row10 col2\" >0.0%</td>\n",
       "      <td id=\"T_43afa_row10_col3\" class=\"data row10 col3\" >68.1%</td>\n",
       "      <td id=\"T_43afa_row10_col4\" class=\"data row10 col4\" >1309</td>\n",
       "      <td id=\"T_43afa_row10_col5\" class=\"data row10 col5\" >7</td>\n",
       "      <td id=\"T_43afa_row10_col6\" class=\"data row10 col6\" >Sample: 0 | 1 | 2 | 4 | 3</td>\n",
       "    </tr>\n",
       "    <tr>\n",
       "      <th id=\"T_43afa_level0_row11\" class=\"row_heading level0 row11\" >11</th>\n",
       "      <td id=\"T_43afa_row11_col0\" class=\"data row11 col0\" >survived</td>\n",
       "      <td id=\"T_43afa_row11_col1\" class=\"data row11 col1\" >category</td>\n",
       "      <td id=\"T_43afa_row11_col2\" class=\"data row11 col2\" >0.0%</td>\n",
       "      <td id=\"T_43afa_row11_col3\" class=\"data row11 col3\" >61.8%</td>\n",
       "      <td id=\"T_43afa_row11_col4\" class=\"data row11 col4\" >1309</td>\n",
       "      <td id=\"T_43afa_row11_col5\" class=\"data row11 col5\" >2</td>\n",
       "      <td id=\"T_43afa_row11_col6\" class=\"data row11 col6\" >Sample: 0 | 1</td>\n",
       "    </tr>\n",
       "    <tr>\n",
       "      <th id=\"T_43afa_level0_row12\" class=\"row_heading level0 row12\" >12</th>\n",
       "      <td id=\"T_43afa_row12_col0\" class=\"data row12 col0\" >ticket</td>\n",
       "      <td id=\"T_43afa_row12_col1\" class=\"data row12 col1\" >string</td>\n",
       "      <td id=\"T_43afa_row12_col2\" class=\"data row12 col2\" >0.0%</td>\n",
       "      <td id=\"T_43afa_row12_col3\" class=\"data row12 col3\" >0.8%</td>\n",
       "      <td id=\"T_43afa_row12_col4\" class=\"data row12 col4\" >1309</td>\n",
       "      <td id=\"T_43afa_row12_col5\" class=\"data row12 col5\" >929</td>\n",
       "      <td id=\"T_43afa_row12_col6\" class=\"data row12 col6\" >Sample: CA. 2343 | 1601 | CA 2144 | PC 17608 | 347077</td>\n",
       "    </tr>\n",
       "  </tbody>\n",
       "</table>\n"
      ],
      "text/plain": [
       "<pandas.io.formats.style.Styler at 0x7fdf51995cc0>"
      ]
     },
     "execution_count": 62,
     "metadata": {},
     "output_type": "execute_result"
    }
   ],
   "source": [
    "wr.canonical_report(df)"
   ]
  },
  {
   "cell_type": "markdown",
   "id": "e76f254c-5111-49fa-b2f2-94e3e78357d0",
   "metadata": {},
   "source": [
    "## Imputation\n",
    "Imputation is the act of replacing missing data with statistical estimates of the missing values. The goal of any imputation technique is to produce a complete dataset that can be used to train machine learning models.  There are three types of missing data:\n",
    "- Missing Completely at Random (MCAR); where the missing data has nothing to do with another feature(s)\n",
    "- Missing at Random (MAR); where missing data can be interpreted from another feature(s)\n",
    "- Missing not at Random (MNAR); where missing data is not random and can be interpreted from another feature(s)\n",
    "\n",
    "With `deck` and `fair` we can assume MCAR but with `age` it appears to have association with other features.  But for the purposes of the demo we are going to assume it to also be MCAR.\n",
    "\n",
    "With `deck` the conversion to catagorical has already imputed the nulls with the new catagorical value <NA> therefore we do not need to do anything. "
   ]
  },
  {
   "cell_type": "code",
   "execution_count": 63,
   "id": "692ea8a9",
   "metadata": {},
   "outputs": [
    {
     "data": {
      "text/plain": [
       "<NA>    1014\n",
       "C         94\n",
       "B         65\n",
       "D         46\n",
       "E         41\n",
       "A         22\n",
       "F         21\n",
       "G          5\n",
       "T          1\n",
       "Name: deck, dtype: int64"
      ]
     },
     "execution_count": 63,
     "metadata": {},
     "output_type": "execute_result"
    }
   ],
   "source": [
    "df['deck'].value_counts()"
   ]
  },
  {
   "cell_type": "markdown",
   "id": "cbf293fb-891a-4a6e-a256-fee42a98adc5",
   "metadata": {},
   "source": [
    "With `fare`  we chose a random number whereby this number is more likely to fall within a populated area and preserves the distribution of the data. This works particulary well with the small amount of missing data. "
   ]
  },
  {
   "cell_type": "code",
   "execution_count": 64,
   "id": "f4fc9a31-7fcf-43f3-ac1a-e8ebb088b778",
   "metadata": {},
   "outputs": [],
   "source": [
    "df['fare'] = wr.tools.correlate_missing(df, header='fare', method='random', column_name='fare')"
   ]
  },
  {
   "cell_type": "markdown",
   "id": "186ed561-3caf-47cc-a4e6-dde5544af327",
   "metadata": {},
   "source": [
    "We can see from the graphical representation of the data the data distribution is preserved.  "
   ]
  },
  {
   "cell_type": "code",
   "execution_count": 65,
   "id": "e64dd8d9-a8da-403f-8166-63f7754386a7",
   "metadata": {
    "scrolled": true
   },
   "outputs": [
    {
     "data": {
      "image/png": "[encoded data removed]",
      "text/plain": [
       "<Figure size 1152x288 with 3 Axes>"
      ]
     },
     "metadata": {
      "needs_background": "light"
     },
     "output_type": "display_data"
    },
    {
     "data": {
      "text/plain": [
       "<Figure size 432x288 with 0 Axes>"
      ]
     },
     "metadata": {},
     "output_type": "display_data"
    }
   ],
   "source": [
    "wr.visual.show_distribution(df, 'fare')"
   ]
  },
  {
   "cell_type": "markdown",
   "id": "22360056",
   "metadata": {},
   "source": [
    "Age is slightly more tricky as its null values are quite large.  In this instance we will use probability frequency, which like random values preserves the distribution of the data.  Quite often, in these cases, we can add an additional boulean column that tells us which values were generated to replace nulls."
   ]
  },
  {
   "cell_type": "code",
   "execution_count": 67,
   "id": "eb77ed44-8762-4ec2-9a73-d306820df7dd",
   "metadata": {},
   "outputs": [],
   "source": [
    "df['age'] = wr.tools.correlate_missing_weighted(df, header='age', granularity=5.0, column_name='age')"
   ]
  },
  {
   "cell_type": "markdown",
   "id": "ea5eff23-5c78-47f3-b6a5-7c8ffe45b823",
   "metadata": {},
   "source": [
    "Using the visual tools we can see the preservation of the data distribution whilst replacing nulls."
   ]
  },
  {
   "cell_type": "code",
   "execution_count": 68,
   "id": "1aa2c600-35d1-414f-bc66-542c916ed1d5",
   "metadata": {
    "scrolled": true
   },
   "outputs": [
    {
     "data": {
      "image/png": "[encoded data removed]",
      "text/plain": [
       "<Figure size 1152x288 with 3 Axes>"
      ]
     },
     "metadata": {
      "needs_background": "light"
     },
     "output_type": "display_data"
    },
    {
     "data": {
      "text/plain": [
       "<Figure size 432x288 with 0 Axes>"
      ]
     },
     "metadata": {},
     "output_type": "display_data"
    }
   ],
   "source": [
    "wr.visual.show_distribution(df, 'age')"
   ]
  },
  {
   "cell_type": "markdown",
   "id": "2db87899-5f58-4434-a6c0-5cf7e3d8f17f",
   "metadata": {},
   "source": [
    "Using the Intent report we can check on the additional intent added."
   ]
  },
  {
   "cell_type": "code",
   "execution_count": 69,
   "id": "17689e2c-e904-4337-b81e-34511e11cf46",
   "metadata": {
    "scrolled": true
   },
   "outputs": [
    {
     "data": {
      "text/html": [
       "<style type=\"text/css\">\n",
       "#T_ca135 th {\n",
       "  font-size: 120%;\n",
       "  text-align: center;\n",
       "}\n",
       "#T_ca135 .row_heading {\n",
       "  display: none;;\n",
       "}\n",
       "#T_ca135  .blank {\n",
       "  display: none;;\n",
       "}\n",
       "#T_ca135_row0_col0, #T_ca135_row1_col0, #T_ca135_row2_col0, #T_ca135_row3_col0, #T_ca135_row4_col0, #T_ca135_row5_col0 {\n",
       "  text-align: left;\n",
       "  font-weight: bold;\n",
       "  font-size: 120%;\n",
       "}\n",
       "#T_ca135_row0_col1, #T_ca135_row0_col2, #T_ca135_row0_col3, #T_ca135_row0_col4, #T_ca135_row1_col1, #T_ca135_row1_col2, #T_ca135_row1_col3, #T_ca135_row1_col4, #T_ca135_row2_col1, #T_ca135_row2_col2, #T_ca135_row2_col3, #T_ca135_row2_col4, #T_ca135_row3_col1, #T_ca135_row3_col2, #T_ca135_row3_col3, #T_ca135_row3_col4, #T_ca135_row4_col1, #T_ca135_row4_col2, #T_ca135_row4_col3, #T_ca135_row4_col4, #T_ca135_row5_col1, #T_ca135_row5_col2, #T_ca135_row5_col3, #T_ca135_row5_col4 {\n",
       "  text-align: left;\n",
       "}\n",
       "</style>\n",
       "<table id=\"T_ca135\">\n",
       "  <thead>\n",
       "    <tr>\n",
       "      <th class=\"blank level0\" >&nbsp;</th>\n",
       "      <th id=\"T_ca135_level0_col0\" class=\"col_heading level0 col0\" >level</th>\n",
       "      <th id=\"T_ca135_level0_col1\" class=\"col_heading level0 col1\" >order</th>\n",
       "      <th id=\"T_ca135_level0_col2\" class=\"col_heading level0 col2\" >intent</th>\n",
       "      <th id=\"T_ca135_level0_col3\" class=\"col_heading level0 col3\" >parameters</th>\n",
       "      <th id=\"T_ca135_level0_col4\" class=\"col_heading level0 col4\" >creator</th>\n",
       "    </tr>\n",
       "  </thead>\n",
       "  <tbody>\n",
       "    <tr>\n",
       "      <th id=\"T_ca135_level0_row0\" class=\"row_heading level0 row0\" >0</th>\n",
       "      <td id=\"T_ca135_row0_col0\" class=\"data row0 col0\" >age</td>\n",
       "      <td id=\"T_ca135_row0_col1\" class=\"data row0 col1\" >0</td>\n",
       "      <td id=\"T_ca135_row0_col2\" class=\"data row0 col2\" >correlate_missing_weighted</td>\n",
       "      <td id=\"T_ca135_row0_col3\" class=\"data row0 col3\" >[\"header='age'\", 'granularity=5.0', \"column_name='age'\"]</td>\n",
       "      <td id=\"T_ca135_row0_col4\" class=\"data row0 col4\" >doatridge</td>\n",
       "    </tr>\n",
       "    <tr>\n",
       "      <th id=\"T_ca135_level0_row1\" class=\"row_heading level0 row1\" >1</th>\n",
       "      <td id=\"T_ca135_row1_col0\" class=\"data row1 col0\" >deck</td>\n",
       "      <td id=\"T_ca135_row1_col1\" class=\"data row1 col1\" >0</td>\n",
       "      <td id=\"T_ca135_row1_col2\" class=\"data row1 col2\" >correlate_custom</td>\n",
       "      <td id=\"T_ca135_row1_col3\" class=\"data row1 col3\" >[\"code_str='@['cabin'].str[0]'\", \"column_name='deck'\", 'kwargs={}']</td>\n",
       "      <td id=\"T_ca135_row1_col4\" class=\"data row1 col4\" >doatridge</td>\n",
       "    </tr>\n",
       "    <tr>\n",
       "      <th id=\"T_ca135_level0_row2\" class=\"row_heading level0 row2\" >2</th>\n",
       "      <td id=\"T_ca135_row2_col0\" class=\"data row2 col0\" >family</td>\n",
       "      <td id=\"T_ca135_row2_col1\" class=\"data row2 col1\" >0</td>\n",
       "      <td id=\"T_ca135_row2_col2\" class=\"data row2 col2\" >correlate_aggregate</td>\n",
       "      <td id=\"T_ca135_row2_col3\" class=\"data row2 col3\" >[\"headers=['parch', 'sibsp']\", \"agg='sum'\", \"column_name='family'\"]</td>\n",
       "      <td id=\"T_ca135_row2_col4\" class=\"data row2 col4\" >doatridge</td>\n",
       "    </tr>\n",
       "    <tr>\n",
       "      <th id=\"T_ca135_level0_row3\" class=\"row_heading level0 row3\" >3</th>\n",
       "      <td id=\"T_ca135_row3_col0\" class=\"data row3 col0\" >fare</td>\n",
       "      <td id=\"T_ca135_row3_col1\" class=\"data row3 col1\" >0</td>\n",
       "      <td id=\"T_ca135_row3_col2\" class=\"data row3 col2\" >correlate_missing</td>\n",
       "      <td id=\"T_ca135_row3_col3\" class=\"data row3 col3\" >[\"header='fare'\", \"method='random'\", \"column_name='fare'\"]</td>\n",
       "      <td id=\"T_ca135_row3_col4\" class=\"data row3 col4\" >doatridge</td>\n",
       "    </tr>\n",
       "    <tr>\n",
       "      <th id=\"T_ca135_level0_row4\" class=\"row_heading level0 row4\" >4</th>\n",
       "      <td id=\"T_ca135_row4_col0\" class=\"data row4 col0\" >is_alone</td>\n",
       "      <td id=\"T_ca135_row4_col1\" class=\"data row4 col1\" >0</td>\n",
       "      <td id=\"T_ca135_row4_col2\" class=\"data row4 col2\" >correlate_selection</td>\n",
       "      <td id=\"T_ca135_row4_col3\" class=\"data row4 col3\" >[\"selection=[{'column': 'family', 'condition': '@==0'}]\", 'action=1', 'default_action=0', \"column_name='is_alone'\"]</td>\n",
       "      <td id=\"T_ca135_row4_col4\" class=\"data row4 col4\" >doatridge</td>\n",
       "    </tr>\n",
       "    <tr>\n",
       "      <th id=\"T_ca135_level0_row5\" class=\"row_heading level0 row5\" >5</th>\n",
       "      <td id=\"T_ca135_row5_col0\" class=\"data row5 col0\" >to_category</td>\n",
       "      <td id=\"T_ca135_row5_col1\" class=\"data row5 col1\" >1</td>\n",
       "      <td id=\"T_ca135_row5_col2\" class=\"data row5 col2\" >model_to_category</td>\n",
       "      <td id=\"T_ca135_row5_col3\" class=\"data row5 col3\" >[\"headers=['family', 'deck', 'is_alone']\", \"column_name='to_category'\"]</td>\n",
       "      <td id=\"T_ca135_row5_col4\" class=\"data row5 col4\" >doatridge</td>\n",
       "    </tr>\n",
       "  </tbody>\n",
       "</table>\n"
      ],
      "text/plain": [
       "<pandas.io.formats.style.Styler at 0x7fdf519974f0>"
      ]
     },
     "execution_count": 69,
     "metadata": {},
     "output_type": "execute_result"
    }
   ],
   "source": [
    "wr.report_intent()"
   ]
  },
  {
   "cell_type": "markdown",
   "id": "0389ca6d-8103-4a44-a4f2-01a97e19b99e",
   "metadata": {},
   "source": [
    "### Run Book\n",
    "\n",
    "We have touched on Run Book before where by the Run Book allows us to define a run order that is preserved longer term.  With the need for `to_category` to run as the final intent the Run Book fulfills this perfectly.\n",
    "\n",
    "Adding a Run Book is a simple task of listing the intent in the order in which you wish it to run.  As discussed before we are using the default Run Book which will automatically be picked up by the run component as its run order."
   ]
  },
  {
   "cell_type": "code",
   "execution_count": 70,
   "id": "32cf0aac",
   "metadata": {},
   "outputs": [],
   "source": [
    "wr.add_run_book(run_levels=['age','deck','family','fare','is_alone','to_category'])"
   ]
  },
  {
   "cell_type": "code",
   "execution_count": 72,
   "id": "e624e09e-ffc4-42e6-ab8f-24c1d864ded2",
   "metadata": {},
   "outputs": [],
   "source": [
    "wr.run_component_pipeline()"
   ]
  },
  {
   "cell_type": "markdown",
   "id": "600c9d7c",
   "metadata": {},
   "source": [
    "Finially we can finish off by checking the Run Book with the Run Book report and produce the Canonical Report to see the changes the feature engineering has made."
   ]
  },
  {
   "cell_type": "code",
   "execution_count": 71,
   "id": "085105f6",
   "metadata": {},
   "outputs": [
    {
     "data": {
      "text/html": [
       "<style type=\"text/css\">\n",
       "#T_55c5e th {\n",
       "  font-size: 120%;\n",
       "  text-align: center;\n",
       "}\n",
       "#T_55c5e .row_heading {\n",
       "  display: none;;\n",
       "}\n",
       "#T_55c5e  .blank {\n",
       "  display: none;;\n",
       "}\n",
       "#T_55c5e_row0_col0 {\n",
       "  text-align: left;\n",
       "  font-weight: bold;\n",
       "  font-size: 120%;\n",
       "}\n",
       "#T_55c5e_row0_col1 {\n",
       "  text-align: left;\n",
       "}\n",
       "</style>\n",
       "<table id=\"T_55c5e\">\n",
       "  <thead>\n",
       "    <tr>\n",
       "      <th class=\"blank level0\" >&nbsp;</th>\n",
       "      <th id=\"T_55c5e_level0_col0\" class=\"col_heading level0 col0\" >name</th>\n",
       "      <th id=\"T_55c5e_level0_col1\" class=\"col_heading level0 col1\" >run_book</th>\n",
       "    </tr>\n",
       "  </thead>\n",
       "  <tbody>\n",
       "    <tr>\n",
       "      <th id=\"T_55c5e_level0_row0\" class=\"row_heading level0 row0\" >0</th>\n",
       "      <td id=\"T_55c5e_row0_col0\" class=\"data row0 col0\" >primary_run_book</td>\n",
       "      <td id=\"T_55c5e_row0_col1\" class=\"data row0 col1\" >['age', 'deck', 'family', 'fare', 'is_alone', 'to_category']</td>\n",
       "    </tr>\n",
       "  </tbody>\n",
       "</table>\n"
      ],
      "text/plain": [
       "<pandas.io.formats.style.Styler at 0x7fdf515eda20>"
      ]
     },
     "execution_count": 71,
     "metadata": {},
     "output_type": "execute_result"
    }
   ],
   "source": [
    "wr.report_run_book()"
   ]
  },
  {
   "cell_type": "code",
   "execution_count": 73,
   "id": "4fc263c6-d7bc-41bb-b6c2-aac18c1b42e5",
   "metadata": {},
   "outputs": [
    {
     "data": {
      "text/html": [
       "<style type=\"text/css\">\n",
       "#T_2fba7 th {\n",
       "  font-size: 120%;\n",
       "  text-align: center;\n",
       "}\n",
       "#T_2fba7 .row_heading {\n",
       "  display: none;;\n",
       "}\n",
       "#T_2fba7  .blank {\n",
       "  display: none;;\n",
       "}\n",
       "#T_2fba7_row0_col0, #T_2fba7_row1_col0, #T_2fba7_row2_col0, #T_2fba7_row3_col0, #T_2fba7_row4_col0, #T_2fba7_row5_col0, #T_2fba7_row6_col0, #T_2fba7_row7_col0, #T_2fba7_row8_col0, #T_2fba7_row9_col0, #T_2fba7_row10_col0, #T_2fba7_row11_col0, #T_2fba7_row12_col0 {\n",
       "  font-weight: bold;\n",
       "  font-size: 120%;\n",
       "}\n",
       "#T_2fba7_row0_col1, #T_2fba7_row5_col1 {\n",
       "  color: #2f0f8a;\n",
       "}\n",
       "#T_2fba7_row0_col2, #T_2fba7_row0_col3, #T_2fba7_row0_col5, #T_2fba7_row1_col5, #T_2fba7_row2_col2, #T_2fba7_row3_col2, #T_2fba7_row4_col2, #T_2fba7_row4_col3, #T_2fba7_row5_col2, #T_2fba7_row5_col3, #T_2fba7_row5_col5, #T_2fba7_row6_col2, #T_2fba7_row6_col3, #T_2fba7_row7_col2, #T_2fba7_row8_col2, #T_2fba7_row8_col3, #T_2fba7_row9_col2, #T_2fba7_row9_col3, #T_2fba7_row10_col2, #T_2fba7_row11_col2, #T_2fba7_row11_col3, #T_2fba7_row12_col2, #T_2fba7_row12_col3, #T_2fba7_row12_col5 {\n",
       "  color: black;\n",
       "}\n",
       "#T_2fba7_row1_col1, #T_2fba7_row12_col1 {\n",
       "  color: #761d38;\n",
       "}\n",
       "#T_2fba7_row1_col2, #T_2fba7_row1_col3, #T_2fba7_row2_col3, #T_2fba7_row3_col3, #T_2fba7_row7_col3, #T_2fba7_row10_col3 {\n",
       "  background-color: #ffede5;\n",
       "  color: black;\n",
       "}\n",
       "#T_2fba7_row2_col1, #T_2fba7_row3_col1, #T_2fba7_row4_col1, #T_2fba7_row6_col1, #T_2fba7_row7_col1, #T_2fba7_row8_col1, #T_2fba7_row9_col1, #T_2fba7_row10_col1, #T_2fba7_row11_col1 {\n",
       "  color: #208a0f;\n",
       "}\n",
       "#T_2fba7_row2_col5, #T_2fba7_row4_col5, #T_2fba7_row7_col5, #T_2fba7_row10_col5 {\n",
       "  background-color: #a4da9e;\n",
       "  color: black;\n",
       "}\n",
       "#T_2fba7_row3_col5, #T_2fba7_row8_col5 {\n",
       "  background-color: #84cc83;\n",
       "  color: black;\n",
       "}\n",
       "#T_2fba7_row6_col5, #T_2fba7_row9_col5, #T_2fba7_row11_col5 {\n",
       "  background-color: #a1cbe2;\n",
       "  color: black;\n",
       "}\n",
       "</style>\n",
       "<table id=\"T_2fba7\">\n",
       "  <caption>%_Dom: The % most dominant element </caption>\n",
       "  <thead>\n",
       "    <tr>\n",
       "      <th class=\"blank level0\" >&nbsp;</th>\n",
       "      <th id=\"T_2fba7_level0_col0\" class=\"col_heading level0 col0\" >Attributes (13)</th>\n",
       "      <th id=\"T_2fba7_level0_col1\" class=\"col_heading level0 col1\" >dType</th>\n",
       "      <th id=\"T_2fba7_level0_col2\" class=\"col_heading level0 col2\" >%_Null</th>\n",
       "      <th id=\"T_2fba7_level0_col3\" class=\"col_heading level0 col3\" >%_Dom</th>\n",
       "      <th id=\"T_2fba7_level0_col4\" class=\"col_heading level0 col4\" >Count</th>\n",
       "      <th id=\"T_2fba7_level0_col5\" class=\"col_heading level0 col5\" >Unique</th>\n",
       "      <th id=\"T_2fba7_level0_col6\" class=\"col_heading level0 col6\" >Observations</th>\n",
       "    </tr>\n",
       "  </thead>\n",
       "  <tbody>\n",
       "    <tr>\n",
       "      <th id=\"T_2fba7_level0_row0\" class=\"row_heading level0 row0\" >0</th>\n",
       "      <td id=\"T_2fba7_row0_col0\" class=\"data row0 col0\" >age</td>\n",
       "      <td id=\"T_2fba7_row0_col1\" class=\"data row0 col1\" >float64</td>\n",
       "      <td id=\"T_2fba7_row0_col2\" class=\"data row0 col2\" >0.0%</td>\n",
       "      <td id=\"T_2fba7_row0_col3\" class=\"data row0 col3\" >3.6%</td>\n",
       "      <td id=\"T_2fba7_row0_col4\" class=\"data row0 col4\" >1309</td>\n",
       "      <td id=\"T_2fba7_row0_col5\" class=\"data row0 col5\" >361</td>\n",
       "      <td id=\"T_2fba7_row0_col6\" class=\"data row0 col6\" >max=80.0 | min=0.1667 | mean=29.91 | dominant=24.0</td>\n",
       "    </tr>\n",
       "    <tr>\n",
       "      <th id=\"T_2fba7_level0_row1\" class=\"row_heading level0 row1\" >1</th>\n",
       "      <td id=\"T_2fba7_row1_col0\" class=\"data row1 col0\" >cabin</td>\n",
       "      <td id=\"T_2fba7_row1_col1\" class=\"data row1 col1\" >string</td>\n",
       "      <td id=\"T_2fba7_row1_col2\" class=\"data row1 col2\" >77.5%</td>\n",
       "      <td id=\"T_2fba7_row1_col3\" class=\"data row1 col3\" >77.5%</td>\n",
       "      <td id=\"T_2fba7_row1_col4\" class=\"data row1 col4\" >1309</td>\n",
       "      <td id=\"T_2fba7_row1_col5\" class=\"data row1 col5\" >187</td>\n",
       "      <td id=\"T_2fba7_row1_col6\" class=\"data row1 col6\" >Sample: C23 C25 C27 | G6 | B57 B59 B63 B66 | F4 | F33</td>\n",
       "    </tr>\n",
       "    <tr>\n",
       "      <th id=\"T_2fba7_level0_row2\" class=\"row_heading level0 row2\" >2</th>\n",
       "      <td id=\"T_2fba7_row2_col0\" class=\"data row2 col0\" >deck</td>\n",
       "      <td id=\"T_2fba7_row2_col1\" class=\"data row2 col1\" >category</td>\n",
       "      <td id=\"T_2fba7_row2_col2\" class=\"data row2 col2\" >0.0%</td>\n",
       "      <td id=\"T_2fba7_row2_col3\" class=\"data row2 col3\" >77.5%</td>\n",
       "      <td id=\"T_2fba7_row2_col4\" class=\"data row2 col4\" >1309</td>\n",
       "      <td id=\"T_2fba7_row2_col5\" class=\"data row2 col5\" >9</td>\n",
       "      <td id=\"T_2fba7_row2_col6\" class=\"data row2 col6\" >Sample: <NA> | C | B | D | E</td>\n",
       "    </tr>\n",
       "    <tr>\n",
       "      <th id=\"T_2fba7_level0_row3\" class=\"row_heading level0 row3\" >3</th>\n",
       "      <td id=\"T_2fba7_row3_col0\" class=\"data row3 col0\" >embarked</td>\n",
       "      <td id=\"T_2fba7_row3_col1\" class=\"data row3 col1\" >category</td>\n",
       "      <td id=\"T_2fba7_row3_col2\" class=\"data row3 col2\" >0.0%</td>\n",
       "      <td id=\"T_2fba7_row3_col3\" class=\"data row3 col3\" >69.8%</td>\n",
       "      <td id=\"T_2fba7_row3_col4\" class=\"data row3 col4\" >1309</td>\n",
       "      <td id=\"T_2fba7_row3_col5\" class=\"data row3 col5\" >4</td>\n",
       "      <td id=\"T_2fba7_row3_col6\" class=\"data row3 col6\" >Sample: S | C | Q | nan</td>\n",
       "    </tr>\n",
       "    <tr>\n",
       "      <th id=\"T_2fba7_level0_row4\" class=\"row_heading level0 row4\" >4</th>\n",
       "      <td id=\"T_2fba7_row4_col0\" class=\"data row4 col0\" >family</td>\n",
       "      <td id=\"T_2fba7_row4_col1\" class=\"data row4 col1\" >category</td>\n",
       "      <td id=\"T_2fba7_row4_col2\" class=\"data row4 col2\" >0.0%</td>\n",
       "      <td id=\"T_2fba7_row4_col3\" class=\"data row4 col3\" >60.4%</td>\n",
       "      <td id=\"T_2fba7_row4_col4\" class=\"data row4 col4\" >1309</td>\n",
       "      <td id=\"T_2fba7_row4_col5\" class=\"data row4 col5\" >9</td>\n",
       "      <td id=\"T_2fba7_row4_col6\" class=\"data row4 col6\" >Sample: 0 | 1 | 2 | 3 | 5</td>\n",
       "    </tr>\n",
       "    <tr>\n",
       "      <th id=\"T_2fba7_level0_row5\" class=\"row_heading level0 row5\" >5</th>\n",
       "      <td id=\"T_2fba7_row5_col0\" class=\"data row5 col0\" >fare</td>\n",
       "      <td id=\"T_2fba7_row5_col1\" class=\"data row5 col1\" >float64</td>\n",
       "      <td id=\"T_2fba7_row5_col2\" class=\"data row5 col2\" >0.0%</td>\n",
       "      <td id=\"T_2fba7_row5_col3\" class=\"data row5 col3\" >4.6%</td>\n",
       "      <td id=\"T_2fba7_row5_col4\" class=\"data row5 col4\" >1309</td>\n",
       "      <td id=\"T_2fba7_row5_col5\" class=\"data row5 col5\" >281</td>\n",
       "      <td id=\"T_2fba7_row5_col6\" class=\"data row5 col6\" >max=512.3292 | min=0.0 | mean=33.28 | dominant=8.05</td>\n",
       "    </tr>\n",
       "    <tr>\n",
       "      <th id=\"T_2fba7_level0_row6\" class=\"row_heading level0 row6\" >6</th>\n",
       "      <td id=\"T_2fba7_row6_col0\" class=\"data row6 col0\" >is_alone</td>\n",
       "      <td id=\"T_2fba7_row6_col1\" class=\"data row6 col1\" >category</td>\n",
       "      <td id=\"T_2fba7_row6_col2\" class=\"data row6 col2\" >0.0%</td>\n",
       "      <td id=\"T_2fba7_row6_col3\" class=\"data row6 col3\" >60.4%</td>\n",
       "      <td id=\"T_2fba7_row6_col4\" class=\"data row6 col4\" >1309</td>\n",
       "      <td id=\"T_2fba7_row6_col5\" class=\"data row6 col5\" >2</td>\n",
       "      <td id=\"T_2fba7_row6_col6\" class=\"data row6 col6\" >Sample: 1 | 0</td>\n",
       "    </tr>\n",
       "    <tr>\n",
       "      <th id=\"T_2fba7_level0_row7\" class=\"row_heading level0 row7\" >7</th>\n",
       "      <td id=\"T_2fba7_row7_col0\" class=\"data row7 col0\" >parch</td>\n",
       "      <td id=\"T_2fba7_row7_col1\" class=\"data row7 col1\" >category</td>\n",
       "      <td id=\"T_2fba7_row7_col2\" class=\"data row7 col2\" >0.0%</td>\n",
       "      <td id=\"T_2fba7_row7_col3\" class=\"data row7 col3\" >76.5%</td>\n",
       "      <td id=\"T_2fba7_row7_col4\" class=\"data row7 col4\" >1309</td>\n",
       "      <td id=\"T_2fba7_row7_col5\" class=\"data row7 col5\" >8</td>\n",
       "      <td id=\"T_2fba7_row7_col6\" class=\"data row7 col6\" >Sample: 0 | 1 | 2 | 3 | 4</td>\n",
       "    </tr>\n",
       "    <tr>\n",
       "      <th id=\"T_2fba7_level0_row8\" class=\"row_heading level0 row8\" >8</th>\n",
       "      <td id=\"T_2fba7_row8_col0\" class=\"data row8 col0\" >pclass</td>\n",
       "      <td id=\"T_2fba7_row8_col1\" class=\"data row8 col1\" >category</td>\n",
       "      <td id=\"T_2fba7_row8_col2\" class=\"data row8 col2\" >0.0%</td>\n",
       "      <td id=\"T_2fba7_row8_col3\" class=\"data row8 col3\" >54.2%</td>\n",
       "      <td id=\"T_2fba7_row8_col4\" class=\"data row8 col4\" >1309</td>\n",
       "      <td id=\"T_2fba7_row8_col5\" class=\"data row8 col5\" >3</td>\n",
       "      <td id=\"T_2fba7_row8_col6\" class=\"data row8 col6\" >Sample: 3 | 1 | 2</td>\n",
       "    </tr>\n",
       "    <tr>\n",
       "      <th id=\"T_2fba7_level0_row9\" class=\"row_heading level0 row9\" >9</th>\n",
       "      <td id=\"T_2fba7_row9_col0\" class=\"data row9 col0\" >sex</td>\n",
       "      <td id=\"T_2fba7_row9_col1\" class=\"data row9 col1\" >category</td>\n",
       "      <td id=\"T_2fba7_row9_col2\" class=\"data row9 col2\" >0.0%</td>\n",
       "      <td id=\"T_2fba7_row9_col3\" class=\"data row9 col3\" >64.4%</td>\n",
       "      <td id=\"T_2fba7_row9_col4\" class=\"data row9 col4\" >1309</td>\n",
       "      <td id=\"T_2fba7_row9_col5\" class=\"data row9 col5\" >2</td>\n",
       "      <td id=\"T_2fba7_row9_col6\" class=\"data row9 col6\" >Sample: male | female</td>\n",
       "    </tr>\n",
       "    <tr>\n",
       "      <th id=\"T_2fba7_level0_row10\" class=\"row_heading level0 row10\" >10</th>\n",
       "      <td id=\"T_2fba7_row10_col0\" class=\"data row10 col0\" >sibsp</td>\n",
       "      <td id=\"T_2fba7_row10_col1\" class=\"data row10 col1\" >category</td>\n",
       "      <td id=\"T_2fba7_row10_col2\" class=\"data row10 col2\" >0.0%</td>\n",
       "      <td id=\"T_2fba7_row10_col3\" class=\"data row10 col3\" >68.1%</td>\n",
       "      <td id=\"T_2fba7_row10_col4\" class=\"data row10 col4\" >1309</td>\n",
       "      <td id=\"T_2fba7_row10_col5\" class=\"data row10 col5\" >7</td>\n",
       "      <td id=\"T_2fba7_row10_col6\" class=\"data row10 col6\" >Sample: 0 | 1 | 2 | 4 | 3</td>\n",
       "    </tr>\n",
       "    <tr>\n",
       "      <th id=\"T_2fba7_level0_row11\" class=\"row_heading level0 row11\" >11</th>\n",
       "      <td id=\"T_2fba7_row11_col0\" class=\"data row11 col0\" >survived</td>\n",
       "      <td id=\"T_2fba7_row11_col1\" class=\"data row11 col1\" >category</td>\n",
       "      <td id=\"T_2fba7_row11_col2\" class=\"data row11 col2\" >0.0%</td>\n",
       "      <td id=\"T_2fba7_row11_col3\" class=\"data row11 col3\" >61.8%</td>\n",
       "      <td id=\"T_2fba7_row11_col4\" class=\"data row11 col4\" >1309</td>\n",
       "      <td id=\"T_2fba7_row11_col5\" class=\"data row11 col5\" >2</td>\n",
       "      <td id=\"T_2fba7_row11_col6\" class=\"data row11 col6\" >Sample: 0 | 1</td>\n",
       "    </tr>\n",
       "    <tr>\n",
       "      <th id=\"T_2fba7_level0_row12\" class=\"row_heading level0 row12\" >12</th>\n",
       "      <td id=\"T_2fba7_row12_col0\" class=\"data row12 col0\" >ticket</td>\n",
       "      <td id=\"T_2fba7_row12_col1\" class=\"data row12 col1\" >string</td>\n",
       "      <td id=\"T_2fba7_row12_col2\" class=\"data row12 col2\" >0.0%</td>\n",
       "      <td id=\"T_2fba7_row12_col3\" class=\"data row12 col3\" >0.8%</td>\n",
       "      <td id=\"T_2fba7_row12_col4\" class=\"data row12 col4\" >1309</td>\n",
       "      <td id=\"T_2fba7_row12_col5\" class=\"data row12 col5\" >929</td>\n",
       "      <td id=\"T_2fba7_row12_col6\" class=\"data row12 col6\" >Sample: CA. 2343 | 1601 | CA 2144 | PC 17608 | 347077</td>\n",
       "    </tr>\n",
       "  </tbody>\n",
       "</table>\n"
      ],
      "text/plain": [
       "<pandas.io.formats.style.Styler at 0x7fdf518cd240>"
      ]
     },
     "execution_count": 73,
     "metadata": {},
     "output_type": "execute_result"
    }
   ],
   "source": [
    "wr.canonical_report(wr.load_persist_canonical())"
   ]
  },
  {
   "cell_type": "code",
   "execution_count": null,
   "id": "8ed7e8bf-be7b-4d5b-8dfe-bfcef9ce037a",
   "metadata": {},
   "outputs": [],
   "source": []
  }
 ],
 "metadata": {
  "kernelspec": {
   "display_name": "Python 3 (ipykernel)",
   "language": "python",
   "name": "python3"
  },
  "language_info": {
   "codemirror_mode": {
    "name": "ipython",
    "version": 3
   },
   "file_extension": ".py",
   "mimetype": "text/x-python",
   "name": "python",
   "nbconvert_exporter": "python",
   "pygments_lexer": "ipython3",
   "version": "3.10.4"
  }
 },
 "nbformat": 4,
 "nbformat_minor": 5
}
