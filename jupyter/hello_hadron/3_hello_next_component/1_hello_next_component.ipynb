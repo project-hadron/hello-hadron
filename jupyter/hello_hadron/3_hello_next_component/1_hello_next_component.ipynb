{
 "cells": [
  {
   "cell_type": "markdown",
   "id": "dc1bc237",
   "metadata": {},
   "source": [
    "<cite>Darryl Oatridge, August 2022<cite>"
   ]
  },
  {
   "cell_type": "code",
   "execution_count": 32,
   "id": "77e90ce3",
   "metadata": {},
   "outputs": [],
   "source": [
    "import os"
   ]
  },
  {
   "cell_type": "code",
   "execution_count": 33,
   "id": "9f20228b",
   "metadata": {},
   "outputs": [],
   "source": [
    "os.environ['HADRON_PM_PATH'] = '../0_hello_meta/demo/contracts'\n",
    "os.environ['HADRON_DEFAULT_PATH'] = '../0_hello_meta/demo/data'"
   ]
  },
  {
   "cell_type": "markdown",
   "id": "6b7e8716",
   "metadata": {},
   "source": []
  },
  {
   "cell_type": "code",
   "execution_count": 34,
   "id": "dbf3056b",
   "metadata": {},
   "outputs": [],
   "source": [
    "from ds_discovery import Wrangle, Transition"
   ]
  },
  {
   "cell_type": "code",
   "execution_count": 35,
   "id": "70b8c4a8",
   "metadata": {},
   "outputs": [],
   "source": [
    "# get the instance\n",
    "wr = Wrangle.from_env('hello_wr', has_contract=False)"
   ]
  },
  {
   "cell_type": "markdown",
   "id": "093e81aa",
   "metadata": {},
   "source": []
  },
  {
   "cell_type": "code",
   "execution_count": 36,
   "id": "9e8d2cde",
   "metadata": {},
   "outputs": [],
   "source": [
    "source = Transition.from_env('hello_tr').get_persist_contract()\n",
    "wr.set_source_contract(source)\n",
    "wr.set_persist()"
   ]
  },
  {
   "cell_type": "markdown",
   "id": "e54b40c9",
   "metadata": {},
   "source": []
  },
  {
   "cell_type": "code",
   "execution_count": 37,
   "id": "0d7df244",
   "metadata": {},
   "outputs": [],
   "source": [
    "df = wr.load_source_canonical()"
   ]
  },
  {
   "cell_type": "code",
   "execution_count": 38,
   "id": "03ab2002",
   "metadata": {
    "scrolled": true
   },
   "outputs": [
    {
     "data": {
      "text/html": [
       "<style type=\"text/css\">\n",
       "#T_c1bf3 th {\n",
       "  font-size: 120%;\n",
       "  text-align: center;\n",
       "}\n",
       "#T_c1bf3 .row_heading {\n",
       "  display: none;;\n",
       "}\n",
       "#T_c1bf3  .blank {\n",
       "  display: none;;\n",
       "}\n",
       "#T_c1bf3_row0_col0, #T_c1bf3_row1_col0, #T_c1bf3_row2_col0, #T_c1bf3_row3_col0, #T_c1bf3_row4_col0, #T_c1bf3_row5_col0, #T_c1bf3_row6_col0, #T_c1bf3_row7_col0, #T_c1bf3_row8_col0, #T_c1bf3_row9_col0 {\n",
       "  font-weight: bold;\n",
       "  font-size: 120%;\n",
       "}\n",
       "#T_c1bf3_row0_col1, #T_c1bf3_row3_col1 {\n",
       "  color: #2f0f8a;\n",
       "}\n",
       "#T_c1bf3_row0_col2, #T_c1bf3_row0_col3, #T_c1bf3_row1_col5, #T_c1bf3_row2_col2, #T_c1bf3_row3_col2, #T_c1bf3_row3_col3, #T_c1bf3_row3_col5, #T_c1bf3_row4_col2, #T_c1bf3_row5_col2, #T_c1bf3_row5_col3, #T_c1bf3_row6_col2, #T_c1bf3_row6_col3, #T_c1bf3_row7_col2, #T_c1bf3_row8_col2, #T_c1bf3_row8_col3, #T_c1bf3_row9_col2, #T_c1bf3_row9_col3, #T_c1bf3_row9_col5 {\n",
       "  color: black;\n",
       "}\n",
       "#T_c1bf3_row0_col5 {\n",
       "  background-color: #f0f9ed;\n",
       "  color: black;\n",
       "}\n",
       "#T_c1bf3_row1_col1, #T_c1bf3_row9_col1 {\n",
       "  color: #761d38;\n",
       "}\n",
       "#T_c1bf3_row1_col2, #T_c1bf3_row1_col3, #T_c1bf3_row2_col3, #T_c1bf3_row4_col3, #T_c1bf3_row7_col3 {\n",
       "  background-color: #ffede5;\n",
       "  color: black;\n",
       "}\n",
       "#T_c1bf3_row2_col1, #T_c1bf3_row6_col1 {\n",
       "  color: #208a0f;\n",
       "}\n",
       "#T_c1bf3_row2_col5, #T_c1bf3_row5_col5 {\n",
       "  background-color: #84cc83;\n",
       "  color: black;\n",
       "}\n",
       "#T_c1bf3_row4_col1, #T_c1bf3_row5_col1, #T_c1bf3_row7_col1, #T_c1bf3_row8_col1 {\n",
       "  color: #0f398a;\n",
       "}\n",
       "#T_c1bf3_row4_col5, #T_c1bf3_row7_col5 {\n",
       "  background-color: #a4da9e;\n",
       "  color: black;\n",
       "}\n",
       "#T_c1bf3_row6_col5, #T_c1bf3_row8_col5 {\n",
       "  background-color: #a1cbe2;\n",
       "  color: black;\n",
       "}\n",
       "</style>\n",
       "<table id=\"T_c1bf3\">\n",
       "  <caption>%_Dom: The % most dominant element </caption>\n",
       "  <thead>\n",
       "    <tr>\n",
       "      <th class=\"blank level0\" >&nbsp;</th>\n",
       "      <th id=\"T_c1bf3_level0_col0\" class=\"col_heading level0 col0\" >Attributes (10)</th>\n",
       "      <th id=\"T_c1bf3_level0_col1\" class=\"col_heading level0 col1\" >dType</th>\n",
       "      <th id=\"T_c1bf3_level0_col2\" class=\"col_heading level0 col2\" >%_Null</th>\n",
       "      <th id=\"T_c1bf3_level0_col3\" class=\"col_heading level0 col3\" >%_Dom</th>\n",
       "      <th id=\"T_c1bf3_level0_col4\" class=\"col_heading level0 col4\" >Count</th>\n",
       "      <th id=\"T_c1bf3_level0_col5\" class=\"col_heading level0 col5\" >Unique</th>\n",
       "      <th id=\"T_c1bf3_level0_col6\" class=\"col_heading level0 col6\" >Observations</th>\n",
       "    </tr>\n",
       "  </thead>\n",
       "  <tbody>\n",
       "    <tr>\n",
       "      <th id=\"T_c1bf3_level0_row0\" class=\"row_heading level0 row0\" >0</th>\n",
       "      <td id=\"T_c1bf3_row0_col0\" class=\"data row0 col0\" >age</td>\n",
       "      <td id=\"T_c1bf3_row0_col1\" class=\"data row0 col1\" >float64</td>\n",
       "      <td id=\"T_c1bf3_row0_col2\" class=\"data row0 col2\" >20.1%</td>\n",
       "      <td id=\"T_c1bf3_row0_col3\" class=\"data row0 col3\" >20.1%</td>\n",
       "      <td id=\"T_c1bf3_row0_col4\" class=\"data row0 col4\" >1309</td>\n",
       "      <td id=\"T_c1bf3_row0_col5\" class=\"data row0 col5\" >99</td>\n",
       "      <td id=\"T_c1bf3_row0_col6\" class=\"data row0 col6\" >max=80.0 | min=0.1667 | mean=29.88 | dominant=24.0</td>\n",
       "    </tr>\n",
       "    <tr>\n",
       "      <th id=\"T_c1bf3_level0_row1\" class=\"row_heading level0 row1\" >1</th>\n",
       "      <td id=\"T_c1bf3_row1_col0\" class=\"data row1 col0\" >cabin</td>\n",
       "      <td id=\"T_c1bf3_row1_col1\" class=\"data row1 col1\" >string</td>\n",
       "      <td id=\"T_c1bf3_row1_col2\" class=\"data row1 col2\" >77.5%</td>\n",
       "      <td id=\"T_c1bf3_row1_col3\" class=\"data row1 col3\" >77.5%</td>\n",
       "      <td id=\"T_c1bf3_row1_col4\" class=\"data row1 col4\" >1309</td>\n",
       "      <td id=\"T_c1bf3_row1_col5\" class=\"data row1 col5\" >187</td>\n",
       "      <td id=\"T_c1bf3_row1_col6\" class=\"data row1 col6\" >Sample: C23 C25 C27 | G6 | B57 B59 B63 B66 | F4 | F33</td>\n",
       "    </tr>\n",
       "    <tr>\n",
       "      <th id=\"T_c1bf3_level0_row2\" class=\"row_heading level0 row2\" >2</th>\n",
       "      <td id=\"T_c1bf3_row2_col0\" class=\"data row2 col0\" >embarked</td>\n",
       "      <td id=\"T_c1bf3_row2_col1\" class=\"data row2 col1\" >category</td>\n",
       "      <td id=\"T_c1bf3_row2_col2\" class=\"data row2 col2\" >0.0%</td>\n",
       "      <td id=\"T_c1bf3_row2_col3\" class=\"data row2 col3\" >69.8%</td>\n",
       "      <td id=\"T_c1bf3_row2_col4\" class=\"data row2 col4\" >1309</td>\n",
       "      <td id=\"T_c1bf3_row2_col5\" class=\"data row2 col5\" >4</td>\n",
       "      <td id=\"T_c1bf3_row2_col6\" class=\"data row2 col6\" >Sample: S | C | Q | nan</td>\n",
       "    </tr>\n",
       "    <tr>\n",
       "      <th id=\"T_c1bf3_level0_row3\" class=\"row_heading level0 row3\" >3</th>\n",
       "      <td id=\"T_c1bf3_row3_col0\" class=\"data row3 col0\" >fare</td>\n",
       "      <td id=\"T_c1bf3_row3_col1\" class=\"data row3 col1\" >float64</td>\n",
       "      <td id=\"T_c1bf3_row3_col2\" class=\"data row3 col2\" >0.1%</td>\n",
       "      <td id=\"T_c1bf3_row3_col3\" class=\"data row3 col3\" >4.6%</td>\n",
       "      <td id=\"T_c1bf3_row3_col4\" class=\"data row3 col4\" >1309</td>\n",
       "      <td id=\"T_c1bf3_row3_col5\" class=\"data row3 col5\" >282</td>\n",
       "      <td id=\"T_c1bf3_row3_col6\" class=\"data row3 col6\" >max=512.3292 | min=0.0 | mean=33.3 | dominant=8.05</td>\n",
       "    </tr>\n",
       "    <tr>\n",
       "      <th id=\"T_c1bf3_level0_row4\" class=\"row_heading level0 row4\" >4</th>\n",
       "      <td id=\"T_c1bf3_row4_col0\" class=\"data row4 col0\" >parch</td>\n",
       "      <td id=\"T_c1bf3_row4_col1\" class=\"data row4 col1\" >int64</td>\n",
       "      <td id=\"T_c1bf3_row4_col2\" class=\"data row4 col2\" >0.0%</td>\n",
       "      <td id=\"T_c1bf3_row4_col3\" class=\"data row4 col3\" >76.5%</td>\n",
       "      <td id=\"T_c1bf3_row4_col4\" class=\"data row4 col4\" >1309</td>\n",
       "      <td id=\"T_c1bf3_row4_col5\" class=\"data row4 col5\" >8</td>\n",
       "      <td id=\"T_c1bf3_row4_col6\" class=\"data row4 col6\" >max=9 | min=0 | mean=0.39 | dominant=0</td>\n",
       "    </tr>\n",
       "    <tr>\n",
       "      <th id=\"T_c1bf3_level0_row5\" class=\"row_heading level0 row5\" >5</th>\n",
       "      <td id=\"T_c1bf3_row5_col0\" class=\"data row5 col0\" >pclass</td>\n",
       "      <td id=\"T_c1bf3_row5_col1\" class=\"data row5 col1\" >int64</td>\n",
       "      <td id=\"T_c1bf3_row5_col2\" class=\"data row5 col2\" >0.0%</td>\n",
       "      <td id=\"T_c1bf3_row5_col3\" class=\"data row5 col3\" >54.2%</td>\n",
       "      <td id=\"T_c1bf3_row5_col4\" class=\"data row5 col4\" >1309</td>\n",
       "      <td id=\"T_c1bf3_row5_col5\" class=\"data row5 col5\" >3</td>\n",
       "      <td id=\"T_c1bf3_row5_col6\" class=\"data row5 col6\" >max=3 | min=1 | mean=2.29 | dominant=3</td>\n",
       "    </tr>\n",
       "    <tr>\n",
       "      <th id=\"T_c1bf3_level0_row6\" class=\"row_heading level0 row6\" >6</th>\n",
       "      <td id=\"T_c1bf3_row6_col0\" class=\"data row6 col0\" >sex</td>\n",
       "      <td id=\"T_c1bf3_row6_col1\" class=\"data row6 col1\" >category</td>\n",
       "      <td id=\"T_c1bf3_row6_col2\" class=\"data row6 col2\" >0.0%</td>\n",
       "      <td id=\"T_c1bf3_row6_col3\" class=\"data row6 col3\" >64.4%</td>\n",
       "      <td id=\"T_c1bf3_row6_col4\" class=\"data row6 col4\" >1309</td>\n",
       "      <td id=\"T_c1bf3_row6_col5\" class=\"data row6 col5\" >2</td>\n",
       "      <td id=\"T_c1bf3_row6_col6\" class=\"data row6 col6\" >Sample: male | female</td>\n",
       "    </tr>\n",
       "    <tr>\n",
       "      <th id=\"T_c1bf3_level0_row7\" class=\"row_heading level0 row7\" >7</th>\n",
       "      <td id=\"T_c1bf3_row7_col0\" class=\"data row7 col0\" >sibsp</td>\n",
       "      <td id=\"T_c1bf3_row7_col1\" class=\"data row7 col1\" >int64</td>\n",
       "      <td id=\"T_c1bf3_row7_col2\" class=\"data row7 col2\" >0.0%</td>\n",
       "      <td id=\"T_c1bf3_row7_col3\" class=\"data row7 col3\" >68.1%</td>\n",
       "      <td id=\"T_c1bf3_row7_col4\" class=\"data row7 col4\" >1309</td>\n",
       "      <td id=\"T_c1bf3_row7_col5\" class=\"data row7 col5\" >7</td>\n",
       "      <td id=\"T_c1bf3_row7_col6\" class=\"data row7 col6\" >max=8 | min=0 | mean=0.5 | dominant=0</td>\n",
       "    </tr>\n",
       "    <tr>\n",
       "      <th id=\"T_c1bf3_level0_row8\" class=\"row_heading level0 row8\" >8</th>\n",
       "      <td id=\"T_c1bf3_row8_col0\" class=\"data row8 col0\" >survived</td>\n",
       "      <td id=\"T_c1bf3_row8_col1\" class=\"data row8 col1\" >int64</td>\n",
       "      <td id=\"T_c1bf3_row8_col2\" class=\"data row8 col2\" >0.0%</td>\n",
       "      <td id=\"T_c1bf3_row8_col3\" class=\"data row8 col3\" >61.8%</td>\n",
       "      <td id=\"T_c1bf3_row8_col4\" class=\"data row8 col4\" >1309</td>\n",
       "      <td id=\"T_c1bf3_row8_col5\" class=\"data row8 col5\" >2</td>\n",
       "      <td id=\"T_c1bf3_row8_col6\" class=\"data row8 col6\" >max=1 | min=0 | mean=0.38 | dominant=0</td>\n",
       "    </tr>\n",
       "    <tr>\n",
       "      <th id=\"T_c1bf3_level0_row9\" class=\"row_heading level0 row9\" >9</th>\n",
       "      <td id=\"T_c1bf3_row9_col0\" class=\"data row9 col0\" >ticket</td>\n",
       "      <td id=\"T_c1bf3_row9_col1\" class=\"data row9 col1\" >string</td>\n",
       "      <td id=\"T_c1bf3_row9_col2\" class=\"data row9 col2\" >0.0%</td>\n",
       "      <td id=\"T_c1bf3_row9_col3\" class=\"data row9 col3\" >0.8%</td>\n",
       "      <td id=\"T_c1bf3_row9_col4\" class=\"data row9 col4\" >1309</td>\n",
       "      <td id=\"T_c1bf3_row9_col5\" class=\"data row9 col5\" >929</td>\n",
       "      <td id=\"T_c1bf3_row9_col6\" class=\"data row9 col6\" >Sample: CA. 2343 | 1601 | CA 2144 | PC 17608 | 347077</td>\n",
       "    </tr>\n",
       "  </tbody>\n",
       "</table>\n"
      ],
      "text/plain": [
       "<pandas.io.formats.style.Styler at 0x7fac78cf2710>"
      ]
     },
     "execution_count": 38,
     "metadata": {},
     "output_type": "execute_result"
    }
   ],
   "source": [
    "wr.canonical_report(df)"
   ]
  },
  {
   "cell_type": "markdown",
   "id": "8ddafb11",
   "metadata": {},
   "source": [
    "v"
   ]
  },
  {
   "cell_type": "code",
   "execution_count": 39,
   "id": "f4460434",
   "metadata": {},
   "outputs": [],
   "source": [
    "df['cabin'] = wr.tools.correlate_custom(df, code_str=\"@['cabin'].apply(lambda x: x.split()[0] if isinstance(x, str) else np.nan)\", column_name='cabin')\n",
    "df['family'] = wr.tools.correlate_aggregate(df, headers=['parch', 'sibsp'], agg='sum', column_name='family')"
   ]
  },
  {
   "cell_type": "markdown",
   "id": "bc9dc6f1",
   "metadata": {},
   "source": []
  },
  {
   "cell_type": "code",
   "execution_count": 40,
   "id": "2f03b72a",
   "metadata": {},
   "outputs": [],
   "source": [
    "selection = [wr.tools.select2dict(column='family', condition='@==0')]\n",
    "df['is_alone'] = wr.tools.correlate_selection(df, selection=selection, action=1, default_action=0, column_name='is_alone')"
   ]
  },
  {
   "cell_type": "markdown",
   "id": "6a4f5ce1",
   "metadata": {},
   "source": []
  },
  {
   "cell_type": "code",
   "execution_count": 41,
   "id": "bc10ee31",
   "metadata": {
    "scrolled": true
   },
   "outputs": [
    {
     "data": {
      "image/png": "[encoded data removed]",
      "text/plain": [
       "<Figure size 1152x288 with 3 Axes>"
      ]
     },
     "metadata": {},
     "output_type": "display_data"
    },
    {
     "data": {
      "text/plain": [
       "<Figure size 432x288 with 0 Axes>"
      ]
     },
     "metadata": {},
     "output_type": "display_data"
    }
   ],
   "source": [
    "wr.visual.show_distribution(df, 'fare')"
   ]
  },
  {
   "cell_type": "markdown",
   "id": "93bf65d3",
   "metadata": {},
   "source": []
  },
  {
   "cell_type": "code",
   "execution_count": 42,
   "id": "fe479ef8",
   "metadata": {},
   "outputs": [],
   "source": [
    "df['fare_category'] = wr.tools.correlate_discrete_intervals(df, header='fare', upper=70, \n",
    "                                                            granularity=[(0,8),(8,14),(14,30),(30,70)], \n",
    "                                                            categories=['Low','Low_Mid', 'High_Mid','High'], \n",
    "                                                            intent_order=0, column_name='fare_category')"
   ]
  },
  {
   "cell_type": "code",
   "execution_count": 43,
   "id": "22ee2f7e",
   "metadata": {},
   "outputs": [],
   "source": [
    "df = wr.tools.model_to_category(df, headers='fare_category', intent_order=1, column_name='fare_category')"
   ]
  },
  {
   "cell_type": "code",
   "execution_count": 44,
   "id": "c212368a",
   "metadata": {},
   "outputs": [
    {
     "data": {
      "image/png": "[encoded data removed]",
      "text/plain": [
       "<Figure size 432x288 with 1 Axes>"
      ]
     },
     "metadata": {},
     "output_type": "display_data"
    },
    {
     "data": {
      "text/plain": [
       "<Figure size 432x288 with 0 Axes>"
      ]
     },
     "metadata": {},
     "output_type": "display_data"
    }
   ],
   "source": [
    "wr.visual.show_categories(df, headers='fare_category')"
   ]
  },
  {
   "cell_type": "markdown",
   "id": "5309b64a",
   "metadata": {},
   "source": []
  },
  {
   "cell_type": "code",
   "execution_count": 45,
   "id": "3a189db8",
   "metadata": {},
   "outputs": [
    {
     "data": {
      "text/html": [
       "<style type=\"text/css\">\n",
       "#T_a6b9b th {\n",
       "  font-size: 120%;\n",
       "  text-align: center;\n",
       "}\n",
       "#T_a6b9b .row_heading {\n",
       "  display: none;;\n",
       "}\n",
       "#T_a6b9b  .blank {\n",
       "  display: none;;\n",
       "}\n",
       "#T_a6b9b_row0_col0, #T_a6b9b_row1_col0, #T_a6b9b_row2_col0, #T_a6b9b_row3_col0, #T_a6b9b_row4_col0 {\n",
       "  text-align: left;\n",
       "  font-weight: bold;\n",
       "  font-size: 120%;\n",
       "}\n",
       "#T_a6b9b_row0_col1, #T_a6b9b_row0_col2, #T_a6b9b_row0_col3, #T_a6b9b_row0_col4, #T_a6b9b_row1_col1, #T_a6b9b_row1_col2, #T_a6b9b_row1_col3, #T_a6b9b_row1_col4, #T_a6b9b_row2_col1, #T_a6b9b_row2_col2, #T_a6b9b_row2_col3, #T_a6b9b_row2_col4, #T_a6b9b_row3_col1, #T_a6b9b_row3_col2, #T_a6b9b_row3_col3, #T_a6b9b_row3_col4, #T_a6b9b_row4_col1, #T_a6b9b_row4_col2, #T_a6b9b_row4_col3, #T_a6b9b_row4_col4 {\n",
       "  text-align: left;\n",
       "}\n",
       "</style>\n",
       "<table id=\"T_a6b9b\">\n",
       "  <thead>\n",
       "    <tr>\n",
       "      <th class=\"blank level0\" >&nbsp;</th>\n",
       "      <th id=\"T_a6b9b_level0_col0\" class=\"col_heading level0 col0\" >level</th>\n",
       "      <th id=\"T_a6b9b_level0_col1\" class=\"col_heading level0 col1\" >order</th>\n",
       "      <th id=\"T_a6b9b_level0_col2\" class=\"col_heading level0 col2\" >intent</th>\n",
       "      <th id=\"T_a6b9b_level0_col3\" class=\"col_heading level0 col3\" >parameters</th>\n",
       "      <th id=\"T_a6b9b_level0_col4\" class=\"col_heading level0 col4\" >creator</th>\n",
       "    </tr>\n",
       "  </thead>\n",
       "  <tbody>\n",
       "    <tr>\n",
       "      <th id=\"T_a6b9b_level0_row0\" class=\"row_heading level0 row0\" >0</th>\n",
       "      <td id=\"T_a6b9b_row0_col0\" class=\"data row0 col0\" >cabin</td>\n",
       "      <td id=\"T_a6b9b_row0_col1\" class=\"data row0 col1\" >0</td>\n",
       "      <td id=\"T_a6b9b_row0_col2\" class=\"data row0 col2\" >correlate_custom</td>\n",
       "      <td id=\"T_a6b9b_row0_col3\" class=\"data row0 col3\" >[\"code_str='@['cabin'].apply(lambda x: x.split()[0] if isinstance(x, str) else np.nan)'\", \"column_name='cabin'\", 'kwargs={}']</td>\n",
       "      <td id=\"T_a6b9b_row0_col4\" class=\"data row0 col4\" >doatridge</td>\n",
       "    </tr>\n",
       "    <tr>\n",
       "      <th id=\"T_a6b9b_level0_row1\" class=\"row_heading level0 row1\" >1</th>\n",
       "      <td id=\"T_a6b9b_row1_col0\" class=\"data row1 col0\" >family</td>\n",
       "      <td id=\"T_a6b9b_row1_col1\" class=\"data row1 col1\" >0</td>\n",
       "      <td id=\"T_a6b9b_row1_col2\" class=\"data row1 col2\" >correlate_aggregate</td>\n",
       "      <td id=\"T_a6b9b_row1_col3\" class=\"data row1 col3\" >[\"headers=['parch', 'sibsp']\", \"agg='sum'\", \"column_name='family'\"]</td>\n",
       "      <td id=\"T_a6b9b_row1_col4\" class=\"data row1 col4\" >doatridge</td>\n",
       "    </tr>\n",
       "    <tr>\n",
       "      <th id=\"T_a6b9b_level0_row2\" class=\"row_heading level0 row2\" >2</th>\n",
       "      <td id=\"T_a6b9b_row2_col0\" class=\"data row2 col0\" >fare_category</td>\n",
       "      <td id=\"T_a6b9b_row2_col1\" class=\"data row2 col1\" >0</td>\n",
       "      <td id=\"T_a6b9b_row2_col2\" class=\"data row2 col2\" >correlate_discrete_intervals</td>\n",
       "      <td id=\"T_a6b9b_row2_col3\" class=\"data row2 col3\" >[\"header='fare'\", 'granularity=[(0, 8), (8, 14), (14, 30), (30, 70)]', 'upper=70', \"categories=['Low', 'Low_Mid', 'High_Mid', 'High']\", \"column_name='fare_category'\"]</td>\n",
       "      <td id=\"T_a6b9b_row2_col4\" class=\"data row2 col4\" >doatridge</td>\n",
       "    </tr>\n",
       "    <tr>\n",
       "      <th id=\"T_a6b9b_level0_row3\" class=\"row_heading level0 row3\" >3</th>\n",
       "      <td id=\"T_a6b9b_row3_col0\" class=\"data row3 col0\" ></td>\n",
       "      <td id=\"T_a6b9b_row3_col1\" class=\"data row3 col1\" >1</td>\n",
       "      <td id=\"T_a6b9b_row3_col2\" class=\"data row3 col2\" >model_to_category</td>\n",
       "      <td id=\"T_a6b9b_row3_col3\" class=\"data row3 col3\" >[\"headers='fare_category'\", \"column_name='fare_category'\"]</td>\n",
       "      <td id=\"T_a6b9b_row3_col4\" class=\"data row3 col4\" >doatridge</td>\n",
       "    </tr>\n",
       "    <tr>\n",
       "      <th id=\"T_a6b9b_level0_row4\" class=\"row_heading level0 row4\" >4</th>\n",
       "      <td id=\"T_a6b9b_row4_col0\" class=\"data row4 col0\" >is_alone</td>\n",
       "      <td id=\"T_a6b9b_row4_col1\" class=\"data row4 col1\" >0</td>\n",
       "      <td id=\"T_a6b9b_row4_col2\" class=\"data row4 col2\" >correlate_selection</td>\n",
       "      <td id=\"T_a6b9b_row4_col3\" class=\"data row4 col3\" >[\"selection=[{'column': 'family', 'condition': '@==0'}]\", 'action=1', 'default_action=0', \"column_name='is_alone'\"]</td>\n",
       "      <td id=\"T_a6b9b_row4_col4\" class=\"data row4 col4\" >doatridge</td>\n",
       "    </tr>\n",
       "  </tbody>\n",
       "</table>\n"
      ],
      "text/plain": [
       "<pandas.io.formats.style.Styler at 0x7fac78b74ac0>"
      ]
     },
     "execution_count": 45,
     "metadata": {},
     "output_type": "execute_result"
    }
   ],
   "source": [
    "wr.report_intent()"
   ]
  },
  {
   "cell_type": "markdown",
   "id": "74a14ef9",
   "metadata": {},
   "source": [
    "## Component Pipeline"
   ]
  },
  {
   "cell_type": "code",
   "execution_count": 46,
   "id": "fc3525c1",
   "metadata": {},
   "outputs": [],
   "source": [
    "wr.run_component_pipeline()"
   ]
  },
  {
   "cell_type": "code",
   "execution_count": 47,
   "id": "455b9ab5",
   "metadata": {},
   "outputs": [
    {
     "data": {
      "text/html": [
       "<style type=\"text/css\">\n",
       "#T_dc907 th {\n",
       "  font-size: 120%;\n",
       "  text-align: center;\n",
       "}\n",
       "#T_dc907 .row_heading {\n",
       "  display: none;;\n",
       "}\n",
       "#T_dc907  .blank {\n",
       "  display: none;;\n",
       "}\n",
       "#T_dc907_row0_col0, #T_dc907_row1_col0, #T_dc907_row2_col0, #T_dc907_row3_col0, #T_dc907_row4_col0, #T_dc907_row5_col0, #T_dc907_row6_col0, #T_dc907_row7_col0, #T_dc907_row8_col0, #T_dc907_row9_col0, #T_dc907_row10_col0, #T_dc907_row11_col0, #T_dc907_row12_col0 {\n",
       "  font-weight: bold;\n",
       "  font-size: 120%;\n",
       "}\n",
       "#T_dc907_row0_col1, #T_dc907_row4_col1 {\n",
       "  color: #2f0f8a;\n",
       "}\n",
       "#T_dc907_row0_col2, #T_dc907_row0_col3, #T_dc907_row1_col5, #T_dc907_row2_col2, #T_dc907_row3_col2, #T_dc907_row3_col3, #T_dc907_row4_col2, #T_dc907_row4_col3, #T_dc907_row4_col5, #T_dc907_row5_col2, #T_dc907_row5_col3, #T_dc907_row6_col2, #T_dc907_row6_col3, #T_dc907_row7_col2, #T_dc907_row8_col2, #T_dc907_row8_col3, #T_dc907_row9_col2, #T_dc907_row9_col3, #T_dc907_row10_col2, #T_dc907_row11_col2, #T_dc907_row11_col3, #T_dc907_row12_col2, #T_dc907_row12_col3, #T_dc907_row12_col5 {\n",
       "  color: black;\n",
       "}\n",
       "#T_dc907_row0_col5 {\n",
       "  background-color: #f0f9ed;\n",
       "  color: black;\n",
       "}\n",
       "#T_dc907_row1_col2, #T_dc907_row1_col3, #T_dc907_row2_col3, #T_dc907_row7_col3, #T_dc907_row10_col3 {\n",
       "  background-color: #ffede5;\n",
       "  color: black;\n",
       "}\n",
       "#T_dc907_row2_col1, #T_dc907_row5_col1, #T_dc907_row9_col1 {\n",
       "  color: #208a0f;\n",
       "}\n",
       "#T_dc907_row2_col5, #T_dc907_row8_col5 {\n",
       "  background-color: #84cc83;\n",
       "  color: black;\n",
       "}\n",
       "#T_dc907_row3_col1, #T_dc907_row6_col1, #T_dc907_row7_col1, #T_dc907_row8_col1, #T_dc907_row10_col1, #T_dc907_row11_col1 {\n",
       "  color: #0f398a;\n",
       "}\n",
       "#T_dc907_row3_col5, #T_dc907_row5_col5, #T_dc907_row7_col5, #T_dc907_row10_col5 {\n",
       "  background-color: #a4da9e;\n",
       "  color: black;\n",
       "}\n",
       "#T_dc907_row6_col5, #T_dc907_row9_col5, #T_dc907_row11_col5 {\n",
       "  background-color: #a1cbe2;\n",
       "  color: black;\n",
       "}\n",
       "#T_dc907_row12_col1 {\n",
       "  color: #761d38;\n",
       "}\n",
       "</style>\n",
       "<table id=\"T_dc907\">\n",
       "  <caption>%_Dom: The % most dominant element </caption>\n",
       "  <thead>\n",
       "    <tr>\n",
       "      <th class=\"blank level0\" >&nbsp;</th>\n",
       "      <th id=\"T_dc907_level0_col0\" class=\"col_heading level0 col0\" >Attributes (13)</th>\n",
       "      <th id=\"T_dc907_level0_col1\" class=\"col_heading level0 col1\" >dType</th>\n",
       "      <th id=\"T_dc907_level0_col2\" class=\"col_heading level0 col2\" >%_Null</th>\n",
       "      <th id=\"T_dc907_level0_col3\" class=\"col_heading level0 col3\" >%_Dom</th>\n",
       "      <th id=\"T_dc907_level0_col4\" class=\"col_heading level0 col4\" >Count</th>\n",
       "      <th id=\"T_dc907_level0_col5\" class=\"col_heading level0 col5\" >Unique</th>\n",
       "      <th id=\"T_dc907_level0_col6\" class=\"col_heading level0 col6\" >Observations</th>\n",
       "    </tr>\n",
       "  </thead>\n",
       "  <tbody>\n",
       "    <tr>\n",
       "      <th id=\"T_dc907_level0_row0\" class=\"row_heading level0 row0\" >0</th>\n",
       "      <td id=\"T_dc907_row0_col0\" class=\"data row0 col0\" >age</td>\n",
       "      <td id=\"T_dc907_row0_col1\" class=\"data row0 col1\" >float64</td>\n",
       "      <td id=\"T_dc907_row0_col2\" class=\"data row0 col2\" >20.1%</td>\n",
       "      <td id=\"T_dc907_row0_col3\" class=\"data row0 col3\" >20.1%</td>\n",
       "      <td id=\"T_dc907_row0_col4\" class=\"data row0 col4\" >1309</td>\n",
       "      <td id=\"T_dc907_row0_col5\" class=\"data row0 col5\" >99</td>\n",
       "      <td id=\"T_dc907_row0_col6\" class=\"data row0 col6\" >max=80.0 | min=0.1667 | mean=29.88 | dominant=24.0</td>\n",
       "    </tr>\n",
       "    <tr>\n",
       "      <th id=\"T_dc907_level0_row1\" class=\"row_heading level0 row1\" >1</th>\n",
       "      <td id=\"T_dc907_row1_col0\" class=\"data row1 col0\" >cabin</td>\n",
       "      <td id=\"T_dc907_row1_col1\" class=\"data row1 col1\" >object</td>\n",
       "      <td id=\"T_dc907_row1_col2\" class=\"data row1 col2\" >77.5%</td>\n",
       "      <td id=\"T_dc907_row1_col3\" class=\"data row1 col3\" >77.5%</td>\n",
       "      <td id=\"T_dc907_row1_col4\" class=\"data row1 col4\" >1309</td>\n",
       "      <td id=\"T_dc907_row1_col5\" class=\"data row1 col5\" >182</td>\n",
       "      <td id=\"T_dc907_row1_col6\" class=\"data row1 col6\" >Sample: F | C23 | G6 | B57 | C78</td>\n",
       "    </tr>\n",
       "    <tr>\n",
       "      <th id=\"T_dc907_level0_row2\" class=\"row_heading level0 row2\" >2</th>\n",
       "      <td id=\"T_dc907_row2_col0\" class=\"data row2 col0\" >embarked</td>\n",
       "      <td id=\"T_dc907_row2_col1\" class=\"data row2 col1\" >category</td>\n",
       "      <td id=\"T_dc907_row2_col2\" class=\"data row2 col2\" >0.0%</td>\n",
       "      <td id=\"T_dc907_row2_col3\" class=\"data row2 col3\" >69.8%</td>\n",
       "      <td id=\"T_dc907_row2_col4\" class=\"data row2 col4\" >1309</td>\n",
       "      <td id=\"T_dc907_row2_col5\" class=\"data row2 col5\" >4</td>\n",
       "      <td id=\"T_dc907_row2_col6\" class=\"data row2 col6\" >Sample: S | C | Q | nan</td>\n",
       "    </tr>\n",
       "    <tr>\n",
       "      <th id=\"T_dc907_level0_row3\" class=\"row_heading level0 row3\" >3</th>\n",
       "      <td id=\"T_dc907_row3_col0\" class=\"data row3 col0\" >family</td>\n",
       "      <td id=\"T_dc907_row3_col1\" class=\"data row3 col1\" >int64</td>\n",
       "      <td id=\"T_dc907_row3_col2\" class=\"data row3 col2\" >0.0%</td>\n",
       "      <td id=\"T_dc907_row3_col3\" class=\"data row3 col3\" >60.4%</td>\n",
       "      <td id=\"T_dc907_row3_col4\" class=\"data row3 col4\" >1309</td>\n",
       "      <td id=\"T_dc907_row3_col5\" class=\"data row3 col5\" >9</td>\n",
       "      <td id=\"T_dc907_row3_col6\" class=\"data row3 col6\" >max=10 | min=0 | mean=0.88 | dominant=0</td>\n",
       "    </tr>\n",
       "    <tr>\n",
       "      <th id=\"T_dc907_level0_row4\" class=\"row_heading level0 row4\" >4</th>\n",
       "      <td id=\"T_dc907_row4_col0\" class=\"data row4 col0\" >fare</td>\n",
       "      <td id=\"T_dc907_row4_col1\" class=\"data row4 col1\" >float64</td>\n",
       "      <td id=\"T_dc907_row4_col2\" class=\"data row4 col2\" >0.1%</td>\n",
       "      <td id=\"T_dc907_row4_col3\" class=\"data row4 col3\" >4.6%</td>\n",
       "      <td id=\"T_dc907_row4_col4\" class=\"data row4 col4\" >1309</td>\n",
       "      <td id=\"T_dc907_row4_col5\" class=\"data row4 col5\" >282</td>\n",
       "      <td id=\"T_dc907_row4_col6\" class=\"data row4 col6\" >max=512.3292 | min=0.0 | mean=33.3 | dominant=8.05</td>\n",
       "    </tr>\n",
       "    <tr>\n",
       "      <th id=\"T_dc907_level0_row5\" class=\"row_heading level0 row5\" >5</th>\n",
       "      <td id=\"T_dc907_row5_col0\" class=\"data row5 col0\" >fare_category</td>\n",
       "      <td id=\"T_dc907_row5_col1\" class=\"data row5 col1\" >category</td>\n",
       "      <td id=\"T_dc907_row5_col2\" class=\"data row5 col2\" >0.0%</td>\n",
       "      <td id=\"T_dc907_row5_col3\" class=\"data row5 col3\" >27.5%</td>\n",
       "      <td id=\"T_dc907_row5_col4\" class=\"data row5 col4\" >1309</td>\n",
       "      <td id=\"T_dc907_row5_col5\" class=\"data row5 col5\" >5</td>\n",
       "      <td id=\"T_dc907_row5_col6\" class=\"data row5 col6\" >Sample: Low | High_Mid | Low_Mid | High | <NA></td>\n",
       "    </tr>\n",
       "    <tr>\n",
       "      <th id=\"T_dc907_level0_row6\" class=\"row_heading level0 row6\" >6</th>\n",
       "      <td id=\"T_dc907_row6_col0\" class=\"data row6 col0\" >is_alone</td>\n",
       "      <td id=\"T_dc907_row6_col1\" class=\"data row6 col1\" >int64</td>\n",
       "      <td id=\"T_dc907_row6_col2\" class=\"data row6 col2\" >0.0%</td>\n",
       "      <td id=\"T_dc907_row6_col3\" class=\"data row6 col3\" >60.4%</td>\n",
       "      <td id=\"T_dc907_row6_col4\" class=\"data row6 col4\" >1309</td>\n",
       "      <td id=\"T_dc907_row6_col5\" class=\"data row6 col5\" >2</td>\n",
       "      <td id=\"T_dc907_row6_col6\" class=\"data row6 col6\" >max=1 | min=0 | mean=0.6 | dominant=1</td>\n",
       "    </tr>\n",
       "    <tr>\n",
       "      <th id=\"T_dc907_level0_row7\" class=\"row_heading level0 row7\" >7</th>\n",
       "      <td id=\"T_dc907_row7_col0\" class=\"data row7 col0\" >parch</td>\n",
       "      <td id=\"T_dc907_row7_col1\" class=\"data row7 col1\" >int64</td>\n",
       "      <td id=\"T_dc907_row7_col2\" class=\"data row7 col2\" >0.0%</td>\n",
       "      <td id=\"T_dc907_row7_col3\" class=\"data row7 col3\" >76.5%</td>\n",
       "      <td id=\"T_dc907_row7_col4\" class=\"data row7 col4\" >1309</td>\n",
       "      <td id=\"T_dc907_row7_col5\" class=\"data row7 col5\" >8</td>\n",
       "      <td id=\"T_dc907_row7_col6\" class=\"data row7 col6\" >max=9 | min=0 | mean=0.39 | dominant=0</td>\n",
       "    </tr>\n",
       "    <tr>\n",
       "      <th id=\"T_dc907_level0_row8\" class=\"row_heading level0 row8\" >8</th>\n",
       "      <td id=\"T_dc907_row8_col0\" class=\"data row8 col0\" >pclass</td>\n",
       "      <td id=\"T_dc907_row8_col1\" class=\"data row8 col1\" >int64</td>\n",
       "      <td id=\"T_dc907_row8_col2\" class=\"data row8 col2\" >0.0%</td>\n",
       "      <td id=\"T_dc907_row8_col3\" class=\"data row8 col3\" >54.2%</td>\n",
       "      <td id=\"T_dc907_row8_col4\" class=\"data row8 col4\" >1309</td>\n",
       "      <td id=\"T_dc907_row8_col5\" class=\"data row8 col5\" >3</td>\n",
       "      <td id=\"T_dc907_row8_col6\" class=\"data row8 col6\" >max=3 | min=1 | mean=2.29 | dominant=3</td>\n",
       "    </tr>\n",
       "    <tr>\n",
       "      <th id=\"T_dc907_level0_row9\" class=\"row_heading level0 row9\" >9</th>\n",
       "      <td id=\"T_dc907_row9_col0\" class=\"data row9 col0\" >sex</td>\n",
       "      <td id=\"T_dc907_row9_col1\" class=\"data row9 col1\" >category</td>\n",
       "      <td id=\"T_dc907_row9_col2\" class=\"data row9 col2\" >0.0%</td>\n",
       "      <td id=\"T_dc907_row9_col3\" class=\"data row9 col3\" >64.4%</td>\n",
       "      <td id=\"T_dc907_row9_col4\" class=\"data row9 col4\" >1309</td>\n",
       "      <td id=\"T_dc907_row9_col5\" class=\"data row9 col5\" >2</td>\n",
       "      <td id=\"T_dc907_row9_col6\" class=\"data row9 col6\" >Sample: male | female</td>\n",
       "    </tr>\n",
       "    <tr>\n",
       "      <th id=\"T_dc907_level0_row10\" class=\"row_heading level0 row10\" >10</th>\n",
       "      <td id=\"T_dc907_row10_col0\" class=\"data row10 col0\" >sibsp</td>\n",
       "      <td id=\"T_dc907_row10_col1\" class=\"data row10 col1\" >int64</td>\n",
       "      <td id=\"T_dc907_row10_col2\" class=\"data row10 col2\" >0.0%</td>\n",
       "      <td id=\"T_dc907_row10_col3\" class=\"data row10 col3\" >68.1%</td>\n",
       "      <td id=\"T_dc907_row10_col4\" class=\"data row10 col4\" >1309</td>\n",
       "      <td id=\"T_dc907_row10_col5\" class=\"data row10 col5\" >7</td>\n",
       "      <td id=\"T_dc907_row10_col6\" class=\"data row10 col6\" >max=8 | min=0 | mean=0.5 | dominant=0</td>\n",
       "    </tr>\n",
       "    <tr>\n",
       "      <th id=\"T_dc907_level0_row11\" class=\"row_heading level0 row11\" >11</th>\n",
       "      <td id=\"T_dc907_row11_col0\" class=\"data row11 col0\" >survived</td>\n",
       "      <td id=\"T_dc907_row11_col1\" class=\"data row11 col1\" >int64</td>\n",
       "      <td id=\"T_dc907_row11_col2\" class=\"data row11 col2\" >0.0%</td>\n",
       "      <td id=\"T_dc907_row11_col3\" class=\"data row11 col3\" >61.8%</td>\n",
       "      <td id=\"T_dc907_row11_col4\" class=\"data row11 col4\" >1309</td>\n",
       "      <td id=\"T_dc907_row11_col5\" class=\"data row11 col5\" >2</td>\n",
       "      <td id=\"T_dc907_row11_col6\" class=\"data row11 col6\" >max=1 | min=0 | mean=0.38 | dominant=0</td>\n",
       "    </tr>\n",
       "    <tr>\n",
       "      <th id=\"T_dc907_level0_row12\" class=\"row_heading level0 row12\" >12</th>\n",
       "      <td id=\"T_dc907_row12_col0\" class=\"data row12 col0\" >ticket</td>\n",
       "      <td id=\"T_dc907_row12_col1\" class=\"data row12 col1\" >string</td>\n",
       "      <td id=\"T_dc907_row12_col2\" class=\"data row12 col2\" >0.0%</td>\n",
       "      <td id=\"T_dc907_row12_col3\" class=\"data row12 col3\" >0.8%</td>\n",
       "      <td id=\"T_dc907_row12_col4\" class=\"data row12 col4\" >1309</td>\n",
       "      <td id=\"T_dc907_row12_col5\" class=\"data row12 col5\" >929</td>\n",
       "      <td id=\"T_dc907_row12_col6\" class=\"data row12 col6\" >Sample: CA. 2343 | 1601 | CA 2144 | PC 17608 | 347077</td>\n",
       "    </tr>\n",
       "  </tbody>\n",
       "</table>\n"
      ],
      "text/plain": [
       "<pandas.io.formats.style.Styler at 0x7fac788bf460>"
      ]
     },
     "execution_count": 47,
     "metadata": {},
     "output_type": "execute_result"
    }
   ],
   "source": [
    "wr.canonical_report(wr.load_persist_canonical())"
   ]
  },
  {
   "cell_type": "markdown",
   "id": "26e74643",
   "metadata": {},
   "source": []
  },
  {
   "cell_type": "code",
   "execution_count": null,
   "id": "d2204611",
   "metadata": {},
   "outputs": [],
   "source": []
  }
 ],
 "metadata": {
  "kernelspec": {
   "display_name": "Python 3 (ipykernel)",
   "language": "python",
   "name": "python3"
  },
  "language_info": {
   "codemirror_mode": {
    "name": "ipython",
    "version": 3
   },
   "file_extension": ".py",
   "mimetype": "text/x-python",
   "name": "python",
   "nbconvert_exporter": "python",
   "pygments_lexer": "ipython3",
   "version": "3.10.4"
  }
 },
 "nbformat": 4,
 "nbformat_minor": 5
}
